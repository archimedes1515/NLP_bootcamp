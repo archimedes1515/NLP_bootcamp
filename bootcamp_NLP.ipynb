{
  "nbformat": 4,
  "nbformat_minor": 0,
  "metadata": {
    "colab": {
      "provenance": [],
      "toc_visible": true
    },
    "kernelspec": {
      "name": "python3",
      "display_name": "Python 3"
    },
    "language_info": {
      "name": "python"
    },
    "gpuClass": "standard",
    "widgets": {
      "application/vnd.jupyter.widget-state+json": {
        "20506f4e8d66465290fd4ec1df7956ae": {
          "model_module": "@jupyter-widgets/controls",
          "model_name": "HBoxModel",
          "model_module_version": "1.5.0",
          "state": {
            "_dom_classes": [],
            "_model_module": "@jupyter-widgets/controls",
            "_model_module_version": "1.5.0",
            "_model_name": "HBoxModel",
            "_view_count": null,
            "_view_module": "@jupyter-widgets/controls",
            "_view_module_version": "1.5.0",
            "_view_name": "HBoxView",
            "box_style": "",
            "children": [
              "IPY_MODEL_9e7363a38e5747e488016e862b436d55",
              "IPY_MODEL_fd6cb96ab01b466287c47e5e5ab6a0aa",
              "IPY_MODEL_82896f4ef26d4317851fecf5c1b8dbcd"
            ],
            "layout": "IPY_MODEL_a9df96e95f0640bc8cad8590a7106745"
          }
        },
        "9e7363a38e5747e488016e862b436d55": {
          "model_module": "@jupyter-widgets/controls",
          "model_name": "HTMLModel",
          "model_module_version": "1.5.0",
          "state": {
            "_dom_classes": [],
            "_model_module": "@jupyter-widgets/controls",
            "_model_module_version": "1.5.0",
            "_model_name": "HTMLModel",
            "_view_count": null,
            "_view_module": "@jupyter-widgets/controls",
            "_view_module_version": "1.5.0",
            "_view_name": "HTMLView",
            "description": "",
            "description_tooltip": null,
            "layout": "IPY_MODEL_48bc0b9c90f94efcacb7af1d742de33a",
            "placeholder": "​",
            "style": "IPY_MODEL_a9b6a64f8b1245c4b1c3467252f10afd",
            "value": "Downloading: 100%"
          }
        },
        "fd6cb96ab01b466287c47e5e5ab6a0aa": {
          "model_module": "@jupyter-widgets/controls",
          "model_name": "FloatProgressModel",
          "model_module_version": "1.5.0",
          "state": {
            "_dom_classes": [],
            "_model_module": "@jupyter-widgets/controls",
            "_model_module_version": "1.5.0",
            "_model_name": "FloatProgressModel",
            "_view_count": null,
            "_view_module": "@jupyter-widgets/controls",
            "_view_module_version": "1.5.0",
            "_view_name": "ProgressView",
            "bar_style": "success",
            "description": "",
            "description_tooltip": null,
            "layout": "IPY_MODEL_e6b3184ebe51470c94d978c70b5a4aea",
            "max": 715,
            "min": 0,
            "orientation": "horizontal",
            "style": "IPY_MODEL_79be221970784abe9f8b1539bbcd8500",
            "value": 715
          }
        },
        "82896f4ef26d4317851fecf5c1b8dbcd": {
          "model_module": "@jupyter-widgets/controls",
          "model_name": "HTMLModel",
          "model_module_version": "1.5.0",
          "state": {
            "_dom_classes": [],
            "_model_module": "@jupyter-widgets/controls",
            "_model_module_version": "1.5.0",
            "_model_name": "HTMLModel",
            "_view_count": null,
            "_view_module": "@jupyter-widgets/controls",
            "_view_module_version": "1.5.0",
            "_view_name": "HTMLView",
            "description": "",
            "description_tooltip": null,
            "layout": "IPY_MODEL_b9ea7a57604e42c0a64c6a676a1a09f4",
            "placeholder": "​",
            "style": "IPY_MODEL_9dd2b239b166459e8e68cc778bc1dd64",
            "value": " 715/715 [00:00&lt;00:00, 22.6kB/s]"
          }
        },
        "a9df96e95f0640bc8cad8590a7106745": {
          "model_module": "@jupyter-widgets/base",
          "model_name": "LayoutModel",
          "model_module_version": "1.2.0",
          "state": {
            "_model_module": "@jupyter-widgets/base",
            "_model_module_version": "1.2.0",
            "_model_name": "LayoutModel",
            "_view_count": null,
            "_view_module": "@jupyter-widgets/base",
            "_view_module_version": "1.2.0",
            "_view_name": "LayoutView",
            "align_content": null,
            "align_items": null,
            "align_self": null,
            "border": null,
            "bottom": null,
            "display": null,
            "flex": null,
            "flex_flow": null,
            "grid_area": null,
            "grid_auto_columns": null,
            "grid_auto_flow": null,
            "grid_auto_rows": null,
            "grid_column": null,
            "grid_gap": null,
            "grid_row": null,
            "grid_template_areas": null,
            "grid_template_columns": null,
            "grid_template_rows": null,
            "height": null,
            "justify_content": null,
            "justify_items": null,
            "left": null,
            "margin": null,
            "max_height": null,
            "max_width": null,
            "min_height": null,
            "min_width": null,
            "object_fit": null,
            "object_position": null,
            "order": null,
            "overflow": null,
            "overflow_x": null,
            "overflow_y": null,
            "padding": null,
            "right": null,
            "top": null,
            "visibility": null,
            "width": null
          }
        },
        "48bc0b9c90f94efcacb7af1d742de33a": {
          "model_module": "@jupyter-widgets/base",
          "model_name": "LayoutModel",
          "model_module_version": "1.2.0",
          "state": {
            "_model_module": "@jupyter-widgets/base",
            "_model_module_version": "1.2.0",
            "_model_name": "LayoutModel",
            "_view_count": null,
            "_view_module": "@jupyter-widgets/base",
            "_view_module_version": "1.2.0",
            "_view_name": "LayoutView",
            "align_content": null,
            "align_items": null,
            "align_self": null,
            "border": null,
            "bottom": null,
            "display": null,
            "flex": null,
            "flex_flow": null,
            "grid_area": null,
            "grid_auto_columns": null,
            "grid_auto_flow": null,
            "grid_auto_rows": null,
            "grid_column": null,
            "grid_gap": null,
            "grid_row": null,
            "grid_template_areas": null,
            "grid_template_columns": null,
            "grid_template_rows": null,
            "height": null,
            "justify_content": null,
            "justify_items": null,
            "left": null,
            "margin": null,
            "max_height": null,
            "max_width": null,
            "min_height": null,
            "min_width": null,
            "object_fit": null,
            "object_position": null,
            "order": null,
            "overflow": null,
            "overflow_x": null,
            "overflow_y": null,
            "padding": null,
            "right": null,
            "top": null,
            "visibility": null,
            "width": null
          }
        },
        "a9b6a64f8b1245c4b1c3467252f10afd": {
          "model_module": "@jupyter-widgets/controls",
          "model_name": "DescriptionStyleModel",
          "model_module_version": "1.5.0",
          "state": {
            "_model_module": "@jupyter-widgets/controls",
            "_model_module_version": "1.5.0",
            "_model_name": "DescriptionStyleModel",
            "_view_count": null,
            "_view_module": "@jupyter-widgets/base",
            "_view_module_version": "1.2.0",
            "_view_name": "StyleView",
            "description_width": ""
          }
        },
        "e6b3184ebe51470c94d978c70b5a4aea": {
          "model_module": "@jupyter-widgets/base",
          "model_name": "LayoutModel",
          "model_module_version": "1.2.0",
          "state": {
            "_model_module": "@jupyter-widgets/base",
            "_model_module_version": "1.2.0",
            "_model_name": "LayoutModel",
            "_view_count": null,
            "_view_module": "@jupyter-widgets/base",
            "_view_module_version": "1.2.0",
            "_view_name": "LayoutView",
            "align_content": null,
            "align_items": null,
            "align_self": null,
            "border": null,
            "bottom": null,
            "display": null,
            "flex": null,
            "flex_flow": null,
            "grid_area": null,
            "grid_auto_columns": null,
            "grid_auto_flow": null,
            "grid_auto_rows": null,
            "grid_column": null,
            "grid_gap": null,
            "grid_row": null,
            "grid_template_areas": null,
            "grid_template_columns": null,
            "grid_template_rows": null,
            "height": null,
            "justify_content": null,
            "justify_items": null,
            "left": null,
            "margin": null,
            "max_height": null,
            "max_width": null,
            "min_height": null,
            "min_width": null,
            "object_fit": null,
            "object_position": null,
            "order": null,
            "overflow": null,
            "overflow_x": null,
            "overflow_y": null,
            "padding": null,
            "right": null,
            "top": null,
            "visibility": null,
            "width": null
          }
        },
        "79be221970784abe9f8b1539bbcd8500": {
          "model_module": "@jupyter-widgets/controls",
          "model_name": "ProgressStyleModel",
          "model_module_version": "1.5.0",
          "state": {
            "_model_module": "@jupyter-widgets/controls",
            "_model_module_version": "1.5.0",
            "_model_name": "ProgressStyleModel",
            "_view_count": null,
            "_view_module": "@jupyter-widgets/base",
            "_view_module_version": "1.2.0",
            "_view_name": "StyleView",
            "bar_color": null,
            "description_width": ""
          }
        },
        "b9ea7a57604e42c0a64c6a676a1a09f4": {
          "model_module": "@jupyter-widgets/base",
          "model_name": "LayoutModel",
          "model_module_version": "1.2.0",
          "state": {
            "_model_module": "@jupyter-widgets/base",
            "_model_module_version": "1.2.0",
            "_model_name": "LayoutModel",
            "_view_count": null,
            "_view_module": "@jupyter-widgets/base",
            "_view_module_version": "1.2.0",
            "_view_name": "LayoutView",
            "align_content": null,
            "align_items": null,
            "align_self": null,
            "border": null,
            "bottom": null,
            "display": null,
            "flex": null,
            "flex_flow": null,
            "grid_area": null,
            "grid_auto_columns": null,
            "grid_auto_flow": null,
            "grid_auto_rows": null,
            "grid_column": null,
            "grid_gap": null,
            "grid_row": null,
            "grid_template_areas": null,
            "grid_template_columns": null,
            "grid_template_rows": null,
            "height": null,
            "justify_content": null,
            "justify_items": null,
            "left": null,
            "margin": null,
            "max_height": null,
            "max_width": null,
            "min_height": null,
            "min_width": null,
            "object_fit": null,
            "object_position": null,
            "order": null,
            "overflow": null,
            "overflow_x": null,
            "overflow_y": null,
            "padding": null,
            "right": null,
            "top": null,
            "visibility": null,
            "width": null
          }
        },
        "9dd2b239b166459e8e68cc778bc1dd64": {
          "model_module": "@jupyter-widgets/controls",
          "model_name": "DescriptionStyleModel",
          "model_module_version": "1.5.0",
          "state": {
            "_model_module": "@jupyter-widgets/controls",
            "_model_module_version": "1.5.0",
            "_model_name": "DescriptionStyleModel",
            "_view_count": null,
            "_view_module": "@jupyter-widgets/base",
            "_view_module_version": "1.2.0",
            "_view_name": "StyleView",
            "description_width": ""
          }
        },
        "62672cdd0497450399b75964b82a1d81": {
          "model_module": "@jupyter-widgets/controls",
          "model_name": "HBoxModel",
          "model_module_version": "1.5.0",
          "state": {
            "_dom_classes": [],
            "_model_module": "@jupyter-widgets/controls",
            "_model_module_version": "1.5.0",
            "_model_name": "HBoxModel",
            "_view_count": null,
            "_view_module": "@jupyter-widgets/controls",
            "_view_module_version": "1.5.0",
            "_view_name": "HBoxView",
            "box_style": "",
            "children": [
              "IPY_MODEL_c860c024ac1748d0919c4763468dd706",
              "IPY_MODEL_1bc7efd2fa884bfb8115afc487b5a00d",
              "IPY_MODEL_d6d25178dd1446f78eee14feb42fee2d"
            ],
            "layout": "IPY_MODEL_4196028e0f2c4ed9902a5d6d54f0dce0"
          }
        },
        "c860c024ac1748d0919c4763468dd706": {
          "model_module": "@jupyter-widgets/controls",
          "model_name": "HTMLModel",
          "model_module_version": "1.5.0",
          "state": {
            "_dom_classes": [],
            "_model_module": "@jupyter-widgets/controls",
            "_model_module_version": "1.5.0",
            "_model_name": "HTMLModel",
            "_view_count": null,
            "_view_module": "@jupyter-widgets/controls",
            "_view_module_version": "1.5.0",
            "_view_name": "HTMLView",
            "description": "",
            "description_tooltip": null,
            "layout": "IPY_MODEL_7c8f6b52ced041719967b3fb5580a3a5",
            "placeholder": "​",
            "style": "IPY_MODEL_4ad4bd15639f4650bc975ba86f27b45c",
            "value": "Downloading: 100%"
          }
        },
        "1bc7efd2fa884bfb8115afc487b5a00d": {
          "model_module": "@jupyter-widgets/controls",
          "model_name": "FloatProgressModel",
          "model_module_version": "1.5.0",
          "state": {
            "_dom_classes": [],
            "_model_module": "@jupyter-widgets/controls",
            "_model_module_version": "1.5.0",
            "_model_name": "FloatProgressModel",
            "_view_count": null,
            "_view_module": "@jupyter-widgets/controls",
            "_view_module_version": "1.5.0",
            "_view_name": "ProgressView",
            "bar_style": "success",
            "description": "",
            "description_tooltip": null,
            "layout": "IPY_MODEL_00592d3dd6864cdeb0985712c5d59c66",
            "max": 117546024,
            "min": 0,
            "orientation": "horizontal",
            "style": "IPY_MODEL_c22669a0c56c443fb04a57cfa3aa7d8c",
            "value": 117546024
          }
        },
        "d6d25178dd1446f78eee14feb42fee2d": {
          "model_module": "@jupyter-widgets/controls",
          "model_name": "HTMLModel",
          "model_module_version": "1.5.0",
          "state": {
            "_dom_classes": [],
            "_model_module": "@jupyter-widgets/controls",
            "_model_module_version": "1.5.0",
            "_model_name": "HTMLModel",
            "_view_count": null,
            "_view_module": "@jupyter-widgets/controls",
            "_view_module_version": "1.5.0",
            "_view_name": "HTMLView",
            "description": "",
            "description_tooltip": null,
            "layout": "IPY_MODEL_f41a88eb564142feb0e2eb234664a7c0",
            "placeholder": "​",
            "style": "IPY_MODEL_7a334761c4ba42239f99a3c623bcdb4b",
            "value": " 118M/118M [00:01&lt;00:00, 67.1MB/s]"
          }
        },
        "4196028e0f2c4ed9902a5d6d54f0dce0": {
          "model_module": "@jupyter-widgets/base",
          "model_name": "LayoutModel",
          "model_module_version": "1.2.0",
          "state": {
            "_model_module": "@jupyter-widgets/base",
            "_model_module_version": "1.2.0",
            "_model_name": "LayoutModel",
            "_view_count": null,
            "_view_module": "@jupyter-widgets/base",
            "_view_module_version": "1.2.0",
            "_view_name": "LayoutView",
            "align_content": null,
            "align_items": null,
            "align_self": null,
            "border": null,
            "bottom": null,
            "display": null,
            "flex": null,
            "flex_flow": null,
            "grid_area": null,
            "grid_auto_columns": null,
            "grid_auto_flow": null,
            "grid_auto_rows": null,
            "grid_column": null,
            "grid_gap": null,
            "grid_row": null,
            "grid_template_areas": null,
            "grid_template_columns": null,
            "grid_template_rows": null,
            "height": null,
            "justify_content": null,
            "justify_items": null,
            "left": null,
            "margin": null,
            "max_height": null,
            "max_width": null,
            "min_height": null,
            "min_width": null,
            "object_fit": null,
            "object_position": null,
            "order": null,
            "overflow": null,
            "overflow_x": null,
            "overflow_y": null,
            "padding": null,
            "right": null,
            "top": null,
            "visibility": null,
            "width": null
          }
        },
        "7c8f6b52ced041719967b3fb5580a3a5": {
          "model_module": "@jupyter-widgets/base",
          "model_name": "LayoutModel",
          "model_module_version": "1.2.0",
          "state": {
            "_model_module": "@jupyter-widgets/base",
            "_model_module_version": "1.2.0",
            "_model_name": "LayoutModel",
            "_view_count": null,
            "_view_module": "@jupyter-widgets/base",
            "_view_module_version": "1.2.0",
            "_view_name": "LayoutView",
            "align_content": null,
            "align_items": null,
            "align_self": null,
            "border": null,
            "bottom": null,
            "display": null,
            "flex": null,
            "flex_flow": null,
            "grid_area": null,
            "grid_auto_columns": null,
            "grid_auto_flow": null,
            "grid_auto_rows": null,
            "grid_column": null,
            "grid_gap": null,
            "grid_row": null,
            "grid_template_areas": null,
            "grid_template_columns": null,
            "grid_template_rows": null,
            "height": null,
            "justify_content": null,
            "justify_items": null,
            "left": null,
            "margin": null,
            "max_height": null,
            "max_width": null,
            "min_height": null,
            "min_width": null,
            "object_fit": null,
            "object_position": null,
            "order": null,
            "overflow": null,
            "overflow_x": null,
            "overflow_y": null,
            "padding": null,
            "right": null,
            "top": null,
            "visibility": null,
            "width": null
          }
        },
        "4ad4bd15639f4650bc975ba86f27b45c": {
          "model_module": "@jupyter-widgets/controls",
          "model_name": "DescriptionStyleModel",
          "model_module_version": "1.5.0",
          "state": {
            "_model_module": "@jupyter-widgets/controls",
            "_model_module_version": "1.5.0",
            "_model_name": "DescriptionStyleModel",
            "_view_count": null,
            "_view_module": "@jupyter-widgets/base",
            "_view_module_version": "1.2.0",
            "_view_name": "StyleView",
            "description_width": ""
          }
        },
        "00592d3dd6864cdeb0985712c5d59c66": {
          "model_module": "@jupyter-widgets/base",
          "model_name": "LayoutModel",
          "model_module_version": "1.2.0",
          "state": {
            "_model_module": "@jupyter-widgets/base",
            "_model_module_version": "1.2.0",
            "_model_name": "LayoutModel",
            "_view_count": null,
            "_view_module": "@jupyter-widgets/base",
            "_view_module_version": "1.2.0",
            "_view_name": "LayoutView",
            "align_content": null,
            "align_items": null,
            "align_self": null,
            "border": null,
            "bottom": null,
            "display": null,
            "flex": null,
            "flex_flow": null,
            "grid_area": null,
            "grid_auto_columns": null,
            "grid_auto_flow": null,
            "grid_auto_rows": null,
            "grid_column": null,
            "grid_gap": null,
            "grid_row": null,
            "grid_template_areas": null,
            "grid_template_columns": null,
            "grid_template_rows": null,
            "height": null,
            "justify_content": null,
            "justify_items": null,
            "left": null,
            "margin": null,
            "max_height": null,
            "max_width": null,
            "min_height": null,
            "min_width": null,
            "object_fit": null,
            "object_position": null,
            "order": null,
            "overflow": null,
            "overflow_x": null,
            "overflow_y": null,
            "padding": null,
            "right": null,
            "top": null,
            "visibility": null,
            "width": null
          }
        },
        "c22669a0c56c443fb04a57cfa3aa7d8c": {
          "model_module": "@jupyter-widgets/controls",
          "model_name": "ProgressStyleModel",
          "model_module_version": "1.5.0",
          "state": {
            "_model_module": "@jupyter-widgets/controls",
            "_model_module_version": "1.5.0",
            "_model_name": "ProgressStyleModel",
            "_view_count": null,
            "_view_module": "@jupyter-widgets/base",
            "_view_module_version": "1.2.0",
            "_view_name": "StyleView",
            "bar_color": null,
            "description_width": ""
          }
        },
        "f41a88eb564142feb0e2eb234664a7c0": {
          "model_module": "@jupyter-widgets/base",
          "model_name": "LayoutModel",
          "model_module_version": "1.2.0",
          "state": {
            "_model_module": "@jupyter-widgets/base",
            "_model_module_version": "1.2.0",
            "_model_name": "LayoutModel",
            "_view_count": null,
            "_view_module": "@jupyter-widgets/base",
            "_view_module_version": "1.2.0",
            "_view_name": "LayoutView",
            "align_content": null,
            "align_items": null,
            "align_self": null,
            "border": null,
            "bottom": null,
            "display": null,
            "flex": null,
            "flex_flow": null,
            "grid_area": null,
            "grid_auto_columns": null,
            "grid_auto_flow": null,
            "grid_auto_rows": null,
            "grid_column": null,
            "grid_gap": null,
            "grid_row": null,
            "grid_template_areas": null,
            "grid_template_columns": null,
            "grid_template_rows": null,
            "height": null,
            "justify_content": null,
            "justify_items": null,
            "left": null,
            "margin": null,
            "max_height": null,
            "max_width": null,
            "min_height": null,
            "min_width": null,
            "object_fit": null,
            "object_position": null,
            "order": null,
            "overflow": null,
            "overflow_x": null,
            "overflow_y": null,
            "padding": null,
            "right": null,
            "top": null,
            "visibility": null,
            "width": null
          }
        },
        "7a334761c4ba42239f99a3c623bcdb4b": {
          "model_module": "@jupyter-widgets/controls",
          "model_name": "DescriptionStyleModel",
          "model_module_version": "1.5.0",
          "state": {
            "_model_module": "@jupyter-widgets/controls",
            "_model_module_version": "1.5.0",
            "_model_name": "DescriptionStyleModel",
            "_view_count": null,
            "_view_module": "@jupyter-widgets/base",
            "_view_module_version": "1.2.0",
            "_view_name": "StyleView",
            "description_width": ""
          }
        },
        "fc762e5168564bdab9c6ffb339132464": {
          "model_module": "@jupyter-widgets/controls",
          "model_name": "HBoxModel",
          "model_module_version": "1.5.0",
          "state": {
            "_dom_classes": [],
            "_model_module": "@jupyter-widgets/controls",
            "_model_module_version": "1.5.0",
            "_model_name": "HBoxModel",
            "_view_count": null,
            "_view_module": "@jupyter-widgets/controls",
            "_view_module_version": "1.5.0",
            "_view_name": "HBoxView",
            "box_style": "",
            "children": [
              "IPY_MODEL_8c6ca90ff2664e77a534b643ca6f50bf",
              "IPY_MODEL_9b9b0905a81c450c848722c2984013d1",
              "IPY_MODEL_5bd61d7deb4049e38d6d47bc5da68ba1"
            ],
            "layout": "IPY_MODEL_b7eeaafb69594916afd59a836952505f"
          }
        },
        "8c6ca90ff2664e77a534b643ca6f50bf": {
          "model_module": "@jupyter-widgets/controls",
          "model_name": "HTMLModel",
          "model_module_version": "1.5.0",
          "state": {
            "_dom_classes": [],
            "_model_module": "@jupyter-widgets/controls",
            "_model_module_version": "1.5.0",
            "_model_name": "HTMLModel",
            "_view_count": null,
            "_view_module": "@jupyter-widgets/controls",
            "_view_module_version": "1.5.0",
            "_view_name": "HTMLView",
            "description": "",
            "description_tooltip": null,
            "layout": "IPY_MODEL_1d56d144034443f2ac4a280a0ecbdddd",
            "placeholder": "​",
            "style": "IPY_MODEL_488d31f4ad3b4d699be92d93093a5715",
            "value": "Downloading: 100%"
          }
        },
        "9b9b0905a81c450c848722c2984013d1": {
          "model_module": "@jupyter-widgets/controls",
          "model_name": "FloatProgressModel",
          "model_module_version": "1.5.0",
          "state": {
            "_dom_classes": [],
            "_model_module": "@jupyter-widgets/controls",
            "_model_module_version": "1.5.0",
            "_model_name": "FloatProgressModel",
            "_view_count": null,
            "_view_module": "@jupyter-widgets/controls",
            "_view_module_version": "1.5.0",
            "_view_name": "ProgressView",
            "bar_style": "success",
            "description": "",
            "description_tooltip": null,
            "layout": "IPY_MODEL_d25c53ec4d114b3b81a2b1259d8798c4",
            "max": 1080667,
            "min": 0,
            "orientation": "horizontal",
            "style": "IPY_MODEL_50b6e3fdc3294733bddbcb9eaae4aa27",
            "value": 1080667
          }
        },
        "5bd61d7deb4049e38d6d47bc5da68ba1": {
          "model_module": "@jupyter-widgets/controls",
          "model_name": "HTMLModel",
          "model_module_version": "1.5.0",
          "state": {
            "_dom_classes": [],
            "_model_module": "@jupyter-widgets/controls",
            "_model_module_version": "1.5.0",
            "_model_name": "HTMLModel",
            "_view_count": null,
            "_view_module": "@jupyter-widgets/controls",
            "_view_module_version": "1.5.0",
            "_view_name": "HTMLView",
            "description": "",
            "description_tooltip": null,
            "layout": "IPY_MODEL_b9a62415845b49a49d0b4b87c151ad33",
            "placeholder": "​",
            "style": "IPY_MODEL_8d799925fb534cc49663b8ebeb72d580",
            "value": " 1.08M/1.08M [00:01&lt;00:00, 942kB/s]"
          }
        },
        "b7eeaafb69594916afd59a836952505f": {
          "model_module": "@jupyter-widgets/base",
          "model_name": "LayoutModel",
          "model_module_version": "1.2.0",
          "state": {
            "_model_module": "@jupyter-widgets/base",
            "_model_module_version": "1.2.0",
            "_model_name": "LayoutModel",
            "_view_count": null,
            "_view_module": "@jupyter-widgets/base",
            "_view_module_version": "1.2.0",
            "_view_name": "LayoutView",
            "align_content": null,
            "align_items": null,
            "align_self": null,
            "border": null,
            "bottom": null,
            "display": null,
            "flex": null,
            "flex_flow": null,
            "grid_area": null,
            "grid_auto_columns": null,
            "grid_auto_flow": null,
            "grid_auto_rows": null,
            "grid_column": null,
            "grid_gap": null,
            "grid_row": null,
            "grid_template_areas": null,
            "grid_template_columns": null,
            "grid_template_rows": null,
            "height": null,
            "justify_content": null,
            "justify_items": null,
            "left": null,
            "margin": null,
            "max_height": null,
            "max_width": null,
            "min_height": null,
            "min_width": null,
            "object_fit": null,
            "object_position": null,
            "order": null,
            "overflow": null,
            "overflow_x": null,
            "overflow_y": null,
            "padding": null,
            "right": null,
            "top": null,
            "visibility": null,
            "width": null
          }
        },
        "1d56d144034443f2ac4a280a0ecbdddd": {
          "model_module": "@jupyter-widgets/base",
          "model_name": "LayoutModel",
          "model_module_version": "1.2.0",
          "state": {
            "_model_module": "@jupyter-widgets/base",
            "_model_module_version": "1.2.0",
            "_model_name": "LayoutModel",
            "_view_count": null,
            "_view_module": "@jupyter-widgets/base",
            "_view_module_version": "1.2.0",
            "_view_name": "LayoutView",
            "align_content": null,
            "align_items": null,
            "align_self": null,
            "border": null,
            "bottom": null,
            "display": null,
            "flex": null,
            "flex_flow": null,
            "grid_area": null,
            "grid_auto_columns": null,
            "grid_auto_flow": null,
            "grid_auto_rows": null,
            "grid_column": null,
            "grid_gap": null,
            "grid_row": null,
            "grid_template_areas": null,
            "grid_template_columns": null,
            "grid_template_rows": null,
            "height": null,
            "justify_content": null,
            "justify_items": null,
            "left": null,
            "margin": null,
            "max_height": null,
            "max_width": null,
            "min_height": null,
            "min_width": null,
            "object_fit": null,
            "object_position": null,
            "order": null,
            "overflow": null,
            "overflow_x": null,
            "overflow_y": null,
            "padding": null,
            "right": null,
            "top": null,
            "visibility": null,
            "width": null
          }
        },
        "488d31f4ad3b4d699be92d93093a5715": {
          "model_module": "@jupyter-widgets/controls",
          "model_name": "DescriptionStyleModel",
          "model_module_version": "1.5.0",
          "state": {
            "_model_module": "@jupyter-widgets/controls",
            "_model_module_version": "1.5.0",
            "_model_name": "DescriptionStyleModel",
            "_view_count": null,
            "_view_module": "@jupyter-widgets/base",
            "_view_module_version": "1.2.0",
            "_view_name": "StyleView",
            "description_width": ""
          }
        },
        "d25c53ec4d114b3b81a2b1259d8798c4": {
          "model_module": "@jupyter-widgets/base",
          "model_name": "LayoutModel",
          "model_module_version": "1.2.0",
          "state": {
            "_model_module": "@jupyter-widgets/base",
            "_model_module_version": "1.2.0",
            "_model_name": "LayoutModel",
            "_view_count": null,
            "_view_module": "@jupyter-widgets/base",
            "_view_module_version": "1.2.0",
            "_view_name": "LayoutView",
            "align_content": null,
            "align_items": null,
            "align_self": null,
            "border": null,
            "bottom": null,
            "display": null,
            "flex": null,
            "flex_flow": null,
            "grid_area": null,
            "grid_auto_columns": null,
            "grid_auto_flow": null,
            "grid_auto_rows": null,
            "grid_column": null,
            "grid_gap": null,
            "grid_row": null,
            "grid_template_areas": null,
            "grid_template_columns": null,
            "grid_template_rows": null,
            "height": null,
            "justify_content": null,
            "justify_items": null,
            "left": null,
            "margin": null,
            "max_height": null,
            "max_width": null,
            "min_height": null,
            "min_width": null,
            "object_fit": null,
            "object_position": null,
            "order": null,
            "overflow": null,
            "overflow_x": null,
            "overflow_y": null,
            "padding": null,
            "right": null,
            "top": null,
            "visibility": null,
            "width": null
          }
        },
        "50b6e3fdc3294733bddbcb9eaae4aa27": {
          "model_module": "@jupyter-widgets/controls",
          "model_name": "ProgressStyleModel",
          "model_module_version": "1.5.0",
          "state": {
            "_model_module": "@jupyter-widgets/controls",
            "_model_module_version": "1.5.0",
            "_model_name": "ProgressStyleModel",
            "_view_count": null,
            "_view_module": "@jupyter-widgets/base",
            "_view_module_version": "1.2.0",
            "_view_name": "StyleView",
            "bar_color": null,
            "description_width": ""
          }
        },
        "b9a62415845b49a49d0b4b87c151ad33": {
          "model_module": "@jupyter-widgets/base",
          "model_name": "LayoutModel",
          "model_module_version": "1.2.0",
          "state": {
            "_model_module": "@jupyter-widgets/base",
            "_model_module_version": "1.2.0",
            "_model_name": "LayoutModel",
            "_view_count": null,
            "_view_module": "@jupyter-widgets/base",
            "_view_module_version": "1.2.0",
            "_view_name": "LayoutView",
            "align_content": null,
            "align_items": null,
            "align_self": null,
            "border": null,
            "bottom": null,
            "display": null,
            "flex": null,
            "flex_flow": null,
            "grid_area": null,
            "grid_auto_columns": null,
            "grid_auto_flow": null,
            "grid_auto_rows": null,
            "grid_column": null,
            "grid_gap": null,
            "grid_row": null,
            "grid_template_areas": null,
            "grid_template_columns": null,
            "grid_template_rows": null,
            "height": null,
            "justify_content": null,
            "justify_items": null,
            "left": null,
            "margin": null,
            "max_height": null,
            "max_width": null,
            "min_height": null,
            "min_width": null,
            "object_fit": null,
            "object_position": null,
            "order": null,
            "overflow": null,
            "overflow_x": null,
            "overflow_y": null,
            "padding": null,
            "right": null,
            "top": null,
            "visibility": null,
            "width": null
          }
        },
        "8d799925fb534cc49663b8ebeb72d580": {
          "model_module": "@jupyter-widgets/controls",
          "model_name": "DescriptionStyleModel",
          "model_module_version": "1.5.0",
          "state": {
            "_model_module": "@jupyter-widgets/controls",
            "_model_module_version": "1.5.0",
            "_model_name": "DescriptionStyleModel",
            "_view_count": null,
            "_view_module": "@jupyter-widgets/base",
            "_view_module_version": "1.2.0",
            "_view_name": "StyleView",
            "description_width": ""
          }
        },
        "b1ca9eb2a0e64d57bb33c27021de0bad": {
          "model_module": "@jupyter-widgets/controls",
          "model_name": "HBoxModel",
          "model_module_version": "1.5.0",
          "state": {
            "_dom_classes": [],
            "_model_module": "@jupyter-widgets/controls",
            "_model_module_version": "1.5.0",
            "_model_name": "HBoxModel",
            "_view_count": null,
            "_view_module": "@jupyter-widgets/controls",
            "_view_module_version": "1.5.0",
            "_view_name": "HBoxView",
            "box_style": "",
            "children": [
              "IPY_MODEL_fddd003751464583aa8a3602806b9e85",
              "IPY_MODEL_0623caecbfca4e0ebca9b23f8e679cef",
              "IPY_MODEL_8b6fb91309af4e6d9019cf76e74bf880"
            ],
            "layout": "IPY_MODEL_e167884d36a24c7ab5ba2b0ac6af0674"
          }
        },
        "fddd003751464583aa8a3602806b9e85": {
          "model_module": "@jupyter-widgets/controls",
          "model_name": "HTMLModel",
          "model_module_version": "1.5.0",
          "state": {
            "_dom_classes": [],
            "_model_module": "@jupyter-widgets/controls",
            "_model_module_version": "1.5.0",
            "_model_name": "HTMLModel",
            "_view_count": null,
            "_view_module": "@jupyter-widgets/controls",
            "_view_module_version": "1.5.0",
            "_view_name": "HTMLView",
            "description": "",
            "description_tooltip": null,
            "layout": "IPY_MODEL_8dace03826834ccf8b46538820e81730",
            "placeholder": "​",
            "style": "IPY_MODEL_a3756e979cee4d39b133a6ea8c5e2d4a",
            "value": "Downloading: 100%"
          }
        },
        "0623caecbfca4e0ebca9b23f8e679cef": {
          "model_module": "@jupyter-widgets/controls",
          "model_name": "FloatProgressModel",
          "model_module_version": "1.5.0",
          "state": {
            "_dom_classes": [],
            "_model_module": "@jupyter-widgets/controls",
            "_model_module_version": "1.5.0",
            "_model_name": "FloatProgressModel",
            "_view_count": null,
            "_view_module": "@jupyter-widgets/controls",
            "_view_module_version": "1.5.0",
            "_view_name": "ProgressView",
            "bar_style": "success",
            "description": "",
            "description_tooltip": null,
            "layout": "IPY_MODEL_786945e96f7a4a988a4d2db9c4cfe968",
            "max": 112,
            "min": 0,
            "orientation": "horizontal",
            "style": "IPY_MODEL_2520cb52d7184b08b9e5b21634a69566",
            "value": 112
          }
        },
        "8b6fb91309af4e6d9019cf76e74bf880": {
          "model_module": "@jupyter-widgets/controls",
          "model_name": "HTMLModel",
          "model_module_version": "1.5.0",
          "state": {
            "_dom_classes": [],
            "_model_module": "@jupyter-widgets/controls",
            "_model_module_version": "1.5.0",
            "_model_name": "HTMLModel",
            "_view_count": null,
            "_view_module": "@jupyter-widgets/controls",
            "_view_module_version": "1.5.0",
            "_view_name": "HTMLView",
            "description": "",
            "description_tooltip": null,
            "layout": "IPY_MODEL_73d316a307d84fb89f64bf5ae1755e80",
            "placeholder": "​",
            "style": "IPY_MODEL_9bbbfb380f48494d86d9dbe6af4cd07f",
            "value": " 112/112 [00:00&lt;00:00, 914B/s]"
          }
        },
        "e167884d36a24c7ab5ba2b0ac6af0674": {
          "model_module": "@jupyter-widgets/base",
          "model_name": "LayoutModel",
          "model_module_version": "1.2.0",
          "state": {
            "_model_module": "@jupyter-widgets/base",
            "_model_module_version": "1.2.0",
            "_model_name": "LayoutModel",
            "_view_count": null,
            "_view_module": "@jupyter-widgets/base",
            "_view_module_version": "1.2.0",
            "_view_name": "LayoutView",
            "align_content": null,
            "align_items": null,
            "align_self": null,
            "border": null,
            "bottom": null,
            "display": null,
            "flex": null,
            "flex_flow": null,
            "grid_area": null,
            "grid_auto_columns": null,
            "grid_auto_flow": null,
            "grid_auto_rows": null,
            "grid_column": null,
            "grid_gap": null,
            "grid_row": null,
            "grid_template_areas": null,
            "grid_template_columns": null,
            "grid_template_rows": null,
            "height": null,
            "justify_content": null,
            "justify_items": null,
            "left": null,
            "margin": null,
            "max_height": null,
            "max_width": null,
            "min_height": null,
            "min_width": null,
            "object_fit": null,
            "object_position": null,
            "order": null,
            "overflow": null,
            "overflow_x": null,
            "overflow_y": null,
            "padding": null,
            "right": null,
            "top": null,
            "visibility": null,
            "width": null
          }
        },
        "8dace03826834ccf8b46538820e81730": {
          "model_module": "@jupyter-widgets/base",
          "model_name": "LayoutModel",
          "model_module_version": "1.2.0",
          "state": {
            "_model_module": "@jupyter-widgets/base",
            "_model_module_version": "1.2.0",
            "_model_name": "LayoutModel",
            "_view_count": null,
            "_view_module": "@jupyter-widgets/base",
            "_view_module_version": "1.2.0",
            "_view_name": "LayoutView",
            "align_content": null,
            "align_items": null,
            "align_self": null,
            "border": null,
            "bottom": null,
            "display": null,
            "flex": null,
            "flex_flow": null,
            "grid_area": null,
            "grid_auto_columns": null,
            "grid_auto_flow": null,
            "grid_auto_rows": null,
            "grid_column": null,
            "grid_gap": null,
            "grid_row": null,
            "grid_template_areas": null,
            "grid_template_columns": null,
            "grid_template_rows": null,
            "height": null,
            "justify_content": null,
            "justify_items": null,
            "left": null,
            "margin": null,
            "max_height": null,
            "max_width": null,
            "min_height": null,
            "min_width": null,
            "object_fit": null,
            "object_position": null,
            "order": null,
            "overflow": null,
            "overflow_x": null,
            "overflow_y": null,
            "padding": null,
            "right": null,
            "top": null,
            "visibility": null,
            "width": null
          }
        },
        "a3756e979cee4d39b133a6ea8c5e2d4a": {
          "model_module": "@jupyter-widgets/controls",
          "model_name": "DescriptionStyleModel",
          "model_module_version": "1.5.0",
          "state": {
            "_model_module": "@jupyter-widgets/controls",
            "_model_module_version": "1.5.0",
            "_model_name": "DescriptionStyleModel",
            "_view_count": null,
            "_view_module": "@jupyter-widgets/base",
            "_view_module_version": "1.2.0",
            "_view_name": "StyleView",
            "description_width": ""
          }
        },
        "786945e96f7a4a988a4d2db9c4cfe968": {
          "model_module": "@jupyter-widgets/base",
          "model_name": "LayoutModel",
          "model_module_version": "1.2.0",
          "state": {
            "_model_module": "@jupyter-widgets/base",
            "_model_module_version": "1.2.0",
            "_model_name": "LayoutModel",
            "_view_count": null,
            "_view_module": "@jupyter-widgets/base",
            "_view_module_version": "1.2.0",
            "_view_name": "LayoutView",
            "align_content": null,
            "align_items": null,
            "align_self": null,
            "border": null,
            "bottom": null,
            "display": null,
            "flex": null,
            "flex_flow": null,
            "grid_area": null,
            "grid_auto_columns": null,
            "grid_auto_flow": null,
            "grid_auto_rows": null,
            "grid_column": null,
            "grid_gap": null,
            "grid_row": null,
            "grid_template_areas": null,
            "grid_template_columns": null,
            "grid_template_rows": null,
            "height": null,
            "justify_content": null,
            "justify_items": null,
            "left": null,
            "margin": null,
            "max_height": null,
            "max_width": null,
            "min_height": null,
            "min_width": null,
            "object_fit": null,
            "object_position": null,
            "order": null,
            "overflow": null,
            "overflow_x": null,
            "overflow_y": null,
            "padding": null,
            "right": null,
            "top": null,
            "visibility": null,
            "width": null
          }
        },
        "2520cb52d7184b08b9e5b21634a69566": {
          "model_module": "@jupyter-widgets/controls",
          "model_name": "ProgressStyleModel",
          "model_module_version": "1.5.0",
          "state": {
            "_model_module": "@jupyter-widgets/controls",
            "_model_module_version": "1.5.0",
            "_model_name": "ProgressStyleModel",
            "_view_count": null,
            "_view_module": "@jupyter-widgets/base",
            "_view_module_version": "1.2.0",
            "_view_name": "StyleView",
            "bar_color": null,
            "description_width": ""
          }
        },
        "73d316a307d84fb89f64bf5ae1755e80": {
          "model_module": "@jupyter-widgets/base",
          "model_name": "LayoutModel",
          "model_module_version": "1.2.0",
          "state": {
            "_model_module": "@jupyter-widgets/base",
            "_model_module_version": "1.2.0",
            "_model_name": "LayoutModel",
            "_view_count": null,
            "_view_module": "@jupyter-widgets/base",
            "_view_module_version": "1.2.0",
            "_view_name": "LayoutView",
            "align_content": null,
            "align_items": null,
            "align_self": null,
            "border": null,
            "bottom": null,
            "display": null,
            "flex": null,
            "flex_flow": null,
            "grid_area": null,
            "grid_auto_columns": null,
            "grid_auto_flow": null,
            "grid_auto_rows": null,
            "grid_column": null,
            "grid_gap": null,
            "grid_row": null,
            "grid_template_areas": null,
            "grid_template_columns": null,
            "grid_template_rows": null,
            "height": null,
            "justify_content": null,
            "justify_items": null,
            "left": null,
            "margin": null,
            "max_height": null,
            "max_width": null,
            "min_height": null,
            "min_width": null,
            "object_fit": null,
            "object_position": null,
            "order": null,
            "overflow": null,
            "overflow_x": null,
            "overflow_y": null,
            "padding": null,
            "right": null,
            "top": null,
            "visibility": null,
            "width": null
          }
        },
        "9bbbfb380f48494d86d9dbe6af4cd07f": {
          "model_module": "@jupyter-widgets/controls",
          "model_name": "DescriptionStyleModel",
          "model_module_version": "1.5.0",
          "state": {
            "_model_module": "@jupyter-widgets/controls",
            "_model_module_version": "1.5.0",
            "_model_name": "DescriptionStyleModel",
            "_view_count": null,
            "_view_module": "@jupyter-widgets/base",
            "_view_module_version": "1.2.0",
            "_view_name": "StyleView",
            "description_width": ""
          }
        },
        "05ae9864ce47488495a91a8405c8bf7d": {
          "model_module": "@jupyter-widgets/controls",
          "model_name": "HBoxModel",
          "model_module_version": "1.5.0",
          "state": {
            "_dom_classes": [],
            "_model_module": "@jupyter-widgets/controls",
            "_model_module_version": "1.5.0",
            "_model_name": "HBoxModel",
            "_view_count": null,
            "_view_module": "@jupyter-widgets/controls",
            "_view_module_version": "1.5.0",
            "_view_name": "HBoxView",
            "box_style": "",
            "children": [
              "IPY_MODEL_24cc8b7a10ea4c8099a2d32b335b3bc4",
              "IPY_MODEL_b5c2b74aa506417fb1defd7061580a6e",
              "IPY_MODEL_e0eb93fcfbf34e42ad11d4c71cfb1730"
            ],
            "layout": "IPY_MODEL_a6fbc50798f5485d90a701b2cb7ea974"
          }
        },
        "24cc8b7a10ea4c8099a2d32b335b3bc4": {
          "model_module": "@jupyter-widgets/controls",
          "model_name": "HTMLModel",
          "model_module_version": "1.5.0",
          "state": {
            "_dom_classes": [],
            "_model_module": "@jupyter-widgets/controls",
            "_model_module_version": "1.5.0",
            "_model_name": "HTMLModel",
            "_view_count": null,
            "_view_module": "@jupyter-widgets/controls",
            "_view_module_version": "1.5.0",
            "_view_name": "HTMLView",
            "description": "",
            "description_tooltip": null,
            "layout": "IPY_MODEL_42064b4fccdf43f9a7f4ac1ccef22579",
            "placeholder": "​",
            "style": "IPY_MODEL_0dd71d5c0f1a45688d1887764ff0e423",
            "value": "Downloading: 100%"
          }
        },
        "b5c2b74aa506417fb1defd7061580a6e": {
          "model_module": "@jupyter-widgets/controls",
          "model_name": "FloatProgressModel",
          "model_module_version": "1.5.0",
          "state": {
            "_dom_classes": [],
            "_model_module": "@jupyter-widgets/controls",
            "_model_module_version": "1.5.0",
            "_model_name": "FloatProgressModel",
            "_view_count": null,
            "_view_module": "@jupyter-widgets/controls",
            "_view_module_version": "1.5.0",
            "_view_name": "ProgressView",
            "bar_style": "success",
            "description": "",
            "description_tooltip": null,
            "layout": "IPY_MODEL_cd3341a8b063468d823eb3abc2de77fc",
            "max": 401,
            "min": 0,
            "orientation": "horizontal",
            "style": "IPY_MODEL_00581025760d4d31a54fe0d3739e5cb3",
            "value": 401
          }
        },
        "e0eb93fcfbf34e42ad11d4c71cfb1730": {
          "model_module": "@jupyter-widgets/controls",
          "model_name": "HTMLModel",
          "model_module_version": "1.5.0",
          "state": {
            "_dom_classes": [],
            "_model_module": "@jupyter-widgets/controls",
            "_model_module_version": "1.5.0",
            "_model_name": "HTMLModel",
            "_view_count": null,
            "_view_module": "@jupyter-widgets/controls",
            "_view_module_version": "1.5.0",
            "_view_name": "HTMLView",
            "description": "",
            "description_tooltip": null,
            "layout": "IPY_MODEL_cdc5afbc46c44d08b7401f0db6be1730",
            "placeholder": "​",
            "style": "IPY_MODEL_ab3ca308fc7e49bc8f968ef37d7a66ae",
            "value": " 401/401 [00:00&lt;00:00, 16.0kB/s]"
          }
        },
        "a6fbc50798f5485d90a701b2cb7ea974": {
          "model_module": "@jupyter-widgets/base",
          "model_name": "LayoutModel",
          "model_module_version": "1.2.0",
          "state": {
            "_model_module": "@jupyter-widgets/base",
            "_model_module_version": "1.2.0",
            "_model_name": "LayoutModel",
            "_view_count": null,
            "_view_module": "@jupyter-widgets/base",
            "_view_module_version": "1.2.0",
            "_view_name": "LayoutView",
            "align_content": null,
            "align_items": null,
            "align_self": null,
            "border": null,
            "bottom": null,
            "display": null,
            "flex": null,
            "flex_flow": null,
            "grid_area": null,
            "grid_auto_columns": null,
            "grid_auto_flow": null,
            "grid_auto_rows": null,
            "grid_column": null,
            "grid_gap": null,
            "grid_row": null,
            "grid_template_areas": null,
            "grid_template_columns": null,
            "grid_template_rows": null,
            "height": null,
            "justify_content": null,
            "justify_items": null,
            "left": null,
            "margin": null,
            "max_height": null,
            "max_width": null,
            "min_height": null,
            "min_width": null,
            "object_fit": null,
            "object_position": null,
            "order": null,
            "overflow": null,
            "overflow_x": null,
            "overflow_y": null,
            "padding": null,
            "right": null,
            "top": null,
            "visibility": null,
            "width": null
          }
        },
        "42064b4fccdf43f9a7f4ac1ccef22579": {
          "model_module": "@jupyter-widgets/base",
          "model_name": "LayoutModel",
          "model_module_version": "1.2.0",
          "state": {
            "_model_module": "@jupyter-widgets/base",
            "_model_module_version": "1.2.0",
            "_model_name": "LayoutModel",
            "_view_count": null,
            "_view_module": "@jupyter-widgets/base",
            "_view_module_version": "1.2.0",
            "_view_name": "LayoutView",
            "align_content": null,
            "align_items": null,
            "align_self": null,
            "border": null,
            "bottom": null,
            "display": null,
            "flex": null,
            "flex_flow": null,
            "grid_area": null,
            "grid_auto_columns": null,
            "grid_auto_flow": null,
            "grid_auto_rows": null,
            "grid_column": null,
            "grid_gap": null,
            "grid_row": null,
            "grid_template_areas": null,
            "grid_template_columns": null,
            "grid_template_rows": null,
            "height": null,
            "justify_content": null,
            "justify_items": null,
            "left": null,
            "margin": null,
            "max_height": null,
            "max_width": null,
            "min_height": null,
            "min_width": null,
            "object_fit": null,
            "object_position": null,
            "order": null,
            "overflow": null,
            "overflow_x": null,
            "overflow_y": null,
            "padding": null,
            "right": null,
            "top": null,
            "visibility": null,
            "width": null
          }
        },
        "0dd71d5c0f1a45688d1887764ff0e423": {
          "model_module": "@jupyter-widgets/controls",
          "model_name": "DescriptionStyleModel",
          "model_module_version": "1.5.0",
          "state": {
            "_model_module": "@jupyter-widgets/controls",
            "_model_module_version": "1.5.0",
            "_model_name": "DescriptionStyleModel",
            "_view_count": null,
            "_view_module": "@jupyter-widgets/base",
            "_view_module_version": "1.2.0",
            "_view_name": "StyleView",
            "description_width": ""
          }
        },
        "cd3341a8b063468d823eb3abc2de77fc": {
          "model_module": "@jupyter-widgets/base",
          "model_name": "LayoutModel",
          "model_module_version": "1.2.0",
          "state": {
            "_model_module": "@jupyter-widgets/base",
            "_model_module_version": "1.2.0",
            "_model_name": "LayoutModel",
            "_view_count": null,
            "_view_module": "@jupyter-widgets/base",
            "_view_module_version": "1.2.0",
            "_view_name": "LayoutView",
            "align_content": null,
            "align_items": null,
            "align_self": null,
            "border": null,
            "bottom": null,
            "display": null,
            "flex": null,
            "flex_flow": null,
            "grid_area": null,
            "grid_auto_columns": null,
            "grid_auto_flow": null,
            "grid_auto_rows": null,
            "grid_column": null,
            "grid_gap": null,
            "grid_row": null,
            "grid_template_areas": null,
            "grid_template_columns": null,
            "grid_template_rows": null,
            "height": null,
            "justify_content": null,
            "justify_items": null,
            "left": null,
            "margin": null,
            "max_height": null,
            "max_width": null,
            "min_height": null,
            "min_width": null,
            "object_fit": null,
            "object_position": null,
            "order": null,
            "overflow": null,
            "overflow_x": null,
            "overflow_y": null,
            "padding": null,
            "right": null,
            "top": null,
            "visibility": null,
            "width": null
          }
        },
        "00581025760d4d31a54fe0d3739e5cb3": {
          "model_module": "@jupyter-widgets/controls",
          "model_name": "ProgressStyleModel",
          "model_module_version": "1.5.0",
          "state": {
            "_model_module": "@jupyter-widgets/controls",
            "_model_module_version": "1.5.0",
            "_model_name": "ProgressStyleModel",
            "_view_count": null,
            "_view_module": "@jupyter-widgets/base",
            "_view_module_version": "1.2.0",
            "_view_name": "StyleView",
            "bar_color": null,
            "description_width": ""
          }
        },
        "cdc5afbc46c44d08b7401f0db6be1730": {
          "model_module": "@jupyter-widgets/base",
          "model_name": "LayoutModel",
          "model_module_version": "1.2.0",
          "state": {
            "_model_module": "@jupyter-widgets/base",
            "_model_module_version": "1.2.0",
            "_model_name": "LayoutModel",
            "_view_count": null,
            "_view_module": "@jupyter-widgets/base",
            "_view_module_version": "1.2.0",
            "_view_name": "LayoutView",
            "align_content": null,
            "align_items": null,
            "align_self": null,
            "border": null,
            "bottom": null,
            "display": null,
            "flex": null,
            "flex_flow": null,
            "grid_area": null,
            "grid_auto_columns": null,
            "grid_auto_flow": null,
            "grid_auto_rows": null,
            "grid_column": null,
            "grid_gap": null,
            "grid_row": null,
            "grid_template_areas": null,
            "grid_template_columns": null,
            "grid_template_rows": null,
            "height": null,
            "justify_content": null,
            "justify_items": null,
            "left": null,
            "margin": null,
            "max_height": null,
            "max_width": null,
            "min_height": null,
            "min_width": null,
            "object_fit": null,
            "object_position": null,
            "order": null,
            "overflow": null,
            "overflow_x": null,
            "overflow_y": null,
            "padding": null,
            "right": null,
            "top": null,
            "visibility": null,
            "width": null
          }
        },
        "ab3ca308fc7e49bc8f968ef37d7a66ae": {
          "model_module": "@jupyter-widgets/controls",
          "model_name": "DescriptionStyleModel",
          "model_module_version": "1.5.0",
          "state": {
            "_model_module": "@jupyter-widgets/controls",
            "_model_module_version": "1.5.0",
            "_model_name": "DescriptionStyleModel",
            "_view_count": null,
            "_view_module": "@jupyter-widgets/base",
            "_view_module_version": "1.2.0",
            "_view_name": "StyleView",
            "description_width": ""
          }
        }
      }
    }
  },
  "cells": [
    {
      "cell_type": "markdown",
      "source": [
        "# 1.Импорт модулей"
      ],
      "metadata": {
        "id": "HqkmGHAWXdhD"
      }
    },
    {
      "cell_type": "code",
      "source": [
        "# !pip install gensim --upgrade -q  # апгрейд пакета генсим"
      ],
      "metadata": {
        "id": "pMq7RqrM5Iaj"
      },
      "execution_count": null,
      "outputs": []
    },
    {
      "cell_type": "code",
      "execution_count": null,
      "metadata": {
        "colab": {
          "base_uri": "https://localhost:8080/"
        },
        "id": "aqfENbSIWnzs",
        "outputId": "06e5457f-99eb-4ab9-b6d5-04487f3c93b8"
      },
      "outputs": [
        {
          "output_type": "stream",
          "name": "stderr",
          "text": [
            "[nltk_data] Downloading package punkt to /root/nltk_data...\n",
            "[nltk_data]   Package punkt is already up-to-date!\n"
          ]
        },
        {
          "output_type": "execute_result",
          "data": {
            "text/plain": [
              "True"
            ]
          },
          "metadata": {},
          "execution_count": 1
        }
      ],
      "source": [
        "import pandas as pd  \n",
        "import nltk\n",
        "from nltk.corpus import wordnet as wn\n",
        "from nltk.corpus import stopwords\n",
        "from nltk.tokenize import word_tokenize\n",
        "from string import punctuation\n",
        "import os\n",
        "import numpy as np\n",
        "from sklearn.feature_extraction.text import CountVectorizer\n",
        "import re\n",
        "from tqdm import tqdm\n",
        "import urllib.request\n",
        "import gensim\n",
        "from gensim.models import word2vec\n",
        "from gensim.test.utils import datapath\n",
        "from gensim import utils\n",
        "from google.colab import files\n",
        "from sklearn.manifold import TSNE\n",
        "import matplotlib.pyplot as plt\n",
        "import seaborn as sns\n",
        "import plotly.express as px\n",
        "%matplotlib inline\n",
        "\n",
        "!pip install pymorphy2 -q\n",
        "from pymorphy2 import MorphAnalyzer\n",
        "from functools import lru_cache\n",
        "from multiprocessing import Pool\n",
        "\n",
        "from sklearn.model_selection import train_test_split\n",
        "\n",
        "nltk.download('punkt')"
      ]
    },
    {
      "cell_type": "code",
      "source": [
        "from sklearn.preprocessing import StandardScaler, OneHotEncoder\n",
        "from sklearn.compose import ColumnTransformer\n",
        "from sklearn.pipeline import Pipeline\n",
        "from sklearn.model_selection import cross_val_score, GridSearchCV, train_test_split\n",
        "from sklearn.metrics import f1_score\n",
        "\n",
        "from lightgbm import LGBMClassifier\n",
        "!pip install catboost -q\n",
        "from catboost import CatBoostClassifier\n",
        "from sklearn.ensemble import RandomForestClassifier\n",
        "\n",
        "from sklearn.ensemble import StackingClassifier\n",
        "from sklearn.linear_model import LogisticRegression"
      ],
      "metadata": {
        "id": "Ln1zSDI_QZx9"
      },
      "execution_count": null,
      "outputs": []
    },
    {
      "cell_type": "code",
      "source": [
        "!pip install transformers -q"
      ],
      "metadata": {
        "id": "EsXW4biKSVTJ"
      },
      "execution_count": null,
      "outputs": []
    },
    {
      "cell_type": "code",
      "source": [
        "import transformers\n",
        "\n",
        "from transformers import BertModel, BertTokenizer, AdamW, get_linear_schedule_with_warmup, BertForSequenceClassification\n",
        "import torch\n",
        "from sklearn.metrics import confusion_matrix, classification_report\n",
        "from collections import defaultdict\n",
        "from textwrap import wrap\n",
        "from torch import nn, optim\n",
        "from torch.utils.data import Dataset, DataLoader\n",
        "import random"
      ],
      "metadata": {
        "id": "wPY4fmPcSjrH"
      },
      "execution_count": null,
      "outputs": []
    },
    {
      "cell_type": "code",
      "source": [
        "RANDOM_SEED = 42\n",
        "device = torch.device(\"cuda:0\" if torch.cuda.is_available() else \"cpu\")\n",
        "\n",
        "def seed_all(seed_value):\n",
        "    random.seed(seed_value)\n",
        "    np.random.seed(seed_value)\n",
        "    torch.manual_seed(seed_value)\n",
        "    if torch.cuda.is_available():\n",
        "        torch.cuda.manual_seed(seed_value)\n",
        "        torch.cuda.manual_seed_all(seed_value)\n",
        "        torch.backends.cudnn.benchmark = True\n",
        "        torch.backends.cudnn.deterministic = False\n",
        "seed_all(RANDOM_SEED)"
      ],
      "metadata": {
        "id": "MFHmDmrsSRpN"
      },
      "execution_count": null,
      "outputs": []
    },
    {
      "cell_type": "markdown",
      "source": [
        "# 2.Анализ данных."
      ],
      "metadata": {
        "id": "9UgXcqcLZdaY"
      }
    },
    {
      "cell_type": "code",
      "source": [
        "from google.colab import drive\n",
        "drive.mount('/content/drive')"
      ],
      "metadata": {
        "colab": {
          "base_uri": "https://localhost:8080/"
        },
        "id": "L-Ihtxg9Xa8b",
        "outputId": "5f333bdb-8168-494f-f874-88a6b6151d1a"
      },
      "execution_count": null,
      "outputs": [
        {
          "output_type": "stream",
          "name": "stdout",
          "text": [
            "Mounted at /content/drive\n"
          ]
        }
      ]
    },
    {
      "cell_type": "code",
      "source": [
        "!unzip -q /content/drive/MyDrive/Colab\\ Notebooks/NLP/bootcamp/train_dl.csv.zip -d /content/data\n",
        "!unzip -q /content/drive/MyDrive/Colab\\ Notebooks/NLP/bootcamp/new_test_dl.csv.zip -d /content/data"
      ],
      "metadata": {
        "id": "_2qSHoyXXa_W"
      },
      "execution_count": null,
      "outputs": []
    },
    {
      "cell_type": "code",
      "source": [
        "train_df = pd.read_csv('/content/data/train_dl.csv')\n",
        "test_df = pd.read_csv('/content/data/new_test_dl.csv', index_col=0)"
      ],
      "metadata": {
        "id": "TXdfGuH3XbCB"
      },
      "execution_count": null,
      "outputs": []
    },
    {
      "cell_type": "code",
      "source": [
        "train_df = pd.read_csv('/content/drive/MyDrive/Colab Notebooks/NLP/bootcamp/train_clean.csv')\n",
        "train_df.head()"
      ],
      "metadata": {
        "colab": {
          "base_uri": "https://localhost:8080/",
          "height": 337
        },
        "id": "Swj-4pgh4qb2",
        "outputId": "ca6098f6-d7bb-4028-a654-d1aa10b434f4"
      },
      "execution_count": null,
      "outputs": [
        {
          "output_type": "execute_result",
          "data": {
            "text/plain": [
              "            bank                                              feeds  grades  \\\n",
              "0  unicreditbank  Я очень редко пользуюсь банковскими продуктами...     5.0   \n",
              "1    fk_otkritie  Я вместе с женой 15.11.2019 обратился в отделе...     1.0   \n",
              "2       alfabank  Добрый день.Сегодня 27.12.2018 г около 15.40-1...     1.0   \n",
              "3            vtb  \"Где карточку открывали, туда и идите...\" - эт...     2.0   \n",
              "4  promsvyazbank  При покупках в iTunes списываются завышенные с...     NaN   \n",
              "\n",
              "                  date  sym_len  word_len  \\\n",
              "0  2017-12-31 18:20:00      770       119   \n",
              "1  2019-11-22 22:42:00     2749       405   \n",
              "2  2018-12-27 23:20:00      867       128   \n",
              "3  2020-02-05 16:40:00     2860       462   \n",
              "4  2016-02-26 15:48:00     1066       161   \n",
              "\n",
              "                                              lemmas  \n",
              "0  очень редко пользоваться банковский продукт не...  \n",
              "1  вместе жена обратиться отделение банк открытие...  \n",
              "2  добрый день сегодня г около банкомат адрес ряз...  \n",
              "3  карточка открывать туда идти этот фраза давно ...  \n",
              "4  покупка itunes списываться завысить сумма прим...  "
            ],
            "text/html": [
              "\n",
              "  <div id=\"df-7652128c-f8ca-48d8-ad5e-cfbe0cc62bf9\">\n",
              "    <div class=\"colab-df-container\">\n",
              "      <div>\n",
              "<style scoped>\n",
              "    .dataframe tbody tr th:only-of-type {\n",
              "        vertical-align: middle;\n",
              "    }\n",
              "\n",
              "    .dataframe tbody tr th {\n",
              "        vertical-align: top;\n",
              "    }\n",
              "\n",
              "    .dataframe thead th {\n",
              "        text-align: right;\n",
              "    }\n",
              "</style>\n",
              "<table border=\"1\" class=\"dataframe\">\n",
              "  <thead>\n",
              "    <tr style=\"text-align: right;\">\n",
              "      <th></th>\n",
              "      <th>bank</th>\n",
              "      <th>feeds</th>\n",
              "      <th>grades</th>\n",
              "      <th>date</th>\n",
              "      <th>sym_len</th>\n",
              "      <th>word_len</th>\n",
              "      <th>lemmas</th>\n",
              "    </tr>\n",
              "  </thead>\n",
              "  <tbody>\n",
              "    <tr>\n",
              "      <th>0</th>\n",
              "      <td>unicreditbank</td>\n",
              "      <td>Я очень редко пользуюсь банковскими продуктами...</td>\n",
              "      <td>5.0</td>\n",
              "      <td>2017-12-31 18:20:00</td>\n",
              "      <td>770</td>\n",
              "      <td>119</td>\n",
              "      <td>очень редко пользоваться банковский продукт не...</td>\n",
              "    </tr>\n",
              "    <tr>\n",
              "      <th>1</th>\n",
              "      <td>fk_otkritie</td>\n",
              "      <td>Я вместе с женой 15.11.2019 обратился в отделе...</td>\n",
              "      <td>1.0</td>\n",
              "      <td>2019-11-22 22:42:00</td>\n",
              "      <td>2749</td>\n",
              "      <td>405</td>\n",
              "      <td>вместе жена обратиться отделение банк открытие...</td>\n",
              "    </tr>\n",
              "    <tr>\n",
              "      <th>2</th>\n",
              "      <td>alfabank</td>\n",
              "      <td>Добрый день.Сегодня 27.12.2018 г около 15.40-1...</td>\n",
              "      <td>1.0</td>\n",
              "      <td>2018-12-27 23:20:00</td>\n",
              "      <td>867</td>\n",
              "      <td>128</td>\n",
              "      <td>добрый день сегодня г около банкомат адрес ряз...</td>\n",
              "    </tr>\n",
              "    <tr>\n",
              "      <th>3</th>\n",
              "      <td>vtb</td>\n",
              "      <td>\"Где карточку открывали, туда и идите...\" - эт...</td>\n",
              "      <td>2.0</td>\n",
              "      <td>2020-02-05 16:40:00</td>\n",
              "      <td>2860</td>\n",
              "      <td>462</td>\n",
              "      <td>карточка открывать туда идти этот фраза давно ...</td>\n",
              "    </tr>\n",
              "    <tr>\n",
              "      <th>4</th>\n",
              "      <td>promsvyazbank</td>\n",
              "      <td>При покупках в iTunes списываются завышенные с...</td>\n",
              "      <td>NaN</td>\n",
              "      <td>2016-02-26 15:48:00</td>\n",
              "      <td>1066</td>\n",
              "      <td>161</td>\n",
              "      <td>покупка itunes списываться завысить сумма прим...</td>\n",
              "    </tr>\n",
              "  </tbody>\n",
              "</table>\n",
              "</div>\n",
              "      <button class=\"colab-df-convert\" onclick=\"convertToInteractive('df-7652128c-f8ca-48d8-ad5e-cfbe0cc62bf9')\"\n",
              "              title=\"Convert this dataframe to an interactive table.\"\n",
              "              style=\"display:none;\">\n",
              "        \n",
              "  <svg xmlns=\"http://www.w3.org/2000/svg\" height=\"24px\"viewBox=\"0 0 24 24\"\n",
              "       width=\"24px\">\n",
              "    <path d=\"M0 0h24v24H0V0z\" fill=\"none\"/>\n",
              "    <path d=\"M18.56 5.44l.94 2.06.94-2.06 2.06-.94-2.06-.94-.94-2.06-.94 2.06-2.06.94zm-11 1L8.5 8.5l.94-2.06 2.06-.94-2.06-.94L8.5 2.5l-.94 2.06-2.06.94zm10 10l.94 2.06.94-2.06 2.06-.94-2.06-.94-.94-2.06-.94 2.06-2.06.94z\"/><path d=\"M17.41 7.96l-1.37-1.37c-.4-.4-.92-.59-1.43-.59-.52 0-1.04.2-1.43.59L10.3 9.45l-7.72 7.72c-.78.78-.78 2.05 0 2.83L4 21.41c.39.39.9.59 1.41.59.51 0 1.02-.2 1.41-.59l7.78-7.78 2.81-2.81c.8-.78.8-2.07 0-2.86zM5.41 20L4 18.59l7.72-7.72 1.47 1.35L5.41 20z\"/>\n",
              "  </svg>\n",
              "      </button>\n",
              "      \n",
              "  <style>\n",
              "    .colab-df-container {\n",
              "      display:flex;\n",
              "      flex-wrap:wrap;\n",
              "      gap: 12px;\n",
              "    }\n",
              "\n",
              "    .colab-df-convert {\n",
              "      background-color: #E8F0FE;\n",
              "      border: none;\n",
              "      border-radius: 50%;\n",
              "      cursor: pointer;\n",
              "      display: none;\n",
              "      fill: #1967D2;\n",
              "      height: 32px;\n",
              "      padding: 0 0 0 0;\n",
              "      width: 32px;\n",
              "    }\n",
              "\n",
              "    .colab-df-convert:hover {\n",
              "      background-color: #E2EBFA;\n",
              "      box-shadow: 0px 1px 2px rgba(60, 64, 67, 0.3), 0px 1px 3px 1px rgba(60, 64, 67, 0.15);\n",
              "      fill: #174EA6;\n",
              "    }\n",
              "\n",
              "    [theme=dark] .colab-df-convert {\n",
              "      background-color: #3B4455;\n",
              "      fill: #D2E3FC;\n",
              "    }\n",
              "\n",
              "    [theme=dark] .colab-df-convert:hover {\n",
              "      background-color: #434B5C;\n",
              "      box-shadow: 0px 1px 3px 1px rgba(0, 0, 0, 0.15);\n",
              "      filter: drop-shadow(0px 1px 2px rgba(0, 0, 0, 0.3));\n",
              "      fill: #FFFFFF;\n",
              "    }\n",
              "  </style>\n",
              "\n",
              "      <script>\n",
              "        const buttonEl =\n",
              "          document.querySelector('#df-7652128c-f8ca-48d8-ad5e-cfbe0cc62bf9 button.colab-df-convert');\n",
              "        buttonEl.style.display =\n",
              "          google.colab.kernel.accessAllowed ? 'block' : 'none';\n",
              "\n",
              "        async function convertToInteractive(key) {\n",
              "          const element = document.querySelector('#df-7652128c-f8ca-48d8-ad5e-cfbe0cc62bf9');\n",
              "          const dataTable =\n",
              "            await google.colab.kernel.invokeFunction('convertToInteractive',\n",
              "                                                     [key], {});\n",
              "          if (!dataTable) return;\n",
              "\n",
              "          const docLinkHtml = 'Like what you see? Visit the ' +\n",
              "            '<a target=\"_blank\" href=https://colab.research.google.com/notebooks/data_table.ipynb>data table notebook</a>'\n",
              "            + ' to learn more about interactive tables.';\n",
              "          element.innerHTML = '';\n",
              "          dataTable['output_type'] = 'display_data';\n",
              "          await google.colab.output.renderOutput(dataTable, element);\n",
              "          const docLink = document.createElement('div');\n",
              "          docLink.innerHTML = docLinkHtml;\n",
              "          element.appendChild(docLink);\n",
              "        }\n",
              "      </script>\n",
              "    </div>\n",
              "  </div>\n",
              "  "
            ]
          },
          "metadata": {},
          "execution_count": 6
        }
      ]
    },
    {
      "cell_type": "code",
      "source": [
        "test_df = pd.read_csv('/content/drive/MyDrive/Colab Notebooks/NLP/bootcamp/test_clean.csv')\n",
        "test_df.head()"
      ],
      "metadata": {
        "colab": {
          "base_uri": "https://localhost:8080/",
          "height": 206
        },
        "id": "jGkuveXO4qX1",
        "outputId": "7dd7c92d-df8b-4d1a-8ad8-09dac0b47a0b"
      },
      "execution_count": null,
      "outputs": [
        {
          "output_type": "execute_result",
          "data": {
            "text/plain": [
              "         bank                                              feeds  \\\n",
              "0    sberbank  История такова: 27.01.2015 мне на телефон приш...   \n",
              "1    alfabank  Нельзя решить ни один вопрос оперативно, автоо...   \n",
              "2         tcs  Быстро, удобно, чего ещё нужно то. На сайтике ...   \n",
              "3  pochtabank  Добрый день! Просто в шоке от  ПАО «Почта Банк...   \n",
              "4    sberbank  В течение выходных дней новогоднего периода 20...   \n",
              "\n",
              "               date                                             lemmas  \n",
              "0  05.02.2015 17:33  история таков телефон прийти подряд смс списан...  \n",
              "1   03.03.2021 9:27  решить вопрос оперативно автоответчик отказыва...  \n",
              "2   09.04.2018 7:40  быстро удобно нужно сайтик быстро оформить док...  \n",
              "3   09.04.2020 9:57  добрый день просто шок пао почта банк обратить...  \n",
              "4  12.01.2012 14:00  течение выходной день новогодний период банком...  "
            ],
            "text/html": [
              "\n",
              "  <div id=\"df-a3c64ba0-37ab-434f-9890-45e071de71c5\">\n",
              "    <div class=\"colab-df-container\">\n",
              "      <div>\n",
              "<style scoped>\n",
              "    .dataframe tbody tr th:only-of-type {\n",
              "        vertical-align: middle;\n",
              "    }\n",
              "\n",
              "    .dataframe tbody tr th {\n",
              "        vertical-align: top;\n",
              "    }\n",
              "\n",
              "    .dataframe thead th {\n",
              "        text-align: right;\n",
              "    }\n",
              "</style>\n",
              "<table border=\"1\" class=\"dataframe\">\n",
              "  <thead>\n",
              "    <tr style=\"text-align: right;\">\n",
              "      <th></th>\n",
              "      <th>bank</th>\n",
              "      <th>feeds</th>\n",
              "      <th>date</th>\n",
              "      <th>lemmas</th>\n",
              "    </tr>\n",
              "  </thead>\n",
              "  <tbody>\n",
              "    <tr>\n",
              "      <th>0</th>\n",
              "      <td>sberbank</td>\n",
              "      <td>История такова: 27.01.2015 мне на телефон приш...</td>\n",
              "      <td>05.02.2015 17:33</td>\n",
              "      <td>история таков телефон прийти подряд смс списан...</td>\n",
              "    </tr>\n",
              "    <tr>\n",
              "      <th>1</th>\n",
              "      <td>alfabank</td>\n",
              "      <td>Нельзя решить ни один вопрос оперативно, автоо...</td>\n",
              "      <td>03.03.2021 9:27</td>\n",
              "      <td>решить вопрос оперативно автоответчик отказыва...</td>\n",
              "    </tr>\n",
              "    <tr>\n",
              "      <th>2</th>\n",
              "      <td>tcs</td>\n",
              "      <td>Быстро, удобно, чего ещё нужно то. На сайтике ...</td>\n",
              "      <td>09.04.2018 7:40</td>\n",
              "      <td>быстро удобно нужно сайтик быстро оформить док...</td>\n",
              "    </tr>\n",
              "    <tr>\n",
              "      <th>3</th>\n",
              "      <td>pochtabank</td>\n",
              "      <td>Добрый день! Просто в шоке от  ПАО «Почта Банк...</td>\n",
              "      <td>09.04.2020 9:57</td>\n",
              "      <td>добрый день просто шок пао почта банк обратить...</td>\n",
              "    </tr>\n",
              "    <tr>\n",
              "      <th>4</th>\n",
              "      <td>sberbank</td>\n",
              "      <td>В течение выходных дней новогоднего периода 20...</td>\n",
              "      <td>12.01.2012 14:00</td>\n",
              "      <td>течение выходной день новогодний период банком...</td>\n",
              "    </tr>\n",
              "  </tbody>\n",
              "</table>\n",
              "</div>\n",
              "      <button class=\"colab-df-convert\" onclick=\"convertToInteractive('df-a3c64ba0-37ab-434f-9890-45e071de71c5')\"\n",
              "              title=\"Convert this dataframe to an interactive table.\"\n",
              "              style=\"display:none;\">\n",
              "        \n",
              "  <svg xmlns=\"http://www.w3.org/2000/svg\" height=\"24px\"viewBox=\"0 0 24 24\"\n",
              "       width=\"24px\">\n",
              "    <path d=\"M0 0h24v24H0V0z\" fill=\"none\"/>\n",
              "    <path d=\"M18.56 5.44l.94 2.06.94-2.06 2.06-.94-2.06-.94-.94-2.06-.94 2.06-2.06.94zm-11 1L8.5 8.5l.94-2.06 2.06-.94-2.06-.94L8.5 2.5l-.94 2.06-2.06.94zm10 10l.94 2.06.94-2.06 2.06-.94-2.06-.94-.94-2.06-.94 2.06-2.06.94z\"/><path d=\"M17.41 7.96l-1.37-1.37c-.4-.4-.92-.59-1.43-.59-.52 0-1.04.2-1.43.59L10.3 9.45l-7.72 7.72c-.78.78-.78 2.05 0 2.83L4 21.41c.39.39.9.59 1.41.59.51 0 1.02-.2 1.41-.59l7.78-7.78 2.81-2.81c.8-.78.8-2.07 0-2.86zM5.41 20L4 18.59l7.72-7.72 1.47 1.35L5.41 20z\"/>\n",
              "  </svg>\n",
              "      </button>\n",
              "      \n",
              "  <style>\n",
              "    .colab-df-container {\n",
              "      display:flex;\n",
              "      flex-wrap:wrap;\n",
              "      gap: 12px;\n",
              "    }\n",
              "\n",
              "    .colab-df-convert {\n",
              "      background-color: #E8F0FE;\n",
              "      border: none;\n",
              "      border-radius: 50%;\n",
              "      cursor: pointer;\n",
              "      display: none;\n",
              "      fill: #1967D2;\n",
              "      height: 32px;\n",
              "      padding: 0 0 0 0;\n",
              "      width: 32px;\n",
              "    }\n",
              "\n",
              "    .colab-df-convert:hover {\n",
              "      background-color: #E2EBFA;\n",
              "      box-shadow: 0px 1px 2px rgba(60, 64, 67, 0.3), 0px 1px 3px 1px rgba(60, 64, 67, 0.15);\n",
              "      fill: #174EA6;\n",
              "    }\n",
              "\n",
              "    [theme=dark] .colab-df-convert {\n",
              "      background-color: #3B4455;\n",
              "      fill: #D2E3FC;\n",
              "    }\n",
              "\n",
              "    [theme=dark] .colab-df-convert:hover {\n",
              "      background-color: #434B5C;\n",
              "      box-shadow: 0px 1px 3px 1px rgba(0, 0, 0, 0.15);\n",
              "      filter: drop-shadow(0px 1px 2px rgba(0, 0, 0, 0.3));\n",
              "      fill: #FFFFFF;\n",
              "    }\n",
              "  </style>\n",
              "\n",
              "      <script>\n",
              "        const buttonEl =\n",
              "          document.querySelector('#df-a3c64ba0-37ab-434f-9890-45e071de71c5 button.colab-df-convert');\n",
              "        buttonEl.style.display =\n",
              "          google.colab.kernel.accessAllowed ? 'block' : 'none';\n",
              "\n",
              "        async function convertToInteractive(key) {\n",
              "          const element = document.querySelector('#df-a3c64ba0-37ab-434f-9890-45e071de71c5');\n",
              "          const dataTable =\n",
              "            await google.colab.kernel.invokeFunction('convertToInteractive',\n",
              "                                                     [key], {});\n",
              "          if (!dataTable) return;\n",
              "\n",
              "          const docLinkHtml = 'Like what you see? Visit the ' +\n",
              "            '<a target=\"_blank\" href=https://colab.research.google.com/notebooks/data_table.ipynb>data table notebook</a>'\n",
              "            + ' to learn more about interactive tables.';\n",
              "          element.innerHTML = '';\n",
              "          dataTable['output_type'] = 'display_data';\n",
              "          await google.colab.output.renderOutput(dataTable, element);\n",
              "          const docLink = document.createElement('div');\n",
              "          docLink.innerHTML = docLinkHtml;\n",
              "          element.appendChild(docLink);\n",
              "        }\n",
              "      </script>\n",
              "    </div>\n",
              "  </div>\n",
              "  "
            ]
          },
          "metadata": {},
          "execution_count": 7
        }
      ]
    },
    {
      "cell_type": "code",
      "source": [
        "train_df.head(10)"
      ],
      "metadata": {
        "colab": {
          "base_uri": "https://localhost:8080/",
          "height": 363
        },
        "id": "xnCyG2KaXbEv",
        "outputId": "38ab2425-e9b3-4423-f9e0-9bb7ed928a32"
      },
      "execution_count": null,
      "outputs": [
        {
          "output_type": "execute_result",
          "data": {
            "text/plain": [
              "             bank                                              feeds  grades  \\\n",
              "0   unicreditbank  Я очень редко пользуюсь банковскими продуктами...     5.0   \n",
              "1     fk_otkritie  Я вместе с женой 15.11.2019 обратился в отделе...     1.0   \n",
              "2        alfabank  Добрый день.Сегодня 27.12.2018 г около 15.40-1...     1.0   \n",
              "3             vtb  \"Где карточку открывали, туда и идите...\" - эт...     2.0   \n",
              "4   promsvyazbank  При покупках в iTunes списываются завышенные с...     NaN   \n",
              "5      pochtabank  08.02.2018 я оформил кредит наличными в отделе...     1.0   \n",
              "6         otpbank  06.06.2016 по платежному поручению №916 через ...     NaN   \n",
              "7  homecreditbank  Всем доброго времени суток! С банком в принцип...     NaN   \n",
              "8             vtb  Обслуживался как физ лицо. Была дебетовая карт...     1.0   \n",
              "9     fk_otkritie  У меня зарплатная карта, обратилась в филиал б...     1.0   \n",
              "\n",
              "               date  \n",
              "0  31.12.2017 18:20  \n",
              "1  22.11.2019 22:42  \n",
              "2  27.12.2018 23:20  \n",
              "3  05.02.2020 16:40  \n",
              "4  26.02.2016 15:48  \n",
              "5  21.03.2018 18:03  \n",
              "6  16.09.2016 10:55  \n",
              "7  15.03.2017 22:12  \n",
              "8  11.07.2019 22:02  \n",
              "9  22.09.2017 21:54  "
            ],
            "text/html": [
              "\n",
              "  <div id=\"df-2ea4029f-5aaf-412b-9f0d-b26ea7facfeb\">\n",
              "    <div class=\"colab-df-container\">\n",
              "      <div>\n",
              "<style scoped>\n",
              "    .dataframe tbody tr th:only-of-type {\n",
              "        vertical-align: middle;\n",
              "    }\n",
              "\n",
              "    .dataframe tbody tr th {\n",
              "        vertical-align: top;\n",
              "    }\n",
              "\n",
              "    .dataframe thead th {\n",
              "        text-align: right;\n",
              "    }\n",
              "</style>\n",
              "<table border=\"1\" class=\"dataframe\">\n",
              "  <thead>\n",
              "    <tr style=\"text-align: right;\">\n",
              "      <th></th>\n",
              "      <th>bank</th>\n",
              "      <th>feeds</th>\n",
              "      <th>grades</th>\n",
              "      <th>date</th>\n",
              "    </tr>\n",
              "  </thead>\n",
              "  <tbody>\n",
              "    <tr>\n",
              "      <th>0</th>\n",
              "      <td>unicreditbank</td>\n",
              "      <td>Я очень редко пользуюсь банковскими продуктами...</td>\n",
              "      <td>5.0</td>\n",
              "      <td>31.12.2017 18:20</td>\n",
              "    </tr>\n",
              "    <tr>\n",
              "      <th>1</th>\n",
              "      <td>fk_otkritie</td>\n",
              "      <td>Я вместе с женой 15.11.2019 обратился в отделе...</td>\n",
              "      <td>1.0</td>\n",
              "      <td>22.11.2019 22:42</td>\n",
              "    </tr>\n",
              "    <tr>\n",
              "      <th>2</th>\n",
              "      <td>alfabank</td>\n",
              "      <td>Добрый день.Сегодня 27.12.2018 г около 15.40-1...</td>\n",
              "      <td>1.0</td>\n",
              "      <td>27.12.2018 23:20</td>\n",
              "    </tr>\n",
              "    <tr>\n",
              "      <th>3</th>\n",
              "      <td>vtb</td>\n",
              "      <td>\"Где карточку открывали, туда и идите...\" - эт...</td>\n",
              "      <td>2.0</td>\n",
              "      <td>05.02.2020 16:40</td>\n",
              "    </tr>\n",
              "    <tr>\n",
              "      <th>4</th>\n",
              "      <td>promsvyazbank</td>\n",
              "      <td>При покупках в iTunes списываются завышенные с...</td>\n",
              "      <td>NaN</td>\n",
              "      <td>26.02.2016 15:48</td>\n",
              "    </tr>\n",
              "    <tr>\n",
              "      <th>5</th>\n",
              "      <td>pochtabank</td>\n",
              "      <td>08.02.2018 я оформил кредит наличными в отделе...</td>\n",
              "      <td>1.0</td>\n",
              "      <td>21.03.2018 18:03</td>\n",
              "    </tr>\n",
              "    <tr>\n",
              "      <th>6</th>\n",
              "      <td>otpbank</td>\n",
              "      <td>06.06.2016 по платежному поручению №916 через ...</td>\n",
              "      <td>NaN</td>\n",
              "      <td>16.09.2016 10:55</td>\n",
              "    </tr>\n",
              "    <tr>\n",
              "      <th>7</th>\n",
              "      <td>homecreditbank</td>\n",
              "      <td>Всем доброго времени суток! С банком в принцип...</td>\n",
              "      <td>NaN</td>\n",
              "      <td>15.03.2017 22:12</td>\n",
              "    </tr>\n",
              "    <tr>\n",
              "      <th>8</th>\n",
              "      <td>vtb</td>\n",
              "      <td>Обслуживался как физ лицо. Была дебетовая карт...</td>\n",
              "      <td>1.0</td>\n",
              "      <td>11.07.2019 22:02</td>\n",
              "    </tr>\n",
              "    <tr>\n",
              "      <th>9</th>\n",
              "      <td>fk_otkritie</td>\n",
              "      <td>У меня зарплатная карта, обратилась в филиал б...</td>\n",
              "      <td>1.0</td>\n",
              "      <td>22.09.2017 21:54</td>\n",
              "    </tr>\n",
              "  </tbody>\n",
              "</table>\n",
              "</div>\n",
              "      <button class=\"colab-df-convert\" onclick=\"convertToInteractive('df-2ea4029f-5aaf-412b-9f0d-b26ea7facfeb')\"\n",
              "              title=\"Convert this dataframe to an interactive table.\"\n",
              "              style=\"display:none;\">\n",
              "        \n",
              "  <svg xmlns=\"http://www.w3.org/2000/svg\" height=\"24px\"viewBox=\"0 0 24 24\"\n",
              "       width=\"24px\">\n",
              "    <path d=\"M0 0h24v24H0V0z\" fill=\"none\"/>\n",
              "    <path d=\"M18.56 5.44l.94 2.06.94-2.06 2.06-.94-2.06-.94-.94-2.06-.94 2.06-2.06.94zm-11 1L8.5 8.5l.94-2.06 2.06-.94-2.06-.94L8.5 2.5l-.94 2.06-2.06.94zm10 10l.94 2.06.94-2.06 2.06-.94-2.06-.94-.94-2.06-.94 2.06-2.06.94z\"/><path d=\"M17.41 7.96l-1.37-1.37c-.4-.4-.92-.59-1.43-.59-.52 0-1.04.2-1.43.59L10.3 9.45l-7.72 7.72c-.78.78-.78 2.05 0 2.83L4 21.41c.39.39.9.59 1.41.59.51 0 1.02-.2 1.41-.59l7.78-7.78 2.81-2.81c.8-.78.8-2.07 0-2.86zM5.41 20L4 18.59l7.72-7.72 1.47 1.35L5.41 20z\"/>\n",
              "  </svg>\n",
              "      </button>\n",
              "      \n",
              "  <style>\n",
              "    .colab-df-container {\n",
              "      display:flex;\n",
              "      flex-wrap:wrap;\n",
              "      gap: 12px;\n",
              "    }\n",
              "\n",
              "    .colab-df-convert {\n",
              "      background-color: #E8F0FE;\n",
              "      border: none;\n",
              "      border-radius: 50%;\n",
              "      cursor: pointer;\n",
              "      display: none;\n",
              "      fill: #1967D2;\n",
              "      height: 32px;\n",
              "      padding: 0 0 0 0;\n",
              "      width: 32px;\n",
              "    }\n",
              "\n",
              "    .colab-df-convert:hover {\n",
              "      background-color: #E2EBFA;\n",
              "      box-shadow: 0px 1px 2px rgba(60, 64, 67, 0.3), 0px 1px 3px 1px rgba(60, 64, 67, 0.15);\n",
              "      fill: #174EA6;\n",
              "    }\n",
              "\n",
              "    [theme=dark] .colab-df-convert {\n",
              "      background-color: #3B4455;\n",
              "      fill: #D2E3FC;\n",
              "    }\n",
              "\n",
              "    [theme=dark] .colab-df-convert:hover {\n",
              "      background-color: #434B5C;\n",
              "      box-shadow: 0px 1px 3px 1px rgba(0, 0, 0, 0.15);\n",
              "      filter: drop-shadow(0px 1px 2px rgba(0, 0, 0, 0.3));\n",
              "      fill: #FFFFFF;\n",
              "    }\n",
              "  </style>\n",
              "\n",
              "      <script>\n",
              "        const buttonEl =\n",
              "          document.querySelector('#df-2ea4029f-5aaf-412b-9f0d-b26ea7facfeb button.colab-df-convert');\n",
              "        buttonEl.style.display =\n",
              "          google.colab.kernel.accessAllowed ? 'block' : 'none';\n",
              "\n",
              "        async function convertToInteractive(key) {\n",
              "          const element = document.querySelector('#df-2ea4029f-5aaf-412b-9f0d-b26ea7facfeb');\n",
              "          const dataTable =\n",
              "            await google.colab.kernel.invokeFunction('convertToInteractive',\n",
              "                                                     [key], {});\n",
              "          if (!dataTable) return;\n",
              "\n",
              "          const docLinkHtml = 'Like what you see? Visit the ' +\n",
              "            '<a target=\"_blank\" href=https://colab.research.google.com/notebooks/data_table.ipynb>data table notebook</a>'\n",
              "            + ' to learn more about interactive tables.';\n",
              "          element.innerHTML = '';\n",
              "          dataTable['output_type'] = 'display_data';\n",
              "          await google.colab.output.renderOutput(dataTable, element);\n",
              "          const docLink = document.createElement('div');\n",
              "          docLink.innerHTML = docLinkHtml;\n",
              "          element.appendChild(docLink);\n",
              "        }\n",
              "      </script>\n",
              "    </div>\n",
              "  </div>\n",
              "  "
            ]
          },
          "metadata": {},
          "execution_count": 5
        }
      ]
    },
    {
      "cell_type": "code",
      "source": [
        "train_df.shape"
      ],
      "metadata": {
        "colab": {
          "base_uri": "https://localhost:8080/"
        },
        "id": "KKNVQRs4ZIRu",
        "outputId": "28c511af-3778-443c-c21e-392b013c74a8"
      },
      "execution_count": null,
      "outputs": [
        {
          "output_type": "execute_result",
          "data": {
            "text/plain": [
              "(350000, 4)"
            ]
          },
          "metadata": {},
          "execution_count": 8
        }
      ]
    },
    {
      "cell_type": "code",
      "source": [
        "train_df.isna().sum()"
      ],
      "metadata": {
        "colab": {
          "base_uri": "https://localhost:8080/"
        },
        "id": "IP_R4UMxY2Nf",
        "outputId": "69248981-6a3b-4a0b-e63a-fd58711489bc"
      },
      "execution_count": null,
      "outputs": [
        {
          "output_type": "execute_result",
          "data": {
            "text/plain": [
              "bank           0\n",
              "feeds          0\n",
              "grades    109750\n",
              "date           0\n",
              "dtype: int64"
            ]
          },
          "metadata": {},
          "execution_count": 9
        }
      ]
    },
    {
      "cell_type": "code",
      "source": [
        "train_df.grades.unique()"
      ],
      "metadata": {
        "colab": {
          "base_uri": "https://localhost:8080/"
        },
        "id": "7dNum_0JhsSI",
        "outputId": "d2b52e3b-7fc2-4286-d66c-2e1c5d2d46eb"
      },
      "execution_count": null,
      "outputs": [
        {
          "output_type": "execute_result",
          "data": {
            "text/plain": [
              "array([ 5.,  1.,  2., nan,  3.,  4.])"
            ]
          },
          "metadata": {},
          "execution_count": 10
        }
      ]
    },
    {
      "cell_type": "code",
      "source": [
        "print('Доля пропусков в столбце с лейблами:', round(train_df.grades.isna().sum() / train_df.shape[0] * 100, 2))"
      ],
      "metadata": {
        "colab": {
          "base_uri": "https://localhost:8080/"
        },
        "id": "6IX3IUWDY2KE",
        "outputId": "256502b9-bdd3-4bb5-b7ba-61cbdcb463f6"
      },
      "execution_count": null,
      "outputs": [
        {
          "output_type": "stream",
          "name": "stdout",
          "text": [
            "Доля пропусков в столбце с лейблами: 31.36\n"
          ]
        }
      ]
    },
    {
      "cell_type": "code",
      "source": [
        "train_df.dtypes"
      ],
      "metadata": {
        "colab": {
          "base_uri": "https://localhost:8080/"
        },
        "id": "fKX9gc-aY2G6",
        "outputId": "c012b581-3676-4f7f-e335-b0b3c39b2544"
      },
      "execution_count": null,
      "outputs": [
        {
          "output_type": "execute_result",
          "data": {
            "text/plain": [
              "bank       object\n",
              "feeds      object\n",
              "grades    float64\n",
              "date       object\n",
              "dtype: object"
            ]
          },
          "metadata": {},
          "execution_count": 13
        }
      ]
    },
    {
      "cell_type": "code",
      "source": [
        "train_df.bank.nunique()"
      ],
      "metadata": {
        "colab": {
          "base_uri": "https://localhost:8080/"
        },
        "id": "Ms4qPvHSbRio",
        "outputId": "5783362b-2a51-4940-96b9-996617c85961"
      },
      "execution_count": null,
      "outputs": [
        {
          "output_type": "execute_result",
          "data": {
            "text/plain": [
              "69"
            ]
          },
          "metadata": {},
          "execution_count": 14
        }
      ]
    },
    {
      "cell_type": "code",
      "source": [
        "banks_freq = train_df.bank.value_counts(ascending=True)\n",
        "fig = plt.figure(figsize=(7, 15))\n",
        "banks_freq.plot(kind='barh')\n",
        "plt.title('Частота появления каждого из банков в выборке', fontsize=15, weight='bold')\n",
        "plt.ylabel('Название банка')\n",
        "plt.show()"
      ],
      "metadata": {
        "colab": {
          "base_uri": "https://localhost:8080/",
          "height": 882
        },
        "id": "z8sZzgSmbV8S",
        "outputId": "3a743434-c517-4519-c99c-a36a0aaaf794"
      },
      "execution_count": null,
      "outputs": [
        {
          "output_type": "display_data",
          "data": {
            "text/plain": [
              "<Figure size 504x1080 with 1 Axes>"
            ],
            "image/png": "[encoded data removed]"
          },
          "metadata": {
            "needs_background": "light"
          }
        }
      ]
    },
    {
      "cell_type": "code",
      "source": [
        "train_df.grades.value_counts().sort_index().plot(kind='bar')\n",
        "plt.title('Баланс классов по всей выборке', fontsize=14, weight='bold')\n",
        "plt.show()"
      ],
      "metadata": {
        "colab": {
          "base_uri": "https://localhost:8080/",
          "height": 289
        },
        "id": "XMwQ9pzxbLFd",
        "outputId": "6b731a2f-8263-46c1-e38c-3f2c261bde90"
      },
      "execution_count": null,
      "outputs": [
        {
          "output_type": "display_data",
          "data": {
            "text/plain": [
              "<Figure size 432x288 with 1 Axes>"
            ],
            "image/png": "[encoded data removed]"
          },
          "metadata": {
            "needs_background": "light"
          }
        }
      ]
    },
    {
      "cell_type": "markdown",
      "source": [
        "Явный дисбаланс (очень сильное доминирование оценок 1)"
      ],
      "metadata": {
        "id": "4NUWry57dmX_"
      }
    },
    {
      "cell_type": "code",
      "source": [
        "# # train_df.groupby(['bank', 'grades']).count()\n",
        "# bank_wise_dist = train_df.value_counts(subset=['bank', 'grades'], \n",
        "#                                        sort=False).reset_index()\n",
        "# bank_wise_dist.rename(columns={0: 'count'}, inplace=True)\n",
        "# # sns.barplot(data=bank_wise_dist, x='grades', hue='bank', estimator='count')\n",
        "# fig = plt.figure(figsize=(19, 16))\n",
        "# sns.countplot(data=train_df, x='grades', hue='bank', orient='v')\n",
        "# plt.show()"
      ],
      "metadata": {
        "id": "si7ZrwAzY1-L"
      },
      "execution_count": null,
      "outputs": []
    },
    {
      "cell_type": "code",
      "source": [
        "train_df['date'] = pd.to_datetime(train_df['date'], format='%d.%m.%Y %H:%M')"
      ],
      "metadata": {
        "id": "_jMakBr5Y14-"
      },
      "execution_count": null,
      "outputs": []
    },
    {
      "cell_type": "code",
      "source": [
        "train_df['sym_len'] = train_df.feeds.apply(len)\n",
        "train_df['word_len'] = train_df.feeds.apply(lambda x: len(x.split()))\n",
        "fig, ax = plt.subplots(1, 2, figsize=(18, 5))\n",
        "sns.histplot(data=train_df.sym_len, ax=ax[0])\n",
        "sns.histplot(data=train_df.word_len, ax=ax[1])\n",
        "ax[0].set_title('Распределение символьной длины отзывов')\n",
        "ax[1].set_title('Распределение числа слов в отзывах')\n",
        "plt.show()"
      ],
      "metadata": {
        "colab": {
          "base_uri": "https://localhost:8080/",
          "height": 351
        },
        "id": "aPpFdEW47PNR",
        "outputId": "925acf82-abdf-4602-c138-a2e1c9a68cf5"
      },
      "execution_count": null,
      "outputs": [
        {
          "output_type": "display_data",
          "data": {
            "text/plain": [
              "<Figure size 1296x360 with 2 Axes>"
            ],
            "image/png": "[encoded data removed]"
          },
          "metadata": {
            "needs_background": "light"
          }
        }
      ]
    },
    {
      "cell_type": "code",
      "source": [
        "len(train_df[train_df['word_len'] > 512])"
      ],
      "metadata": {
        "colab": {
          "base_uri": "https://localhost:8080/"
        },
        "id": "VOm-2agSTYbb",
        "outputId": "7c00b563-b7fc-404f-9538-0ddb1a3d1682"
      },
      "execution_count": null,
      "outputs": [
        {
          "output_type": "execute_result",
          "data": {
            "text/plain": [
              "13023"
            ]
          },
          "metadata": {},
          "execution_count": 21
        }
      ]
    },
    {
      "cell_type": "code",
      "source": [
        "test_df.head(10)"
      ],
      "metadata": {
        "colab": {
          "base_uri": "https://localhost:8080/",
          "height": 363
        },
        "id": "z6J83of9Y2A-",
        "outputId": "09434a17-e487-48b4-af84-4c07a361dd71"
      },
      "execution_count": null,
      "outputs": [
        {
          "output_type": "execute_result",
          "data": {
            "text/plain": [
              "            bank                                              feeds  \\\n",
              "0       sberbank  История такова: 27.01.2015 мне на телефон приш...   \n",
              "1       alfabank  Нельзя решить ни один вопрос оперативно, автоо...   \n",
              "2            tcs  Быстро, удобно, чего ещё нужно то. На сайтике ...   \n",
              "3     pochtabank  Добрый день! Просто в шоке от  ПАО «Почта Банк...   \n",
              "4       sberbank  В течение выходных дней новогоднего периода 20...   \n",
              "5       sberbank  В дополнительном офисе Архангельского ОСБ 8637...   \n",
              "6  promsvyazbank  Открыл счёт в данном банке, о чем очень жалею!...   \n",
              "7    gazprombank  Пишу о неприятной ситуации! Снимал с карты 11 ...   \n",
              "8            tcs  Судя по сообщениям клиентов в форуме, в ТБ бол...   \n",
              "9     sovcombank  Как-то с мужем мы обратились в офис на Семенов...   \n",
              "\n",
              "               date  \n",
              "0  05.02.2015 17:33  \n",
              "1   03.03.2021 9:27  \n",
              "2   09.04.2018 7:40  \n",
              "3   09.04.2020 9:57  \n",
              "4  12.01.2012 14:00  \n",
              "5  10.07.2014 13:46  \n",
              "6   06.05.2017 9:11  \n",
              "7  05.12.2018 16:37  \n",
              "8  27.10.2017 10:40  \n",
              "9   07.11.2017 9:55  "
            ],
            "text/html": [
              "\n",
              "  <div id=\"df-504c136c-1a52-4d74-a42e-9be501093d56\">\n",
              "    <div class=\"colab-df-container\">\n",
              "      <div>\n",
              "<style scoped>\n",
              "    .dataframe tbody tr th:only-of-type {\n",
              "        vertical-align: middle;\n",
              "    }\n",
              "\n",
              "    .dataframe tbody tr th {\n",
              "        vertical-align: top;\n",
              "    }\n",
              "\n",
              "    .dataframe thead th {\n",
              "        text-align: right;\n",
              "    }\n",
              "</style>\n",
              "<table border=\"1\" class=\"dataframe\">\n",
              "  <thead>\n",
              "    <tr style=\"text-align: right;\">\n",
              "      <th></th>\n",
              "      <th>bank</th>\n",
              "      <th>feeds</th>\n",
              "      <th>date</th>\n",
              "    </tr>\n",
              "  </thead>\n",
              "  <tbody>\n",
              "    <tr>\n",
              "      <th>0</th>\n",
              "      <td>sberbank</td>\n",
              "      <td>История такова: 27.01.2015 мне на телефон приш...</td>\n",
              "      <td>05.02.2015 17:33</td>\n",
              "    </tr>\n",
              "    <tr>\n",
              "      <th>1</th>\n",
              "      <td>alfabank</td>\n",
              "      <td>Нельзя решить ни один вопрос оперативно, автоо...</td>\n",
              "      <td>03.03.2021 9:27</td>\n",
              "    </tr>\n",
              "    <tr>\n",
              "      <th>2</th>\n",
              "      <td>tcs</td>\n",
              "      <td>Быстро, удобно, чего ещё нужно то. На сайтике ...</td>\n",
              "      <td>09.04.2018 7:40</td>\n",
              "    </tr>\n",
              "    <tr>\n",
              "      <th>3</th>\n",
              "      <td>pochtabank</td>\n",
              "      <td>Добрый день! Просто в шоке от  ПАО «Почта Банк...</td>\n",
              "      <td>09.04.2020 9:57</td>\n",
              "    </tr>\n",
              "    <tr>\n",
              "      <th>4</th>\n",
              "      <td>sberbank</td>\n",
              "      <td>В течение выходных дней новогоднего периода 20...</td>\n",
              "      <td>12.01.2012 14:00</td>\n",
              "    </tr>\n",
              "    <tr>\n",
              "      <th>5</th>\n",
              "      <td>sberbank</td>\n",
              "      <td>В дополнительном офисе Архангельского ОСБ 8637...</td>\n",
              "      <td>10.07.2014 13:46</td>\n",
              "    </tr>\n",
              "    <tr>\n",
              "      <th>6</th>\n",
              "      <td>promsvyazbank</td>\n",
              "      <td>Открыл счёт в данном банке, о чем очень жалею!...</td>\n",
              "      <td>06.05.2017 9:11</td>\n",
              "    </tr>\n",
              "    <tr>\n",
              "      <th>7</th>\n",
              "      <td>gazprombank</td>\n",
              "      <td>Пишу о неприятной ситуации! Снимал с карты 11 ...</td>\n",
              "      <td>05.12.2018 16:37</td>\n",
              "    </tr>\n",
              "    <tr>\n",
              "      <th>8</th>\n",
              "      <td>tcs</td>\n",
              "      <td>Судя по сообщениям клиентов в форуме, в ТБ бол...</td>\n",
              "      <td>27.10.2017 10:40</td>\n",
              "    </tr>\n",
              "    <tr>\n",
              "      <th>9</th>\n",
              "      <td>sovcombank</td>\n",
              "      <td>Как-то с мужем мы обратились в офис на Семенов...</td>\n",
              "      <td>07.11.2017 9:55</td>\n",
              "    </tr>\n",
              "  </tbody>\n",
              "</table>\n",
              "</div>\n",
              "      <button class=\"colab-df-convert\" onclick=\"convertToInteractive('df-504c136c-1a52-4d74-a42e-9be501093d56')\"\n",
              "              title=\"Convert this dataframe to an interactive table.\"\n",
              "              style=\"display:none;\">\n",
              "        \n",
              "  <svg xmlns=\"http://www.w3.org/2000/svg\" height=\"24px\"viewBox=\"0 0 24 24\"\n",
              "       width=\"24px\">\n",
              "    <path d=\"M0 0h24v24H0V0z\" fill=\"none\"/>\n",
              "    <path d=\"M18.56 5.44l.94 2.06.94-2.06 2.06-.94-2.06-.94-.94-2.06-.94 2.06-2.06.94zm-11 1L8.5 8.5l.94-2.06 2.06-.94-2.06-.94L8.5 2.5l-.94 2.06-2.06.94zm10 10l.94 2.06.94-2.06 2.06-.94-2.06-.94-.94-2.06-.94 2.06-2.06.94z\"/><path d=\"M17.41 7.96l-1.37-1.37c-.4-.4-.92-.59-1.43-.59-.52 0-1.04.2-1.43.59L10.3 9.45l-7.72 7.72c-.78.78-.78 2.05 0 2.83L4 21.41c.39.39.9.59 1.41.59.51 0 1.02-.2 1.41-.59l7.78-7.78 2.81-2.81c.8-.78.8-2.07 0-2.86zM5.41 20L4 18.59l7.72-7.72 1.47 1.35L5.41 20z\"/>\n",
              "  </svg>\n",
              "      </button>\n",
              "      \n",
              "  <style>\n",
              "    .colab-df-container {\n",
              "      display:flex;\n",
              "      flex-wrap:wrap;\n",
              "      gap: 12px;\n",
              "    }\n",
              "\n",
              "    .colab-df-convert {\n",
              "      background-color: #E8F0FE;\n",
              "      border: none;\n",
              "      border-radius: 50%;\n",
              "      cursor: pointer;\n",
              "      display: none;\n",
              "      fill: #1967D2;\n",
              "      height: 32px;\n",
              "      padding: 0 0 0 0;\n",
              "      width: 32px;\n",
              "    }\n",
              "\n",
              "    .colab-df-convert:hover {\n",
              "      background-color: #E2EBFA;\n",
              "      box-shadow: 0px 1px 2px rgba(60, 64, 67, 0.3), 0px 1px 3px 1px rgba(60, 64, 67, 0.15);\n",
              "      fill: #174EA6;\n",
              "    }\n",
              "\n",
              "    [theme=dark] .colab-df-convert {\n",
              "      background-color: #3B4455;\n",
              "      fill: #D2E3FC;\n",
              "    }\n",
              "\n",
              "    [theme=dark] .colab-df-convert:hover {\n",
              "      background-color: #434B5C;\n",
              "      box-shadow: 0px 1px 3px 1px rgba(0, 0, 0, 0.15);\n",
              "      filter: drop-shadow(0px 1px 2px rgba(0, 0, 0, 0.3));\n",
              "      fill: #FFFFFF;\n",
              "    }\n",
              "  </style>\n",
              "\n",
              "      <script>\n",
              "        const buttonEl =\n",
              "          document.querySelector('#df-504c136c-1a52-4d74-a42e-9be501093d56 button.colab-df-convert');\n",
              "        buttonEl.style.display =\n",
              "          google.colab.kernel.accessAllowed ? 'block' : 'none';\n",
              "\n",
              "        async function convertToInteractive(key) {\n",
              "          const element = document.querySelector('#df-504c136c-1a52-4d74-a42e-9be501093d56');\n",
              "          const dataTable =\n",
              "            await google.colab.kernel.invokeFunction('convertToInteractive',\n",
              "                                                     [key], {});\n",
              "          if (!dataTable) return;\n",
              "\n",
              "          const docLinkHtml = 'Like what you see? Visit the ' +\n",
              "            '<a target=\"_blank\" href=https://colab.research.google.com/notebooks/data_table.ipynb>data table notebook</a>'\n",
              "            + ' to learn more about interactive tables.';\n",
              "          element.innerHTML = '';\n",
              "          dataTable['output_type'] = 'display_data';\n",
              "          await google.colab.output.renderOutput(dataTable, element);\n",
              "          const docLink = document.createElement('div');\n",
              "          docLink.innerHTML = docLinkHtml;\n",
              "          element.appendChild(docLink);\n",
              "        }\n",
              "      </script>\n",
              "    </div>\n",
              "  </div>\n",
              "  "
            ]
          },
          "metadata": {},
          "execution_count": 22
        }
      ]
    },
    {
      "cell_type": "code",
      "source": [
        "test_df.shape"
      ],
      "metadata": {
        "colab": {
          "base_uri": "https://localhost:8080/"
        },
        "id": "xYYn-psFlg5b",
        "outputId": "1be974d2-3539-4bdc-a7a1-d2e977e7887a"
      },
      "execution_count": null,
      "outputs": [
        {
          "output_type": "execute_result",
          "data": {
            "text/plain": [
              "(34114, 3)"
            ]
          },
          "metadata": {},
          "execution_count": 23
        }
      ]
    },
    {
      "cell_type": "code",
      "source": [
        "test_df.isna().sum()"
      ],
      "metadata": {
        "colab": {
          "base_uri": "https://localhost:8080/"
        },
        "id": "1PTOJrWIkata",
        "outputId": "1731fa07-6da4-4084-d553-9b22b00d323d"
      },
      "execution_count": null,
      "outputs": [
        {
          "output_type": "execute_result",
          "data": {
            "text/plain": [
              "bank     0\n",
              "feeds    0\n",
              "date     0\n",
              "dtype: int64"
            ]
          },
          "metadata": {},
          "execution_count": 24
        }
      ]
    },
    {
      "cell_type": "markdown",
      "source": [
        "# 3.Предобработка текстовых данных"
      ],
      "metadata": {
        "id": "xb-RVRxAacsk"
      }
    },
    {
      "cell_type": "code",
      "source": [
        "nltk.download('stopwords')  # скачаем стоп-слова для русского языка\n",
        "print(stopwords.words('russian'))\n",
        "stop = stopwords.words('russian') + list(punctuation)"
      ],
      "metadata": {
        "colab": {
          "base_uri": "https://localhost:8080/"
        },
        "id": "BYIi-KUWAI90",
        "outputId": "e7b120d1-60f0-4de2-acad-3d6aaed87191"
      },
      "execution_count": null,
      "outputs": [
        {
          "output_type": "stream",
          "name": "stdout",
          "text": [
            "['и', 'в', 'во', 'не', 'что', 'он', 'на', 'я', 'с', 'со', 'как', 'а', 'то', 'все', 'она', 'так', 'его', 'но', 'да', 'ты', 'к', 'у', 'же', 'вы', 'за', 'бы', 'по', 'только', 'ее', 'мне', 'было', 'вот', 'от', 'меня', 'еще', 'нет', 'о', 'из', 'ему', 'теперь', 'когда', 'даже', 'ну', 'вдруг', 'ли', 'если', 'уже', 'или', 'ни', 'быть', 'был', 'него', 'до', 'вас', 'нибудь', 'опять', 'уж', 'вам', 'ведь', 'там', 'потом', 'себя', 'ничего', 'ей', 'может', 'они', 'тут', 'где', 'есть', 'надо', 'ней', 'для', 'мы', 'тебя', 'их', 'чем', 'была', 'сам', 'чтоб', 'без', 'будто', 'чего', 'раз', 'тоже', 'себе', 'под', 'будет', 'ж', 'тогда', 'кто', 'этот', 'того', 'потому', 'этого', 'какой', 'совсем', 'ним', 'здесь', 'этом', 'один', 'почти', 'мой', 'тем', 'чтобы', 'нее', 'сейчас', 'были', 'куда', 'зачем', 'всех', 'никогда', 'можно', 'при', 'наконец', 'два', 'об', 'другой', 'хоть', 'после', 'над', 'больше', 'тот', 'через', 'эти', 'нас', 'про', 'всего', 'них', 'какая', 'много', 'разве', 'три', 'эту', 'моя', 'впрочем', 'хорошо', 'свою', 'этой', 'перед', 'иногда', 'лучше', 'чуть', 'том', 'нельзя', 'такой', 'им', 'более', 'всегда', 'конечно', 'всю', 'между']\n"
          ]
        },
        {
          "output_type": "stream",
          "name": "stderr",
          "text": [
            "[nltk_data] Downloading package stopwords to /root/nltk_data...\n",
            "[nltk_data]   Unzipping corpora/stopwords.zip.\n"
          ]
        }
      ]
    },
    {
      "cell_type": "code",
      "source": [
        "m = MorphAnalyzer()"
      ],
      "metadata": {
        "id": "c1OJD4uYF3b4"
      },
      "execution_count": null,
      "outputs": []
    },
    {
      "cell_type": "code",
      "source": [
        "# for c in '!?()':\n",
        "#   stop.pop(stop.index(c))\n",
        "# print(stop)"
      ],
      "metadata": {
        "id": "8_tSd_IGc66H"
      },
      "execution_count": null,
      "outputs": []
    },
    {
      "cell_type": "code",
      "source": [
        "@lru_cache(maxsize=128)\n",
        "def lemmatize_word(token, pymorphy=m):\n",
        "    return pymorphy.parse(token)[0].normal_form\n",
        "\n",
        "def lemmatize_text(text):\n",
        "    return [lemmatize_word(w) for w in text]\n",
        "\n",
        "def preprocess_text(text, stop_w=stop, tokenizer=word_tokenize):  \n",
        "    \"\"\"функция предобработки текста\"\"\"\n",
        "    text = re.sub(r'\\n', ' ', text) \n",
        "    text = re.sub('[^А-Яа-яA-z\\s]', ' ', text)  # ^А-Яа-яA-z\\s!?()\n",
        "    # приводим к нижнему регистру и разбиваем на слова по символу пробела\n",
        "    text = tokenizer(text.lower())\n",
        "    text = [w for w in text if (w not in stop_w) and (len(w) > 2)]\n",
        "    text = lemmatize_text(text)\n",
        "    return ' '.join(text)"
      ],
      "metadata": {
        "id": "0uDAoueQEMW1"
      },
      "execution_count": null,
      "outputs": []
    },
    {
      "cell_type": "code",
      "source": [
        "with Pool(8) as p:  # используем мультипроцессинг\n",
        "    lemmas = list(tqdm(p.imap(preprocess_text, train_df['feeds']), total=len(train_df)))\n",
        "    \n",
        "train_df['lemmas'] = lemmas  # добавим в наш датафрейм колонку с очищенными текстами отзывов\n",
        "train_df.sample(5)"
      ],
      "metadata": {
        "id": "ErOF82Rzkak8",
        "colab": {
          "base_uri": "https://localhost:8080/",
          "height": 354
        },
        "outputId": "475167b2-c9e8-4348-a2d1-843a4f3b3e98"
      },
      "execution_count": null,
      "outputs": [
        {
          "output_type": "stream",
          "name": "stderr",
          "text": [
            "100%|██████████| 350000/350000 [2:05:45<00:00, 46.39it/s]\n"
          ]
        },
        {
          "output_type": "execute_result",
          "data": {
            "text/plain": [
              "                  bank                                              feeds  \\\n",
              "338756     gazprombank  Есть такая служба ФССП точка, заблокировал мне...   \n",
              "24569              tcs  14 апреля 2019 года на сайте Тинькофф страхова...   \n",
              "85575         sberbank  16.02.2013 г.  я вносила деньги на счет своей ...   \n",
              "16964         sberbank  Здравствуйте! Неоднократно было оставлено обра...   \n",
              "65794   homecreditbank  Добрый вечер! Являюсь клиентом банка, была про...   \n",
              "\n",
              "        grades                date  sym_len  word_len  \\\n",
              "338756     NaN 2019-02-25 19:16:00      320        49   \n",
              "24569      1.0 2019-06-11 11:44:00     1341       208   \n",
              "85575      1.0 2013-03-14 23:25:00     4762       704   \n",
              "16964      NaN 2020-02-18 11:20:00     1380       195   \n",
              "65794      NaN 2014-12-28 21:35:00      530        83   \n",
              "\n",
              "                                                   lemmas  \n",
              "338756  такой служба фссп точка заблокировать рубль ме...  \n",
              "24569   апрель год сайт тинькофф страхование приобразе...  \n",
              "85575   г вносить деньга счёт свой карта сбербанк отде...  \n",
              "16964   здравствуйте неоднократно оставить обращение б...  \n",
              "65794   добрый вечер являться клиент банк просрочка да...  "
            ],
            "text/html": [
              "\n",
              "  <div id=\"df-daa654ec-184e-455c-866f-b3910e1f6b92\">\n",
              "    <div class=\"colab-df-container\">\n",
              "      <div>\n",
              "<style scoped>\n",
              "    .dataframe tbody tr th:only-of-type {\n",
              "        vertical-align: middle;\n",
              "    }\n",
              "\n",
              "    .dataframe tbody tr th {\n",
              "        vertical-align: top;\n",
              "    }\n",
              "\n",
              "    .dataframe thead th {\n",
              "        text-align: right;\n",
              "    }\n",
              "</style>\n",
              "<table border=\"1\" class=\"dataframe\">\n",
              "  <thead>\n",
              "    <tr style=\"text-align: right;\">\n",
              "      <th></th>\n",
              "      <th>bank</th>\n",
              "      <th>feeds</th>\n",
              "      <th>grades</th>\n",
              "      <th>date</th>\n",
              "      <th>sym_len</th>\n",
              "      <th>word_len</th>\n",
              "      <th>lemmas</th>\n",
              "    </tr>\n",
              "  </thead>\n",
              "  <tbody>\n",
              "    <tr>\n",
              "      <th>338756</th>\n",
              "      <td>gazprombank</td>\n",
              "      <td>Есть такая служба ФССП точка, заблокировал мне...</td>\n",
              "      <td>NaN</td>\n",
              "      <td>2019-02-25 19:16:00</td>\n",
              "      <td>320</td>\n",
              "      <td>49</td>\n",
              "      <td>такой служба фссп точка заблокировать рубль ме...</td>\n",
              "    </tr>\n",
              "    <tr>\n",
              "      <th>24569</th>\n",
              "      <td>tcs</td>\n",
              "      <td>14 апреля 2019 года на сайте Тинькофф страхова...</td>\n",
              "      <td>1.0</td>\n",
              "      <td>2019-06-11 11:44:00</td>\n",
              "      <td>1341</td>\n",
              "      <td>208</td>\n",
              "      <td>апрель год сайт тинькофф страхование приобразе...</td>\n",
              "    </tr>\n",
              "    <tr>\n",
              "      <th>85575</th>\n",
              "      <td>sberbank</td>\n",
              "      <td>16.02.2013 г.  я вносила деньги на счет своей ...</td>\n",
              "      <td>1.0</td>\n",
              "      <td>2013-03-14 23:25:00</td>\n",
              "      <td>4762</td>\n",
              "      <td>704</td>\n",
              "      <td>г вносить деньга счёт свой карта сбербанк отде...</td>\n",
              "    </tr>\n",
              "    <tr>\n",
              "      <th>16964</th>\n",
              "      <td>sberbank</td>\n",
              "      <td>Здравствуйте! Неоднократно было оставлено обра...</td>\n",
              "      <td>NaN</td>\n",
              "      <td>2020-02-18 11:20:00</td>\n",
              "      <td>1380</td>\n",
              "      <td>195</td>\n",
              "      <td>здравствуйте неоднократно оставить обращение б...</td>\n",
              "    </tr>\n",
              "    <tr>\n",
              "      <th>65794</th>\n",
              "      <td>homecreditbank</td>\n",
              "      <td>Добрый вечер! Являюсь клиентом банка, была про...</td>\n",
              "      <td>NaN</td>\n",
              "      <td>2014-12-28 21:35:00</td>\n",
              "      <td>530</td>\n",
              "      <td>83</td>\n",
              "      <td>добрый вечер являться клиент банк просрочка да...</td>\n",
              "    </tr>\n",
              "  </tbody>\n",
              "</table>\n",
              "</div>\n",
              "      <button class=\"colab-df-convert\" onclick=\"convertToInteractive('df-daa654ec-184e-455c-866f-b3910e1f6b92')\"\n",
              "              title=\"Convert this dataframe to an interactive table.\"\n",
              "              style=\"display:none;\">\n",
              "        \n",
              "  <svg xmlns=\"http://www.w3.org/2000/svg\" height=\"24px\"viewBox=\"0 0 24 24\"\n",
              "       width=\"24px\">\n",
              "    <path d=\"M0 0h24v24H0V0z\" fill=\"none\"/>\n",
              "    <path d=\"M18.56 5.44l.94 2.06.94-2.06 2.06-.94-2.06-.94-.94-2.06-.94 2.06-2.06.94zm-11 1L8.5 8.5l.94-2.06 2.06-.94-2.06-.94L8.5 2.5l-.94 2.06-2.06.94zm10 10l.94 2.06.94-2.06 2.06-.94-2.06-.94-.94-2.06-.94 2.06-2.06.94z\"/><path d=\"M17.41 7.96l-1.37-1.37c-.4-.4-.92-.59-1.43-.59-.52 0-1.04.2-1.43.59L10.3 9.45l-7.72 7.72c-.78.78-.78 2.05 0 2.83L4 21.41c.39.39.9.59 1.41.59.51 0 1.02-.2 1.41-.59l7.78-7.78 2.81-2.81c.8-.78.8-2.07 0-2.86zM5.41 20L4 18.59l7.72-7.72 1.47 1.35L5.41 20z\"/>\n",
              "  </svg>\n",
              "      </button>\n",
              "      \n",
              "  <style>\n",
              "    .colab-df-container {\n",
              "      display:flex;\n",
              "      flex-wrap:wrap;\n",
              "      gap: 12px;\n",
              "    }\n",
              "\n",
              "    .colab-df-convert {\n",
              "      background-color: #E8F0FE;\n",
              "      border: none;\n",
              "      border-radius: 50%;\n",
              "      cursor: pointer;\n",
              "      display: none;\n",
              "      fill: #1967D2;\n",
              "      height: 32px;\n",
              "      padding: 0 0 0 0;\n",
              "      width: 32px;\n",
              "    }\n",
              "\n",
              "    .colab-df-convert:hover {\n",
              "      background-color: #E2EBFA;\n",
              "      box-shadow: 0px 1px 2px rgba(60, 64, 67, 0.3), 0px 1px 3px 1px rgba(60, 64, 67, 0.15);\n",
              "      fill: #174EA6;\n",
              "    }\n",
              "\n",
              "    [theme=dark] .colab-df-convert {\n",
              "      background-color: #3B4455;\n",
              "      fill: #D2E3FC;\n",
              "    }\n",
              "\n",
              "    [theme=dark] .colab-df-convert:hover {\n",
              "      background-color: #434B5C;\n",
              "      box-shadow: 0px 1px 3px 1px rgba(0, 0, 0, 0.15);\n",
              "      filter: drop-shadow(0px 1px 2px rgba(0, 0, 0, 0.3));\n",
              "      fill: #FFFFFF;\n",
              "    }\n",
              "  </style>\n",
              "\n",
              "      <script>\n",
              "        const buttonEl =\n",
              "          document.querySelector('#df-daa654ec-184e-455c-866f-b3910e1f6b92 button.colab-df-convert');\n",
              "        buttonEl.style.display =\n",
              "          google.colab.kernel.accessAllowed ? 'block' : 'none';\n",
              "\n",
              "        async function convertToInteractive(key) {\n",
              "          const element = document.querySelector('#df-daa654ec-184e-455c-866f-b3910e1f6b92');\n",
              "          const dataTable =\n",
              "            await google.colab.kernel.invokeFunction('convertToInteractive',\n",
              "                                                     [key], {});\n",
              "          if (!dataTable) return;\n",
              "\n",
              "          const docLinkHtml = 'Like what you see? Visit the ' +\n",
              "            '<a target=\"_blank\" href=https://colab.research.google.com/notebooks/data_table.ipynb>data table notebook</a>'\n",
              "            + ' to learn more about interactive tables.';\n",
              "          element.innerHTML = '';\n",
              "          dataTable['output_type'] = 'display_data';\n",
              "          await google.colab.output.renderOutput(dataTable, element);\n",
              "          const docLink = document.createElement('div');\n",
              "          docLink.innerHTML = docLinkHtml;\n",
              "          element.appendChild(docLink);\n",
              "        }\n",
              "      </script>\n",
              "    </div>\n",
              "  </div>\n",
              "  "
            ]
          },
          "metadata": {},
          "execution_count": 51
        }
      ]
    },
    {
      "cell_type": "code",
      "source": [
        "with open(os.path.join(os.getcwd(), 'clean_text.txt'), 'w') as f:  \n",
        "  for s in lemmas:\n",
        "    f.write(s + '\\n')"
      ],
      "metadata": {
        "id": "4S5-QZ1XBxD-"
      },
      "execution_count": null,
      "outputs": []
    },
    {
      "cell_type": "code",
      "source": [
        "# train_df.to_csv('train_clean.csv', index=False)"
      ],
      "metadata": {
        "id": "h143_4IgrQCg"
      },
      "execution_count": null,
      "outputs": []
    },
    {
      "cell_type": "code",
      "source": [
        "# files.download('/content/train_clean.csv') "
      ],
      "metadata": {
        "colab": {
          "base_uri": "https://localhost:8080/",
          "height": 34
        },
        "id": "ApfBCQu0qG0z",
        "outputId": "e7a52544-9a8a-4952-a12a-d9b76d094f4d"
      },
      "execution_count": null,
      "outputs": [
        {
          "output_type": "display_data",
          "data": {
            "text/plain": [
              "<IPython.core.display.Javascript object>"
            ],
            "application/javascript": [
              "\n",
              "    async function download(id, filename, size) {\n",
              "      if (!google.colab.kernel.accessAllowed) {\n",
              "        return;\n",
              "      }\n",
              "      const div = document.createElement('div');\n",
              "      const label = document.createElement('label');\n",
              "      label.textContent = `Downloading \"${filename}\": `;\n",
              "      div.appendChild(label);\n",
              "      const progress = document.createElement('progress');\n",
              "      progress.max = size;\n",
              "      div.appendChild(progress);\n",
              "      document.body.appendChild(div);\n",
              "\n",
              "      const buffers = [];\n",
              "      let downloaded = 0;\n",
              "\n",
              "      const channel = await google.colab.kernel.comms.open(id);\n",
              "      // Send a message to notify the kernel that we're ready.\n",
              "      channel.send({})\n",
              "\n",
              "      for await (const message of channel.messages) {\n",
              "        // Send a message to notify the kernel that we're ready.\n",
              "        channel.send({})\n",
              "        if (message.buffers) {\n",
              "          for (const buffer of message.buffers) {\n",
              "            buffers.push(buffer);\n",
              "            downloaded += buffer.byteLength;\n",
              "            progress.value = downloaded;\n",
              "          }\n",
              "        }\n",
              "      }\n",
              "      const blob = new Blob(buffers, {type: 'application/binary'});\n",
              "      const a = document.createElement('a');\n",
              "      a.href = window.URL.createObjectURL(blob);\n",
              "      a.download = filename;\n",
              "      div.appendChild(a);\n",
              "      a.click();\n",
              "      div.remove();\n",
              "    }\n",
              "  "
            ]
          },
          "metadata": {}
        },
        {
          "output_type": "display_data",
          "data": {
            "text/plain": [
              "<IPython.core.display.Javascript object>"
            ],
            "application/javascript": [
              "download(\"download_d472033d-14fa-4f32-baf6-355aaffad2a9\", \"train_clean.csv\", 1398540600)"
            ]
          },
          "metadata": {}
        }
      ]
    },
    {
      "cell_type": "markdown",
      "source": [
        "Сохраним, чтобы не выполнять каждый раз этот (довольно долгий) препроцессинг"
      ],
      "metadata": {
        "id": "klQzsuK8mK4g"
      }
    },
    {
      "cell_type": "code",
      "source": [
        "train_df = pd.read_csv('/content/drive/MyDrive/Colab Notebooks/NLP/bootcamp/train_clean.csv')\n",
        "train_df.head()"
      ],
      "metadata": {
        "colab": {
          "base_uri": "https://localhost:8080/",
          "height": 337
        },
        "id": "kTEqvBq0tfrH",
        "outputId": "64385e38-82b8-4f67-b2e4-7afae6b7b3ab"
      },
      "execution_count": null,
      "outputs": [
        {
          "output_type": "execute_result",
          "data": {
            "text/plain": [
              "            bank                                              feeds  grades  \\\n",
              "0  unicreditbank  Я очень редко пользуюсь банковскими продуктами...     5.0   \n",
              "1    fk_otkritie  Я вместе с женой 15.11.2019 обратился в отделе...     1.0   \n",
              "2       alfabank  Добрый день.Сегодня 27.12.2018 г около 15.40-1...     1.0   \n",
              "3            vtb  \"Где карточку открывали, туда и идите...\" - эт...     2.0   \n",
              "4  promsvyazbank  При покупках в iTunes списываются завышенные с...     NaN   \n",
              "\n",
              "                  date  sym_len  word_len  \\\n",
              "0  2017-12-31 18:20:00      770       119   \n",
              "1  2019-11-22 22:42:00     2749       405   \n",
              "2  2018-12-27 23:20:00      867       128   \n",
              "3  2020-02-05 16:40:00     2860       462   \n",
              "4  2016-02-26 15:48:00     1066       161   \n",
              "\n",
              "                                              lemmas  \n",
              "0  очень редко пользоваться банковский продукт не...  \n",
              "1  вместе жена обратиться отделение банк открытие...  \n",
              "2  добрый день сегодня г около банкомат адрес ряз...  \n",
              "3  карточка открывать туда идти этот фраза давно ...  \n",
              "4  покупка itunes списываться завысить сумма прим...  "
            ],
            "text/html": [
              "\n",
              "  <div id=\"df-d121f61d-1132-4b61-a2b0-d2607e88360a\">\n",
              "    <div class=\"colab-df-container\">\n",
              "      <div>\n",
              "<style scoped>\n",
              "    .dataframe tbody tr th:only-of-type {\n",
              "        vertical-align: middle;\n",
              "    }\n",
              "\n",
              "    .dataframe tbody tr th {\n",
              "        vertical-align: top;\n",
              "    }\n",
              "\n",
              "    .dataframe thead th {\n",
              "        text-align: right;\n",
              "    }\n",
              "</style>\n",
              "<table border=\"1\" class=\"dataframe\">\n",
              "  <thead>\n",
              "    <tr style=\"text-align: right;\">\n",
              "      <th></th>\n",
              "      <th>bank</th>\n",
              "      <th>feeds</th>\n",
              "      <th>grades</th>\n",
              "      <th>date</th>\n",
              "      <th>sym_len</th>\n",
              "      <th>word_len</th>\n",
              "      <th>lemmas</th>\n",
              "    </tr>\n",
              "  </thead>\n",
              "  <tbody>\n",
              "    <tr>\n",
              "      <th>0</th>\n",
              "      <td>unicreditbank</td>\n",
              "      <td>Я очень редко пользуюсь банковскими продуктами...</td>\n",
              "      <td>5.0</td>\n",
              "      <td>2017-12-31 18:20:00</td>\n",
              "      <td>770</td>\n",
              "      <td>119</td>\n",
              "      <td>очень редко пользоваться банковский продукт не...</td>\n",
              "    </tr>\n",
              "    <tr>\n",
              "      <th>1</th>\n",
              "      <td>fk_otkritie</td>\n",
              "      <td>Я вместе с женой 15.11.2019 обратился в отделе...</td>\n",
              "      <td>1.0</td>\n",
              "      <td>2019-11-22 22:42:00</td>\n",
              "      <td>2749</td>\n",
              "      <td>405</td>\n",
              "      <td>вместе жена обратиться отделение банк открытие...</td>\n",
              "    </tr>\n",
              "    <tr>\n",
              "      <th>2</th>\n",
              "      <td>alfabank</td>\n",
              "      <td>Добрый день.Сегодня 27.12.2018 г около 15.40-1...</td>\n",
              "      <td>1.0</td>\n",
              "      <td>2018-12-27 23:20:00</td>\n",
              "      <td>867</td>\n",
              "      <td>128</td>\n",
              "      <td>добрый день сегодня г около банкомат адрес ряз...</td>\n",
              "    </tr>\n",
              "    <tr>\n",
              "      <th>3</th>\n",
              "      <td>vtb</td>\n",
              "      <td>\"Где карточку открывали, туда и идите...\" - эт...</td>\n",
              "      <td>2.0</td>\n",
              "      <td>2020-02-05 16:40:00</td>\n",
              "      <td>2860</td>\n",
              "      <td>462</td>\n",
              "      <td>карточка открывать туда идти этот фраза давно ...</td>\n",
              "    </tr>\n",
              "    <tr>\n",
              "      <th>4</th>\n",
              "      <td>promsvyazbank</td>\n",
              "      <td>При покупках в iTunes списываются завышенные с...</td>\n",
              "      <td>NaN</td>\n",
              "      <td>2016-02-26 15:48:00</td>\n",
              "      <td>1066</td>\n",
              "      <td>161</td>\n",
              "      <td>покупка itunes списываться завысить сумма прим...</td>\n",
              "    </tr>\n",
              "  </tbody>\n",
              "</table>\n",
              "</div>\n",
              "      <button class=\"colab-df-convert\" onclick=\"convertToInteractive('df-d121f61d-1132-4b61-a2b0-d2607e88360a')\"\n",
              "              title=\"Convert this dataframe to an interactive table.\"\n",
              "              style=\"display:none;\">\n",
              "        \n",
              "  <svg xmlns=\"http://www.w3.org/2000/svg\" height=\"24px\"viewBox=\"0 0 24 24\"\n",
              "       width=\"24px\">\n",
              "    <path d=\"M0 0h24v24H0V0z\" fill=\"none\"/>\n",
              "    <path d=\"M18.56 5.44l.94 2.06.94-2.06 2.06-.94-2.06-.94-.94-2.06-.94 2.06-2.06.94zm-11 1L8.5 8.5l.94-2.06 2.06-.94-2.06-.94L8.5 2.5l-.94 2.06-2.06.94zm10 10l.94 2.06.94-2.06 2.06-.94-2.06-.94-.94-2.06-.94 2.06-2.06.94z\"/><path d=\"M17.41 7.96l-1.37-1.37c-.4-.4-.92-.59-1.43-.59-.52 0-1.04.2-1.43.59L10.3 9.45l-7.72 7.72c-.78.78-.78 2.05 0 2.83L4 21.41c.39.39.9.59 1.41.59.51 0 1.02-.2 1.41-.59l7.78-7.78 2.81-2.81c.8-.78.8-2.07 0-2.86zM5.41 20L4 18.59l7.72-7.72 1.47 1.35L5.41 20z\"/>\n",
              "  </svg>\n",
              "      </button>\n",
              "      \n",
              "  <style>\n",
              "    .colab-df-container {\n",
              "      display:flex;\n",
              "      flex-wrap:wrap;\n",
              "      gap: 12px;\n",
              "    }\n",
              "\n",
              "    .colab-df-convert {\n",
              "      background-color: #E8F0FE;\n",
              "      border: none;\n",
              "      border-radius: 50%;\n",
              "      cursor: pointer;\n",
              "      display: none;\n",
              "      fill: #1967D2;\n",
              "      height: 32px;\n",
              "      padding: 0 0 0 0;\n",
              "      width: 32px;\n",
              "    }\n",
              "\n",
              "    .colab-df-convert:hover {\n",
              "      background-color: #E2EBFA;\n",
              "      box-shadow: 0px 1px 2px rgba(60, 64, 67, 0.3), 0px 1px 3px 1px rgba(60, 64, 67, 0.15);\n",
              "      fill: #174EA6;\n",
              "    }\n",
              "\n",
              "    [theme=dark] .colab-df-convert {\n",
              "      background-color: #3B4455;\n",
              "      fill: #D2E3FC;\n",
              "    }\n",
              "\n",
              "    [theme=dark] .colab-df-convert:hover {\n",
              "      background-color: #434B5C;\n",
              "      box-shadow: 0px 1px 3px 1px rgba(0, 0, 0, 0.15);\n",
              "      filter: drop-shadow(0px 1px 2px rgba(0, 0, 0, 0.3));\n",
              "      fill: #FFFFFF;\n",
              "    }\n",
              "  </style>\n",
              "\n",
              "      <script>\n",
              "        const buttonEl =\n",
              "          document.querySelector('#df-d121f61d-1132-4b61-a2b0-d2607e88360a button.colab-df-convert');\n",
              "        buttonEl.style.display =\n",
              "          google.colab.kernel.accessAllowed ? 'block' : 'none';\n",
              "\n",
              "        async function convertToInteractive(key) {\n",
              "          const element = document.querySelector('#df-d121f61d-1132-4b61-a2b0-d2607e88360a');\n",
              "          const dataTable =\n",
              "            await google.colab.kernel.invokeFunction('convertToInteractive',\n",
              "                                                     [key], {});\n",
              "          if (!dataTable) return;\n",
              "\n",
              "          const docLinkHtml = 'Like what you see? Visit the ' +\n",
              "            '<a target=\"_blank\" href=https://colab.research.google.com/notebooks/data_table.ipynb>data table notebook</a>'\n",
              "            + ' to learn more about interactive tables.';\n",
              "          element.innerHTML = '';\n",
              "          dataTable['output_type'] = 'display_data';\n",
              "          await google.colab.output.renderOutput(dataTable, element);\n",
              "          const docLink = document.createElement('div');\n",
              "          docLink.innerHTML = docLinkHtml;\n",
              "          element.appendChild(docLink);\n",
              "        }\n",
              "      </script>\n",
              "    </div>\n",
              "  </div>\n",
              "  "
            ]
          },
          "metadata": {},
          "execution_count": 12
        }
      ]
    },
    {
      "cell_type": "code",
      "source": [
        "test_df = pd.read_csv('/content/drive/MyDrive/Colab Notebooks/NLP/bootcamp/test_clean.csv')\n",
        "test_df.head()"
      ],
      "metadata": {
        "colab": {
          "base_uri": "https://localhost:8080/",
          "height": 206
        },
        "id": "uIcch6DyQzE1",
        "outputId": "cbf298b8-473b-4bf5-eced-f814a3637007"
      },
      "execution_count": null,
      "outputs": [
        {
          "output_type": "execute_result",
          "data": {
            "text/plain": [
              "         bank                                              feeds  \\\n",
              "0    sberbank  История такова: 27.01.2015 мне на телефон приш...   \n",
              "1    alfabank  Нельзя решить ни один вопрос оперативно, автоо...   \n",
              "2         tcs  Быстро, удобно, чего ещё нужно то. На сайтике ...   \n",
              "3  pochtabank  Добрый день! Просто в шоке от  ПАО «Почта Банк...   \n",
              "4    sberbank  В течение выходных дней новогоднего периода 20...   \n",
              "\n",
              "               date                                             lemmas  \n",
              "0  05.02.2015 17:33  история таков телефон прийти подряд смс списан...  \n",
              "1   03.03.2021 9:27  решить вопрос оперативно автоответчик отказыва...  \n",
              "2   09.04.2018 7:40  быстро удобно нужно сайтик быстро оформить док...  \n",
              "3   09.04.2020 9:57  добрый день просто шок пао почта банк обратить...  \n",
              "4  12.01.2012 14:00  течение выходной день новогодний период банком...  "
            ],
            "text/html": [
              "\n",
              "  <div id=\"df-04af7d8c-a631-4bdc-b89c-874efe804c8f\">\n",
              "    <div class=\"colab-df-container\">\n",
              "      <div>\n",
              "<style scoped>\n",
              "    .dataframe tbody tr th:only-of-type {\n",
              "        vertical-align: middle;\n",
              "    }\n",
              "\n",
              "    .dataframe tbody tr th {\n",
              "        vertical-align: top;\n",
              "    }\n",
              "\n",
              "    .dataframe thead th {\n",
              "        text-align: right;\n",
              "    }\n",
              "</style>\n",
              "<table border=\"1\" class=\"dataframe\">\n",
              "  <thead>\n",
              "    <tr style=\"text-align: right;\">\n",
              "      <th></th>\n",
              "      <th>bank</th>\n",
              "      <th>feeds</th>\n",
              "      <th>date</th>\n",
              "      <th>lemmas</th>\n",
              "    </tr>\n",
              "  </thead>\n",
              "  <tbody>\n",
              "    <tr>\n",
              "      <th>0</th>\n",
              "      <td>sberbank</td>\n",
              "      <td>История такова: 27.01.2015 мне на телефон приш...</td>\n",
              "      <td>05.02.2015 17:33</td>\n",
              "      <td>история таков телефон прийти подряд смс списан...</td>\n",
              "    </tr>\n",
              "    <tr>\n",
              "      <th>1</th>\n",
              "      <td>alfabank</td>\n",
              "      <td>Нельзя решить ни один вопрос оперативно, автоо...</td>\n",
              "      <td>03.03.2021 9:27</td>\n",
              "      <td>решить вопрос оперативно автоответчик отказыва...</td>\n",
              "    </tr>\n",
              "    <tr>\n",
              "      <th>2</th>\n",
              "      <td>tcs</td>\n",
              "      <td>Быстро, удобно, чего ещё нужно то. На сайтике ...</td>\n",
              "      <td>09.04.2018 7:40</td>\n",
              "      <td>быстро удобно нужно сайтик быстро оформить док...</td>\n",
              "    </tr>\n",
              "    <tr>\n",
              "      <th>3</th>\n",
              "      <td>pochtabank</td>\n",
              "      <td>Добрый день! Просто в шоке от  ПАО «Почта Банк...</td>\n",
              "      <td>09.04.2020 9:57</td>\n",
              "      <td>добрый день просто шок пао почта банк обратить...</td>\n",
              "    </tr>\n",
              "    <tr>\n",
              "      <th>4</th>\n",
              "      <td>sberbank</td>\n",
              "      <td>В течение выходных дней новогоднего периода 20...</td>\n",
              "      <td>12.01.2012 14:00</td>\n",
              "      <td>течение выходной день новогодний период банком...</td>\n",
              "    </tr>\n",
              "  </tbody>\n",
              "</table>\n",
              "</div>\n",
              "      <button class=\"colab-df-convert\" onclick=\"convertToInteractive('df-04af7d8c-a631-4bdc-b89c-874efe804c8f')\"\n",
              "              title=\"Convert this dataframe to an interactive table.\"\n",
              "              style=\"display:none;\">\n",
              "        \n",
              "  <svg xmlns=\"http://www.w3.org/2000/svg\" height=\"24px\"viewBox=\"0 0 24 24\"\n",
              "       width=\"24px\">\n",
              "    <path d=\"M0 0h24v24H0V0z\" fill=\"none\"/>\n",
              "    <path d=\"M18.56 5.44l.94 2.06.94-2.06 2.06-.94-2.06-.94-.94-2.06-.94 2.06-2.06.94zm-11 1L8.5 8.5l.94-2.06 2.06-.94-2.06-.94L8.5 2.5l-.94 2.06-2.06.94zm10 10l.94 2.06.94-2.06 2.06-.94-2.06-.94-.94-2.06-.94 2.06-2.06.94z\"/><path d=\"M17.41 7.96l-1.37-1.37c-.4-.4-.92-.59-1.43-.59-.52 0-1.04.2-1.43.59L10.3 9.45l-7.72 7.72c-.78.78-.78 2.05 0 2.83L4 21.41c.39.39.9.59 1.41.59.51 0 1.02-.2 1.41-.59l7.78-7.78 2.81-2.81c.8-.78.8-2.07 0-2.86zM5.41 20L4 18.59l7.72-7.72 1.47 1.35L5.41 20z\"/>\n",
              "  </svg>\n",
              "      </button>\n",
              "      \n",
              "  <style>\n",
              "    .colab-df-container {\n",
              "      display:flex;\n",
              "      flex-wrap:wrap;\n",
              "      gap: 12px;\n",
              "    }\n",
              "\n",
              "    .colab-df-convert {\n",
              "      background-color: #E8F0FE;\n",
              "      border: none;\n",
              "      border-radius: 50%;\n",
              "      cursor: pointer;\n",
              "      display: none;\n",
              "      fill: #1967D2;\n",
              "      height: 32px;\n",
              "      padding: 0 0 0 0;\n",
              "      width: 32px;\n",
              "    }\n",
              "\n",
              "    .colab-df-convert:hover {\n",
              "      background-color: #E2EBFA;\n",
              "      box-shadow: 0px 1px 2px rgba(60, 64, 67, 0.3), 0px 1px 3px 1px rgba(60, 64, 67, 0.15);\n",
              "      fill: #174EA6;\n",
              "    }\n",
              "\n",
              "    [theme=dark] .colab-df-convert {\n",
              "      background-color: #3B4455;\n",
              "      fill: #D2E3FC;\n",
              "    }\n",
              "\n",
              "    [theme=dark] .colab-df-convert:hover {\n",
              "      background-color: #434B5C;\n",
              "      box-shadow: 0px 1px 3px 1px rgba(0, 0, 0, 0.15);\n",
              "      filter: drop-shadow(0px 1px 2px rgba(0, 0, 0, 0.3));\n",
              "      fill: #FFFFFF;\n",
              "    }\n",
              "  </style>\n",
              "\n",
              "      <script>\n",
              "        const buttonEl =\n",
              "          document.querySelector('#df-04af7d8c-a631-4bdc-b89c-874efe804c8f button.colab-df-convert');\n",
              "        buttonEl.style.display =\n",
              "          google.colab.kernel.accessAllowed ? 'block' : 'none';\n",
              "\n",
              "        async function convertToInteractive(key) {\n",
              "          const element = document.querySelector('#df-04af7d8c-a631-4bdc-b89c-874efe804c8f');\n",
              "          const dataTable =\n",
              "            await google.colab.kernel.invokeFunction('convertToInteractive',\n",
              "                                                     [key], {});\n",
              "          if (!dataTable) return;\n",
              "\n",
              "          const docLinkHtml = 'Like what you see? Visit the ' +\n",
              "            '<a target=\"_blank\" href=https://colab.research.google.com/notebooks/data_table.ipynb>data table notebook</a>'\n",
              "            + ' to learn more about interactive tables.';\n",
              "          element.innerHTML = '';\n",
              "          dataTable['output_type'] = 'display_data';\n",
              "          await google.colab.output.renderOutput(dataTable, element);\n",
              "          const docLink = document.createElement('div');\n",
              "          docLink.innerHTML = docLinkHtml;\n",
              "          element.appendChild(docLink);\n",
              "        }\n",
              "      </script>\n",
              "    </div>\n",
              "  </div>\n",
              "  "
            ]
          },
          "metadata": {},
          "execution_count": 13
        }
      ]
    },
    {
      "cell_type": "markdown",
      "source": [
        "# 4.Модели"
      ],
      "metadata": {
        "id": "clWkbDBKaj49"
      }
    },
    {
      "cell_type": "markdown",
      "source": [
        "## 4.1.Word2Vec"
      ],
      "metadata": {
        "id": "JvcQF-FlanzM"
      }
    },
    {
      "cell_type": "code",
      "source": [
        "class MyCorpus:\n",
        "    \"\"\"Класс итератора, который выдает предложения как список строк.\"\"\"\n",
        "\n",
        "    def __init__(self, path):\n",
        "      self.path = path  # путь до нашего файла\n",
        "\n",
        "    def __iter__(self):\n",
        "        corpus_path = datapath(self.path)\n",
        "        for line in open(corpus_path):\n",
        "            yield line.split()  # считываем строчку и деим по пробелам"
      ],
      "metadata": {
        "id": "qgJ206MhBxBj"
      },
      "execution_count": null,
      "outputs": []
    },
    {
      "cell_type": "code",
      "source": [
        "sentences = MyCorpus('/content/drive/MyDrive/Colab Notebooks/NLP/bootcamp/clean_text.txt')\n",
        "model = word2vec.Word2Vec(sentences=sentences, workers=4, sg=1,\n",
        "                          min_count=12, window=6)  # vector_size=100,"
      ],
      "metadata": {
        "id": "3YnKXx3wWfc7"
      },
      "execution_count": null,
      "outputs": []
    },
    {
      "cell_type": "code",
      "source": [
        "path_mod = '/content/drive/MyDrive/Colab Notebooks/NLP/bootcamp/bootcamp_w2v.model'\n",
        "print(\"Saving model...\")\n",
        "model.save(path_mod)\n",
        "print(f'Successfully saved to {path_mod}!')"
      ],
      "metadata": {
        "colab": {
          "base_uri": "https://localhost:8080/"
        },
        "id": "BtwT3bn6Bw-o",
        "outputId": "3a06401e-472f-42a3-ca66-90f278844dc8"
      },
      "execution_count": null,
      "outputs": [
        {
          "output_type": "stream",
          "name": "stdout",
          "text": [
            "Saving model...\n",
            "Successfully saved to /content/drive/MyDrive/Colab Notebooks/NLP/bootcamp/bootcamp_w2v.model!\n"
          ]
        }
      ]
    },
    {
      "cell_type": "code",
      "source": [
        "# model.wv.save_word2vec_format('/content/drive/MyDrive/Colab Notebooks/NLP/bootcamp/bootcamp_w2v.bin', binary=True)"
      ],
      "metadata": {
        "id": "Sw-0SmBdBne3"
      },
      "execution_count": null,
      "outputs": []
    },
    {
      "cell_type": "markdown",
      "source": [
        "Подгрузим обученную выше модель"
      ],
      "metadata": {
        "id": "exhKUAM8ntz2"
      }
    },
    {
      "cell_type": "code",
      "source": [
        "model = word2vec.Word2Vec.load('/content/drive/MyDrive/Colab Notebooks/NLP/bootcamp/bootcamp_w2v.model')"
      ],
      "metadata": {
        "id": "0o17-XvWq3qG"
      },
      "execution_count": null,
      "outputs": []
    },
    {
      "cell_type": "code",
      "source": [
        "'ужас' in model.wv.vocab"
      ],
      "metadata": {
        "colab": {
          "base_uri": "https://localhost:8080/"
        },
        "id": "rO6gEMZM9Tp9",
        "outputId": "3bd91554-8d39-4679-f699-a759894ca0c3"
      },
      "execution_count": null,
      "outputs": [
        {
          "output_type": "execute_result",
          "data": {
            "text/plain": [
              "True"
            ]
          },
          "metadata": {},
          "execution_count": 9
        }
      ]
    },
    {
      "cell_type": "code",
      "source": [
        "model.wv.get_vector('ужас')"
      ],
      "metadata": {
        "colab": {
          "base_uri": "https://localhost:8080/"
        },
        "id": "l0tCr3n8tqzR",
        "outputId": "0273da79-08cd-4643-d825-c4baab494a54"
      },
      "execution_count": null,
      "outputs": [
        {
          "output_type": "execute_result",
          "data": {
            "text/plain": [
              "array([-0.21812658,  0.01064814, -0.02525915, -0.03689817,  0.14159329,\n",
              "        0.22889596, -0.10698   , -0.00517877,  0.42420483, -0.02871739,\n",
              "       -0.28550893,  0.04127863, -0.2006897 ,  0.1463856 , -0.09537274,\n",
              "        0.05192045,  0.41817275, -0.2678077 , -0.21539068, -0.02378392,\n",
              "       -0.29292172,  0.329952  ,  0.4602768 ,  0.21724227, -0.35484338,\n",
              "        0.07417253,  0.19143067, -0.29711154,  0.06530724, -0.11030419,\n",
              "       -0.15170768,  0.43616268,  0.21601541,  0.08641481, -0.09610929,\n",
              "       -0.12200428, -0.28291818, -0.14908737,  0.04424046,  0.06493042,\n",
              "       -0.08899351,  0.17550354,  0.5087403 , -0.4848622 ,  0.36512437,\n",
              "        0.08417723,  0.04227848, -0.11653157, -0.25008565,  0.4164191 ,\n",
              "       -0.14669907,  0.01564481, -0.14279288, -0.53789186, -0.04275704,\n",
              "        0.12528415, -0.20674357,  0.06965625, -0.05814482,  0.00797736,\n",
              "        0.18449374,  0.6025482 ,  0.33969578, -0.26553488, -0.03410347,\n",
              "        0.02584762, -0.22563119,  0.22408822,  0.16905272, -0.28011563,\n",
              "        0.21090448,  0.33300933,  0.12555857, -0.0563586 , -0.20317262,\n",
              "       -0.0594577 ,  0.14031827,  0.19489403, -0.01454901,  0.27894315,\n",
              "       -0.07083855,  0.15963386,  0.28342158,  0.1802806 ,  0.08372065,\n",
              "       -0.46770558, -0.32981113,  0.15990606, -0.12997437, -0.18893157,\n",
              "       -0.08092286, -0.05890838, -0.1805019 , -0.1403329 , -0.04437258,\n",
              "       -0.2021882 ,  0.17461766, -0.21805282,  0.32629338,  0.09650733],\n",
              "      dtype=float32)"
            ]
          },
          "metadata": {},
          "execution_count": 10
        }
      ]
    },
    {
      "cell_type": "code",
      "source": [
        "print('Синонимы:')\n",
        "print(model.wv.most_similar('ужас', topn=5))\n",
        "print(model.wv.most_similar('прекрасный', topn=5))\n",
        "print(model.wv.most_similar('банк', topn=5))\n",
        "print(model.wv.most_similar('офис', topn=5))\n",
        "print(model.wv.most_similar('клиент', topn=5))\n",
        "\n",
        "print('Лишние слова:')\n",
        "print('промсвязьбанк росбанк газпромбанк менеджер => лишнее:', \n",
        "      model.wv.doesnt_match('промсвязьбанк росбанк газпромбанк менеджер'.split()))\n",
        "print('сотрудница специалист руководитель клиент => лишнее:', \n",
        "      model.wv.doesnt_match('сотрудница специалист руководитель клиент'.split()))\n",
        "print('карта счёт кредитка мужчина => лишнее:', \n",
        "      model.wv.doesnt_match('карта счёт кредитка мужчина карточка'.split()))"
      ],
      "metadata": {
        "colab": {
          "base_uri": "https://localhost:8080/"
        },
        "id": "MrSk0Ll29L6_",
        "outputId": "14a8ec66-8f7c-4c5e-c445-dac61758e659"
      },
      "execution_count": null,
      "outputs": [
        {
          "output_type": "stream",
          "name": "stdout",
          "text": [
            "Синонимы:\n",
            "[('кошмар', 0.8376878499984741), ('жесть', 0.8085354566574097), ('шок', 0.7676982879638672), ('бардак', 0.71785569190979), ('беспредел', 0.7053205370903015)]\n",
            "[('замечательный', 0.8475978970527649), ('отличный', 0.801703929901123), ('превосходный', 0.7504867315292358), ('хороший', 0.7279325127601624), ('великолепный', 0.7214755415916443)]\n",
            "[('росбанк', 0.6799560189247131), ('промсвязьбанк', 0.6713772416114807), ('бак', 0.669198751449585), ('банкть', 0.6502624750137329), ('газпромбанк', 0.6407750844955444)]\n",
            "[('отделение', 0.9143511652946472), ('филиал', 0.8281509876251221), ('отдаление', 0.7874304056167603), ('короленко', 0.7382216453552246), ('допофис', 0.7340496182441711)]\n",
            "[('клинт', 0.731479287147522), ('клиетом', 0.6984604597091675), ('добросовесный', 0.6511321067810059), ('вкладчик', 0.6479739546775818), ('кклиент', 0.6427428722381592)]\n",
            "Лишние слова:\n",
            "промсвязьбанк росбанк газпромбанк менеджер => лишнее: менеджер\n",
            "сотрудница специалист руководитель клиент => лишнее: клиент\n",
            "карта счёт кредитка мужчина => лишнее: мужчина\n"
          ]
        },
        {
          "output_type": "stream",
          "name": "stderr",
          "text": [
            "/usr/local/lib/python3.8/dist-packages/gensim/models/keyedvectors.py:895: FutureWarning: arrays to stack must be passed as a \"sequence\" type such as list or tuple. Support for non-sequence iterables such as generators is deprecated as of NumPy 1.16 and will raise an error in the future.\n",
            "  vectors = vstack(self.word_vec(word, use_norm=True) for word in used_words).astype(REAL)\n"
          ]
        }
      ]
    },
    {
      "cell_type": "markdown",
      "source": [
        "По внутренним (intrinsic) метрикам в ячейке выше, можно сделать вывод, что w2v обучился неплохо и смог извлечь некоторые закономерности о языке из текстов отзывов. Теперь представим каждый отзыв как среднее эмбеддингов слов этого отзыва из word2vec"
      ],
      "metadata": {
        "id": "C7Optfsrmjlf"
      }
    },
    {
      "cell_type": "code",
      "source": [
        "corp_to_embeds = []\n",
        "with open('/content/drive/MyDrive/Colab Notebooks/NLP/bootcamp/clean_text.txt') as f:\n",
        "  for l in f:\n",
        "    lst = [model.wv.get_vector(w) for w in l.split() if w in model.wv.vocab]      \n",
        "    corp_to_embeds.append(np.mean(lst, axis=0))"
      ],
      "metadata": {
        "id": "TfeFY2mbsp3d"
      },
      "execution_count": null,
      "outputs": []
    },
    {
      "cell_type": "code",
      "source": [
        "train_df['w2v_embeds'] = corp_to_embeds\n",
        "train_df"
      ],
      "metadata": {
        "id": "Q9Z-WIXtSEv3",
        "colab": {
          "base_uri": "https://localhost:8080/"
        },
        "outputId": "c65d0d74-985b-4be5-e05d-e29eadcb75a0"
      },
      "execution_count": null,
      "outputs": [
        {
          "output_type": "execute_result",
          "data": {
            "text/plain": [
              "                  bank                                              feeds  \\\n",
              "0        unicreditbank  Я очень редко пользуюсь банковскими продуктами...   \n",
              "1          fk_otkritie  Я вместе с женой 15.11.2019 обратился в отделе...   \n",
              "2             alfabank  Добрый день.Сегодня 27.12.2018 г около 15.40-1...   \n",
              "3                  vtb  \"Где карточку открывали, туда и идите...\" - эт...   \n",
              "4        promsvyazbank  При покупках в iTunes списываются завышенные с...   \n",
              "...                ...                                                ...   \n",
              "349995  investtorgbank  Хочу поделиться своим положительными опытом от...   \n",
              "349996   unicreditbank  Добрый день!Хочу оставить отзыв по банку Юникр...   \n",
              "349997      locko-bank  Доброго дня! Обратился в Локо Банк с просьбой ...   \n",
              "349998             tcs  Просрочил платеж на 5 дней, а мне уже взыскани...   \n",
              "349999     fk_otkritie  В связи с тем, что у меня кредит официально об...   \n",
              "\n",
              "        grades                 date  sym_len  word_len  \\\n",
              "0          5.0  2017-12-31 18:20:00      770       119   \n",
              "1          1.0  2019-11-22 22:42:00     2749       405   \n",
              "2          1.0  2018-12-27 23:20:00      867       128   \n",
              "3          2.0  2020-02-05 16:40:00     2860       462   \n",
              "4          NaN  2016-02-26 15:48:00     1066       161   \n",
              "...        ...                  ...      ...       ...   \n",
              "349995     5.0  2012-12-17 22:57:00     1927       294   \n",
              "349996     1.0  2021-02-01 11:44:00      839       118   \n",
              "349997     5.0  2020-04-24 11:39:00      498        70   \n",
              "349998     NaN  2020-11-24 23:39:00      475        85   \n",
              "349999     NaN  2016-10-04 13:21:00     1284       185   \n",
              "\n",
              "                                                   lemmas  \\\n",
              "0       очень редко пользоваться банковский продукт не...   \n",
              "1       вместе жена обратиться отделение банк открытие...   \n",
              "2       добрый день сегодня г около банкомат адрес ряз...   \n",
              "3       карточка открывать туда идти этот фраза давно ...   \n",
              "4       покупка itunes списываться завысить сумма прим...   \n",
              "...                                                   ...   \n",
              "349995  хотеть поделиться свой положительный опыт полу...   \n",
              "349996  добрый день хотеть оставить отзыв банк юникред...   \n",
              "349997  добрый день обратиться локо банк просьба рестр...   \n",
              "349998  просрочить платёж день взыскание звонить предл...   \n",
              "349999  связь кредит официально обратиться обращение у...   \n",
              "\n",
              "                                               w2v_embeds  \n",
              "0       [-0.057296943, 0.1775573, 0.012814509, -0.0993...  \n",
              "1       [0.017619327, 0.26207352, 0.009155012, -0.1174...  \n",
              "2       [-0.14303426, 0.2085096, -0.0039132936, -0.075...  \n",
              "3       [0.0048099444, 0.16611528, -0.0068816505, -0.1...  \n",
              "4       [-0.01643992, 0.17063482, -0.15326434, -0.2541...  \n",
              "...                                                   ...  \n",
              "349995  [-0.058487758, 0.18186063, -0.044076722, -0.13...  \n",
              "349996  [-0.00072882674, 0.13193616, -0.026931038, -0....  \n",
              "349997  [0.057171892, 0.26056197, 0.07810278, -0.10941...  \n",
              "349998  [-0.09745417, 0.14880887, -0.05855264, -0.1904...  \n",
              "349999  [0.06433281, 0.22241737, 0.026721241, -0.12523...  \n",
              "\n",
              "[350000 rows x 8 columns]"
            ],
            "text/html": [
              "\n",
              "  <div id=\"df-b16b10bb-09e7-46e5-adc5-ba74b679657f\">\n",
              "    <div class=\"colab-df-container\">\n",
              "      <div>\n",
              "<style scoped>\n",
              "    .dataframe tbody tr th:only-of-type {\n",
              "        vertical-align: middle;\n",
              "    }\n",
              "\n",
              "    .dataframe tbody tr th {\n",
              "        vertical-align: top;\n",
              "    }\n",
              "\n",
              "    .dataframe thead th {\n",
              "        text-align: right;\n",
              "    }\n",
              "</style>\n",
              "<table border=\"1\" class=\"dataframe\">\n",
              "  <thead>\n",
              "    <tr style=\"text-align: right;\">\n",
              "      <th></th>\n",
              "      <th>bank</th>\n",
              "      <th>feeds</th>\n",
              "      <th>grades</th>\n",
              "      <th>date</th>\n",
              "      <th>sym_len</th>\n",
              "      <th>word_len</th>\n",
              "      <th>lemmas</th>\n",
              "      <th>w2v_embeds</th>\n",
              "    </tr>\n",
              "  </thead>\n",
              "  <tbody>\n",
              "    <tr>\n",
              "      <th>0</th>\n",
              "      <td>unicreditbank</td>\n",
              "      <td>Я очень редко пользуюсь банковскими продуктами...</td>\n",
              "      <td>5.0</td>\n",
              "      <td>2017-12-31 18:20:00</td>\n",
              "      <td>770</td>\n",
              "      <td>119</td>\n",
              "      <td>очень редко пользоваться банковский продукт не...</td>\n",
              "      <td>[-0.057296943, 0.1775573, 0.012814509, -0.0993...</td>\n",
              "    </tr>\n",
              "    <tr>\n",
              "      <th>1</th>\n",
              "      <td>fk_otkritie</td>\n",
              "      <td>Я вместе с женой 15.11.2019 обратился в отделе...</td>\n",
              "      <td>1.0</td>\n",
              "      <td>2019-11-22 22:42:00</td>\n",
              "      <td>2749</td>\n",
              "      <td>405</td>\n",
              "      <td>вместе жена обратиться отделение банк открытие...</td>\n",
              "      <td>[0.017619327, 0.26207352, 0.009155012, -0.1174...</td>\n",
              "    </tr>\n",
              "    <tr>\n",
              "      <th>2</th>\n",
              "      <td>alfabank</td>\n",
              "      <td>Добрый день.Сегодня 27.12.2018 г около 15.40-1...</td>\n",
              "      <td>1.0</td>\n",
              "      <td>2018-12-27 23:20:00</td>\n",
              "      <td>867</td>\n",
              "      <td>128</td>\n",
              "      <td>добрый день сегодня г около банкомат адрес ряз...</td>\n",
              "      <td>[-0.14303426, 0.2085096, -0.0039132936, -0.075...</td>\n",
              "    </tr>\n",
              "    <tr>\n",
              "      <th>3</th>\n",
              "      <td>vtb</td>\n",
              "      <td>\"Где карточку открывали, туда и идите...\" - эт...</td>\n",
              "      <td>2.0</td>\n",
              "      <td>2020-02-05 16:40:00</td>\n",
              "      <td>2860</td>\n",
              "      <td>462</td>\n",
              "      <td>карточка открывать туда идти этот фраза давно ...</td>\n",
              "      <td>[0.0048099444, 0.16611528, -0.0068816505, -0.1...</td>\n",
              "    </tr>\n",
              "    <tr>\n",
              "      <th>4</th>\n",
              "      <td>promsvyazbank</td>\n",
              "      <td>При покупках в iTunes списываются завышенные с...</td>\n",
              "      <td>NaN</td>\n",
              "      <td>2016-02-26 15:48:00</td>\n",
              "      <td>1066</td>\n",
              "      <td>161</td>\n",
              "      <td>покупка itunes списываться завысить сумма прим...</td>\n",
              "      <td>[-0.01643992, 0.17063482, -0.15326434, -0.2541...</td>\n",
              "    </tr>\n",
              "    <tr>\n",
              "      <th>...</th>\n",
              "      <td>...</td>\n",
              "      <td>...</td>\n",
              "      <td>...</td>\n",
              "      <td>...</td>\n",
              "      <td>...</td>\n",
              "      <td>...</td>\n",
              "      <td>...</td>\n",
              "      <td>...</td>\n",
              "    </tr>\n",
              "    <tr>\n",
              "      <th>349995</th>\n",
              "      <td>investtorgbank</td>\n",
              "      <td>Хочу поделиться своим положительными опытом от...</td>\n",
              "      <td>5.0</td>\n",
              "      <td>2012-12-17 22:57:00</td>\n",
              "      <td>1927</td>\n",
              "      <td>294</td>\n",
              "      <td>хотеть поделиться свой положительный опыт полу...</td>\n",
              "      <td>[-0.058487758, 0.18186063, -0.044076722, -0.13...</td>\n",
              "    </tr>\n",
              "    <tr>\n",
              "      <th>349996</th>\n",
              "      <td>unicreditbank</td>\n",
              "      <td>Добрый день!Хочу оставить отзыв по банку Юникр...</td>\n",
              "      <td>1.0</td>\n",
              "      <td>2021-02-01 11:44:00</td>\n",
              "      <td>839</td>\n",
              "      <td>118</td>\n",
              "      <td>добрый день хотеть оставить отзыв банк юникред...</td>\n",
              "      <td>[-0.00072882674, 0.13193616, -0.026931038, -0....</td>\n",
              "    </tr>\n",
              "    <tr>\n",
              "      <th>349997</th>\n",
              "      <td>locko-bank</td>\n",
              "      <td>Доброго дня! Обратился в Локо Банк с просьбой ...</td>\n",
              "      <td>5.0</td>\n",
              "      <td>2020-04-24 11:39:00</td>\n",
              "      <td>498</td>\n",
              "      <td>70</td>\n",
              "      <td>добрый день обратиться локо банк просьба рестр...</td>\n",
              "      <td>[0.057171892, 0.26056197, 0.07810278, -0.10941...</td>\n",
              "    </tr>\n",
              "    <tr>\n",
              "      <th>349998</th>\n",
              "      <td>tcs</td>\n",
              "      <td>Просрочил платеж на 5 дней, а мне уже взыскани...</td>\n",
              "      <td>NaN</td>\n",
              "      <td>2020-11-24 23:39:00</td>\n",
              "      <td>475</td>\n",
              "      <td>85</td>\n",
              "      <td>просрочить платёж день взыскание звонить предл...</td>\n",
              "      <td>[-0.09745417, 0.14880887, -0.05855264, -0.1904...</td>\n",
              "    </tr>\n",
              "    <tr>\n",
              "      <th>349999</th>\n",
              "      <td>fk_otkritie</td>\n",
              "      <td>В связи с тем, что у меня кредит официально об...</td>\n",
              "      <td>NaN</td>\n",
              "      <td>2016-10-04 13:21:00</td>\n",
              "      <td>1284</td>\n",
              "      <td>185</td>\n",
              "      <td>связь кредит официально обратиться обращение у...</td>\n",
              "      <td>[0.06433281, 0.22241737, 0.026721241, -0.12523...</td>\n",
              "    </tr>\n",
              "  </tbody>\n",
              "</table>\n",
              "<p>350000 rows × 8 columns</p>\n",
              "</div>\n",
              "      <button class=\"colab-df-convert\" onclick=\"convertToInteractive('df-b16b10bb-09e7-46e5-adc5-ba74b679657f')\"\n",
              "              title=\"Convert this dataframe to an interactive table.\"\n",
              "              style=\"display:none;\">\n",
              "        \n",
              "  <svg xmlns=\"http://www.w3.org/2000/svg\" height=\"24px\"viewBox=\"0 0 24 24\"\n",
              "       width=\"24px\">\n",
              "    <path d=\"M0 0h24v24H0V0z\" fill=\"none\"/>\n",
              "    <path d=\"M18.56 5.44l.94 2.06.94-2.06 2.06-.94-2.06-.94-.94-2.06-.94 2.06-2.06.94zm-11 1L8.5 8.5l.94-2.06 2.06-.94-2.06-.94L8.5 2.5l-.94 2.06-2.06.94zm10 10l.94 2.06.94-2.06 2.06-.94-2.06-.94-.94-2.06-.94 2.06-2.06.94z\"/><path d=\"M17.41 7.96l-1.37-1.37c-.4-.4-.92-.59-1.43-.59-.52 0-1.04.2-1.43.59L10.3 9.45l-7.72 7.72c-.78.78-.78 2.05 0 2.83L4 21.41c.39.39.9.59 1.41.59.51 0 1.02-.2 1.41-.59l7.78-7.78 2.81-2.81c.8-.78.8-2.07 0-2.86zM5.41 20L4 18.59l7.72-7.72 1.47 1.35L5.41 20z\"/>\n",
              "  </svg>\n",
              "      </button>\n",
              "      \n",
              "  <style>\n",
              "    .colab-df-container {\n",
              "      display:flex;\n",
              "      flex-wrap:wrap;\n",
              "      gap: 12px;\n",
              "    }\n",
              "\n",
              "    .colab-df-convert {\n",
              "      background-color: #E8F0FE;\n",
              "      border: none;\n",
              "      border-radius: 50%;\n",
              "      cursor: pointer;\n",
              "      display: none;\n",
              "      fill: #1967D2;\n",
              "      height: 32px;\n",
              "      padding: 0 0 0 0;\n",
              "      width: 32px;\n",
              "    }\n",
              "\n",
              "    .colab-df-convert:hover {\n",
              "      background-color: #E2EBFA;\n",
              "      box-shadow: 0px 1px 2px rgba(60, 64, 67, 0.3), 0px 1px 3px 1px rgba(60, 64, 67, 0.15);\n",
              "      fill: #174EA6;\n",
              "    }\n",
              "\n",
              "    [theme=dark] .colab-df-convert {\n",
              "      background-color: #3B4455;\n",
              "      fill: #D2E3FC;\n",
              "    }\n",
              "\n",
              "    [theme=dark] .colab-df-convert:hover {\n",
              "      background-color: #434B5C;\n",
              "      box-shadow: 0px 1px 3px 1px rgba(0, 0, 0, 0.15);\n",
              "      filter: drop-shadow(0px 1px 2px rgba(0, 0, 0, 0.3));\n",
              "      fill: #FFFFFF;\n",
              "    }\n",
              "  </style>\n",
              "\n",
              "      <script>\n",
              "        const buttonEl =\n",
              "          document.querySelector('#df-b16b10bb-09e7-46e5-adc5-ba74b679657f button.colab-df-convert');\n",
              "        buttonEl.style.display =\n",
              "          google.colab.kernel.accessAllowed ? 'block' : 'none';\n",
              "\n",
              "        async function convertToInteractive(key) {\n",
              "          const element = document.querySelector('#df-b16b10bb-09e7-46e5-adc5-ba74b679657f');\n",
              "          const dataTable =\n",
              "            await google.colab.kernel.invokeFunction('convertToInteractive',\n",
              "                                                     [key], {});\n",
              "          if (!dataTable) return;\n",
              "\n",
              "          const docLinkHtml = 'Like what you see? Visit the ' +\n",
              "            '<a target=\"_blank\" href=https://colab.research.google.com/notebooks/data_table.ipynb>data table notebook</a>'\n",
              "            + ' to learn more about interactive tables.';\n",
              "          element.innerHTML = '';\n",
              "          dataTable['output_type'] = 'display_data';\n",
              "          await google.colab.output.renderOutput(dataTable, element);\n",
              "          const docLink = document.createElement('div');\n",
              "          docLink.innerHTML = docLinkHtml;\n",
              "          element.appendChild(docLink);\n",
              "        }\n",
              "      </script>\n",
              "    </div>\n",
              "  </div>\n",
              "  "
            ]
          },
          "metadata": {},
          "execution_count": 13
        }
      ]
    },
    {
      "cell_type": "code",
      "source": [
        "embeds_df = train_df['w2v_embeds'].apply(pd.Series)"
      ],
      "metadata": {
        "id": "IWzbPmhYweJ2"
      },
      "execution_count": null,
      "outputs": []
    },
    {
      "cell_type": "code",
      "source": [
        "train_df = pd.concat([train_df, embeds_df], axis=1)"
      ],
      "metadata": {
        "id": "eBdH_vDPxByp"
      },
      "execution_count": null,
      "outputs": []
    },
    {
      "cell_type": "code",
      "source": [
        "train_no_nan = train_df.dropna()  # удалим наблюдения с неизвестной оценкой отзыва\n",
        "train_no_nan = train_no_nan.drop(columns=['feeds', 'date', 'sym_len', 'word_len',\n",
        "                                          'lemmas', 'w2v_embeds'])\n",
        "train_no_nan['grades'] = train_no_nan['grades'].astype('int16')\n",
        "train_no_nan.sample(3)"
      ],
      "metadata": {
        "colab": {
          "base_uri": "https://localhost:8080/"
        },
        "id": "24zTRIeJxSAT",
        "outputId": "03004dd3-7c5a-458c-8aac-d4ef3d035fbf"
      },
      "execution_count": null,
      "outputs": [
        {
          "output_type": "execute_result",
          "data": {
            "text/plain": [
              "            bank  grades         0         1         2         3         4  \\\n",
              "70106   bcs-bank       1  0.001686  0.186048  0.026936 -0.163402  0.058308   \n",
              "293909  sberbank       1  0.036187  0.226068  0.030098 -0.116255  0.062635   \n",
              "295466       mkb       1  0.025165  0.153231 -0.065188 -0.148137 -0.045348   \n",
              "\n",
              "               5         6         7  ...        90        91        92  \\\n",
              "70106   0.083783  0.055907 -0.061341  ...  0.005223  0.003655 -0.152639   \n",
              "293909  0.040851  0.034893 -0.027520  ...  0.067438  0.075596 -0.153849   \n",
              "295466 -0.107516  0.077699 -0.082065  ...  0.035637  0.047773 -0.258526   \n",
              "\n",
              "              93        94        95        96        97        98        99  \n",
              "70106  -0.148978 -0.239127 -0.121205 -0.042457 -0.072721  0.137279 -0.175973  \n",
              "293909 -0.107110 -0.197793 -0.128305  0.010893 -0.060864  0.109057 -0.124233  \n",
              "295466 -0.026189 -0.286055 -0.084403 -0.084994 -0.025244  0.210356 -0.123263  \n",
              "\n",
              "[3 rows x 102 columns]"
            ],
            "text/html": [
              "\n",
              "  <div id=\"df-169c3efc-fb21-4056-abdd-e50fad3b943a\">\n",
              "    <div class=\"colab-df-container\">\n",
              "      <div>\n",
              "<style scoped>\n",
              "    .dataframe tbody tr th:only-of-type {\n",
              "        vertical-align: middle;\n",
              "    }\n",
              "\n",
              "    .dataframe tbody tr th {\n",
              "        vertical-align: top;\n",
              "    }\n",
              "\n",
              "    .dataframe thead th {\n",
              "        text-align: right;\n",
              "    }\n",
              "</style>\n",
              "<table border=\"1\" class=\"dataframe\">\n",
              "  <thead>\n",
              "    <tr style=\"text-align: right;\">\n",
              "      <th></th>\n",
              "      <th>bank</th>\n",
              "      <th>grades</th>\n",
              "      <th>0</th>\n",
              "      <th>1</th>\n",
              "      <th>2</th>\n",
              "      <th>3</th>\n",
              "      <th>4</th>\n",
              "      <th>5</th>\n",
              "      <th>6</th>\n",
              "      <th>7</th>\n",
              "      <th>...</th>\n",
              "      <th>90</th>\n",
              "      <th>91</th>\n",
              "      <th>92</th>\n",
              "      <th>93</th>\n",
              "      <th>94</th>\n",
              "      <th>95</th>\n",
              "      <th>96</th>\n",
              "      <th>97</th>\n",
              "      <th>98</th>\n",
              "      <th>99</th>\n",
              "    </tr>\n",
              "  </thead>\n",
              "  <tbody>\n",
              "    <tr>\n",
              "      <th>70106</th>\n",
              "      <td>bcs-bank</td>\n",
              "      <td>1</td>\n",
              "      <td>0.001686</td>\n",
              "      <td>0.186048</td>\n",
              "      <td>0.026936</td>\n",
              "      <td>-0.163402</td>\n",
              "      <td>0.058308</td>\n",
              "      <td>0.083783</td>\n",
              "      <td>0.055907</td>\n",
              "      <td>-0.061341</td>\n",
              "      <td>...</td>\n",
              "      <td>0.005223</td>\n",
              "      <td>0.003655</td>\n",
              "      <td>-0.152639</td>\n",
              "      <td>-0.148978</td>\n",
              "      <td>-0.239127</td>\n",
              "      <td>-0.121205</td>\n",
              "      <td>-0.042457</td>\n",
              "      <td>-0.072721</td>\n",
              "      <td>0.137279</td>\n",
              "      <td>-0.175973</td>\n",
              "    </tr>\n",
              "    <tr>\n",
              "      <th>293909</th>\n",
              "      <td>sberbank</td>\n",
              "      <td>1</td>\n",
              "      <td>0.036187</td>\n",
              "      <td>0.226068</td>\n",
              "      <td>0.030098</td>\n",
              "      <td>-0.116255</td>\n",
              "      <td>0.062635</td>\n",
              "      <td>0.040851</td>\n",
              "      <td>0.034893</td>\n",
              "      <td>-0.027520</td>\n",
              "      <td>...</td>\n",
              "      <td>0.067438</td>\n",
              "      <td>0.075596</td>\n",
              "      <td>-0.153849</td>\n",
              "      <td>-0.107110</td>\n",
              "      <td>-0.197793</td>\n",
              "      <td>-0.128305</td>\n",
              "      <td>0.010893</td>\n",
              "      <td>-0.060864</td>\n",
              "      <td>0.109057</td>\n",
              "      <td>-0.124233</td>\n",
              "    </tr>\n",
              "    <tr>\n",
              "      <th>295466</th>\n",
              "      <td>mkb</td>\n",
              "      <td>1</td>\n",
              "      <td>0.025165</td>\n",
              "      <td>0.153231</td>\n",
              "      <td>-0.065188</td>\n",
              "      <td>-0.148137</td>\n",
              "      <td>-0.045348</td>\n",
              "      <td>-0.107516</td>\n",
              "      <td>0.077699</td>\n",
              "      <td>-0.082065</td>\n",
              "      <td>...</td>\n",
              "      <td>0.035637</td>\n",
              "      <td>0.047773</td>\n",
              "      <td>-0.258526</td>\n",
              "      <td>-0.026189</td>\n",
              "      <td>-0.286055</td>\n",
              "      <td>-0.084403</td>\n",
              "      <td>-0.084994</td>\n",
              "      <td>-0.025244</td>\n",
              "      <td>0.210356</td>\n",
              "      <td>-0.123263</td>\n",
              "    </tr>\n",
              "  </tbody>\n",
              "</table>\n",
              "<p>3 rows × 102 columns</p>\n",
              "</div>\n",
              "      <button class=\"colab-df-convert\" onclick=\"convertToInteractive('df-169c3efc-fb21-4056-abdd-e50fad3b943a')\"\n",
              "              title=\"Convert this dataframe to an interactive table.\"\n",
              "              style=\"display:none;\">\n",
              "        \n",
              "  <svg xmlns=\"http://www.w3.org/2000/svg\" height=\"24px\"viewBox=\"0 0 24 24\"\n",
              "       width=\"24px\">\n",
              "    <path d=\"M0 0h24v24H0V0z\" fill=\"none\"/>\n",
              "    <path d=\"M18.56 5.44l.94 2.06.94-2.06 2.06-.94-2.06-.94-.94-2.06-.94 2.06-2.06.94zm-11 1L8.5 8.5l.94-2.06 2.06-.94-2.06-.94L8.5 2.5l-.94 2.06-2.06.94zm10 10l.94 2.06.94-2.06 2.06-.94-2.06-.94-.94-2.06-.94 2.06-2.06.94z\"/><path d=\"M17.41 7.96l-1.37-1.37c-.4-.4-.92-.59-1.43-.59-.52 0-1.04.2-1.43.59L10.3 9.45l-7.72 7.72c-.78.78-.78 2.05 0 2.83L4 21.41c.39.39.9.59 1.41.59.51 0 1.02-.2 1.41-.59l7.78-7.78 2.81-2.81c.8-.78.8-2.07 0-2.86zM5.41 20L4 18.59l7.72-7.72 1.47 1.35L5.41 20z\"/>\n",
              "  </svg>\n",
              "      </button>\n",
              "      \n",
              "  <style>\n",
              "    .colab-df-container {\n",
              "      display:flex;\n",
              "      flex-wrap:wrap;\n",
              "      gap: 12px;\n",
              "    }\n",
              "\n",
              "    .colab-df-convert {\n",
              "      background-color: #E8F0FE;\n",
              "      border: none;\n",
              "      border-radius: 50%;\n",
              "      cursor: pointer;\n",
              "      display: none;\n",
              "      fill: #1967D2;\n",
              "      height: 32px;\n",
              "      padding: 0 0 0 0;\n",
              "      width: 32px;\n",
              "    }\n",
              "\n",
              "    .colab-df-convert:hover {\n",
              "      background-color: #E2EBFA;\n",
              "      box-shadow: 0px 1px 2px rgba(60, 64, 67, 0.3), 0px 1px 3px 1px rgba(60, 64, 67, 0.15);\n",
              "      fill: #174EA6;\n",
              "    }\n",
              "\n",
              "    [theme=dark] .colab-df-convert {\n",
              "      background-color: #3B4455;\n",
              "      fill: #D2E3FC;\n",
              "    }\n",
              "\n",
              "    [theme=dark] .colab-df-convert:hover {\n",
              "      background-color: #434B5C;\n",
              "      box-shadow: 0px 1px 3px 1px rgba(0, 0, 0, 0.15);\n",
              "      filter: drop-shadow(0px 1px 2px rgba(0, 0, 0, 0.3));\n",
              "      fill: #FFFFFF;\n",
              "    }\n",
              "  </style>\n",
              "\n",
              "      <script>\n",
              "        const buttonEl =\n",
              "          document.querySelector('#df-169c3efc-fb21-4056-abdd-e50fad3b943a button.colab-df-convert');\n",
              "        buttonEl.style.display =\n",
              "          google.colab.kernel.accessAllowed ? 'block' : 'none';\n",
              "\n",
              "        async function convertToInteractive(key) {\n",
              "          const element = document.querySelector('#df-169c3efc-fb21-4056-abdd-e50fad3b943a');\n",
              "          const dataTable =\n",
              "            await google.colab.kernel.invokeFunction('convertToInteractive',\n",
              "                                                     [key], {});\n",
              "          if (!dataTable) return;\n",
              "\n",
              "          const docLinkHtml = 'Like what you see? Visit the ' +\n",
              "            '<a target=\"_blank\" href=https://colab.research.google.com/notebooks/data_table.ipynb>data table notebook</a>'\n",
              "            + ' to learn more about interactive tables.';\n",
              "          element.innerHTML = '';\n",
              "          dataTable['output_type'] = 'display_data';\n",
              "          await google.colab.output.renderOutput(dataTable, element);\n",
              "          const docLink = document.createElement('div');\n",
              "          docLink.innerHTML = docLinkHtml;\n",
              "          element.appendChild(docLink);\n",
              "        }\n",
              "      </script>\n",
              "    </div>\n",
              "  </div>\n",
              "  "
            ]
          },
          "metadata": {},
          "execution_count": 16
        }
      ]
    },
    {
      "cell_type": "markdown",
      "source": [
        "Теперь обучим модель, используя в качестве признаков название банка (их закодируем через one hot кодирование) и усредненный вектор эмбеддингов слов отзыва."
      ],
      "metadata": {
        "id": "LBbGgpOmn3UO"
      }
    },
    {
      "cell_type": "code",
      "source": [
        "X = train_no_nan.drop('grades', axis=1)\n",
        "y = train_no_nan.grades\n",
        "\n",
        "X_train, X_test, y_train, y_test = train_test_split(X, y, test_size=0.3, \n",
        "                                                    random_state=42, stratify=y)\n",
        "print (\"total train examples %s\" % len(y_train))\n",
        "print (\"total test examples %s\" % len(y_test))"
      ],
      "metadata": {
        "colab": {
          "base_uri": "https://localhost:8080/"
        },
        "id": "93dXh5xmyEF8",
        "outputId": "3b05f92a-14ab-43ea-9f27-a603f505d305"
      },
      "execution_count": null,
      "outputs": [
        {
          "output_type": "stream",
          "name": "stdout",
          "text": [
            "total train examples 192200\n",
            "total test examples 48050\n"
          ]
        }
      ]
    },
    {
      "cell_type": "markdown",
      "source": [
        "Ниже код для undersampling, который удалял часть отзывов наиболее преобладающего класса (те, к которых оценка 1), но с undersampling'ом качество падало"
      ],
      "metadata": {
        "id": "6dRtGQ2yoUAc"
      }
    },
    {
      "cell_type": "code",
      "source": [
        "# np.random.seed(42)\n",
        "# idx_drop = np.random.choice(y_train[y_train == 1].index, size=int(y_train[y_train == 1].shape[0] * 0.35), replace=False)\n",
        "# X_train = X_train.drop(index=idx_drop)\n",
        "# y_train = y_train.drop(index=idx_drop)"
      ],
      "metadata": {
        "id": "W2M5meq44VPl"
      },
      "execution_count": null,
      "outputs": []
    },
    {
      "cell_type": "code",
      "source": [
        "# y_train.value_counts(normalize=True)"
      ],
      "metadata": {
        "colab": {
          "base_uri": "https://localhost:8080/"
        },
        "id": "MadbCO1d4sdE",
        "outputId": "936581a7-d28e-4ec7-ba30-8ca7e27a2a8b"
      },
      "execution_count": null,
      "outputs": [
        {
          "output_type": "execute_result",
          "data": {
            "text/plain": [
              "1    0.433126\n",
              "5    0.340872\n",
              "2    0.132452\n",
              "3    0.057137\n",
              "4    0.036413\n",
              "Name: grades, dtype: float64"
            ]
          },
          "metadata": {},
          "execution_count": 19
        }
      ]
    },
    {
      "cell_type": "code",
      "source": [
        "column_transformer = ColumnTransformer([\n",
        "    ('ohe', OneHotEncoder(handle_unknown='ignore'), ['bank'])  \n",
        "], remainder='passthrough')\n",
        "\n",
        "X_train_transf = column_transformer.fit_transform(X_train)\n",
        "X_test_transf = column_transformer.transform(X_test)"
      ],
      "metadata": {
        "colab": {
          "base_uri": "https://localhost:8080/"
        },
        "id": "3d6s1cJazp-R",
        "outputId": "f37a369c-192c-472c-d176-06a8d5b10fe0"
      },
      "execution_count": null,
      "outputs": [
        {
          "output_type": "stream",
          "name": "stderr",
          "text": [
            "/usr/local/lib/python3.8/dist-packages/sklearn/utils/validation.py:1688: FutureWarning: Feature names only support names that are all strings. Got feature names with dtypes: ['int', 'str']. An error will be raised in 1.2.\n",
            "  warnings.warn(\n"
          ]
        }
      ]
    },
    {
      "cell_type": "markdown",
      "source": [
        "Обучим модель LGBM на наших данных. Таким образом получается очень хороший бейзлайн, побить который оказалось достаточно нелегко"
      ],
      "metadata": {
        "id": "Xyl80VGRo7kl"
      }
    },
    {
      "cell_type": "code",
      "source": [
        "lgbm = LGBMClassifier(max_depth=4, learning_rate=0.05, \n",
        "                      n_estimators=1000, random_state=42)\n",
        "lgbm.fit(X_train_transf, y_train)"
      ],
      "metadata": {
        "colab": {
          "base_uri": "https://localhost:8080/"
        },
        "id": "ZmvF2awg0luZ",
        "outputId": "20a83adb-40d1-4d6a-e223-6887b791169b"
      },
      "execution_count": null,
      "outputs": [
        {
          "output_type": "execute_result",
          "data": {
            "text/plain": [
              "LGBMClassifier(learning_rate=0.07, max_depth=5, n_estimators=1000,\n",
              "               random_state=42)"
            ]
          },
          "metadata": {},
          "execution_count": 21
        }
      ]
    },
    {
      "cell_type": "code",
      "source": [
        "print('micro f1 on train: {:.2f}'.format(f1_score(y_train, lgbm.predict(X_train_transf), average='micro')))\n",
        "print('micro f1 on val: {:.2f}'.format(f1_score(y_test, lgbm.predict(X_test_transf), average='micro')))"
      ],
      "metadata": {
        "colab": {
          "base_uri": "https://localhost:8080/"
        },
        "id": "_nQoZGfDxQ7g",
        "outputId": "7ae66a3a-5456-4855-bf7b-3fbb43d73b6c"
      },
      "execution_count": null,
      "outputs": [
        {
          "output_type": "stream",
          "name": "stdout",
          "text": [
            "micro f1 on train: 0.80\n",
            "micro f1 on val: 0.79\n"
          ]
        }
      ]
    },
    {
      "cell_type": "code",
      "source": [
        "def grid_search(model, X, y, params, scoring='f1_micro', nfolds=3):    \n",
        "    gscv = GridSearchCV(model, params, scoring=scoring, cv=nfolds, n_jobs=-1)\n",
        "    gscv.fit(X, y)\n",
        "    print('Best score: %.5f' % gscv.best_score_)\n",
        "    print('Best params:', gscv.best_params_)\n",
        "    return gscv"
      ],
      "metadata": {
        "id": "72x4mzAjqbpE"
      },
      "execution_count": null,
      "outputs": []
    },
    {
      "cell_type": "markdown",
      "source": [
        "Ниже происходит обучения catboost, random forest, logreg и стекинга из всех этих моделей, но ничто из перечисленного (в том числе с перебором гиперпараметров) не помогло побить бейзлайн, который удалось побить только БЕРТом"
      ],
      "metadata": {
        "id": "MIuSZ2g5pVru"
      }
    },
    {
      "cell_type": "code",
      "source": [
        "cbmodel = CatBoostClassifier(depth=6, learning_rate=0.05, n_estimators=800, \n",
        "                             verbose=False, random_state=42)\n",
        "cbmodel.fit(X_train_transf, y_train)"
      ],
      "metadata": {
        "colab": {
          "base_uri": "https://localhost:8080/"
        },
        "id": "0WFKsm79BqMS",
        "outputId": "4b6bc2f8-6493-41ed-f464-4a450fede6a8"
      },
      "execution_count": null,
      "outputs": [
        {
          "output_type": "execute_result",
          "data": {
            "text/plain": [
              "<catboost.core.CatBoostClassifier at 0x7f9bc153c850>"
            ]
          },
          "metadata": {},
          "execution_count": 27
        }
      ]
    },
    {
      "cell_type": "code",
      "source": [
        "print('micro f1 on train: {:.2f}'.format(f1_score(y_train, cbmodel.predict(X_train_transf), average='micro')))\n",
        "print('micro f1 on val: {:.2f}'.format(f1_score(y_test, cbmodel.predict(X_test_transf), average='micro')))"
      ],
      "metadata": {
        "colab": {
          "base_uri": "https://localhost:8080/"
        },
        "id": "YCz3uoAHCmF4",
        "outputId": "e750b896-2a03-4009-e928-c54fc7e13393"
      },
      "execution_count": null,
      "outputs": [
        {
          "output_type": "stream",
          "name": "stdout",
          "text": [
            "micro f1 on train: 0.78\n",
            "micro f1 on val: 0.79\n"
          ]
        }
      ]
    },
    {
      "cell_type": "code",
      "source": [
        "rfc = RandomForestClassifier(n_estimators=100, max_depth=10,\n",
        "                             criterion='entropy',\n",
        "                             random_state=42)\n",
        "rfc.fit(X_train_transf, y_train)"
      ],
      "metadata": {
        "colab": {
          "base_uri": "https://localhost:8080/"
        },
        "id": "IBYWw2vBEsou",
        "outputId": "86f6d4f6-2438-46d7-e8e8-19ea46bdfb06"
      },
      "execution_count": null,
      "outputs": [
        {
          "output_type": "execute_result",
          "data": {
            "text/plain": [
              "RandomForestClassifier(criterion='entropy', max_depth=10, random_state=42)"
            ]
          },
          "metadata": {},
          "execution_count": 29
        }
      ]
    },
    {
      "cell_type": "code",
      "source": [
        "print('micro f1 on train: {:.2f}'.format(f1_score(y_train, rfc.predict(X_train_transf), average='micro')))\n",
        "print('micro f1 on val: {:.2f}'.format(f1_score(y_test, rfc.predict(X_test_transf), average='micro')))"
      ],
      "metadata": {
        "id": "UVDkM5m8FKtb",
        "colab": {
          "base_uri": "https://localhost:8080/"
        },
        "outputId": "e6105b21-d109-4608-9feb-8d2b6c45ed0e"
      },
      "execution_count": null,
      "outputs": [
        {
          "output_type": "stream",
          "name": "stdout",
          "text": [
            "micro f1 on train: 0.73\n",
            "micro f1 on val: 0.77\n"
          ]
        }
      ]
    },
    {
      "cell_type": "code",
      "source": [
        "lr = LogisticRegression(max_iter=5000, random_state=42)\n",
        "lr.fit(X_train_transf, y_train)"
      ],
      "metadata": {
        "colab": {
          "base_uri": "https://localhost:8080/"
        },
        "id": "XhQSpmqlbthS",
        "outputId": "64e03d01-a15f-4e7b-fc8b-cbd346916326"
      },
      "execution_count": null,
      "outputs": [
        {
          "output_type": "execute_result",
          "data": {
            "text/plain": [
              "LogisticRegression(max_iter=5000, random_state=42)"
            ]
          },
          "metadata": {},
          "execution_count": 34
        }
      ]
    },
    {
      "cell_type": "code",
      "source": [
        "print('micro f1 on train: {:.2f}'.format(f1_score(y_train, lr.predict(X_train_transf), average='micro')))\n",
        "print('micro f1 on val: {:.2f}'.format(f1_score(y_test, lr.predict(X_test_transf), average='micro')))"
      ],
      "metadata": {
        "colab": {
          "base_uri": "https://localhost:8080/"
        },
        "id": "p2bFJTQxb5jL",
        "outputId": "e60b3c1e-dafd-417c-a1c1-07679d80fa91"
      },
      "execution_count": null,
      "outputs": [
        {
          "output_type": "stream",
          "name": "stdout",
          "text": [
            "micro f1 on train: 0.75\n",
            "micro f1 on val: 0.79\n"
          ]
        }
      ]
    },
    {
      "cell_type": "code",
      "source": [
        "X_train_val, X_test_val, y_train_val, y_test_val = train_test_split(X_test_transf, y_test, train_size=0.3, \n",
        "                                                                    random_state=42, stratify=y_test)"
      ],
      "metadata": {
        "id": "FIM4FbtFNKne"
      },
      "execution_count": null,
      "outputs": []
    },
    {
      "cell_type": "code",
      "source": [
        "def get_blend_preds(data):\n",
        "  df_stack_preds = pd.DataFrame({\n",
        "      'lgbm': np.argmax(lgbm.predict_proba(data), axis=1) + 1,\n",
        "      'cbmodel': np.argmax(cbmodel.predict_proba(data), axis=1) + 1,\n",
        "      'rfc': np.argmax(rfc.predict_proba(data), axis=1) + 1,\n",
        "      'lr': np.argmax(lr.predict_proba(data), axis=1) + 1\n",
        "      })\n",
        "  return df_stack_preds.mode(axis=1)[0]"
      ],
      "metadata": {
        "id": "z5eegQHlh3PX"
      },
      "execution_count": null,
      "outputs": []
    },
    {
      "cell_type": "code",
      "source": [
        "print('micro f1 on train: {:.2f}'.format(f1_score(y_train_val, get_blend_preds(X_train_val), average='micro')))\n",
        "print('micro f1 on val: {:.2f}'.format(f1_score(y_test_val, get_blend_preds(X_test_val), average='micro')))"
      ],
      "metadata": {
        "colab": {
          "base_uri": "https://localhost:8080/"
        },
        "id": "QQWWhBk6jCb0",
        "outputId": "f559d1c2-bbfc-496f-ccc2-1b2033dbfe8f"
      },
      "execution_count": null,
      "outputs": [
        {
          "output_type": "stream",
          "name": "stdout",
          "text": [
            "micro f1 on train: 0.79\n",
            "micro f1 on val: 0.79\n"
          ]
        }
      ]
    },
    {
      "cell_type": "code",
      "source": [
        "stacked = StackingClassifier([('lgbm', lgbm), ('catboost', cbmodel), \n",
        "                              ('lr', lr)],\n",
        "                              final_estimator=LogisticRegression(max_iter=200),\n",
        "                              stack_method='auto',\n",
        "                              n_jobs=-1)\n",
        "stacked.fit(X_train_val, y_train_val)"
      ],
      "metadata": {
        "colab": {
          "base_uri": "https://localhost:8080/"
        },
        "id": "dV1Jrv-lFTTT",
        "outputId": "e78719bf-5b0b-4b8a-cace-1eb91826ff6d"
      },
      "execution_count": null,
      "outputs": [
        {
          "output_type": "stream",
          "name": "stderr",
          "text": [
            "/usr/local/lib/python3.8/dist-packages/sklearn/linear_model/_logistic.py:814: ConvergenceWarning: lbfgs failed to converge (status=1):\n",
            "STOP: TOTAL NO. of ITERATIONS REACHED LIMIT.\n",
            "\n",
            "Increase the number of iterations (max_iter) or scale the data as shown in:\n",
            "    https://scikit-learn.org/stable/modules/preprocessing.html\n",
            "Please also refer to the documentation for alternative solver options:\n",
            "    https://scikit-learn.org/stable/modules/linear_model.html#logistic-regression\n",
            "  n_iter_i = _check_optimize_result(\n"
          ]
        },
        {
          "output_type": "execute_result",
          "data": {
            "text/plain": [
              "StackingClassifier(estimators=[('lgbm',\n",
              "                                LGBMClassifier(learning_rate=0.07, max_depth=5,\n",
              "                                               n_estimators=1000,\n",
              "                                               random_state=42)),\n",
              "                               ('lr',\n",
              "                                LogisticRegression(max_iter=5000,\n",
              "                                                   random_state=42))],\n",
              "                   final_estimator=LogisticRegression(), n_jobs=-1)"
            ]
          },
          "metadata": {},
          "execution_count": 39
        }
      ]
    },
    {
      "cell_type": "code",
      "source": [
        "print('micro f1 on train: {:.2f}'.format(f1_score(y_train_val, stacked.predict(X_train_val), average='micro')))\n",
        "print('micro f1 on val: {:.2f}'.format(f1_score(y_test_val, stacked.predict(X_test_val), average='micro')))"
      ],
      "metadata": {
        "colab": {
          "base_uri": "https://localhost:8080/"
        },
        "id": "QEmwmCI9Fk60",
        "outputId": "bdcb48d4-addc-49e4-a0fb-878114b49f91"
      },
      "execution_count": null,
      "outputs": [
        {
          "output_type": "stream",
          "name": "stdout",
          "text": [
            "micro f1 on train: 0.82\n",
            "micro f1 on val: 0.79\n"
          ]
        }
      ]
    },
    {
      "cell_type": "markdown",
      "source": [
        "Повторим препроцессинг для тестовой части"
      ],
      "metadata": {
        "id": "zXKoealH3m6q"
      }
    },
    {
      "cell_type": "code",
      "source": [
        "with Pool(8) as p:\n",
        "    lemmas_test = list(tqdm(p.imap(preprocess_text, test_df['feeds']), total=len(test_df)))\n",
        "    \n",
        "test_df['lemmas'] = lemmas_test\n",
        "test_df.sample(5)"
      ],
      "metadata": {
        "colab": {
          "base_uri": "https://localhost:8080/",
          "height": 223
        },
        "id": "4Q7WxgBo3rtk",
        "outputId": "46d45677-e87e-4a29-a01b-8f4302fc905e"
      },
      "execution_count": null,
      "outputs": [
        {
          "output_type": "stream",
          "name": "stderr",
          "text": [
            "100%|██████████| 34114/34114 [10:41<00:00, 53.20it/s]\n"
          ]
        },
        {
          "output_type": "execute_result",
          "data": {
            "text/plain": [
              "                 bank                                              feeds  \\\n",
              "25916             rsb  Видит бог, не хотел тут писать, но достали... ...   \n",
              "7002   bnpparibaseast  После оформления автокредита и регистрации маш...   \n",
              "22562        alfabank  Поставила единицу банку, а не оператору! Опера...   \n",
              "4869             rshb  26 мая получили предварительное решение о Сель...   \n",
              "1471   homecreditbank  Хочу поделиться как Хоум Кредит работает с дол...   \n",
              "\n",
              "                   date                                             lemmas  \n",
              "25916  24.12.2010 17:05  видеть бог хотеть писать достать короче написа...  \n",
              "7002   15.08.2017 15:48  оформление автокредит регистрация машина услов...  \n",
              "22562  28.01.2020 15:25  поставить единица банк оператор оператор ирина...  \n",
              "4869    03.09.2020 5:29  май получить предварительный решение сельхозип...  \n",
              "1471    23.05.2014 3:08  хотеть поделиться хоум кредит работать должник...  "
            ],
            "text/html": [
              "\n",
              "  <div id=\"df-5b496e3b-a5d7-4b6f-806d-06c3b6cd41cf\">\n",
              "    <div class=\"colab-df-container\">\n",
              "      <div>\n",
              "<style scoped>\n",
              "    .dataframe tbody tr th:only-of-type {\n",
              "        vertical-align: middle;\n",
              "    }\n",
              "\n",
              "    .dataframe tbody tr th {\n",
              "        vertical-align: top;\n",
              "    }\n",
              "\n",
              "    .dataframe thead th {\n",
              "        text-align: right;\n",
              "    }\n",
              "</style>\n",
              "<table border=\"1\" class=\"dataframe\">\n",
              "  <thead>\n",
              "    <tr style=\"text-align: right;\">\n",
              "      <th></th>\n",
              "      <th>bank</th>\n",
              "      <th>feeds</th>\n",
              "      <th>date</th>\n",
              "      <th>lemmas</th>\n",
              "    </tr>\n",
              "  </thead>\n",
              "  <tbody>\n",
              "    <tr>\n",
              "      <th>25916</th>\n",
              "      <td>rsb</td>\n",
              "      <td>Видит бог, не хотел тут писать, но достали... ...</td>\n",
              "      <td>24.12.2010 17:05</td>\n",
              "      <td>видеть бог хотеть писать достать короче написа...</td>\n",
              "    </tr>\n",
              "    <tr>\n",
              "      <th>7002</th>\n",
              "      <td>bnpparibaseast</td>\n",
              "      <td>После оформления автокредита и регистрации маш...</td>\n",
              "      <td>15.08.2017 15:48</td>\n",
              "      <td>оформление автокредит регистрация машина услов...</td>\n",
              "    </tr>\n",
              "    <tr>\n",
              "      <th>22562</th>\n",
              "      <td>alfabank</td>\n",
              "      <td>Поставила единицу банку, а не оператору! Опера...</td>\n",
              "      <td>28.01.2020 15:25</td>\n",
              "      <td>поставить единица банк оператор оператор ирина...</td>\n",
              "    </tr>\n",
              "    <tr>\n",
              "      <th>4869</th>\n",
              "      <td>rshb</td>\n",
              "      <td>26 мая получили предварительное решение о Сель...</td>\n",
              "      <td>03.09.2020 5:29</td>\n",
              "      <td>май получить предварительный решение сельхозип...</td>\n",
              "    </tr>\n",
              "    <tr>\n",
              "      <th>1471</th>\n",
              "      <td>homecreditbank</td>\n",
              "      <td>Хочу поделиться как Хоум Кредит работает с дол...</td>\n",
              "      <td>23.05.2014 3:08</td>\n",
              "      <td>хотеть поделиться хоум кредит работать должник...</td>\n",
              "    </tr>\n",
              "  </tbody>\n",
              "</table>\n",
              "</div>\n",
              "      <button class=\"colab-df-convert\" onclick=\"convertToInteractive('df-5b496e3b-a5d7-4b6f-806d-06c3b6cd41cf')\"\n",
              "              title=\"Convert this dataframe to an interactive table.\"\n",
              "              style=\"display:none;\">\n",
              "        \n",
              "  <svg xmlns=\"http://www.w3.org/2000/svg\" height=\"24px\"viewBox=\"0 0 24 24\"\n",
              "       width=\"24px\">\n",
              "    <path d=\"M0 0h24v24H0V0z\" fill=\"none\"/>\n",
              "    <path d=\"M18.56 5.44l.94 2.06.94-2.06 2.06-.94-2.06-.94-.94-2.06-.94 2.06-2.06.94zm-11 1L8.5 8.5l.94-2.06 2.06-.94-2.06-.94L8.5 2.5l-.94 2.06-2.06.94zm10 10l.94 2.06.94-2.06 2.06-.94-2.06-.94-.94-2.06-.94 2.06-2.06.94z\"/><path d=\"M17.41 7.96l-1.37-1.37c-.4-.4-.92-.59-1.43-.59-.52 0-1.04.2-1.43.59L10.3 9.45l-7.72 7.72c-.78.78-.78 2.05 0 2.83L4 21.41c.39.39.9.59 1.41.59.51 0 1.02-.2 1.41-.59l7.78-7.78 2.81-2.81c.8-.78.8-2.07 0-2.86zM5.41 20L4 18.59l7.72-7.72 1.47 1.35L5.41 20z\"/>\n",
              "  </svg>\n",
              "      </button>\n",
              "      \n",
              "  <style>\n",
              "    .colab-df-container {\n",
              "      display:flex;\n",
              "      flex-wrap:wrap;\n",
              "      gap: 12px;\n",
              "    }\n",
              "\n",
              "    .colab-df-convert {\n",
              "      background-color: #E8F0FE;\n",
              "      border: none;\n",
              "      border-radius: 50%;\n",
              "      cursor: pointer;\n",
              "      display: none;\n",
              "      fill: #1967D2;\n",
              "      height: 32px;\n",
              "      padding: 0 0 0 0;\n",
              "      width: 32px;\n",
              "    }\n",
              "\n",
              "    .colab-df-convert:hover {\n",
              "      background-color: #E2EBFA;\n",
              "      box-shadow: 0px 1px 2px rgba(60, 64, 67, 0.3), 0px 1px 3px 1px rgba(60, 64, 67, 0.15);\n",
              "      fill: #174EA6;\n",
              "    }\n",
              "\n",
              "    [theme=dark] .colab-df-convert {\n",
              "      background-color: #3B4455;\n",
              "      fill: #D2E3FC;\n",
              "    }\n",
              "\n",
              "    [theme=dark] .colab-df-convert:hover {\n",
              "      background-color: #434B5C;\n",
              "      box-shadow: 0px 1px 3px 1px rgba(0, 0, 0, 0.15);\n",
              "      filter: drop-shadow(0px 1px 2px rgba(0, 0, 0, 0.3));\n",
              "      fill: #FFFFFF;\n",
              "    }\n",
              "  </style>\n",
              "\n",
              "      <script>\n",
              "        const buttonEl =\n",
              "          document.querySelector('#df-5b496e3b-a5d7-4b6f-806d-06c3b6cd41cf button.colab-df-convert');\n",
              "        buttonEl.style.display =\n",
              "          google.colab.kernel.accessAllowed ? 'block' : 'none';\n",
              "\n",
              "        async function convertToInteractive(key) {\n",
              "          const element = document.querySelector('#df-5b496e3b-a5d7-4b6f-806d-06c3b6cd41cf');\n",
              "          const dataTable =\n",
              "            await google.colab.kernel.invokeFunction('convertToInteractive',\n",
              "                                                     [key], {});\n",
              "          if (!dataTable) return;\n",
              "\n",
              "          const docLinkHtml = 'Like what you see? Visit the ' +\n",
              "            '<a target=\"_blank\" href=https://colab.research.google.com/notebooks/data_table.ipynb>data table notebook</a>'\n",
              "            + ' to learn more about interactive tables.';\n",
              "          element.innerHTML = '';\n",
              "          dataTable['output_type'] = 'display_data';\n",
              "          await google.colab.output.renderOutput(dataTable, element);\n",
              "          const docLink = document.createElement('div');\n",
              "          docLink.innerHTML = docLinkHtml;\n",
              "          element.appendChild(docLink);\n",
              "        }\n",
              "      </script>\n",
              "    </div>\n",
              "  </div>\n",
              "  "
            ]
          },
          "metadata": {},
          "execution_count": 59
        }
      ]
    },
    {
      "cell_type": "code",
      "source": [
        "test_df.to_csv('/content/drive/MyDrive/Colab Notebooks/NLP/bootcamp/test_clean.csv', index=False)"
      ],
      "metadata": {
        "id": "pdoPh8A-4ksA"
      },
      "execution_count": null,
      "outputs": []
    },
    {
      "cell_type": "code",
      "source": [
        "with open('/content/drive/MyDrive/Colab Notebooks/NLP/bootcamp/clean_text_test.txt', 'w') as f:  \n",
        "  for s in lemmas_test:\n",
        "    f.write(s + '\\n')"
      ],
      "metadata": {
        "id": "X4znvBn-4BXi"
      },
      "execution_count": null,
      "outputs": []
    },
    {
      "cell_type": "code",
      "source": [
        "corp_to_embeds = []\n",
        "with open('/content/drive/MyDrive/Colab Notebooks/NLP/bootcamp/clean_text_test.txt') as f:\n",
        "  for l in f:\n",
        "    lst = [model.wv.get_vector(w) for w in l.split() if w in model.wv.vocab]      \n",
        "    corp_to_embeds.append(np.mean(lst, axis=0))"
      ],
      "metadata": {
        "id": "skkMJPJ-3rry"
      },
      "execution_count": null,
      "outputs": []
    },
    {
      "cell_type": "code",
      "source": [
        "test_df['w2v_embeds'] = corp_to_embeds\n",
        "test_df"
      ],
      "metadata": {
        "colab": {
          "base_uri": "https://localhost:8080/"
        },
        "id": "hpnYZ_oS3ros",
        "outputId": "30162519-2bc2-430d-f8e7-effc62d7f5af"
      },
      "execution_count": null,
      "outputs": [
        {
          "output_type": "execute_result",
          "data": {
            "text/plain": [
              "                 bank                                              feeds  \\\n",
              "0            sberbank  История такова: 27.01.2015 мне на телефон приш...   \n",
              "1            alfabank  Нельзя решить ни один вопрос оперативно, автоо...   \n",
              "2                 tcs  Быстро, удобно, чего ещё нужно то. На сайтике ...   \n",
              "3          pochtabank  Добрый день! Просто в шоке от  ПАО «Почта Банк...   \n",
              "4            sberbank  В течение выходных дней новогоднего периода 20...   \n",
              "...               ...                                                ...   \n",
              "34109        alfabank  Никогда не думал, что Альфа банк такой ужасный...   \n",
              "34110  v-express-bank  Добрый день. Даааа ужжжж... всегда выбирала им...   \n",
              "34111             rsb  Приходиться повторно писать об отношении этого...   \n",
              "34112         rosbank  Я долго сотрудничаю с Росбанком, не один креди...   \n",
              "34113      raiffeisen  Являюсь клиентом банка 2,5 года. Сначала все б...   \n",
              "\n",
              "                   date                                             lemmas  \\\n",
              "0      05.02.2015 17:33  история таков телефон прийти подряд смс списан...   \n",
              "1       03.03.2021 9:27  решить вопрос оперативно автоответчик отказыва...   \n",
              "2       09.04.2018 7:40  быстро удобно нужно сайтик быстро оформить док...   \n",
              "3       09.04.2020 9:57  добрый день просто шок пао почта банк обратить...   \n",
              "4      12.01.2012 14:00  течение выходной день новогодний период банком...   \n",
              "...                 ...                                                ...   \n",
              "34109  23.06.2019 12:40  думать альфа банк ужасный банк юридический лиц...   \n",
              "34110   20.12.2013 3:46  добрый день даааа ужжжж выбирать именно банк с...   \n",
              "34111  13.11.2011 17:20  приходиться повторно писать отношение банк сво...   \n",
              "34112   28.02.2017 9:24  долго сотрудничать росбанк кредит взять однако...   \n",
              "34113  25.12.2008 15:21  являться клиент банк год сначала отлично услов...   \n",
              "\n",
              "                                              w2v_embeds  \n",
              "0      [-0.017935527, 0.24498321, -0.010504065, -0.13...  \n",
              "1      [-0.07190745, 0.23438267, 0.07242206, -0.19762...  \n",
              "2      [-0.0010693996, 0.16758825, 0.022258865, -0.13...  \n",
              "3      [0.104477525, 0.17261854, 0.02447445, -0.16589...  \n",
              "4      [-0.13400935, 0.14759469, 0.029794397, -0.0531...  \n",
              "...                                                  ...  \n",
              "34109  [0.08979863, 0.19114274, 0.06336534, -0.085040...  \n",
              "34110  [-0.100378044, 0.17155983, -0.03493069, -0.123...  \n",
              "34111  [-0.017904744, 0.19210382, -0.028616069, -0.00...  \n",
              "34112  [-0.083377175, 0.0935361, -0.06689843, -0.0502...  \n",
              "34113  [-0.08620607, 0.17561516, 0.0017024893, -0.162...  \n",
              "\n",
              "[34114 rows x 5 columns]"
            ],
            "text/html": [
              "\n",
              "  <div id=\"df-0fea92b3-bf9b-425b-a97e-b11c03c21aa2\">\n",
              "    <div class=\"colab-df-container\">\n",
              "      <div>\n",
              "<style scoped>\n",
              "    .dataframe tbody tr th:only-of-type {\n",
              "        vertical-align: middle;\n",
              "    }\n",
              "\n",
              "    .dataframe tbody tr th {\n",
              "        vertical-align: top;\n",
              "    }\n",
              "\n",
              "    .dataframe thead th {\n",
              "        text-align: right;\n",
              "    }\n",
              "</style>\n",
              "<table border=\"1\" class=\"dataframe\">\n",
              "  <thead>\n",
              "    <tr style=\"text-align: right;\">\n",
              "      <th></th>\n",
              "      <th>bank</th>\n",
              "      <th>feeds</th>\n",
              "      <th>date</th>\n",
              "      <th>lemmas</th>\n",
              "      <th>w2v_embeds</th>\n",
              "    </tr>\n",
              "  </thead>\n",
              "  <tbody>\n",
              "    <tr>\n",
              "      <th>0</th>\n",
              "      <td>sberbank</td>\n",
              "      <td>История такова: 27.01.2015 мне на телефон приш...</td>\n",
              "      <td>05.02.2015 17:33</td>\n",
              "      <td>история таков телефон прийти подряд смс списан...</td>\n",
              "      <td>[-0.017935527, 0.24498321, -0.010504065, -0.13...</td>\n",
              "    </tr>\n",
              "    <tr>\n",
              "      <th>1</th>\n",
              "      <td>alfabank</td>\n",
              "      <td>Нельзя решить ни один вопрос оперативно, автоо...</td>\n",
              "      <td>03.03.2021 9:27</td>\n",
              "      <td>решить вопрос оперативно автоответчик отказыва...</td>\n",
              "      <td>[-0.07190745, 0.23438267, 0.07242206, -0.19762...</td>\n",
              "    </tr>\n",
              "    <tr>\n",
              "      <th>2</th>\n",
              "      <td>tcs</td>\n",
              "      <td>Быстро, удобно, чего ещё нужно то. На сайтике ...</td>\n",
              "      <td>09.04.2018 7:40</td>\n",
              "      <td>быстро удобно нужно сайтик быстро оформить док...</td>\n",
              "      <td>[-0.0010693996, 0.16758825, 0.022258865, -0.13...</td>\n",
              "    </tr>\n",
              "    <tr>\n",
              "      <th>3</th>\n",
              "      <td>pochtabank</td>\n",
              "      <td>Добрый день! Просто в шоке от  ПАО «Почта Банк...</td>\n",
              "      <td>09.04.2020 9:57</td>\n",
              "      <td>добрый день просто шок пао почта банк обратить...</td>\n",
              "      <td>[0.104477525, 0.17261854, 0.02447445, -0.16589...</td>\n",
              "    </tr>\n",
              "    <tr>\n",
              "      <th>4</th>\n",
              "      <td>sberbank</td>\n",
              "      <td>В течение выходных дней новогоднего периода 20...</td>\n",
              "      <td>12.01.2012 14:00</td>\n",
              "      <td>течение выходной день новогодний период банком...</td>\n",
              "      <td>[-0.13400935, 0.14759469, 0.029794397, -0.0531...</td>\n",
              "    </tr>\n",
              "    <tr>\n",
              "      <th>...</th>\n",
              "      <td>...</td>\n",
              "      <td>...</td>\n",
              "      <td>...</td>\n",
              "      <td>...</td>\n",
              "      <td>...</td>\n",
              "    </tr>\n",
              "    <tr>\n",
              "      <th>34109</th>\n",
              "      <td>alfabank</td>\n",
              "      <td>Никогда не думал, что Альфа банк такой ужасный...</td>\n",
              "      <td>23.06.2019 12:40</td>\n",
              "      <td>думать альфа банк ужасный банк юридический лиц...</td>\n",
              "      <td>[0.08979863, 0.19114274, 0.06336534, -0.085040...</td>\n",
              "    </tr>\n",
              "    <tr>\n",
              "      <th>34110</th>\n",
              "      <td>v-express-bank</td>\n",
              "      <td>Добрый день. Даааа ужжжж... всегда выбирала им...</td>\n",
              "      <td>20.12.2013 3:46</td>\n",
              "      <td>добрый день даааа ужжжж выбирать именно банк с...</td>\n",
              "      <td>[-0.100378044, 0.17155983, -0.03493069, -0.123...</td>\n",
              "    </tr>\n",
              "    <tr>\n",
              "      <th>34111</th>\n",
              "      <td>rsb</td>\n",
              "      <td>Приходиться повторно писать об отношении этого...</td>\n",
              "      <td>13.11.2011 17:20</td>\n",
              "      <td>приходиться повторно писать отношение банк сво...</td>\n",
              "      <td>[-0.017904744, 0.19210382, -0.028616069, -0.00...</td>\n",
              "    </tr>\n",
              "    <tr>\n",
              "      <th>34112</th>\n",
              "      <td>rosbank</td>\n",
              "      <td>Я долго сотрудничаю с Росбанком, не один креди...</td>\n",
              "      <td>28.02.2017 9:24</td>\n",
              "      <td>долго сотрудничать росбанк кредит взять однако...</td>\n",
              "      <td>[-0.083377175, 0.0935361, -0.06689843, -0.0502...</td>\n",
              "    </tr>\n",
              "    <tr>\n",
              "      <th>34113</th>\n",
              "      <td>raiffeisen</td>\n",
              "      <td>Являюсь клиентом банка 2,5 года. Сначала все б...</td>\n",
              "      <td>25.12.2008 15:21</td>\n",
              "      <td>являться клиент банк год сначала отлично услов...</td>\n",
              "      <td>[-0.08620607, 0.17561516, 0.0017024893, -0.162...</td>\n",
              "    </tr>\n",
              "  </tbody>\n",
              "</table>\n",
              "<p>34114 rows × 5 columns</p>\n",
              "</div>\n",
              "      <button class=\"colab-df-convert\" onclick=\"convertToInteractive('df-0fea92b3-bf9b-425b-a97e-b11c03c21aa2')\"\n",
              "              title=\"Convert this dataframe to an interactive table.\"\n",
              "              style=\"display:none;\">\n",
              "        \n",
              "  <svg xmlns=\"http://www.w3.org/2000/svg\" height=\"24px\"viewBox=\"0 0 24 24\"\n",
              "       width=\"24px\">\n",
              "    <path d=\"M0 0h24v24H0V0z\" fill=\"none\"/>\n",
              "    <path d=\"M18.56 5.44l.94 2.06.94-2.06 2.06-.94-2.06-.94-.94-2.06-.94 2.06-2.06.94zm-11 1L8.5 8.5l.94-2.06 2.06-.94-2.06-.94L8.5 2.5l-.94 2.06-2.06.94zm10 10l.94 2.06.94-2.06 2.06-.94-2.06-.94-.94-2.06-.94 2.06-2.06.94z\"/><path d=\"M17.41 7.96l-1.37-1.37c-.4-.4-.92-.59-1.43-.59-.52 0-1.04.2-1.43.59L10.3 9.45l-7.72 7.72c-.78.78-.78 2.05 0 2.83L4 21.41c.39.39.9.59 1.41.59.51 0 1.02-.2 1.41-.59l7.78-7.78 2.81-2.81c.8-.78.8-2.07 0-2.86zM5.41 20L4 18.59l7.72-7.72 1.47 1.35L5.41 20z\"/>\n",
              "  </svg>\n",
              "      </button>\n",
              "      \n",
              "  <style>\n",
              "    .colab-df-container {\n",
              "      display:flex;\n",
              "      flex-wrap:wrap;\n",
              "      gap: 12px;\n",
              "    }\n",
              "\n",
              "    .colab-df-convert {\n",
              "      background-color: #E8F0FE;\n",
              "      border: none;\n",
              "      border-radius: 50%;\n",
              "      cursor: pointer;\n",
              "      display: none;\n",
              "      fill: #1967D2;\n",
              "      height: 32px;\n",
              "      padding: 0 0 0 0;\n",
              "      width: 32px;\n",
              "    }\n",
              "\n",
              "    .colab-df-convert:hover {\n",
              "      background-color: #E2EBFA;\n",
              "      box-shadow: 0px 1px 2px rgba(60, 64, 67, 0.3), 0px 1px 3px 1px rgba(60, 64, 67, 0.15);\n",
              "      fill: #174EA6;\n",
              "    }\n",
              "\n",
              "    [theme=dark] .colab-df-convert {\n",
              "      background-color: #3B4455;\n",
              "      fill: #D2E3FC;\n",
              "    }\n",
              "\n",
              "    [theme=dark] .colab-df-convert:hover {\n",
              "      background-color: #434B5C;\n",
              "      box-shadow: 0px 1px 3px 1px rgba(0, 0, 0, 0.15);\n",
              "      filter: drop-shadow(0px 1px 2px rgba(0, 0, 0, 0.3));\n",
              "      fill: #FFFFFF;\n",
              "    }\n",
              "  </style>\n",
              "\n",
              "      <script>\n",
              "        const buttonEl =\n",
              "          document.querySelector('#df-0fea92b3-bf9b-425b-a97e-b11c03c21aa2 button.colab-df-convert');\n",
              "        buttonEl.style.display =\n",
              "          google.colab.kernel.accessAllowed ? 'block' : 'none';\n",
              "\n",
              "        async function convertToInteractive(key) {\n",
              "          const element = document.querySelector('#df-0fea92b3-bf9b-425b-a97e-b11c03c21aa2');\n",
              "          const dataTable =\n",
              "            await google.colab.kernel.invokeFunction('convertToInteractive',\n",
              "                                                     [key], {});\n",
              "          if (!dataTable) return;\n",
              "\n",
              "          const docLinkHtml = 'Like what you see? Visit the ' +\n",
              "            '<a target=\"_blank\" href=https://colab.research.google.com/notebooks/data_table.ipynb>data table notebook</a>'\n",
              "            + ' to learn more about interactive tables.';\n",
              "          element.innerHTML = '';\n",
              "          dataTable['output_type'] = 'display_data';\n",
              "          await google.colab.output.renderOutput(dataTable, element);\n",
              "          const docLink = document.createElement('div');\n",
              "          docLink.innerHTML = docLinkHtml;\n",
              "          element.appendChild(docLink);\n",
              "        }\n",
              "      </script>\n",
              "    </div>\n",
              "  </div>\n",
              "  "
            ]
          },
          "metadata": {},
          "execution_count": 52
        }
      ]
    },
    {
      "cell_type": "code",
      "source": [
        "embeds_df = test_df['w2v_embeds'].apply(pd.Series)"
      ],
      "metadata": {
        "id": "5M1JR-Q63rlH"
      },
      "execution_count": null,
      "outputs": []
    },
    {
      "cell_type": "code",
      "source": [
        "test_df = pd.concat([test_df, embeds_df], axis=1)"
      ],
      "metadata": {
        "id": "qmaTSKUa3cQS"
      },
      "execution_count": null,
      "outputs": []
    },
    {
      "cell_type": "code",
      "source": [
        "test_new = test_df.drop(columns=['feeds', 'date', 'lemmas', 'w2v_embeds'])\n",
        "test_new.sample()"
      ],
      "metadata": {
        "colab": {
          "base_uri": "https://localhost:8080/"
        },
        "id": "IUII7rlw5Dbv",
        "outputId": "3fee0f2c-ace2-4748-e825-4cf2fd1bffe2"
      },
      "execution_count": null,
      "outputs": [
        {
          "output_type": "execute_result",
          "data": {
            "text/plain": [
              "            bank         0         1         2         3         4         5  \\\n",
              "9995  sovcombank -0.034082  0.158413 -0.126758 -0.121242  0.087948  0.053074   \n",
              "\n",
              "             6         7         8  ...        90        91        92  \\\n",
              "9995  0.075476  0.004097  0.054328  ... -0.099554 -0.002889 -0.223752   \n",
              "\n",
              "            93        94        95        96       97        98        99  \n",
              "9995 -0.059878 -0.137715 -0.025144  0.044454 -0.17744  0.134562 -0.158826  \n",
              "\n",
              "[1 rows x 101 columns]"
            ],
            "text/html": [
              "\n",
              "  <div id=\"df-ddf623e2-93bb-4654-a8ad-53a4f02a3684\">\n",
              "    <div class=\"colab-df-container\">\n",
              "      <div>\n",
              "<style scoped>\n",
              "    .dataframe tbody tr th:only-of-type {\n",
              "        vertical-align: middle;\n",
              "    }\n",
              "\n",
              "    .dataframe tbody tr th {\n",
              "        vertical-align: top;\n",
              "    }\n",
              "\n",
              "    .dataframe thead th {\n",
              "        text-align: right;\n",
              "    }\n",
              "</style>\n",
              "<table border=\"1\" class=\"dataframe\">\n",
              "  <thead>\n",
              "    <tr style=\"text-align: right;\">\n",
              "      <th></th>\n",
              "      <th>bank</th>\n",
              "      <th>0</th>\n",
              "      <th>1</th>\n",
              "      <th>2</th>\n",
              "      <th>3</th>\n",
              "      <th>4</th>\n",
              "      <th>5</th>\n",
              "      <th>6</th>\n",
              "      <th>7</th>\n",
              "      <th>8</th>\n",
              "      <th>...</th>\n",
              "      <th>90</th>\n",
              "      <th>91</th>\n",
              "      <th>92</th>\n",
              "      <th>93</th>\n",
              "      <th>94</th>\n",
              "      <th>95</th>\n",
              "      <th>96</th>\n",
              "      <th>97</th>\n",
              "      <th>98</th>\n",
              "      <th>99</th>\n",
              "    </tr>\n",
              "  </thead>\n",
              "  <tbody>\n",
              "    <tr>\n",
              "      <th>9995</th>\n",
              "      <td>sovcombank</td>\n",
              "      <td>-0.034082</td>\n",
              "      <td>0.158413</td>\n",
              "      <td>-0.126758</td>\n",
              "      <td>-0.121242</td>\n",
              "      <td>0.087948</td>\n",
              "      <td>0.053074</td>\n",
              "      <td>0.075476</td>\n",
              "      <td>0.004097</td>\n",
              "      <td>0.054328</td>\n",
              "      <td>...</td>\n",
              "      <td>-0.099554</td>\n",
              "      <td>-0.002889</td>\n",
              "      <td>-0.223752</td>\n",
              "      <td>-0.059878</td>\n",
              "      <td>-0.137715</td>\n",
              "      <td>-0.025144</td>\n",
              "      <td>0.044454</td>\n",
              "      <td>-0.17744</td>\n",
              "      <td>0.134562</td>\n",
              "      <td>-0.158826</td>\n",
              "    </tr>\n",
              "  </tbody>\n",
              "</table>\n",
              "<p>1 rows × 101 columns</p>\n",
              "</div>\n",
              "      <button class=\"colab-df-convert\" onclick=\"convertToInteractive('df-ddf623e2-93bb-4654-a8ad-53a4f02a3684')\"\n",
              "              title=\"Convert this dataframe to an interactive table.\"\n",
              "              style=\"display:none;\">\n",
              "        \n",
              "  <svg xmlns=\"http://www.w3.org/2000/svg\" height=\"24px\"viewBox=\"0 0 24 24\"\n",
              "       width=\"24px\">\n",
              "    <path d=\"M0 0h24v24H0V0z\" fill=\"none\"/>\n",
              "    <path d=\"M18.56 5.44l.94 2.06.94-2.06 2.06-.94-2.06-.94-.94-2.06-.94 2.06-2.06.94zm-11 1L8.5 8.5l.94-2.06 2.06-.94-2.06-.94L8.5 2.5l-.94 2.06-2.06.94zm10 10l.94 2.06.94-2.06 2.06-.94-2.06-.94-.94-2.06-.94 2.06-2.06.94z\"/><path d=\"M17.41 7.96l-1.37-1.37c-.4-.4-.92-.59-1.43-.59-.52 0-1.04.2-1.43.59L10.3 9.45l-7.72 7.72c-.78.78-.78 2.05 0 2.83L4 21.41c.39.39.9.59 1.41.59.51 0 1.02-.2 1.41-.59l7.78-7.78 2.81-2.81c.8-.78.8-2.07 0-2.86zM5.41 20L4 18.59l7.72-7.72 1.47 1.35L5.41 20z\"/>\n",
              "  </svg>\n",
              "      </button>\n",
              "      \n",
              "  <style>\n",
              "    .colab-df-container {\n",
              "      display:flex;\n",
              "      flex-wrap:wrap;\n",
              "      gap: 12px;\n",
              "    }\n",
              "\n",
              "    .colab-df-convert {\n",
              "      background-color: #E8F0FE;\n",
              "      border: none;\n",
              "      border-radius: 50%;\n",
              "      cursor: pointer;\n",
              "      display: none;\n",
              "      fill: #1967D2;\n",
              "      height: 32px;\n",
              "      padding: 0 0 0 0;\n",
              "      width: 32px;\n",
              "    }\n",
              "\n",
              "    .colab-df-convert:hover {\n",
              "      background-color: #E2EBFA;\n",
              "      box-shadow: 0px 1px 2px rgba(60, 64, 67, 0.3), 0px 1px 3px 1px rgba(60, 64, 67, 0.15);\n",
              "      fill: #174EA6;\n",
              "    }\n",
              "\n",
              "    [theme=dark] .colab-df-convert {\n",
              "      background-color: #3B4455;\n",
              "      fill: #D2E3FC;\n",
              "    }\n",
              "\n",
              "    [theme=dark] .colab-df-convert:hover {\n",
              "      background-color: #434B5C;\n",
              "      box-shadow: 0px 1px 3px 1px rgba(0, 0, 0, 0.15);\n",
              "      filter: drop-shadow(0px 1px 2px rgba(0, 0, 0, 0.3));\n",
              "      fill: #FFFFFF;\n",
              "    }\n",
              "  </style>\n",
              "\n",
              "      <script>\n",
              "        const buttonEl =\n",
              "          document.querySelector('#df-ddf623e2-93bb-4654-a8ad-53a4f02a3684 button.colab-df-convert');\n",
              "        buttonEl.style.display =\n",
              "          google.colab.kernel.accessAllowed ? 'block' : 'none';\n",
              "\n",
              "        async function convertToInteractive(key) {\n",
              "          const element = document.querySelector('#df-ddf623e2-93bb-4654-a8ad-53a4f02a3684');\n",
              "          const dataTable =\n",
              "            await google.colab.kernel.invokeFunction('convertToInteractive',\n",
              "                                                     [key], {});\n",
              "          if (!dataTable) return;\n",
              "\n",
              "          const docLinkHtml = 'Like what you see? Visit the ' +\n",
              "            '<a target=\"_blank\" href=https://colab.research.google.com/notebooks/data_table.ipynb>data table notebook</a>'\n",
              "            + ' to learn more about interactive tables.';\n",
              "          element.innerHTML = '';\n",
              "          dataTable['output_type'] = 'display_data';\n",
              "          await google.colab.output.renderOutput(dataTable, element);\n",
              "          const docLink = document.createElement('div');\n",
              "          docLink.innerHTML = docLinkHtml;\n",
              "          element.appendChild(docLink);\n",
              "        }\n",
              "      </script>\n",
              "    </div>\n",
              "  </div>\n",
              "  "
            ]
          },
          "metadata": {},
          "execution_count": 55
        }
      ]
    },
    {
      "cell_type": "code",
      "source": [
        "test_new = column_transformer.transform(test_new)\n",
        "sol = pd.DataFrame({'inds': test_df.index,\n",
        "                    'grades': lgbm.predict(test_new)})\n",
        "sol"
      ],
      "metadata": {
        "colab": {
          "base_uri": "https://localhost:8080/",
          "height": 424
        },
        "id": "KVRpjo7l5n90",
        "outputId": "8d454fdc-95d5-4cf0-9fe7-7c3b26295ccf"
      },
      "execution_count": null,
      "outputs": [
        {
          "output_type": "execute_result",
          "data": {
            "text/plain": [
              "        inds  grades\n",
              "0          0       1\n",
              "1          1       1\n",
              "2          2       5\n",
              "3          3       1\n",
              "4          4       1\n",
              "...      ...     ...\n",
              "34109  34109       1\n",
              "34110  34110       1\n",
              "34111  34111       1\n",
              "34112  34112       1\n",
              "34113  34113       1\n",
              "\n",
              "[34114 rows x 2 columns]"
            ],
            "text/html": [
              "\n",
              "  <div id=\"df-149f88e9-bca4-42da-9964-026f75635eb6\">\n",
              "    <div class=\"colab-df-container\">\n",
              "      <div>\n",
              "<style scoped>\n",
              "    .dataframe tbody tr th:only-of-type {\n",
              "        vertical-align: middle;\n",
              "    }\n",
              "\n",
              "    .dataframe tbody tr th {\n",
              "        vertical-align: top;\n",
              "    }\n",
              "\n",
              "    .dataframe thead th {\n",
              "        text-align: right;\n",
              "    }\n",
              "</style>\n",
              "<table border=\"1\" class=\"dataframe\">\n",
              "  <thead>\n",
              "    <tr style=\"text-align: right;\">\n",
              "      <th></th>\n",
              "      <th>inds</th>\n",
              "      <th>grades</th>\n",
              "    </tr>\n",
              "  </thead>\n",
              "  <tbody>\n",
              "    <tr>\n",
              "      <th>0</th>\n",
              "      <td>0</td>\n",
              "      <td>1</td>\n",
              "    </tr>\n",
              "    <tr>\n",
              "      <th>1</th>\n",
              "      <td>1</td>\n",
              "      <td>1</td>\n",
              "    </tr>\n",
              "    <tr>\n",
              "      <th>2</th>\n",
              "      <td>2</td>\n",
              "      <td>5</td>\n",
              "    </tr>\n",
              "    <tr>\n",
              "      <th>3</th>\n",
              "      <td>3</td>\n",
              "      <td>1</td>\n",
              "    </tr>\n",
              "    <tr>\n",
              "      <th>4</th>\n",
              "      <td>4</td>\n",
              "      <td>1</td>\n",
              "    </tr>\n",
              "    <tr>\n",
              "      <th>...</th>\n",
              "      <td>...</td>\n",
              "      <td>...</td>\n",
              "    </tr>\n",
              "    <tr>\n",
              "      <th>34109</th>\n",
              "      <td>34109</td>\n",
              "      <td>1</td>\n",
              "    </tr>\n",
              "    <tr>\n",
              "      <th>34110</th>\n",
              "      <td>34110</td>\n",
              "      <td>1</td>\n",
              "    </tr>\n",
              "    <tr>\n",
              "      <th>34111</th>\n",
              "      <td>34111</td>\n",
              "      <td>1</td>\n",
              "    </tr>\n",
              "    <tr>\n",
              "      <th>34112</th>\n",
              "      <td>34112</td>\n",
              "      <td>1</td>\n",
              "    </tr>\n",
              "    <tr>\n",
              "      <th>34113</th>\n",
              "      <td>34113</td>\n",
              "      <td>1</td>\n",
              "    </tr>\n",
              "  </tbody>\n",
              "</table>\n",
              "<p>34114 rows × 2 columns</p>\n",
              "</div>\n",
              "      <button class=\"colab-df-convert\" onclick=\"convertToInteractive('df-149f88e9-bca4-42da-9964-026f75635eb6')\"\n",
              "              title=\"Convert this dataframe to an interactive table.\"\n",
              "              style=\"display:none;\">\n",
              "        \n",
              "  <svg xmlns=\"http://www.w3.org/2000/svg\" height=\"24px\"viewBox=\"0 0 24 24\"\n",
              "       width=\"24px\">\n",
              "    <path d=\"M0 0h24v24H0V0z\" fill=\"none\"/>\n",
              "    <path d=\"M18.56 5.44l.94 2.06.94-2.06 2.06-.94-2.06-.94-.94-2.06-.94 2.06-2.06.94zm-11 1L8.5 8.5l.94-2.06 2.06-.94-2.06-.94L8.5 2.5l-.94 2.06-2.06.94zm10 10l.94 2.06.94-2.06 2.06-.94-2.06-.94-.94-2.06-.94 2.06-2.06.94z\"/><path d=\"M17.41 7.96l-1.37-1.37c-.4-.4-.92-.59-1.43-.59-.52 0-1.04.2-1.43.59L10.3 9.45l-7.72 7.72c-.78.78-.78 2.05 0 2.83L4 21.41c.39.39.9.59 1.41.59.51 0 1.02-.2 1.41-.59l7.78-7.78 2.81-2.81c.8-.78.8-2.07 0-2.86zM5.41 20L4 18.59l7.72-7.72 1.47 1.35L5.41 20z\"/>\n",
              "  </svg>\n",
              "      </button>\n",
              "      \n",
              "  <style>\n",
              "    .colab-df-container {\n",
              "      display:flex;\n",
              "      flex-wrap:wrap;\n",
              "      gap: 12px;\n",
              "    }\n",
              "\n",
              "    .colab-df-convert {\n",
              "      background-color: #E8F0FE;\n",
              "      border: none;\n",
              "      border-radius: 50%;\n",
              "      cursor: pointer;\n",
              "      display: none;\n",
              "      fill: #1967D2;\n",
              "      height: 32px;\n",
              "      padding: 0 0 0 0;\n",
              "      width: 32px;\n",
              "    }\n",
              "\n",
              "    .colab-df-convert:hover {\n",
              "      background-color: #E2EBFA;\n",
              "      box-shadow: 0px 1px 2px rgba(60, 64, 67, 0.3), 0px 1px 3px 1px rgba(60, 64, 67, 0.15);\n",
              "      fill: #174EA6;\n",
              "    }\n",
              "\n",
              "    [theme=dark] .colab-df-convert {\n",
              "      background-color: #3B4455;\n",
              "      fill: #D2E3FC;\n",
              "    }\n",
              "\n",
              "    [theme=dark] .colab-df-convert:hover {\n",
              "      background-color: #434B5C;\n",
              "      box-shadow: 0px 1px 3px 1px rgba(0, 0, 0, 0.15);\n",
              "      filter: drop-shadow(0px 1px 2px rgba(0, 0, 0, 0.3));\n",
              "      fill: #FFFFFF;\n",
              "    }\n",
              "  </style>\n",
              "\n",
              "      <script>\n",
              "        const buttonEl =\n",
              "          document.querySelector('#df-149f88e9-bca4-42da-9964-026f75635eb6 button.colab-df-convert');\n",
              "        buttonEl.style.display =\n",
              "          google.colab.kernel.accessAllowed ? 'block' : 'none';\n",
              "\n",
              "        async function convertToInteractive(key) {\n",
              "          const element = document.querySelector('#df-149f88e9-bca4-42da-9964-026f75635eb6');\n",
              "          const dataTable =\n",
              "            await google.colab.kernel.invokeFunction('convertToInteractive',\n",
              "                                                     [key], {});\n",
              "          if (!dataTable) return;\n",
              "\n",
              "          const docLinkHtml = 'Like what you see? Visit the ' +\n",
              "            '<a target=\"_blank\" href=https://colab.research.google.com/notebooks/data_table.ipynb>data table notebook</a>'\n",
              "            + ' to learn more about interactive tables.';\n",
              "          element.innerHTML = '';\n",
              "          dataTable['output_type'] = 'display_data';\n",
              "          await google.colab.output.renderOutput(dataTable, element);\n",
              "          const docLink = document.createElement('div');\n",
              "          docLink.innerHTML = docLinkHtml;\n",
              "          element.appendChild(docLink);\n",
              "        }\n",
              "      </script>\n",
              "    </div>\n",
              "  </div>\n",
              "  "
            ]
          },
          "metadata": {},
          "execution_count": 67
        }
      ]
    },
    {
      "cell_type": "code",
      "source": [
        "sol.to_csv('w2v_lgbm.csv', index=False)"
      ],
      "metadata": {
        "id": "CEoMi2Dr6E5W"
      },
      "execution_count": null,
      "outputs": []
    },
    {
      "cell_type": "markdown",
      "source": [
        "## ПРИМЕЧАНИЕ"
      ],
      "metadata": {
        "id": "1kIvJCF6p0ka"
      }
    },
    {
      "cell_type": "markdown",
      "source": [
        "Далее идет попытка побить бейзлайн с помощью FastText и файнтюнинга предобученного для русского языка Bert из HuggingFace (конкретнее tiny-rubert). Но ни одна из этих моделей не смогла побить бейзлайн. Его поможет преодолеть Bert из tensorflow, см. код в другом ноутбуке)"
      ],
      "metadata": {
        "id": "vdhn3hf1p8wP"
      }
    },
    {
      "cell_type": "markdown",
      "source": [
        "## 4.2.FastText"
      ],
      "metadata": {
        "id": "Bl2veLJjatJ3"
      }
    },
    {
      "cell_type": "code",
      "source": [
        "!git clone https://github.com/facebookresearch/fastText.git \n",
        "!pip3 install fastText/. "
      ],
      "metadata": {
        "colab": {
          "base_uri": "https://localhost:8080/"
        },
        "id": "EHKwsTh5Bw8N",
        "outputId": "6ad288bc-f2b4-48cb-e843-f4620f4b21c8"
      },
      "execution_count": null,
      "outputs": [
        {
          "output_type": "stream",
          "name": "stdout",
          "text": [
            "Cloning into 'fastText'...\n",
            "remote: Enumerating objects: 3930, done.\u001b[K\n",
            "remote: Counting objects: 100% (944/944), done.\u001b[K\n",
            "remote: Compressing objects: 100% (140/140), done.\u001b[K\n",
            "remote: Total 3930 (delta 854), reused 804 (delta 804), pack-reused 2986\u001b[K\n",
            "Receiving objects: 100% (3930/3930), 8.24 MiB | 42.20 MiB/s, done.\n",
            "Resolving deltas: 100% (2505/2505), done.\n",
            "Looking in indexes: https://pypi.org/simple, https://us-python.pkg.dev/colab-wheels/public/simple/\n",
            "Processing ./fastText\n",
            "\u001b[33m  DEPRECATION: A future pip version will change local packages to be built in-place without first copying to a temporary directory. We recommend you use --use-feature=in-tree-build to test your packages with this new behavior before it becomes the default.\n",
            "   pip 21.3 will remove support for this functionality. You can find discussion regarding this at https://github.com/pypa/pip/issues/7555.\u001b[0m\n",
            "Collecting pybind11>=2.2\n",
            "  Using cached pybind11-2.10.1-py3-none-any.whl (216 kB)\n",
            "Requirement already satisfied: setuptools>=0.7.0 in /usr/local/lib/python3.8/dist-packages (from fasttext==0.9.2) (57.4.0)\n",
            "Requirement already satisfied: numpy in /usr/local/lib/python3.8/dist-packages (from fasttext==0.9.2) (1.21.6)\n",
            "Building wheels for collected packages: fasttext\n",
            "  Building wheel for fasttext (setup.py) ... \u001b[?25l\u001b[?25hdone\n",
            "  Created wheel for fasttext: filename=fasttext-0.9.2-cp38-cp38-linux_x86_64.whl size=3122415 sha256=a01f59867c80fb3b32fb10445538b03b89b3b97cd20b0b0e873a4ec3773983bb\n",
            "  Stored in directory: /tmp/pip-ephem-wheel-cache-65eis2f5/wheels/a4/2f/6a/91d479a807787e092f667baec5df08801b0558f5676427f5a9\n",
            "Successfully built fasttext\n",
            "Installing collected packages: pybind11, fasttext\n",
            "Successfully installed fasttext-0.9.2 pybind11-2.10.1\n"
          ]
        }
      ]
    },
    {
      "cell_type": "code",
      "source": [
        "import fasttext\n",
        "\n",
        "# # так можно обучить свою модель \n",
        "# ft_model = fasttext.train_unsupervised('clean_text.txt', minn=3, maxn=4, dim=300)"
      ],
      "metadata": {
        "id": "T14CGBJfBw5L"
      },
      "execution_count": null,
      "outputs": []
    },
    {
      "cell_type": "code",
      "source": [
        "train_no_nan = train_df.dropna()"
      ],
      "metadata": {
        "id": "JePrvkX-tzr_"
      },
      "execution_count": null,
      "outputs": []
    },
    {
      "cell_type": "code",
      "source": [
        "# train_no_nan.sample()"
      ],
      "metadata": {
        "id": "7KR6xDbEt2zb"
      },
      "execution_count": null,
      "outputs": []
    },
    {
      "cell_type": "code",
      "source": [
        "train_no_nan = train_df.dropna()\n",
        "X = train_no_nan.lemmas\n",
        "y = train_no_nan.grades.astype('int32')\n",
        "\n",
        "X, y = np.array(X), np.array(y)\n",
        "\n",
        "X_train, X_test, y_train, y_test = train_test_split(X, y, test_size=0.3, \n",
        "                                                    random_state=42, stratify=y)\n",
        "print (\"total train examples %s\" % len(y_train))\n",
        "print (\"total test examples %s\" % len(y_test))"
      ],
      "metadata": {
        "colab": {
          "base_uri": "https://localhost:8080/"
        },
        "id": "Ghlx_h9zBw2g",
        "outputId": "f0642e0e-1de3-4ff2-c2a3-6cd2ade42fbe"
      },
      "execution_count": null,
      "outputs": [
        {
          "output_type": "stream",
          "name": "stdout",
          "text": [
            "total train examples 168175\n",
            "total test examples 72075\n"
          ]
        }
      ]
    },
    {
      "cell_type": "code",
      "source": [
        "with open('data.train.txt', 'w+') as outfile:\n",
        "    for i in range(len(X_train)):\n",
        "        outfile.write('__label__' + str(y_train[i]) + ' ' + X_train[i] + '\\n')\n",
        "    \n",
        "with open('test.txt', 'w+') as outfile:\n",
        "    for i in range(len(X_test)):\n",
        "        outfile.write('__label__' + str(y_test[i]) + ' ' + X_test[i] + '\\n')"
      ],
      "metadata": {
        "id": "GJo2DYa0BwzB"
      },
      "execution_count": null,
      "outputs": []
    },
    {
      "cell_type": "code",
      "source": [
        "classifier = fasttext.train_supervised('data.train.txt', lr=0.5, epoch=20,\n",
        "                                       minCount=12,\n",
        "                                       minn=3, maxn=5, wordNgrams=5)\n",
        "result = classifier.test('test.txt')\n",
        "\n",
        "print('Precision:', result[1])\n",
        "print('Recall:', result[2])\n",
        "print('Number of examples:', result[0])"
      ],
      "metadata": {
        "colab": {
          "base_uri": "https://localhost:8080/"
        },
        "id": "vxF2kGGYZebx",
        "outputId": "1fa375b5-3df6-4f5f-ebdd-7e1600577230"
      },
      "execution_count": null,
      "outputs": [
        {
          "output_type": "stream",
          "name": "stdout",
          "text": [
            "Precision: 0.792258064516129\n",
            "Recall: 0.792258064516129\n",
            "Number of examples: 72075\n"
          ]
        }
      ]
    },
    {
      "cell_type": "code",
      "source": [
        "with open('test.txt') as f:\n",
        "  print(classifier.predict(f.readline().strip()))"
      ],
      "metadata": {
        "colab": {
          "base_uri": "https://localhost:8080/"
        },
        "id": "upDrFFLjMqLz",
        "outputId": "c1c246ce-af9c-4837-eaef-4acd3fadea56"
      },
      "execution_count": null,
      "outputs": [
        {
          "output_type": "stream",
          "name": "stdout",
          "text": [
            "(('__label__5',), array([0.99913722]))\n"
          ]
        }
      ]
    },
    {
      "cell_type": "code",
      "source": [
        "classifier.get_nearest_neighbors('банк')"
      ],
      "metadata": {
        "colab": {
          "base_uri": "https://localhost:8080/"
        },
        "id": "V1DCQTD7Ublr",
        "outputId": "2b87cfa5-06a3-4b26-ddc7-2e248407168d"
      },
      "execution_count": null,
      "outputs": [
        {
          "output_type": "execute_result",
          "data": {
            "text/plain": [
              "[(0.9995318055152893, 'гла'),\n",
              " (0.9994478225708008, 'rurуплата'),\n",
              " (0.9993610978126526, 'заскринива'),\n",
              " (0.9990193247795105, 'неискушённый'),\n",
              " (0.9989594221115112, 'ruнаписать'),\n",
              " (0.9988638758659363, 'интервенция'),\n",
              " (0.9987906813621521, 'своха'),\n",
              " (0.998740017414093, 'сведетельствовать'),\n",
              " (0.9987244009971619, 'глазюк'),\n",
              " (0.9986460208892822, 'упражнять')]"
            ]
          },
          "metadata": {},
          "execution_count": 127
        }
      ]
    },
    {
      "cell_type": "code",
      "source": [
        "classifier.get_nearest_neighbors('клиент')"
      ],
      "metadata": {
        "colab": {
          "base_uri": "https://localhost:8080/"
        },
        "id": "FxBUX1MpWgJe",
        "outputId": "f8b678f7-dcde-4294-f522-cddbe3ddc29e"
      },
      "execution_count": null,
      "outputs": [
        {
          "output_type": "execute_result",
          "data": {
            "text/plain": [
              "[(0.9997479915618896, 'зарок'),\n",
              " (0.9995205402374268, 'непропорционально'),\n",
              " (0.9991280436515808, 'кклиент'),\n",
              " (0.998944878578186, 'заемщикапосле'),\n",
              " (0.9989281892776489, 'матюкнуться'),\n",
              " (0.9988179802894592, 'этоть'),\n",
              " (0.9987621307373047, 'зация'),\n",
              " (0.9986922144889832, 'райфайзенд'),\n",
              " (0.9984851479530334, 'райфайзан'),\n",
              " (0.9984176754951477, 'вважа')]"
            ]
          },
          "metadata": {},
          "execution_count": 128
        }
      ]
    },
    {
      "cell_type": "code",
      "source": [
        "classifier.get_nearest_neighbors('опыт')"
      ],
      "metadata": {
        "colab": {
          "base_uri": "https://localhost:8080/"
        },
        "id": "NtnN9G9sWink",
        "outputId": "343c04fb-89c9-4e60-91e5-2004ceee33c9"
      },
      "execution_count": null,
      "outputs": [
        {
          "output_type": "execute_result",
          "data": {
            "text/plain": [
              "[(0.9997687935829163, 'варенцов'),\n",
              " (0.999112606048584, 'банкстараться'),\n",
              " (0.998924970626831, 'сберов'),\n",
              " (0.9988054633140564, 'возврващаться'),\n",
              " (0.9984949827194214, 'аносов'),\n",
              " (0.9984449744224548, 'processed'),\n",
              " (0.9983326196670532, 'доблестный'),\n",
              " (0.9982945322990417, 's'),\n",
              " (0.998286247253418, 'молоканов'),\n",
              " (0.9982082843780518, 'подглядеть')]"
            ]
          },
          "metadata": {},
          "execution_count": 129
        }
      ]
    },
    {
      "cell_type": "code",
      "source": [
        "import fasttext.util\n",
        "# fasttext.util.download_model('ru', dimension=100) \n",
        "# ft = fasttext.load_model('cc.ru.300.bin')  # скачивание предобученного fasttext, но он оказался слишком тяжелым"
      ],
      "metadata": {
        "id": "C9EkADMtMhk_"
      },
      "execution_count": null,
      "outputs": []
    },
    {
      "cell_type": "code",
      "source": [
        "example_feed = 'Отличный банк, остаюсь вашим преданным клиентом'"
      ],
      "metadata": {
        "id": "fbnBy6hJJJ-O"
      },
      "execution_count": null,
      "outputs": []
    },
    {
      "cell_type": "code",
      "source": [
        "np.argmax(classifier.predict(example_feed, k=5)[1])"
      ],
      "metadata": {
        "colab": {
          "base_uri": "https://localhost:8080/"
        },
        "id": "jOZjdRBnJ7r8",
        "outputId": "4fc7b4d1-36d3-4125-8aca-0f2126d37fcd"
      },
      "execution_count": null,
      "outputs": [
        {
          "output_type": "execute_result",
          "data": {
            "text/plain": [
              "0"
            ]
          },
          "metadata": {},
          "execution_count": 125
        }
      ]
    },
    {
      "cell_type": "code",
      "source": [
        "with Pool(8) as p:\n",
        "    lemmas_test = list(tqdm(p.imap(preprocess_text, test_df['feeds']), total=len(test_df)))\n",
        "    \n",
        "test_df['lemmas'] = lemmas_test\n",
        "test_df.sample(5)"
      ],
      "metadata": {
        "colab": {
          "base_uri": "https://localhost:8080/",
          "height": 223
        },
        "id": "gG3qWKuNV3G0",
        "outputId": "4297a802-fce0-494d-9479-7e5fa0fb6c06"
      },
      "execution_count": null,
      "outputs": [
        {
          "output_type": "stream",
          "name": "stderr",
          "text": [
            "100%|██████████| 34114/34114 [08:38<00:00, 65.74it/s]\n"
          ]
        },
        {
          "output_type": "execute_result",
          "data": {
            "text/plain": [
              "              bank                                              feeds  \\\n",
              "8931           vtb  Как оформить кредитку на жалкие 20к - нет, а к...   \n",
              "27449  fk_otkritie  Конечно, президент Шишханов не читает то, что ...   \n",
              "29630          vtb  Недавно столкнулась с проблемой взаимопонимани...   \n",
              "21969  fk_otkritie  Добрый день всем форумчанам!Вчера получил стра...   \n",
              "32431        trust  16 января зашли с женой в отделение на Автозав...   \n",
              "\n",
              "                   date                                             lemmas  \n",
              "8931   07.06.2020 13:27  оформить кредитка жалкий заявление писать кото...  \n",
              "27449  09.03.2017 21:03  президент шишхан читать писать банк сайт поэто...  \n",
              "29630  24.12.2019 12:08  недавно столкнуться проблема взаимопонимание д...  \n",
              "21969  21.10.2016 20:39  добрый день весь форумчанин вчера получить стр...  \n",
              "32431  23.01.2014 21:29  январь заслать жена отделение автозаводский ул...  "
            ],
            "text/html": [
              "\n",
              "  <div id=\"df-daf4acfc-974b-4d6c-950a-b1496d326f0d\">\n",
              "    <div class=\"colab-df-container\">\n",
              "      <div>\n",
              "<style scoped>\n",
              "    .dataframe tbody tr th:only-of-type {\n",
              "        vertical-align: middle;\n",
              "    }\n",
              "\n",
              "    .dataframe tbody tr th {\n",
              "        vertical-align: top;\n",
              "    }\n",
              "\n",
              "    .dataframe thead th {\n",
              "        text-align: right;\n",
              "    }\n",
              "</style>\n",
              "<table border=\"1\" class=\"dataframe\">\n",
              "  <thead>\n",
              "    <tr style=\"text-align: right;\">\n",
              "      <th></th>\n",
              "      <th>bank</th>\n",
              "      <th>feeds</th>\n",
              "      <th>date</th>\n",
              "      <th>lemmas</th>\n",
              "    </tr>\n",
              "  </thead>\n",
              "  <tbody>\n",
              "    <tr>\n",
              "      <th>8931</th>\n",
              "      <td>vtb</td>\n",
              "      <td>Как оформить кредитку на жалкие 20к - нет, а к...</td>\n",
              "      <td>07.06.2020 13:27</td>\n",
              "      <td>оформить кредитка жалкий заявление писать кото...</td>\n",
              "    </tr>\n",
              "    <tr>\n",
              "      <th>27449</th>\n",
              "      <td>fk_otkritie</td>\n",
              "      <td>Конечно, президент Шишханов не читает то, что ...</td>\n",
              "      <td>09.03.2017 21:03</td>\n",
              "      <td>президент шишхан читать писать банк сайт поэто...</td>\n",
              "    </tr>\n",
              "    <tr>\n",
              "      <th>29630</th>\n",
              "      <td>vtb</td>\n",
              "      <td>Недавно столкнулась с проблемой взаимопонимани...</td>\n",
              "      <td>24.12.2019 12:08</td>\n",
              "      <td>недавно столкнуться проблема взаимопонимание д...</td>\n",
              "    </tr>\n",
              "    <tr>\n",
              "      <th>21969</th>\n",
              "      <td>fk_otkritie</td>\n",
              "      <td>Добрый день всем форумчанам!Вчера получил стра...</td>\n",
              "      <td>21.10.2016 20:39</td>\n",
              "      <td>добрый день весь форумчанин вчера получить стр...</td>\n",
              "    </tr>\n",
              "    <tr>\n",
              "      <th>32431</th>\n",
              "      <td>trust</td>\n",
              "      <td>16 января зашли с женой в отделение на Автозав...</td>\n",
              "      <td>23.01.2014 21:29</td>\n",
              "      <td>январь заслать жена отделение автозаводский ул...</td>\n",
              "    </tr>\n",
              "  </tbody>\n",
              "</table>\n",
              "</div>\n",
              "      <button class=\"colab-df-convert\" onclick=\"convertToInteractive('df-daf4acfc-974b-4d6c-950a-b1496d326f0d')\"\n",
              "              title=\"Convert this dataframe to an interactive table.\"\n",
              "              style=\"display:none;\">\n",
              "        \n",
              "  <svg xmlns=\"http://www.w3.org/2000/svg\" height=\"24px\"viewBox=\"0 0 24 24\"\n",
              "       width=\"24px\">\n",
              "    <path d=\"M0 0h24v24H0V0z\" fill=\"none\"/>\n",
              "    <path d=\"M18.56 5.44l.94 2.06.94-2.06 2.06-.94-2.06-.94-.94-2.06-.94 2.06-2.06.94zm-11 1L8.5 8.5l.94-2.06 2.06-.94-2.06-.94L8.5 2.5l-.94 2.06-2.06.94zm10 10l.94 2.06.94-2.06 2.06-.94-2.06-.94-.94-2.06-.94 2.06-2.06.94z\"/><path d=\"M17.41 7.96l-1.37-1.37c-.4-.4-.92-.59-1.43-.59-.52 0-1.04.2-1.43.59L10.3 9.45l-7.72 7.72c-.78.78-.78 2.05 0 2.83L4 21.41c.39.39.9.59 1.41.59.51 0 1.02-.2 1.41-.59l7.78-7.78 2.81-2.81c.8-.78.8-2.07 0-2.86zM5.41 20L4 18.59l7.72-7.72 1.47 1.35L5.41 20z\"/>\n",
              "  </svg>\n",
              "      </button>\n",
              "      \n",
              "  <style>\n",
              "    .colab-df-container {\n",
              "      display:flex;\n",
              "      flex-wrap:wrap;\n",
              "      gap: 12px;\n",
              "    }\n",
              "\n",
              "    .colab-df-convert {\n",
              "      background-color: #E8F0FE;\n",
              "      border: none;\n",
              "      border-radius: 50%;\n",
              "      cursor: pointer;\n",
              "      display: none;\n",
              "      fill: #1967D2;\n",
              "      height: 32px;\n",
              "      padding: 0 0 0 0;\n",
              "      width: 32px;\n",
              "    }\n",
              "\n",
              "    .colab-df-convert:hover {\n",
              "      background-color: #E2EBFA;\n",
              "      box-shadow: 0px 1px 2px rgba(60, 64, 67, 0.3), 0px 1px 3px 1px rgba(60, 64, 67, 0.15);\n",
              "      fill: #174EA6;\n",
              "    }\n",
              "\n",
              "    [theme=dark] .colab-df-convert {\n",
              "      background-color: #3B4455;\n",
              "      fill: #D2E3FC;\n",
              "    }\n",
              "\n",
              "    [theme=dark] .colab-df-convert:hover {\n",
              "      background-color: #434B5C;\n",
              "      box-shadow: 0px 1px 3px 1px rgba(0, 0, 0, 0.15);\n",
              "      filter: drop-shadow(0px 1px 2px rgba(0, 0, 0, 0.3));\n",
              "      fill: #FFFFFF;\n",
              "    }\n",
              "  </style>\n",
              "\n",
              "      <script>\n",
              "        const buttonEl =\n",
              "          document.querySelector('#df-daf4acfc-974b-4d6c-950a-b1496d326f0d button.colab-df-convert');\n",
              "        buttonEl.style.display =\n",
              "          google.colab.kernel.accessAllowed ? 'block' : 'none';\n",
              "\n",
              "        async function convertToInteractive(key) {\n",
              "          const element = document.querySelector('#df-daf4acfc-974b-4d6c-950a-b1496d326f0d');\n",
              "          const dataTable =\n",
              "            await google.colab.kernel.invokeFunction('convertToInteractive',\n",
              "                                                     [key], {});\n",
              "          if (!dataTable) return;\n",
              "\n",
              "          const docLinkHtml = 'Like what you see? Visit the ' +\n",
              "            '<a target=\"_blank\" href=https://colab.research.google.com/notebooks/data_table.ipynb>data table notebook</a>'\n",
              "            + ' to learn more about interactive tables.';\n",
              "          element.innerHTML = '';\n",
              "          dataTable['output_type'] = 'display_data';\n",
              "          await google.colab.output.renderOutput(dataTable, element);\n",
              "          const docLink = document.createElement('div');\n",
              "          docLink.innerHTML = docLinkHtml;\n",
              "          element.appendChild(docLink);\n",
              "        }\n",
              "      </script>\n",
              "    </div>\n",
              "  </div>\n",
              "  "
            ]
          },
          "metadata": {},
          "execution_count": 116
        }
      ]
    },
    {
      "cell_type": "code",
      "source": [
        "preds = test_df.lemmas.apply(lambda x: np.argmax(classifier.predict(x, k=5)[1]) + 1)"
      ],
      "metadata": {
        "id": "jgGX6DqMZeWM"
      },
      "execution_count": null,
      "outputs": []
    },
    {
      "cell_type": "code",
      "source": [
        "classifier.predict(test_df.lemmas[15], k=5)[1]"
      ],
      "metadata": {
        "colab": {
          "base_uri": "https://localhost:8080/"
        },
        "id": "IGYZrGKJYwZA",
        "outputId": "7a29cce2-8024-4661-bd96-357fcef016f1"
      },
      "execution_count": null,
      "outputs": [
        {
          "output_type": "execute_result",
          "data": {
            "text/plain": [
              "array([8.52814138e-01, 1.22686833e-01, 2.30844747e-02, 8.57028528e-04,\n",
              "       6.07431575e-04])"
            ]
          },
          "metadata": {},
          "execution_count": 122
        }
      ]
    },
    {
      "cell_type": "code",
      "source": [
        "sol = pd.DataFrame({'inds': test_df.index,\n",
        "                    'grades': preds})\n",
        "sol"
      ],
      "metadata": {
        "colab": {
          "base_uri": "https://localhost:8080/",
          "height": 424
        },
        "id": "Rgky9R9wZeTj",
        "outputId": "a72bbd7c-3919-4435-9ee1-9690a2833ace"
      },
      "execution_count": null,
      "outputs": [
        {
          "output_type": "execute_result",
          "data": {
            "text/plain": [
              "        inds  grades\n",
              "0          0       1\n",
              "1          1       1\n",
              "2          2       1\n",
              "3          3       1\n",
              "4          4       1\n",
              "...      ...     ...\n",
              "34109  34109       1\n",
              "34110  34110       1\n",
              "34111  34111       1\n",
              "34112  34112       1\n",
              "34113  34113       1\n",
              "\n",
              "[34114 rows x 2 columns]"
            ],
            "text/html": [
              "\n",
              "  <div id=\"df-4c7219c1-ef5a-4e2c-b629-95e2537dbb58\">\n",
              "    <div class=\"colab-df-container\">\n",
              "      <div>\n",
              "<style scoped>\n",
              "    .dataframe tbody tr th:only-of-type {\n",
              "        vertical-align: middle;\n",
              "    }\n",
              "\n",
              "    .dataframe tbody tr th {\n",
              "        vertical-align: top;\n",
              "    }\n",
              "\n",
              "    .dataframe thead th {\n",
              "        text-align: right;\n",
              "    }\n",
              "</style>\n",
              "<table border=\"1\" class=\"dataframe\">\n",
              "  <thead>\n",
              "    <tr style=\"text-align: right;\">\n",
              "      <th></th>\n",
              "      <th>inds</th>\n",
              "      <th>grades</th>\n",
              "    </tr>\n",
              "  </thead>\n",
              "  <tbody>\n",
              "    <tr>\n",
              "      <th>0</th>\n",
              "      <td>0</td>\n",
              "      <td>1</td>\n",
              "    </tr>\n",
              "    <tr>\n",
              "      <th>1</th>\n",
              "      <td>1</td>\n",
              "      <td>1</td>\n",
              "    </tr>\n",
              "    <tr>\n",
              "      <th>2</th>\n",
              "      <td>2</td>\n",
              "      <td>1</td>\n",
              "    </tr>\n",
              "    <tr>\n",
              "      <th>3</th>\n",
              "      <td>3</td>\n",
              "      <td>1</td>\n",
              "    </tr>\n",
              "    <tr>\n",
              "      <th>4</th>\n",
              "      <td>4</td>\n",
              "      <td>1</td>\n",
              "    </tr>\n",
              "    <tr>\n",
              "      <th>...</th>\n",
              "      <td>...</td>\n",
              "      <td>...</td>\n",
              "    </tr>\n",
              "    <tr>\n",
              "      <th>34109</th>\n",
              "      <td>34109</td>\n",
              "      <td>1</td>\n",
              "    </tr>\n",
              "    <tr>\n",
              "      <th>34110</th>\n",
              "      <td>34110</td>\n",
              "      <td>1</td>\n",
              "    </tr>\n",
              "    <tr>\n",
              "      <th>34111</th>\n",
              "      <td>34111</td>\n",
              "      <td>1</td>\n",
              "    </tr>\n",
              "    <tr>\n",
              "      <th>34112</th>\n",
              "      <td>34112</td>\n",
              "      <td>1</td>\n",
              "    </tr>\n",
              "    <tr>\n",
              "      <th>34113</th>\n",
              "      <td>34113</td>\n",
              "      <td>1</td>\n",
              "    </tr>\n",
              "  </tbody>\n",
              "</table>\n",
              "<p>34114 rows × 2 columns</p>\n",
              "</div>\n",
              "      <button class=\"colab-df-convert\" onclick=\"convertToInteractive('df-4c7219c1-ef5a-4e2c-b629-95e2537dbb58')\"\n",
              "              title=\"Convert this dataframe to an interactive table.\"\n",
              "              style=\"display:none;\">\n",
              "        \n",
              "  <svg xmlns=\"http://www.w3.org/2000/svg\" height=\"24px\"viewBox=\"0 0 24 24\"\n",
              "       width=\"24px\">\n",
              "    <path d=\"M0 0h24v24H0V0z\" fill=\"none\"/>\n",
              "    <path d=\"M18.56 5.44l.94 2.06.94-2.06 2.06-.94-2.06-.94-.94-2.06-.94 2.06-2.06.94zm-11 1L8.5 8.5l.94-2.06 2.06-.94-2.06-.94L8.5 2.5l-.94 2.06-2.06.94zm10 10l.94 2.06.94-2.06 2.06-.94-2.06-.94-.94-2.06-.94 2.06-2.06.94z\"/><path d=\"M17.41 7.96l-1.37-1.37c-.4-.4-.92-.59-1.43-.59-.52 0-1.04.2-1.43.59L10.3 9.45l-7.72 7.72c-.78.78-.78 2.05 0 2.83L4 21.41c.39.39.9.59 1.41.59.51 0 1.02-.2 1.41-.59l7.78-7.78 2.81-2.81c.8-.78.8-2.07 0-2.86zM5.41 20L4 18.59l7.72-7.72 1.47 1.35L5.41 20z\"/>\n",
              "  </svg>\n",
              "      </button>\n",
              "      \n",
              "  <style>\n",
              "    .colab-df-container {\n",
              "      display:flex;\n",
              "      flex-wrap:wrap;\n",
              "      gap: 12px;\n",
              "    }\n",
              "\n",
              "    .colab-df-convert {\n",
              "      background-color: #E8F0FE;\n",
              "      border: none;\n",
              "      border-radius: 50%;\n",
              "      cursor: pointer;\n",
              "      display: none;\n",
              "      fill: #1967D2;\n",
              "      height: 32px;\n",
              "      padding: 0 0 0 0;\n",
              "      width: 32px;\n",
              "    }\n",
              "\n",
              "    .colab-df-convert:hover {\n",
              "      background-color: #E2EBFA;\n",
              "      box-shadow: 0px 1px 2px rgba(60, 64, 67, 0.3), 0px 1px 3px 1px rgba(60, 64, 67, 0.15);\n",
              "      fill: #174EA6;\n",
              "    }\n",
              "\n",
              "    [theme=dark] .colab-df-convert {\n",
              "      background-color: #3B4455;\n",
              "      fill: #D2E3FC;\n",
              "    }\n",
              "\n",
              "    [theme=dark] .colab-df-convert:hover {\n",
              "      background-color: #434B5C;\n",
              "      box-shadow: 0px 1px 3px 1px rgba(0, 0, 0, 0.15);\n",
              "      filter: drop-shadow(0px 1px 2px rgba(0, 0, 0, 0.3));\n",
              "      fill: #FFFFFF;\n",
              "    }\n",
              "  </style>\n",
              "\n",
              "      <script>\n",
              "        const buttonEl =\n",
              "          document.querySelector('#df-4c7219c1-ef5a-4e2c-b629-95e2537dbb58 button.colab-df-convert');\n",
              "        buttonEl.style.display =\n",
              "          google.colab.kernel.accessAllowed ? 'block' : 'none';\n",
              "\n",
              "        async function convertToInteractive(key) {\n",
              "          const element = document.querySelector('#df-4c7219c1-ef5a-4e2c-b629-95e2537dbb58');\n",
              "          const dataTable =\n",
              "            await google.colab.kernel.invokeFunction('convertToInteractive',\n",
              "                                                     [key], {});\n",
              "          if (!dataTable) return;\n",
              "\n",
              "          const docLinkHtml = 'Like what you see? Visit the ' +\n",
              "            '<a target=\"_blank\" href=https://colab.research.google.com/notebooks/data_table.ipynb>data table notebook</a>'\n",
              "            + ' to learn more about interactive tables.';\n",
              "          element.innerHTML = '';\n",
              "          dataTable['output_type'] = 'display_data';\n",
              "          await google.colab.output.renderOutput(dataTable, element);\n",
              "          const docLink = document.createElement('div');\n",
              "          docLink.innerHTML = docLinkHtml;\n",
              "          element.appendChild(docLink);\n",
              "        }\n",
              "      </script>\n",
              "    </div>\n",
              "  </div>\n",
              "  "
            ]
          },
          "metadata": {},
          "execution_count": 118
        }
      ]
    },
    {
      "cell_type": "code",
      "source": [
        "sol.to_csv('fast_text.csv', index=False)"
      ],
      "metadata": {
        "id": "98k7-MTrZeQz"
      },
      "execution_count": null,
      "outputs": []
    },
    {
      "cell_type": "code",
      "source": [
        "sol.grades.value_counts(normalize=True)"
      ],
      "metadata": {
        "colab": {
          "base_uri": "https://localhost:8080/"
        },
        "id": "MeuLYBLqK7WM",
        "outputId": "24944b57-df29-49e4-cecc-de6388b67607"
      },
      "execution_count": null,
      "outputs": [
        {
          "output_type": "execute_result",
          "data": {
            "text/plain": [
              "1    1.0\n",
              "Name: grades, dtype: float64"
            ]
          },
          "metadata": {},
          "execution_count": 119
        }
      ]
    },
    {
      "cell_type": "markdown",
      "source": [
        "## 4.3.Bert"
      ],
      "metadata": {
        "id": "jGKwWejD_wFY"
      }
    },
    {
      "cell_type": "code",
      "source": [
        "PRE_TRAINED_MODEL_NAME = 'cointegrated/rubert-tiny2'\n",
        "tokenizer = BertTokenizer.from_pretrained(PRE_TRAINED_MODEL_NAME)"
      ],
      "metadata": {
        "id": "0dRPy0VILA7j",
        "colab": {
          "base_uri": "https://localhost:8080/",
          "height": 113,
          "referenced_widgets": [
            "fc762e5168564bdab9c6ffb339132464",
            "8c6ca90ff2664e77a534b643ca6f50bf",
            "9b9b0905a81c450c848722c2984013d1",
            "5bd61d7deb4049e38d6d47bc5da68ba1",
            "b7eeaafb69594916afd59a836952505f",
            "1d56d144034443f2ac4a280a0ecbdddd",
            "488d31f4ad3b4d699be92d93093a5715",
            "d25c53ec4d114b3b81a2b1259d8798c4",
            "50b6e3fdc3294733bddbcb9eaae4aa27",
            "b9a62415845b49a49d0b4b87c151ad33",
            "8d799925fb534cc49663b8ebeb72d580",
            "b1ca9eb2a0e64d57bb33c27021de0bad",
            "fddd003751464583aa8a3602806b9e85",
            "0623caecbfca4e0ebca9b23f8e679cef",
            "8b6fb91309af4e6d9019cf76e74bf880",
            "e167884d36a24c7ab5ba2b0ac6af0674",
            "8dace03826834ccf8b46538820e81730",
            "a3756e979cee4d39b133a6ea8c5e2d4a",
            "786945e96f7a4a988a4d2db9c4cfe968",
            "2520cb52d7184b08b9e5b21634a69566",
            "73d316a307d84fb89f64bf5ae1755e80",
            "9bbbfb380f48494d86d9dbe6af4cd07f",
            "05ae9864ce47488495a91a8405c8bf7d",
            "24cc8b7a10ea4c8099a2d32b335b3bc4",
            "b5c2b74aa506417fb1defd7061580a6e",
            "e0eb93fcfbf34e42ad11d4c71cfb1730",
            "a6fbc50798f5485d90a701b2cb7ea974",
            "42064b4fccdf43f9a7f4ac1ccef22579",
            "0dd71d5c0f1a45688d1887764ff0e423",
            "cd3341a8b063468d823eb3abc2de77fc",
            "00581025760d4d31a54fe0d3739e5cb3",
            "cdc5afbc46c44d08b7401f0db6be1730",
            "ab3ca308fc7e49bc8f968ef37d7a66ae"
          ]
        },
        "outputId": "3e0f0820-4c67-42dd-b4f8-d78bac83ca62"
      },
      "execution_count": null,
      "outputs": [
        {
          "output_type": "display_data",
          "data": {
            "text/plain": [
              "Downloading:   0%|          | 0.00/1.08M [00:00<?, ?B/s]"
            ],
            "application/vnd.jupyter.widget-view+json": {
              "version_major": 2,
              "version_minor": 0,
              "model_id": "fc762e5168564bdab9c6ffb339132464"
            }
          },
          "metadata": {}
        },
        {
          "output_type": "display_data",
          "data": {
            "text/plain": [
              "Downloading:   0%|          | 0.00/112 [00:00<?, ?B/s]"
            ],
            "application/vnd.jupyter.widget-view+json": {
              "version_major": 2,
              "version_minor": 0,
              "model_id": "b1ca9eb2a0e64d57bb33c27021de0bad"
            }
          },
          "metadata": {}
        },
        {
          "output_type": "display_data",
          "data": {
            "text/plain": [
              "Downloading:   0%|          | 0.00/401 [00:00<?, ?B/s]"
            ],
            "application/vnd.jupyter.widget-view+json": {
              "version_major": 2,
              "version_minor": 0,
              "model_id": "05ae9864ce47488495a91a8405c8bf7d"
            }
          },
          "metadata": {}
        }
      ]
    },
    {
      "cell_type": "code",
      "source": [
        "sample_txt = 'Я устал от всего этого. Нету человеческих сил больше так существовать'\n",
        "tokens = tokenizer.tokenize(sample_txt)\n",
        "token_ids = tokenizer.convert_tokens_to_ids(tokens)\n",
        "\n",
        "print(f' Sentence: {sample_txt}')\n",
        "print(f'   Tokens: {tokens}')\n",
        "print(f'Token IDs: {token_ids}')"
      ],
      "metadata": {
        "colab": {
          "base_uri": "https://localhost:8080/"
        },
        "id": "uuwqytsk_4Cp",
        "outputId": "ce516c43-cda5-421b-fc76-ad5feaa5052c"
      },
      "execution_count": null,
      "outputs": [
        {
          "output_type": "stream",
          "name": "stdout",
          "text": [
            " Sentence: Я устал от всего этого. Нету человеческих сил больше так существовать\n",
            "   Tokens: ['Я', 'устал', 'от', 'всего', 'этого', '.', 'Нет', '##у', 'человеческих', 'сил', 'больше', 'так', 'существовать']\n",
            "Token IDs: [311, 56744, 733, 4983, 3136, 18, 30616, 644, 40372, 7373, 8281, 1908, 39290]\n"
          ]
        }
      ]
    },
    {
      "cell_type": "code",
      "source": [
        "encoding = tokenizer.encode_plus(\n",
        "  sample_txt,\n",
        "  # max_length=512,\n",
        "  add_special_tokens=True, # Добавить '[CLS]' и '[SEP]'\n",
        "  return_token_type_ids=False,\n",
        "  # pad_to_max_length=True,\n",
        "  padding='max_length',\n",
        "  return_attention_mask=True,\n",
        "  return_tensors='pt',  # Вернуть тензор PyTorch\n",
        ")\n",
        "\n",
        "encoding.keys()"
      ],
      "metadata": {
        "colab": {
          "base_uri": "https://localhost:8080/"
        },
        "id": "Bdb61FQB_3_B",
        "outputId": "03630720-1469-4949-a941-16185aafcb4d"
      },
      "execution_count": null,
      "outputs": [
        {
          "output_type": "execute_result",
          "data": {
            "text/plain": [
              "dict_keys(['input_ids', 'attention_mask'])"
            ]
          },
          "metadata": {},
          "execution_count": 68
        }
      ]
    },
    {
      "cell_type": "code",
      "source": [
        "tokenizer.convert_ids_to_tokens(encoding['input_ids'][0])"
      ],
      "metadata": {
        "id": "SYdR2-wHXTlc"
      },
      "execution_count": null,
      "outputs": []
    },
    {
      "cell_type": "code",
      "source": [
        "class CustomDataset(Dataset):\n",
        "  def __init__(self, reviews, targets, tokenizer, max_len):\n",
        "    self.reviews = reviews\n",
        "    self.targets = targets\n",
        "    self.tokenizer = tokenizer\n",
        "    self.max_len = max_len\n",
        "  \n",
        "  def __len__(self):\n",
        "    return len(self.reviews)\n",
        "  \n",
        "  def __getitem__(self, item):\n",
        "    review = str(self.reviews[item])\n",
        "    target = self.targets[item]\n",
        "\n",
        "    encoding = self.tokenizer.encode_plus(\n",
        "      review,\n",
        "      add_special_tokens=True,\n",
        "      max_length=self.max_len,\n",
        "      return_token_type_ids=False,\n",
        "      # pad_to_max_length=True,\n",
        "      padding='max_length',\n",
        "      truncation=True,\n",
        "      return_attention_mask=True,\n",
        "      return_tensors='pt',\n",
        "    )\n",
        "\n",
        "    return {\n",
        "      'review_text': review,\n",
        "      'input_ids': encoding['input_ids'].flatten(),\n",
        "      'attention_mask': encoding['attention_mask'].flatten(),\n",
        "      'targets': torch.tensor(target, dtype=torch.long)\n",
        "    }"
      ],
      "metadata": {
        "id": "rU2pCa0EXhWc"
      },
      "execution_count": null,
      "outputs": []
    },
    {
      "cell_type": "code",
      "source": [
        "train_df = train_df.dropna()\n",
        "train_df['grades'] = train_df['grades'].astype('int8') - 1"
      ],
      "metadata": {
        "colab": {
          "base_uri": "https://localhost:8080/"
        },
        "id": "i9BLjy_0YjY_",
        "outputId": "1ac7d502-d923-49a3-ba3c-184686e1741b"
      },
      "execution_count": null,
      "outputs": [
        {
          "output_type": "stream",
          "name": "stderr",
          "text": [
            "<ipython-input-12-3074085544db>:2: SettingWithCopyWarning: \n",
            "A value is trying to be set on a copy of a slice from a DataFrame.\n",
            "Try using .loc[row_indexer,col_indexer] = value instead\n",
            "\n",
            "See the caveats in the documentation: https://pandas.pydata.org/pandas-docs/stable/user_guide/indexing.html#returning-a-view-versus-a-copy\n",
            "  train_df['grades'] = train_df['grades'].astype('int8') - 1\n"
          ]
        }
      ]
    },
    {
      "cell_type": "code",
      "source": [
        "# np.random.seed(42)\n",
        "# idxs = np.random.choice(train_df.index, size=int(train_df.shape[0] * 0.75), replace=False)"
      ],
      "metadata": {
        "id": "ncOixUmU5sNx"
      },
      "execution_count": null,
      "outputs": []
    },
    {
      "cell_type": "code",
      "source": [
        "# df_train, df_test = train_test_split(train_df[:int(len(train_df) * 0.7)], test_size=0.3, random_state=RANDOM_SEED)\n",
        "# df_val, df_test = train_test_split(df_test, test_size=0.5, random_state=RANDOM_SEED)\n",
        "df_train, df_test = train_test_split(train_df, train_size=45000, test_size=10000, stratify=train_df.grades, random_state=RANDOM_SEED)\n",
        "df_val, df_test = train_test_split(df_test, test_size=0.5, stratify=df_test.grades, random_state=RANDOM_SEED)"
      ],
      "metadata": {
        "id": "AM7LCkz1XwAg"
      },
      "execution_count": null,
      "outputs": []
    },
    {
      "cell_type": "code",
      "source": [
        "df_train.shape, df_val.shape, df_test.shape"
      ],
      "metadata": {
        "colab": {
          "base_uri": "https://localhost:8080/"
        },
        "id": "lN2fVwDyYWkC",
        "outputId": "124fdf5f-52d4-49b3-88b7-1e2876c20f3b"
      },
      "execution_count": null,
      "outputs": [
        {
          "output_type": "execute_result",
          "data": {
            "text/plain": [
              "((45000, 7), (5000, 7), (5000, 7))"
            ]
          },
          "metadata": {},
          "execution_count": 42
        }
      ]
    },
    {
      "cell_type": "code",
      "source": [
        "np.random.seed(42)\n",
        "idx_drop = np.random.choice(df_train[df_train.grades == 0].index, size=int(df_train.shape[0] * 0.4), replace=False)\n",
        "df_train = df_train.drop(index=idx_drop)"
      ],
      "metadata": {
        "id": "UyvCCaKtZL7b"
      },
      "execution_count": null,
      "outputs": []
    },
    {
      "cell_type": "code",
      "source": [
        "def create_data_loader(df, tokenizer, max_len, batch_size):\n",
        "  ds = CustomDataset(\n",
        "    reviews=df.feeds.to_numpy(), #df.lemmas.to_numpy()\n",
        "    targets=df.grades.to_numpy(),\n",
        "    tokenizer=tokenizer,\n",
        "    max_len=max_len\n",
        "  )\n",
        "\n",
        "  return DataLoader(\n",
        "    ds,\n",
        "    batch_size=batch_size,\n",
        "    num_workers=2\n",
        "  )"
      ],
      "metadata": {
        "id": "DG2Er1UWYc5C"
      },
      "execution_count": null,
      "outputs": []
    },
    {
      "cell_type": "code",
      "source": [
        "BATCH_SIZE = 64\n",
        "MAX_LEN = 512\n",
        "train_data_loader = create_data_loader(df_train, tokenizer, MAX_LEN, BATCH_SIZE)\n",
        "val_data_loader = create_data_loader(df_val, tokenizer, MAX_LEN, BATCH_SIZE)\n",
        "test_data_loader = create_data_loader(df_test, tokenizer, MAX_LEN, BATCH_SIZE)"
      ],
      "metadata": {
        "id": "NknJCWSHZhAY"
      },
      "execution_count": null,
      "outputs": []
    },
    {
      "cell_type": "code",
      "source": [
        "data = next(iter(train_data_loader))\n",
        "data.keys()"
      ],
      "metadata": {
        "colab": {
          "base_uri": "https://localhost:8080/"
        },
        "id": "3fm04B7VZwAB",
        "outputId": "204ba6c1-f1f5-4329-8e05-3ef97393636c"
      },
      "execution_count": null,
      "outputs": [
        {
          "output_type": "execute_result",
          "data": {
            "text/plain": [
              "dict_keys(['review_text', 'input_ids', 'attention_mask', 'targets'])"
            ]
          },
          "metadata": {},
          "execution_count": 77
        }
      ]
    },
    {
      "cell_type": "code",
      "source": [
        "print(data['input_ids'].shape)\n",
        "print(data['attention_mask'].shape)\n",
        "print(data['targets'].shape)"
      ],
      "metadata": {
        "colab": {
          "base_uri": "https://localhost:8080/"
        },
        "id": "a2xT2v22Zy0c",
        "outputId": "33d1ae6a-19e5-43c6-c7e6-01cc2d800019"
      },
      "execution_count": null,
      "outputs": [
        {
          "output_type": "stream",
          "name": "stdout",
          "text": [
            "torch.Size([64, 512])\n",
            "torch.Size([64, 512])\n",
            "torch.Size([64])\n"
          ]
        }
      ]
    },
    {
      "cell_type": "code",
      "source": [
        "bert_model = BertModel.from_pretrained(PRE_TRAINED_MODEL_NAME)"
      ],
      "metadata": {
        "colab": {
          "base_uri": "https://localhost:8080/",
          "height": 153,
          "referenced_widgets": [
            "20506f4e8d66465290fd4ec1df7956ae",
            "9e7363a38e5747e488016e862b436d55",
            "fd6cb96ab01b466287c47e5e5ab6a0aa",
            "82896f4ef26d4317851fecf5c1b8dbcd",
            "a9df96e95f0640bc8cad8590a7106745",
            "48bc0b9c90f94efcacb7af1d742de33a",
            "a9b6a64f8b1245c4b1c3467252f10afd",
            "e6b3184ebe51470c94d978c70b5a4aea",
            "79be221970784abe9f8b1539bbcd8500",
            "b9ea7a57604e42c0a64c6a676a1a09f4",
            "9dd2b239b166459e8e68cc778bc1dd64",
            "62672cdd0497450399b75964b82a1d81",
            "c860c024ac1748d0919c4763468dd706",
            "1bc7efd2fa884bfb8115afc487b5a00d",
            "d6d25178dd1446f78eee14feb42fee2d",
            "4196028e0f2c4ed9902a5d6d54f0dce0",
            "7c8f6b52ced041719967b3fb5580a3a5",
            "4ad4bd15639f4650bc975ba86f27b45c",
            "00592d3dd6864cdeb0985712c5d59c66",
            "c22669a0c56c443fb04a57cfa3aa7d8c",
            "f41a88eb564142feb0e2eb234664a7c0",
            "7a334761c4ba42239f99a3c623bcdb4b"
          ]
        },
        "id": "f21NKYs9aut2",
        "outputId": "e0aeec9c-8498-49c3-a13f-b2d9661f1eb9"
      },
      "execution_count": null,
      "outputs": [
        {
          "output_type": "display_data",
          "data": {
            "text/plain": [
              "Downloading:   0%|          | 0.00/715 [00:00<?, ?B/s]"
            ],
            "application/vnd.jupyter.widget-view+json": {
              "version_major": 2,
              "version_minor": 0,
              "model_id": "20506f4e8d66465290fd4ec1df7956ae"
            }
          },
          "metadata": {}
        },
        {
          "output_type": "display_data",
          "data": {
            "text/plain": [
              "Downloading:   0%|          | 0.00/118M [00:00<?, ?B/s]"
            ],
            "application/vnd.jupyter.widget-view+json": {
              "version_major": 2,
              "version_minor": 0,
              "model_id": "62672cdd0497450399b75964b82a1d81"
            }
          },
          "metadata": {}
        },
        {
          "output_type": "stream",
          "name": "stderr",
          "text": [
            "Some weights of the model checkpoint at cointegrated/rubert-tiny2 were not used when initializing BertModel: ['cls.predictions.transform.LayerNorm.weight', 'cls.predictions.transform.dense.weight', 'cls.predictions.transform.LayerNorm.bias', 'cls.predictions.transform.dense.bias', 'cls.seq_relationship.bias', 'cls.predictions.bias', 'cls.seq_relationship.weight', 'cls.predictions.decoder.bias', 'cls.predictions.decoder.weight']\n",
            "- This IS expected if you are initializing BertModel from the checkpoint of a model trained on another task or with another architecture (e.g. initializing a BertForSequenceClassification model from a BertForPreTraining model).\n",
            "- This IS NOT expected if you are initializing BertModel from the checkpoint of a model that you expect to be exactly identical (initializing a BertForSequenceClassification model from a BertForSequenceClassification model).\n"
          ]
        }
      ]
    },
    {
      "cell_type": "code",
      "source": [
        "outputs = bert_model(\n",
        "  input_ids=encoding['input_ids'], \n",
        "  attention_mask=encoding['attention_mask']\n",
        ")"
      ],
      "metadata": {
        "id": "HQbPMLTBaw18"
      },
      "execution_count": null,
      "outputs": []
    },
    {
      "cell_type": "code",
      "source": [
        "outputs.keys()"
      ],
      "metadata": {
        "colab": {
          "base_uri": "https://localhost:8080/"
        },
        "id": "fH18fP4_azt6",
        "outputId": "9a937686-9c37-4a23-8590-2a175a064435"
      },
      "execution_count": null,
      "outputs": [
        {
          "output_type": "execute_result",
          "data": {
            "text/plain": [
              "odict_keys(['last_hidden_state', 'pooler_output'])"
            ]
          },
          "metadata": {},
          "execution_count": 34
        }
      ]
    },
    {
      "cell_type": "code",
      "source": [
        "last_hidden_state = outputs['last_hidden_state']"
      ],
      "metadata": {
        "id": "Bep5za7qa6Gk"
      },
      "execution_count": null,
      "outputs": []
    },
    {
      "cell_type": "code",
      "source": [
        "last_hidden_state.shape"
      ],
      "metadata": {
        "colab": {
          "base_uri": "https://localhost:8080/"
        },
        "id": "q_wgh2KHa6Df",
        "outputId": "1d36905a-251d-4c95-88eb-2b114ac2f3d3"
      },
      "execution_count": null,
      "outputs": [
        {
          "output_type": "execute_result",
          "data": {
            "text/plain": [
              "torch.Size([1, 2048, 312])"
            ]
          },
          "metadata": {},
          "execution_count": 36
        }
      ]
    },
    {
      "cell_type": "code",
      "source": [
        "train_df.loc[16]['lemmas']"
      ],
      "metadata": {
        "colab": {
          "base_uri": "https://localhost:8080/",
          "height": 105
        },
        "id": "PnzZwreda6Ab",
        "outputId": "e7d9c947-cbb3-479f-a9c8-f05496b25b10"
      },
      "execution_count": null,
      "outputs": [
        {
          "output_type": "execute_result",
          "data": {
            "text/plain": [
              "'давно банк приостановить операция счёт карта написать объяснение банк оно устроить время стать мало просто забить это дело несмотря блок банк продолжать списывать обслуживание счёт пакет комфорт отключить послать далее взять комиссия карта мой случай это комбренд аэрофлот сумма рубль пара звонить банк обьяснять ситуация сказать позвонить сам комиссия убрать сегодня позвонить горячий линия сказать мочь заявление составить необоснованно карта активный понимать активный карта это карта который человек пользоваться мочь ограничение банк пользоваться операция год сниматься оплата общий просьба обнулить комиссия сказать какой именно объяснение банк требоваться санкт петербург отнести'"
            ],
            "application/vnd.google.colaboratory.intrinsic+json": {
              "type": "string"
            }
          },
          "metadata": {},
          "execution_count": 37
        }
      ]
    },
    {
      "cell_type": "code",
      "source": [
        "sample_txt = train_df.loc[16]['lemmas']"
      ],
      "metadata": {
        "id": "rmNgThljbKVf"
      },
      "execution_count": null,
      "outputs": []
    },
    {
      "cell_type": "code",
      "source": [
        "encoding = tokenizer.encode_plus(\n",
        "  sample_txt,\n",
        "  max_length=32,\n",
        "  add_special_tokens=True, # Добавить '[CLS]' и '[SEP]'\n",
        "  return_token_type_ids=False,\n",
        "  pad_to_max_length=True,\n",
        "  return_attention_mask=True,\n",
        "  return_tensors='pt',  # Вернуть тензор PyTorch\n",
        ")"
      ],
      "metadata": {
        "colab": {
          "base_uri": "https://localhost:8080/"
        },
        "id": "uh0OilAma58M",
        "outputId": "825fd665-e640-49a7-8ffd-46ce7d57aa3a"
      },
      "execution_count": null,
      "outputs": [
        {
          "output_type": "stream",
          "name": "stderr",
          "text": [
            "Truncation was not explicitly activated but `max_length` is provided a specific value, please use `truncation=True` to explicitly truncate examples to max length. Defaulting to 'longest_first' truncation strategy. If you encode pairs of sequences (GLUE-style) with the tokenizer you can select this strategy more precisely by providing a specific strategy to `truncation`.\n",
            "/usr/local/lib/python3.8/dist-packages/transformers/tokenization_utils_base.py:2336: FutureWarning: The `pad_to_max_length` argument is deprecated and will be removed in a future version, use `padding=True` or `padding='longest'` to pad to the longest sequence in the batch, or use `padding='max_length'` to pad to a max length. In this case, you can give a specific length with `max_length` (e.g. `max_length=45`) or leave max_length to None to pad to the maximal input size of the model (e.g. 512 for Bert).\n",
            "  warnings.warn(\n"
          ]
        }
      ]
    },
    {
      "cell_type": "code",
      "source": [
        "last_hidden_state = bert_model(\n",
        "  input_ids=encoding['input_ids'], \n",
        "  attention_mask=encoding['attention_mask']\n",
        ")['last_hidden_state']"
      ],
      "metadata": {
        "id": "iUUjkkHUa54S"
      },
      "execution_count": null,
      "outputs": []
    },
    {
      "cell_type": "code",
      "source": [
        "emb0 = last_hidden_state[0, 17]\n",
        "emb0.shape"
      ],
      "metadata": {
        "colab": {
          "base_uri": "https://localhost:8080/"
        },
        "id": "bkWwx77qbf54",
        "outputId": "bda075ea-c4a5-4a3b-eac4-35bf02db1b59"
      },
      "execution_count": null,
      "outputs": [
        {
          "output_type": "execute_result",
          "data": {
            "text/plain": [
              "torch.Size([312])"
            ]
          },
          "metadata": {},
          "execution_count": 41
        }
      ]
    },
    {
      "cell_type": "code",
      "source": [
        "class CustomClassifier(nn.Module):\n",
        "  def __init__(self, n_classes):\n",
        "    super(CustomClassifier, self).__init__()\n",
        "    self.bert = BertModel.from_pretrained(PRE_TRAINED_MODEL_NAME)\n",
        "    for param in self.bert.base_model.parameters():\n",
        "        param.requires_grad = False\n",
        "    self.drop = nn.Dropout(p=0.5)\n",
        "    self.out = nn.Linear(self.bert.config.hidden_size, n_classes)\n",
        "  \n",
        "  def forward(self, input_ids, attention_mask):\n",
        "    outputs = self.bert(\n",
        "      input_ids=input_ids,\n",
        "      attention_mask=attention_mask\n",
        "    )\n",
        "    output = self.drop(outputs[\"pooler_output\"])\n",
        "    return self.out(output)\n",
        "\n",
        "# class CustomClassifier(nn.Module):\n",
        "#   def __init__(self, n_classes):\n",
        "#     super(CustomClassifier, self).__init__()\n",
        "#     # self.bert = BertModel.from_pretrained(PRE_TRAINED_MODEL_NAME)\n",
        "#     self.bert = BertForSequenceClassification.from_pretrained(PRE_TRAINED_MODEL_NAME, num_labels=256)\n",
        "#     for param in self.bert.bert.parameters():\n",
        "#         param.requires_grad = False\n",
        "#     self.drop = nn.Dropout(p=0.4)\n",
        "#     self.out = nn.Linear(256, n_classes)\n",
        "  \n",
        "#   def forward(self, input_ids, attention_mask):\n",
        "#     outputs = self.bert(\n",
        "#       input_ids=input_ids,\n",
        "#       attention_mask=attention_mask\n",
        "#     )\n",
        "#     # output = self.drop(outputs[\"pooler_output\"])\n",
        "#     return outputs # self.out(output)"
      ],
      "metadata": {
        "id": "6Wfk3dArbm8e"
      },
      "execution_count": null,
      "outputs": []
    },
    {
      "cell_type": "code",
      "source": [
        "model = CustomClassifier(5)\n",
        "model = model.to(device)"
      ],
      "metadata": {
        "colab": {
          "base_uri": "https://localhost:8080/"
        },
        "id": "Ah-XCR-ccLKh",
        "outputId": "c90cd11d-0fb7-4516-cc82-25949cb51ad4"
      },
      "execution_count": null,
      "outputs": [
        {
          "output_type": "stream",
          "name": "stderr",
          "text": [
            "Some weights of the model checkpoint at cointegrated/rubert-tiny2 were not used when initializing BertModel: ['cls.predictions.bias', 'cls.seq_relationship.bias', 'cls.predictions.transform.dense.bias', 'cls.seq_relationship.weight', 'cls.predictions.transform.LayerNorm.bias', 'cls.predictions.decoder.weight', 'cls.predictions.transform.LayerNorm.weight', 'cls.predictions.transform.dense.weight', 'cls.predictions.decoder.bias']\n",
            "- This IS expected if you are initializing BertModel from the checkpoint of a model trained on another task or with another architecture (e.g. initializing a BertForSequenceClassification model from a BertForPreTraining model).\n",
            "- This IS NOT expected if you are initializing BertModel from the checkpoint of a model that you expect to be exactly identical (initializing a BertForSequenceClassification model from a BertForSequenceClassification model).\n"
          ]
        }
      ]
    },
    {
      "cell_type": "code",
      "source": [
        "model"
      ],
      "metadata": {
        "colab": {
          "base_uri": "https://localhost:8080/"
        },
        "id": "ffH8NXkSchWI",
        "outputId": "637fa6b0-bcdc-4ce1-c5c6-3999550b336f"
      },
      "execution_count": null,
      "outputs": [
        {
          "output_type": "execute_result",
          "data": {
            "text/plain": [
              "CustomClassifier(\n",
              "  (bert): BertModel(\n",
              "    (embeddings): BertEmbeddings(\n",
              "      (word_embeddings): Embedding(83828, 312, padding_idx=0)\n",
              "      (position_embeddings): Embedding(2048, 312)\n",
              "      (token_type_embeddings): Embedding(2, 312)\n",
              "      (LayerNorm): LayerNorm((312,), eps=1e-12, elementwise_affine=True)\n",
              "      (dropout): Dropout(p=0.1, inplace=False)\n",
              "    )\n",
              "    (encoder): BertEncoder(\n",
              "      (layer): ModuleList(\n",
              "        (0): BertLayer(\n",
              "          (attention): BertAttention(\n",
              "            (self): BertSelfAttention(\n",
              "              (query): Linear(in_features=312, out_features=312, bias=True)\n",
              "              (key): Linear(in_features=312, out_features=312, bias=True)\n",
              "              (value): Linear(in_features=312, out_features=312, bias=True)\n",
              "              (dropout): Dropout(p=0.1, inplace=False)\n",
              "            )\n",
              "            (output): BertSelfOutput(\n",
              "              (dense): Linear(in_features=312, out_features=312, bias=True)\n",
              "              (LayerNorm): LayerNorm((312,), eps=1e-12, elementwise_affine=True)\n",
              "              (dropout): Dropout(p=0.1, inplace=False)\n",
              "            )\n",
              "          )\n",
              "          (intermediate): BertIntermediate(\n",
              "            (dense): Linear(in_features=312, out_features=600, bias=True)\n",
              "            (intermediate_act_fn): GELUActivation()\n",
              "          )\n",
              "          (output): BertOutput(\n",
              "            (dense): Linear(in_features=600, out_features=312, bias=True)\n",
              "            (LayerNorm): LayerNorm((312,), eps=1e-12, elementwise_affine=True)\n",
              "            (dropout): Dropout(p=0.1, inplace=False)\n",
              "          )\n",
              "        )\n",
              "        (1): BertLayer(\n",
              "          (attention): BertAttention(\n",
              "            (self): BertSelfAttention(\n",
              "              (query): Linear(in_features=312, out_features=312, bias=True)\n",
              "              (key): Linear(in_features=312, out_features=312, bias=True)\n",
              "              (value): Linear(in_features=312, out_features=312, bias=True)\n",
              "              (dropout): Dropout(p=0.1, inplace=False)\n",
              "            )\n",
              "            (output): BertSelfOutput(\n",
              "              (dense): Linear(in_features=312, out_features=312, bias=True)\n",
              "              (LayerNorm): LayerNorm((312,), eps=1e-12, elementwise_affine=True)\n",
              "              (dropout): Dropout(p=0.1, inplace=False)\n",
              "            )\n",
              "          )\n",
              "          (intermediate): BertIntermediate(\n",
              "            (dense): Linear(in_features=312, out_features=600, bias=True)\n",
              "            (intermediate_act_fn): GELUActivation()\n",
              "          )\n",
              "          (output): BertOutput(\n",
              "            (dense): Linear(in_features=600, out_features=312, bias=True)\n",
              "            (LayerNorm): LayerNorm((312,), eps=1e-12, elementwise_affine=True)\n",
              "            (dropout): Dropout(p=0.1, inplace=False)\n",
              "          )\n",
              "        )\n",
              "        (2): BertLayer(\n",
              "          (attention): BertAttention(\n",
              "            (self): BertSelfAttention(\n",
              "              (query): Linear(in_features=312, out_features=312, bias=True)\n",
              "              (key): Linear(in_features=312, out_features=312, bias=True)\n",
              "              (value): Linear(in_features=312, out_features=312, bias=True)\n",
              "              (dropout): Dropout(p=0.1, inplace=False)\n",
              "            )\n",
              "            (output): BertSelfOutput(\n",
              "              (dense): Linear(in_features=312, out_features=312, bias=True)\n",
              "              (LayerNorm): LayerNorm((312,), eps=1e-12, elementwise_affine=True)\n",
              "              (dropout): Dropout(p=0.1, inplace=False)\n",
              "            )\n",
              "          )\n",
              "          (intermediate): BertIntermediate(\n",
              "            (dense): Linear(in_features=312, out_features=600, bias=True)\n",
              "            (intermediate_act_fn): GELUActivation()\n",
              "          )\n",
              "          (output): BertOutput(\n",
              "            (dense): Linear(in_features=600, out_features=312, bias=True)\n",
              "            (LayerNorm): LayerNorm((312,), eps=1e-12, elementwise_affine=True)\n",
              "            (dropout): Dropout(p=0.1, inplace=False)\n",
              "          )\n",
              "        )\n",
              "      )\n",
              "    )\n",
              "    (pooler): BertPooler(\n",
              "      (dense): Linear(in_features=312, out_features=312, bias=True)\n",
              "      (activation): Tanh()\n",
              "    )\n",
              "  )\n",
              "  (drop): Dropout(p=0.5, inplace=False)\n",
              "  (out): Linear(in_features=312, out_features=5, bias=True)\n",
              ")"
            ]
          },
          "metadata": {},
          "execution_count": 86
        }
      ]
    },
    {
      "cell_type": "code",
      "source": [
        "input_ids = data['input_ids'].to(device)\n",
        "attention_mask = data['attention_mask'].to(device)\n",
        "\n",
        "print(input_ids.shape) # batch size x seq length\n",
        "print(attention_mask.shape) # batch size x seq length"
      ],
      "metadata": {
        "colab": {
          "base_uri": "https://localhost:8080/",
          "height": 235
        },
        "id": "2MWYH31scypm",
        "outputId": "bea670b8-702f-45bf-e1cc-c07332c43bf8"
      },
      "execution_count": null,
      "outputs": [
        {
          "output_type": "error",
          "ename": "NameError",
          "evalue": "ignored",
          "traceback": [
            "\u001b[0;31m---------------------------------------------------------------------------\u001b[0m",
            "\u001b[0;31mNameError\u001b[0m                                 Traceback (most recent call last)",
            "\u001b[0;32m<ipython-input-68-72986c5c2531>\u001b[0m in \u001b[0;36m<module>\u001b[0;34m\u001b[0m\n\u001b[0;32m----> 1\u001b[0;31m \u001b[0minput_ids\u001b[0m \u001b[0;34m=\u001b[0m \u001b[0mdata\u001b[0m\u001b[0;34m[\u001b[0m\u001b[0;34m'input_ids'\u001b[0m\u001b[0;34m]\u001b[0m\u001b[0;34m.\u001b[0m\u001b[0mto\u001b[0m\u001b[0;34m(\u001b[0m\u001b[0mdevice\u001b[0m\u001b[0;34m)\u001b[0m\u001b[0;34m\u001b[0m\u001b[0;34m\u001b[0m\u001b[0m\n\u001b[0m\u001b[1;32m      2\u001b[0m \u001b[0mattention_mask\u001b[0m \u001b[0;34m=\u001b[0m \u001b[0mdata\u001b[0m\u001b[0;34m[\u001b[0m\u001b[0;34m'attention_mask'\u001b[0m\u001b[0;34m]\u001b[0m\u001b[0;34m.\u001b[0m\u001b[0mto\u001b[0m\u001b[0;34m(\u001b[0m\u001b[0mdevice\u001b[0m\u001b[0;34m)\u001b[0m\u001b[0;34m\u001b[0m\u001b[0;34m\u001b[0m\u001b[0m\n\u001b[1;32m      3\u001b[0m \u001b[0;34m\u001b[0m\u001b[0m\n\u001b[1;32m      4\u001b[0m \u001b[0mprint\u001b[0m\u001b[0;34m(\u001b[0m\u001b[0minput_ids\u001b[0m\u001b[0;34m.\u001b[0m\u001b[0mshape\u001b[0m\u001b[0;34m)\u001b[0m \u001b[0;31m# batch size x seq length\u001b[0m\u001b[0;34m\u001b[0m\u001b[0;34m\u001b[0m\u001b[0m\n\u001b[1;32m      5\u001b[0m \u001b[0mprint\u001b[0m\u001b[0;34m(\u001b[0m\u001b[0mattention_mask\u001b[0m\u001b[0;34m.\u001b[0m\u001b[0mshape\u001b[0m\u001b[0;34m)\u001b[0m \u001b[0;31m# batch size x seq length\u001b[0m\u001b[0;34m\u001b[0m\u001b[0;34m\u001b[0m\u001b[0m\n",
            "\u001b[0;31mNameError\u001b[0m: name 'data' is not defined"
          ]
        }
      ]
    },
    {
      "cell_type": "code",
      "source": [
        "import torch.nn.functional as F"
      ],
      "metadata": {
        "id": "B8I0hcc2c0bf"
      },
      "execution_count": null,
      "outputs": []
    },
    {
      "cell_type": "code",
      "source": [
        "EPOCHS = 15\n",
        "\n",
        "optimizer = AdamW(model.parameters(), lr=6e-5)\n",
        "total_steps = len(train_data_loader) * EPOCHS\n",
        "\n",
        "scheduler = get_linear_schedule_with_warmup(\n",
        "  optimizer,\n",
        "  num_warmup_steps=int(total_steps * 0.6),\n",
        "  num_training_steps=total_steps\n",
        ")\n",
        "\n",
        "loss_fn = nn.CrossEntropyLoss().to(device)"
      ],
      "metadata": {
        "id": "SOx1xEcgel1e",
        "colab": {
          "base_uri": "https://localhost:8080/"
        },
        "outputId": "82ea2a42-d316-46cd-a21a-52fd8d52de36"
      },
      "execution_count": null,
      "outputs": [
        {
          "output_type": "stream",
          "name": "stderr",
          "text": [
            "/usr/local/lib/python3.8/dist-packages/transformers/optimization.py:306: FutureWarning: This implementation of AdamW is deprecated and will be removed in a future version. Use the PyTorch implementation torch.optim.AdamW instead, or set `no_deprecation_warning=True` to disable this warning\n",
            "  warnings.warn(\n"
          ]
        }
      ]
    },
    {
      "cell_type": "code",
      "source": [
        "from sklearn.metrics import f1_score\n",
        "\n",
        "def f1_score_func(preds, labels):\n",
        "    preds_flat = np.argmax(preds, axis=1).flatten()\n",
        "    labels_flat = labels.flatten()\n",
        "    return f1_score(labels_flat, preds_flat, average='micro')"
      ],
      "metadata": {
        "id": "hEmbbOF-tjne"
      },
      "execution_count": null,
      "outputs": []
    },
    {
      "cell_type": "code",
      "source": [
        "def train_epoch(\n",
        "  model, \n",
        "  data_loader, \n",
        "  loss_fn, \n",
        "  optimizer, \n",
        "  device, \n",
        "  scheduler, \n",
        "  n_examples\n",
        "):\n",
        "  model = model.train()\n",
        "\n",
        "  losses = []\n",
        "  correct_predictions = 0\n",
        "  \n",
        "  predictions, true_vals = [], []\n",
        "\n",
        "  for d in data_loader:\n",
        "    input_ids = d[\"input_ids\"].to(device)\n",
        "    attention_mask = d[\"attention_mask\"].to(device)\n",
        "    targets = d[\"targets\"].to(device)\n",
        "\n",
        "    outputs = model(\n",
        "      input_ids=input_ids,\n",
        "      attention_mask=attention_mask\n",
        "    )\n",
        "\n",
        "    _, preds = torch.max(outputs, dim=1)\n",
        "    loss = loss_fn(outputs, targets)\n",
        "\n",
        "    correct_predictions += torch.sum(preds == targets)\n",
        "    losses.append(loss.item())\n",
        "\n",
        "    logits = outputs.detach().cpu().numpy() # new\n",
        "    label_ids = targets.cpu().numpy()\n",
        "    predictions.append(logits)\n",
        "    true_vals.append(label_ids)\n",
        "\n",
        "    loss.backward()\n",
        "    nn.utils.clip_grad_norm_(model.parameters(), max_norm=1.0)\n",
        "    optimizer.step()\n",
        "    scheduler.step()\n",
        "    optimizer.zero_grad()\n",
        "    \n",
        "  predictions = np.concatenate(predictions, axis=0)\n",
        "  true_vals = np.concatenate(true_vals, axis=0)\n",
        "  return correct_predictions.double() / n_examples, np.mean(losses), predictions, true_vals"
      ],
      "metadata": {
        "id": "aenjVwGxfLoc"
      },
      "execution_count": null,
      "outputs": []
    },
    {
      "cell_type": "code",
      "source": [
        "def eval_model(model, data_loader, loss_fn, device, n_examples):\n",
        "  model = model.eval()\n",
        "\n",
        "  losses = []\n",
        "  correct_predictions = 0\n",
        "  predictions, true_vals = [], []\n",
        "  with torch.no_grad():\n",
        "    for d in data_loader:\n",
        "      input_ids = d[\"input_ids\"].to(device)\n",
        "      attention_mask = d[\"attention_mask\"].to(device)\n",
        "      targets = d[\"targets\"].to(device)\n",
        "\n",
        "      outputs = model(\n",
        "        input_ids=input_ids,\n",
        "        attention_mask=attention_mask\n",
        "      )\n",
        "      _, preds = torch.max(outputs, dim=1)\n",
        "\n",
        "      loss = loss_fn(outputs, targets)\n",
        "\n",
        "      correct_predictions += torch.sum(preds == targets)\n",
        "      losses.append(loss.item())\n",
        "\n",
        "      logits = outputs.detach().cpu().numpy() # new\n",
        "      label_ids = targets.cpu().numpy()\n",
        "      predictions.append(logits)\n",
        "      true_vals.append(label_ids)\n",
        "    \n",
        "  predictions = np.concatenate(predictions, axis=0)\n",
        "  true_vals = np.concatenate(true_vals, axis=0)\n",
        "\n",
        "  return correct_predictions.double() / n_examples, np.mean(losses), predictions, true_vals"
      ],
      "metadata": {
        "id": "AlejGW1nfMVh"
      },
      "execution_count": null,
      "outputs": []
    },
    {
      "cell_type": "code",
      "source": [
        "%%time\n",
        "\n",
        "history = defaultdict(list)\n",
        "best_accuracy = 0\n",
        "\n",
        "for epoch in range(EPOCHS):\n",
        "\n",
        "  print(f'Epoch {epoch + 1}/{EPOCHS}')\n",
        "  print('-' * 10)\n",
        "\n",
        "  train_acc, train_loss, preds, true_vals = train_epoch(\n",
        "    model,\n",
        "    train_data_loader,    \n",
        "    loss_fn, \n",
        "    optimizer, \n",
        "    device, \n",
        "    scheduler, \n",
        "    len(df_train)\n",
        "  )\n",
        "  train_f1 = f1_score_func(preds, true_vals)\n",
        "\n",
        "  print(f'Train loss {train_loss} accuracy {train_acc}')\n",
        "  print(f'Train f1 micro {train_f1}')\n",
        "\n",
        "  val_acc, val_loss, preds, true_vals = eval_model(\n",
        "    model,\n",
        "    val_data_loader,\n",
        "    loss_fn, \n",
        "    device, \n",
        "    len(df_val)\n",
        "  )\n",
        "  val_f1 = f1_score_func(preds, true_vals)\n",
        "  print(f'Val loss {val_loss} accuracy {val_acc}')\n",
        "  print(f'Val f1 micro {val_f1}')\n",
        "  print()\n",
        "\n",
        "  history['train_acc'].append(train_acc)\n",
        "  history['train_loss'].append(train_loss)\n",
        "  history['val_acc'].append(val_acc)\n",
        "  history['val_loss'].append(val_loss)\n",
        "\n",
        "  if val_acc > best_accuracy:\n",
        "    torch.save(model.state_dict(), 'best_model_state.bin')\n",
        "    best_accuracy = val_acc\n",
        "  if epoch > 10:\n",
        "    ask_proceed = input('Continue learning?')\n",
        "    if ask_proceed == 'y':\n",
        "      continue\n",
        "    else:\n",
        "      break"
      ],
      "metadata": {
        "colab": {
          "base_uri": "https://localhost:8080/",
          "height": 200
        },
        "id": "3jX_KXEpfRPH",
        "outputId": "9eb90f58-05d3-4ea7-a8a5-6452c0a26df7"
      },
      "execution_count": null,
      "outputs": [
        {
          "output_type": "stream",
          "name": "stdout",
          "text": [
            "Epoch 1/15\n",
            "----------\n",
            "Train loss 1.6093092812181085 accuracy 0.20851851851851852\n"
          ]
        },
        {
          "output_type": "error",
          "ename": "NameError",
          "evalue": "ignored",
          "traceback": [
            "\u001b[0;31m---------------------------------------------------------------------------\u001b[0m",
            "\u001b[0;31mNameError\u001b[0m                                 Traceback (most recent call last)",
            "\u001b[0;32m<timed exec>\u001b[0m in \u001b[0;36m<module>\u001b[0;34m\u001b[0m\n",
            "\u001b[0;31mNameError\u001b[0m: name 'val_f1' is not defined"
          ]
        }
      ]
    },
    {
      "cell_type": "code",
      "source": [
        "%%time\n",
        "\n",
        "history = defaultdict(list)\n",
        "best_accuracy = 0\n",
        "\n",
        "for epoch in range(EPOCHS):\n",
        "\n",
        "  print(f'Epoch {epoch + 1}/{EPOCHS}')\n",
        "  print('-' * 10)\n",
        "\n",
        "  train_acc, train_loss = train_epoch(\n",
        "    model,\n",
        "    train_data_loader,    \n",
        "    loss_fn, \n",
        "    optimizer, \n",
        "    device, \n",
        "    scheduler, \n",
        "    len(df_train)\n",
        "  )\n",
        "\n",
        "  print(f'Train loss {train_loss} accuracy {train_acc}')\n",
        "\n",
        "  val_acc, val_loss = eval_model(\n",
        "    model,\n",
        "    val_data_loader,\n",
        "    loss_fn, \n",
        "    device, \n",
        "    len(df_val)\n",
        "  )\n",
        "\n",
        "  print(f'Val loss {val_loss} accuracy {val_acc}')\n",
        "  print()\n",
        "\n",
        "  history['train_acc'].append(train_acc)\n",
        "  history['train_loss'].append(train_loss)\n",
        "  history['val_acc'].append(val_acc)\n",
        "  history['val_loss'].append(val_loss)\n",
        "\n",
        "  if val_acc > best_accuracy:\n",
        "    torch.save(model.state_dict(), 'best_model_state.bin')\n",
        "    best_accuracy = val_acc"
      ],
      "metadata": {
        "colab": {
          "base_uri": "https://localhost:8080/"
        },
        "id": "7pz1wXAY7RJi",
        "outputId": "9d05f91f-cec6-4b61-c7b6-23c738f274c4"
      },
      "execution_count": null,
      "outputs": [
        {
          "output_type": "stream",
          "name": "stdout",
          "text": [
            "Epoch 1/5\n",
            "----------\n",
            "Train loss 0.8181200992192653 accuracy 0.6656278149946676\n",
            "Val loss 0.739283567234393 accuracy 0.732045104815721\n",
            "\n",
            "Epoch 2/5\n",
            "----------\n",
            "Train loss 0.727063705786964 accuracy 0.6987709797993393\n",
            "Val loss 0.729207068152966 accuracy 0.7219545420145809\n",
            "\n",
            "Epoch 3/5\n",
            "----------\n",
            "Train loss 0.6860323692394408 accuracy 0.7160414574295151\n",
            "Val loss 0.7195238119171512 accuracy 0.7188264675462274\n",
            "\n",
            "Epoch 4/5\n",
            "----------\n",
            "Train loss 0.6540170898500657 accuracy 0.7309822843002246\n",
            "Val loss 0.7141241410086232 accuracy 0.7223833909336292\n",
            "\n",
            "Epoch 5/5\n",
            "----------\n",
            "Train loss 0.6294989548179487 accuracy 0.7412223936385003\n",
            "Val loss 0.7523917575997691 accuracy 0.7027824726924143\n",
            "\n",
            "CPU times: user 56min 42s, sys: 13.7 s, total: 56min 55s\n",
            "Wall time: 1h 7min 30s\n"
          ]
        }
      ]
    },
    {
      "cell_type": "code",
      "source": [
        "plt.plot([x.cpu() for x in history['train_acc']], label='train accuracy')\n",
        "plt.plot([x.cpu() for x in history['val_acc']], label='validation accuracy')\n",
        "\n",
        "plt.title('Training history')\n",
        "plt.ylabel('Accuracy')\n",
        "plt.xlabel('Epoch')\n",
        "plt.legend()\n",
        "plt.ylim([0, 1]);"
      ],
      "metadata": {
        "colab": {
          "base_uri": "https://localhost:8080/",
          "height": 295
        },
        "id": "Cg5ZRD8TfW6J",
        "outputId": "32d21cac-5af1-4513-d0c2-f55c58203490"
      },
      "execution_count": null,
      "outputs": [
        {
          "output_type": "display_data",
          "data": {
            "text/plain": [
              "<Figure size 432x288 with 1 Axes>"
            ],
            "image/png": "[encoded data removed]"
          },
          "metadata": {
            "needs_background": "light"
          }
        }
      ]
    },
    {
      "cell_type": "code",
      "source": [
        "def get_predictions(model, data_loader):\n",
        "  model = model.eval()\n",
        "  \n",
        "  review_texts = []\n",
        "  predictions = []\n",
        "  prediction_probs = []\n",
        "  real_values = []\n",
        "\n",
        "  with torch.no_grad():\n",
        "    for d in data_loader:\n",
        "\n",
        "      texts = d[\"review_text\"]\n",
        "      input_ids = d[\"input_ids\"].to(device)\n",
        "      attention_mask = d[\"attention_mask\"].to(device)\n",
        "      targets = d[\"targets\"].to(device)\n",
        "\n",
        "      outputs = model(\n",
        "        input_ids=input_ids,\n",
        "        attention_mask=attention_mask\n",
        "      )\n",
        "      _, preds = torch.max(outputs, dim=1)\n",
        "\n",
        "      probs = F.softmax(outputs, dim=1)\n",
        "\n",
        "      review_texts.extend(texts)\n",
        "      predictions.extend(preds)\n",
        "      prediction_probs.extend(probs)\n",
        "      real_values.extend(targets)\n",
        "\n",
        "  predictions = torch.stack(predictions).cpu()\n",
        "  prediction_probs = torch.stack(prediction_probs).cpu()\n",
        "  real_values = torch.stack(real_values).cpu()\n",
        "  return review_texts, predictions, prediction_probs, real_values"
      ],
      "metadata": {
        "id": "8GtLbQmzfZOT"
      },
      "execution_count": null,
      "outputs": []
    },
    {
      "cell_type": "code",
      "source": [
        "y_review_texts, y_pred, y_pred_probs, y_test = get_predictions(\n",
        "  model,\n",
        "  test_data_loader\n",
        ")"
      ],
      "metadata": {
        "id": "yMZASyELfZLp"
      },
      "execution_count": null,
      "outputs": []
    },
    {
      "cell_type": "code",
      "source": [
        "print(classification_report(y_test, y_pred))"
      ],
      "metadata": {
        "colab": {
          "base_uri": "https://localhost:8080/"
        },
        "id": "pS5sYu6XfZJN",
        "outputId": "a0c021fa-385d-4292-c688-84fcfa275f8a"
      },
      "execution_count": null,
      "outputs": [
        {
          "output_type": "stream",
          "name": "stdout",
          "text": [
            "              precision    recall  f1-score   support\n",
            "\n",
            "           0       0.84      0.72      0.77     21420\n",
            "           1       0.23      0.42      0.29      4258\n",
            "           2       0.24      0.15      0.19      1836\n",
            "           3       0.29      0.18      0.22      1170\n",
            "           4       0.88      0.94      0.91     10958\n",
            "\n",
            "    accuracy                           0.70     39642\n",
            "   macro avg       0.50      0.48      0.48     39642\n",
            "weighted avg       0.74      0.70      0.72     39642\n",
            "\n"
          ]
        }
      ]
    },
    {
      "cell_type": "code",
      "source": [
        "def bert_preds(text, model=model, tokenizer=tokenizer):\n",
        "  encoded_review = tokenizer.encode_plus(\n",
        "  text,\n",
        "  max_length=MAX_LEN,\n",
        "  add_special_tokens=True,\n",
        "  return_token_type_ids=False,\n",
        "  pad_to_max_length=True,\n",
        "  return_attention_mask=True,\n",
        "  return_tensors='pt')\n",
        "  input_ids = encoded_review['input_ids'].to(device)\n",
        "  attention_mask = encoded_review['attention_mask'].to(device)\n",
        "\n",
        "  output = model(input_ids, attention_mask)\n",
        "  _, prediction = torch.max(output[0], dim=1)\n",
        "  return prediction.cpu().numpy()[0]"
      ],
      "metadata": {
        "id": "O9YzebW8fZGn"
      },
      "execution_count": null,
      "outputs": []
    },
    {
      "cell_type": "code",
      "source": [
        "preds = test_df.lemmas.apply(lambda x: bert_preds(x)) + 1"
      ],
      "metadata": {
        "id": "5kjyG-mrfZD-",
        "colab": {
          "base_uri": "https://localhost:8080/"
        },
        "outputId": "708f467d-47ba-44fa-bb0f-74952891a619"
      },
      "execution_count": null,
      "outputs": [
        {
          "output_type": "stream",
          "name": "stderr",
          "text": [
            "/usr/local/lib/python3.8/dist-packages/transformers/tokenization_utils_base.py:2336: FutureWarning: The `pad_to_max_length` argument is deprecated and will be removed in a future version, use `padding=True` or `padding='longest'` to pad to the longest sequence in the batch, or use `padding='max_length'` to pad to a max length. In this case, you can give a specific length with `max_length` (e.g. `max_length=45`) or leave max_length to None to pad to the maximal input size of the model (e.g. 512 for Bert).\n",
            "  warnings.warn(\n"
          ]
        }
      ]
    },
    {
      "cell_type": "code",
      "source": [
        "sol = pd.DataFrame({'inds': test_df.index,\n",
        "                    'grades': preds})\n",
        "sol.to_csv('bert_15_epochs.csv', index=False)"
      ],
      "metadata": {
        "id": "JT1xssQEfZA_"
      },
      "execution_count": null,
      "outputs": []
    },
    {
      "cell_type": "code",
      "source": [],
      "metadata": {
        "id": "vfOPDJlSOQLN"
      },
      "execution_count": null,
      "outputs": []
    },
    {
      "cell_type": "code",
      "source": [],
      "metadata": {
        "id": "49PxqWyIOQHf"
      },
      "execution_count": null,
      "outputs": []
    },
    {
      "cell_type": "code",
      "source": [],
      "metadata": {
        "id": "MZzJ1n8COQES"
      },
      "execution_count": null,
      "outputs": []
    },
    {
      "cell_type": "code",
      "source": [],
      "metadata": {
        "id": "a2E2cV9SOQBk"
      },
      "execution_count": null,
      "outputs": []
    },
    {
      "cell_type": "code",
      "source": [
        "class CustomDataset(Dataset):\n",
        "\n",
        "  def __init__(self, texts, targets, tokenizer, max_len=512):\n",
        "    self.texts = texts\n",
        "    self.targets = targets\n",
        "    self.tokenizer = tokenizer\n",
        "    self.max_len = max_len\n",
        "\n",
        "  def __len__(self):\n",
        "    return len(self.texts)\n",
        "\n",
        "  def __getitem__(self, idx):\n",
        "    text = str(self.texts[idx])\n",
        "    target = self.targets[idx]\n",
        "\n",
        "    encoding = self.tokenizer.encode_plus(\n",
        "        text,\n",
        "        add_special_tokens=True,\n",
        "        max_length=self.max_len,\n",
        "        return_token_type_ids=False,\n",
        "        padding='max_length',\n",
        "        return_attention_mask=True,\n",
        "        return_tensors='pt',\n",
        "    )\n",
        "\n",
        "    return {\n",
        "      'text': text,\n",
        "      'input_ids': encoding['input_ids'].flatten(),\n",
        "      'attention_mask': encoding['attention_mask'].flatten(),\n",
        "      'targets': torch.tensor(target, dtype=torch.long)\n",
        "    }"
      ],
      "metadata": {
        "id": "lyhLHjni_30f"
      },
      "execution_count": null,
      "outputs": []
    },
    {
      "cell_type": "code",
      "source": [
        "from transformers import BertForSequenceClassification\n",
        "model_path = 'cointegrated/rubert-tiny'\n",
        "model = BertForSequenceClassification.from_pretrained(model_path)"
      ],
      "metadata": {
        "id": "QJ6FE9eU_3up"
      },
      "execution_count": null,
      "outputs": []
    },
    {
      "cell_type": "code",
      "source": [
        "out_features = model.bert.encoder.layer[1].output.dense.out_features\n",
        "model.classifier = torch.nn.Linear(312, 2)"
      ],
      "metadata": {
        "id": "Xy9l36P_WZCD"
      },
      "execution_count": null,
      "outputs": []
    },
    {
      "cell_type": "code",
      "source": [
        "class BertClassifier:\n",
        "\n",
        "    def __init__(self, model_path, tokenizer_path, n_classes=2, epochs=1, model_save_path='/content/bert.pt'):\n",
        "        self.model = BertForSequenceClassification.from_pretrained(model_path)\n",
        "        self.tokenizer = BertTokenizer.from_pretrained(tokenizer_path)\n",
        "        self.device = torch.device(\"cuda:0\" if torch.cuda.is_available() else \"cpu\")\n",
        "        self.model_save_path=model_save_path\n",
        "        self.max_len = 512\n",
        "        self.epochs = epochs\n",
        "        self.out_features = self.model.bert.encoder.layer[1].output.dense.out_features\n",
        "        self.model.classifier = torch.nn.Linear(self.out_features, n_classes)\n",
        "        self.model.to(self.device)"
      ],
      "metadata": {
        "id": "F4T92damWY7b"
      },
      "execution_count": null,
      "outputs": []
    },
    {
      "cell_type": "code",
      "source": [
        "train_set = CustomDataset(X_train, y_train, tokenizer)\n",
        "train_loader = DataLoader(train_set, batch_size=2, shuffle=True)"
      ],
      "metadata": {
        "id": "zsNwz97vWY4h"
      },
      "execution_count": null,
      "outputs": []
    },
    {
      "cell_type": "code",
      "source": [
        "from transformers import AdamW\n",
        "optimizer = AdamW(model.parameters(), lr=2e-5, correct_bias=False)"
      ],
      "metadata": {
        "id": "f6AQLzvwWy2g"
      },
      "execution_count": null,
      "outputs": []
    },
    {
      "cell_type": "code",
      "source": [],
      "metadata": {
        "id": "i4Ok_B8nWyz4"
      },
      "execution_count": null,
      "outputs": []
    }
  ]
}