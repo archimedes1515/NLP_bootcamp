{
  "nbformat": 4,
  "nbformat_minor": 0,
  "metadata": {
    "colab": {
      "provenance": [],
      "toc_visible": true
    },
    "kernelspec": {
      "name": "python3",
      "display_name": "Python 3"
    },
    "gpuClass": "standard"
  },
  "cells": [
    {
      "cell_type": "markdown",
      "metadata": {
        "id": "p2B9-HFJBOyq"
      },
      "source": [
        "# 1.Импорт модулей"
      ]
    },
    {
      "cell_type": "code",
      "metadata": {
        "id": "e7JnZmri5j2_",
        "colab": {
          "base_uri": "https://localhost:8080/"
        },
        "outputId": "0b9b7221-504f-4259-da3c-8561d56bfd0b"
      },
      "source": [
        "! python --version"
      ],
      "execution_count": null,
      "outputs": [
        {
          "output_type": "stream",
          "name": "stdout",
          "text": [
            "Python 3.8.16\n"
          ]
        }
      ]
    },
    {
      "cell_type": "code",
      "metadata": {
        "id": "oXO5FPswBLSH",
        "colab": {
          "base_uri": "https://localhost:8080/"
        },
        "outputId": "30ce0b24-b20e-45ed-db97-6a40c763e247"
      },
      "source": [
        "!pip install tensorflow_hub==0.10.0\n",
        "!pip install keras==2.4.3\n",
        "!pip install tf-models-official==2.3.0\n",
        "!pip install pydot==1.3.0\n",
        "!pip install graphviz==0.10.1"
      ],
      "execution_count": null,
      "outputs": [
        {
          "output_type": "stream",
          "name": "stdout",
          "text": [
            "Looking in indexes: https://pypi.org/simple, https://us-python.pkg.dev/colab-wheels/public/simple/\n",
            "Collecting tensorflow_hub==0.10.0\n",
            "  Downloading tensorflow_hub-0.10.0-py2.py3-none-any.whl (107 kB)\n",
            "\u001b[K     |████████████████████████████████| 107 kB 5.0 MB/s \n",
            "\u001b[?25hRequirement already satisfied: protobuf>=3.8.0 in /usr/local/lib/python3.8/dist-packages (from tensorflow_hub==0.10.0) (3.19.6)\n",
            "Requirement already satisfied: numpy>=1.12.0 in /usr/local/lib/python3.8/dist-packages (from tensorflow_hub==0.10.0) (1.21.6)\n",
            "Installing collected packages: tensorflow-hub\n",
            "  Attempting uninstall: tensorflow-hub\n",
            "    Found existing installation: tensorflow-hub 0.12.0\n",
            "    Uninstalling tensorflow-hub-0.12.0:\n",
            "      Successfully uninstalled tensorflow-hub-0.12.0\n",
            "Successfully installed tensorflow-hub-0.10.0\n",
            "Looking in indexes: https://pypi.org/simple, https://us-python.pkg.dev/colab-wheels/public/simple/\n",
            "Collecting keras==2.4.3\n",
            "  Downloading Keras-2.4.3-py2.py3-none-any.whl (36 kB)\n",
            "Requirement already satisfied: pyyaml in /usr/local/lib/python3.8/dist-packages (from keras==2.4.3) (6.0)\n",
            "Requirement already satisfied: h5py in /usr/local/lib/python3.8/dist-packages (from keras==2.4.3) (3.1.0)\n",
            "Requirement already satisfied: numpy>=1.9.1 in /usr/local/lib/python3.8/dist-packages (from keras==2.4.3) (1.21.6)\n",
            "Requirement already satisfied: scipy>=0.14 in /usr/local/lib/python3.8/dist-packages (from keras==2.4.3) (1.7.3)\n",
            "Installing collected packages: keras\n",
            "  Attempting uninstall: keras\n",
            "    Found existing installation: keras 2.9.0\n",
            "    Uninstalling keras-2.9.0:\n",
            "      Successfully uninstalled keras-2.9.0\n",
            "\u001b[31mERROR: pip's dependency resolver does not currently take into account all the packages that are installed. This behaviour is the source of the following dependency conflicts.\n",
            "tensorflow 2.9.2 requires keras<2.10.0,>=2.9.0rc0, but you have keras 2.4.3 which is incompatible.\u001b[0m\n",
            "Successfully installed keras-2.4.3\n",
            "Looking in indexes: https://pypi.org/simple, https://us-python.pkg.dev/colab-wheels/public/simple/\n",
            "Collecting tf-models-official==2.3.0\n",
            "  Downloading tf_models_official-2.3.0-py2.py3-none-any.whl (840 kB)\n",
            "\u001b[K     |████████████████████████████████| 840 kB 6.3 MB/s \n",
            "\u001b[?25hRequirement already satisfied: pyyaml in /usr/local/lib/python3.8/dist-packages (from tf-models-official==2.3.0) (6.0)\n",
            "Collecting dataclasses\n",
            "  Downloading dataclasses-0.6-py3-none-any.whl (14 kB)\n",
            "Requirement already satisfied: google-cloud-bigquery>=0.31.0 in /usr/local/lib/python3.8/dist-packages (from tf-models-official==2.3.0) (3.3.6)\n",
            "Requirement already satisfied: opencv-python-headless in /usr/local/lib/python3.8/dist-packages (from tf-models-official==2.3.0) (4.6.0.66)\n",
            "Requirement already satisfied: psutil>=5.4.3 in /usr/local/lib/python3.8/dist-packages (from tf-models-official==2.3.0) (5.4.8)\n",
            "Collecting sentencepiece\n",
            "  Downloading sentencepiece-0.1.97-cp38-cp38-manylinux_2_17_x86_64.manylinux2014_x86_64.whl (1.3 MB)\n",
            "\u001b[K     |████████████████████████████████| 1.3 MB 68.9 MB/s \n",
            "\u001b[?25hCollecting py-cpuinfo>=3.3.0\n",
            "  Downloading py_cpuinfo-9.0.0-py3-none-any.whl (22 kB)\n",
            "Collecting tf-slim>=1.1.0\n",
            "  Downloading tf_slim-1.1.0-py2.py3-none-any.whl (352 kB)\n",
            "\u001b[K     |████████████████████████████████| 352 kB 27.9 MB/s \n",
            "\u001b[?25hRequirement already satisfied: Pillow in /usr/local/lib/python3.8/dist-packages (from tf-models-official==2.3.0) (7.1.2)\n",
            "Collecting tensorflow-addons\n",
            "  Downloading tensorflow_addons-0.19.0-cp38-cp38-manylinux_2_17_x86_64.manylinux2014_x86_64.whl (1.1 MB)\n",
            "\u001b[K     |████████████████████████████████| 1.1 MB 35.6 MB/s \n",
            "\u001b[?25hRequirement already satisfied: Cython in /usr/local/lib/python3.8/dist-packages (from tf-models-official==2.3.0) (0.29.32)\n",
            "Requirement already satisfied: google-api-python-client>=1.6.7 in /usr/local/lib/python3.8/dist-packages (from tf-models-official==2.3.0) (1.12.11)\n",
            "Requirement already satisfied: matplotlib in /usr/local/lib/python3.8/dist-packages (from tf-models-official==2.3.0) (3.2.2)\n",
            "Collecting tensorflow-model-optimization>=0.2.1\n",
            "  Downloading tensorflow_model_optimization-0.7.3-py2.py3-none-any.whl (238 kB)\n",
            "\u001b[K     |████████████████████████████████| 238 kB 53.2 MB/s \n",
            "\u001b[?25hRequirement already satisfied: tensorflow-hub>=0.6.0 in /usr/local/lib/python3.8/dist-packages (from tf-models-official==2.3.0) (0.10.0)\n",
            "Requirement already satisfied: scipy>=0.19.1 in /usr/local/lib/python3.8/dist-packages (from tf-models-official==2.3.0) (1.7.3)\n",
            "Requirement already satisfied: six in /usr/local/lib/python3.8/dist-packages (from tf-models-official==2.3.0) (1.15.0)\n",
            "Requirement already satisfied: numpy>=1.15.4 in /usr/local/lib/python3.8/dist-packages (from tf-models-official==2.3.0) (1.21.6)\n",
            "Requirement already satisfied: gin-config in /usr/local/lib/python3.8/dist-packages (from tf-models-official==2.3.0) (0.5.0)\n",
            "Requirement already satisfied: pandas>=0.22.0 in /usr/local/lib/python3.8/dist-packages (from tf-models-official==2.3.0) (1.3.5)\n",
            "Requirement already satisfied: tensorflow>=2.3.0 in /usr/local/lib/python3.8/dist-packages (from tf-models-official==2.3.0) (2.9.2)\n",
            "Requirement already satisfied: tensorflow-datasets in /usr/local/lib/python3.8/dist-packages (from tf-models-official==2.3.0) (4.6.0)\n",
            "Requirement already satisfied: kaggle>=1.3.9 in /usr/local/lib/python3.8/dist-packages (from tf-models-official==2.3.0) (1.5.12)\n",
            "Requirement already satisfied: uritemplate<4dev,>=3.0.0 in /usr/local/lib/python3.8/dist-packages (from google-api-python-client>=1.6.7->tf-models-official==2.3.0) (3.0.1)\n",
            "Requirement already satisfied: google-auth<3dev,>=1.16.0 in /usr/local/lib/python3.8/dist-packages (from google-api-python-client>=1.6.7->tf-models-official==2.3.0) (2.15.0)\n",
            "Requirement already satisfied: google-api-core<3dev,>=1.21.0 in /usr/local/lib/python3.8/dist-packages (from google-api-python-client>=1.6.7->tf-models-official==2.3.0) (2.8.2)\n",
            "Requirement already satisfied: google-auth-httplib2>=0.0.3 in /usr/local/lib/python3.8/dist-packages (from google-api-python-client>=1.6.7->tf-models-official==2.3.0) (0.0.4)\n",
            "Requirement already satisfied: httplib2<1dev,>=0.15.0 in /usr/local/lib/python3.8/dist-packages (from google-api-python-client>=1.6.7->tf-models-official==2.3.0) (0.17.4)\n",
            "Requirement already satisfied: googleapis-common-protos<2.0dev,>=1.56.2 in /usr/local/lib/python3.8/dist-packages (from google-api-core<3dev,>=1.21.0->google-api-python-client>=1.6.7->tf-models-official==2.3.0) (1.57.0)\n",
            "Requirement already satisfied: requests<3.0.0dev,>=2.18.0 in /usr/local/lib/python3.8/dist-packages (from google-api-core<3dev,>=1.21.0->google-api-python-client>=1.6.7->tf-models-official==2.3.0) (2.23.0)\n",
            "Requirement already satisfied: protobuf<5.0.0dev,>=3.15.0 in /usr/local/lib/python3.8/dist-packages (from google-api-core<3dev,>=1.21.0->google-api-python-client>=1.6.7->tf-models-official==2.3.0) (3.19.6)\n",
            "Requirement already satisfied: cachetools<6.0,>=2.0.0 in /usr/local/lib/python3.8/dist-packages (from google-auth<3dev,>=1.16.0->google-api-python-client>=1.6.7->tf-models-official==2.3.0) (5.2.0)\n",
            "Requirement already satisfied: pyasn1-modules>=0.2.1 in /usr/local/lib/python3.8/dist-packages (from google-auth<3dev,>=1.16.0->google-api-python-client>=1.6.7->tf-models-official==2.3.0) (0.2.8)\n",
            "Requirement already satisfied: rsa<5,>=3.1.4 in /usr/local/lib/python3.8/dist-packages (from google-auth<3dev,>=1.16.0->google-api-python-client>=1.6.7->tf-models-official==2.3.0) (4.9)\n",
            "Requirement already satisfied: grpcio<2.0dev,>=1.47.0 in /usr/local/lib/python3.8/dist-packages (from google-cloud-bigquery>=0.31.0->tf-models-official==2.3.0) (1.51.1)\n",
            "Requirement already satisfied: proto-plus<2.0.0dev,>=1.22.0 in /usr/local/lib/python3.8/dist-packages (from google-cloud-bigquery>=0.31.0->tf-models-official==2.3.0) (1.22.1)\n",
            "Requirement already satisfied: google-cloud-bigquery-storage<3.0.0dev,>=2.0.0 in /usr/local/lib/python3.8/dist-packages (from google-cloud-bigquery>=0.31.0->tf-models-official==2.3.0) (2.16.2)\n",
            "Requirement already satisfied: google-cloud-core<3.0.0dev,>=1.4.1 in /usr/local/lib/python3.8/dist-packages (from google-cloud-bigquery>=0.31.0->tf-models-official==2.3.0) (2.3.2)\n",
            "Requirement already satisfied: python-dateutil<3.0dev,>=2.7.2 in /usr/local/lib/python3.8/dist-packages (from google-cloud-bigquery>=0.31.0->tf-models-official==2.3.0) (2.8.2)\n",
            "Requirement already satisfied: pyarrow<11.0dev,>=3.0.0 in /usr/local/lib/python3.8/dist-packages (from google-cloud-bigquery>=0.31.0->tf-models-official==2.3.0) (9.0.0)\n",
            "Requirement already satisfied: google-resumable-media<3.0dev,>=0.6.0 in /usr/local/lib/python3.8/dist-packages (from google-cloud-bigquery>=0.31.0->tf-models-official==2.3.0) (2.4.0)\n",
            "Requirement already satisfied: packaging<22.0.0dev,>=14.3 in /usr/local/lib/python3.8/dist-packages (from google-cloud-bigquery>=0.31.0->tf-models-official==2.3.0) (21.3)\n",
            "Requirement already satisfied: grpcio-status<2.0dev,>=1.33.2 in /usr/local/lib/python3.8/dist-packages (from google-api-core<3dev,>=1.21.0->google-api-python-client>=1.6.7->tf-models-official==2.3.0) (1.48.2)\n",
            "Requirement already satisfied: google-crc32c<2.0dev,>=1.0 in /usr/local/lib/python3.8/dist-packages (from google-resumable-media<3.0dev,>=0.6.0->google-cloud-bigquery>=0.31.0->tf-models-official==2.3.0) (1.5.0)\n",
            "Requirement already satisfied: tqdm in /usr/local/lib/python3.8/dist-packages (from kaggle>=1.3.9->tf-models-official==2.3.0) (4.64.1)\n",
            "Requirement already satisfied: urllib3 in /usr/local/lib/python3.8/dist-packages (from kaggle>=1.3.9->tf-models-official==2.3.0) (1.24.3)\n",
            "Requirement already satisfied: certifi in /usr/local/lib/python3.8/dist-packages (from kaggle>=1.3.9->tf-models-official==2.3.0) (2022.9.24)\n",
            "Requirement already satisfied: python-slugify in /usr/local/lib/python3.8/dist-packages (from kaggle>=1.3.9->tf-models-official==2.3.0) (7.0.0)\n",
            "Requirement already satisfied: pyparsing!=3.0.5,>=2.0.2 in /usr/local/lib/python3.8/dist-packages (from packaging<22.0.0dev,>=14.3->google-cloud-bigquery>=0.31.0->tf-models-official==2.3.0) (3.0.9)\n",
            "Requirement already satisfied: pytz>=2017.3 in /usr/local/lib/python3.8/dist-packages (from pandas>=0.22.0->tf-models-official==2.3.0) (2022.6)\n",
            "Requirement already satisfied: pyasn1<0.5.0,>=0.4.6 in /usr/local/lib/python3.8/dist-packages (from pyasn1-modules>=0.2.1->google-auth<3dev,>=1.16.0->google-api-python-client>=1.6.7->tf-models-official==2.3.0) (0.4.8)\n",
            "Requirement already satisfied: idna<3,>=2.5 in /usr/local/lib/python3.8/dist-packages (from requests<3.0.0dev,>=2.18.0->google-api-core<3dev,>=1.21.0->google-api-python-client>=1.6.7->tf-models-official==2.3.0) (2.10)\n",
            "Requirement already satisfied: chardet<4,>=3.0.2 in /usr/local/lib/python3.8/dist-packages (from requests<3.0.0dev,>=2.18.0->google-api-core<3dev,>=1.21.0->google-api-python-client>=1.6.7->tf-models-official==2.3.0) (3.0.4)\n",
            "Requirement already satisfied: google-pasta>=0.1.1 in /usr/local/lib/python3.8/dist-packages (from tensorflow>=2.3.0->tf-models-official==2.3.0) (0.2.0)\n",
            "Requirement already satisfied: gast<=0.4.0,>=0.2.1 in /usr/local/lib/python3.8/dist-packages (from tensorflow>=2.3.0->tf-models-official==2.3.0) (0.4.0)\n",
            "Requirement already satisfied: termcolor>=1.1.0 in /usr/local/lib/python3.8/dist-packages (from tensorflow>=2.3.0->tf-models-official==2.3.0) (2.1.1)\n",
            "Requirement already satisfied: tensorboard<2.10,>=2.9 in /usr/local/lib/python3.8/dist-packages (from tensorflow>=2.3.0->tf-models-official==2.3.0) (2.9.1)\n",
            "Requirement already satisfied: keras-preprocessing>=1.1.1 in /usr/local/lib/python3.8/dist-packages (from tensorflow>=2.3.0->tf-models-official==2.3.0) (1.1.2)\n",
            "Requirement already satisfied: absl-py>=1.0.0 in /usr/local/lib/python3.8/dist-packages (from tensorflow>=2.3.0->tf-models-official==2.3.0) (1.3.0)\n",
            "Requirement already satisfied: setuptools in /usr/local/lib/python3.8/dist-packages (from tensorflow>=2.3.0->tf-models-official==2.3.0) (57.4.0)\n",
            "Requirement already satisfied: tensorflow-io-gcs-filesystem>=0.23.1 in /usr/local/lib/python3.8/dist-packages (from tensorflow>=2.3.0->tf-models-official==2.3.0) (0.28.0)\n",
            "Requirement already satisfied: h5py>=2.9.0 in /usr/local/lib/python3.8/dist-packages (from tensorflow>=2.3.0->tf-models-official==2.3.0) (3.1.0)\n",
            "Requirement already satisfied: libclang>=13.0.0 in /usr/local/lib/python3.8/dist-packages (from tensorflow>=2.3.0->tf-models-official==2.3.0) (14.0.6)\n",
            "Requirement already satisfied: astunparse>=1.6.0 in /usr/local/lib/python3.8/dist-packages (from tensorflow>=2.3.0->tf-models-official==2.3.0) (1.6.3)\n",
            "Requirement already satisfied: opt-einsum>=2.3.2 in /usr/local/lib/python3.8/dist-packages (from tensorflow>=2.3.0->tf-models-official==2.3.0) (3.3.0)\n",
            "Requirement already satisfied: flatbuffers<2,>=1.12 in /usr/local/lib/python3.8/dist-packages (from tensorflow>=2.3.0->tf-models-official==2.3.0) (1.12)\n",
            "Collecting keras<2.10.0,>=2.9.0rc0\n",
            "  Downloading keras-2.9.0-py2.py3-none-any.whl (1.6 MB)\n",
            "\u001b[K     |████████████████████████████████| 1.6 MB 13.7 MB/s \n",
            "\u001b[?25hRequirement already satisfied: wrapt>=1.11.0 in /usr/local/lib/python3.8/dist-packages (from tensorflow>=2.3.0->tf-models-official==2.3.0) (1.14.1)\n",
            "Requirement already satisfied: tensorflow-estimator<2.10.0,>=2.9.0rc0 in /usr/local/lib/python3.8/dist-packages (from tensorflow>=2.3.0->tf-models-official==2.3.0) (2.9.0)\n",
            "Requirement already satisfied: typing-extensions>=3.6.6 in /usr/local/lib/python3.8/dist-packages (from tensorflow>=2.3.0->tf-models-official==2.3.0) (4.4.0)\n",
            "Requirement already satisfied: wheel<1.0,>=0.23.0 in /usr/local/lib/python3.8/dist-packages (from astunparse>=1.6.0->tensorflow>=2.3.0->tf-models-official==2.3.0) (0.38.4)\n",
            "Requirement already satisfied: werkzeug>=1.0.1 in /usr/local/lib/python3.8/dist-packages (from tensorboard<2.10,>=2.9->tensorflow>=2.3.0->tf-models-official==2.3.0) (1.0.1)\n",
            "Requirement already satisfied: tensorboard-data-server<0.7.0,>=0.6.0 in /usr/local/lib/python3.8/dist-packages (from tensorboard<2.10,>=2.9->tensorflow>=2.3.0->tf-models-official==2.3.0) (0.6.1)\n",
            "Requirement already satisfied: markdown>=2.6.8 in /usr/local/lib/python3.8/dist-packages (from tensorboard<2.10,>=2.9->tensorflow>=2.3.0->tf-models-official==2.3.0) (3.4.1)\n",
            "Requirement already satisfied: google-auth-oauthlib<0.5,>=0.4.1 in /usr/local/lib/python3.8/dist-packages (from tensorboard<2.10,>=2.9->tensorflow>=2.3.0->tf-models-official==2.3.0) (0.4.6)\n",
            "Requirement already satisfied: tensorboard-plugin-wit>=1.6.0 in /usr/local/lib/python3.8/dist-packages (from tensorboard<2.10,>=2.9->tensorflow>=2.3.0->tf-models-official==2.3.0) (1.8.1)\n",
            "Requirement already satisfied: requests-oauthlib>=0.7.0 in /usr/local/lib/python3.8/dist-packages (from google-auth-oauthlib<0.5,>=0.4.1->tensorboard<2.10,>=2.9->tensorflow>=2.3.0->tf-models-official==2.3.0) (1.3.1)\n",
            "Requirement already satisfied: importlib-metadata>=4.4 in /usr/local/lib/python3.8/dist-packages (from markdown>=2.6.8->tensorboard<2.10,>=2.9->tensorflow>=2.3.0->tf-models-official==2.3.0) (4.13.0)\n",
            "Requirement already satisfied: zipp>=0.5 in /usr/local/lib/python3.8/dist-packages (from importlib-metadata>=4.4->markdown>=2.6.8->tensorboard<2.10,>=2.9->tensorflow>=2.3.0->tf-models-official==2.3.0) (3.11.0)\n",
            "Requirement already satisfied: oauthlib>=3.0.0 in /usr/local/lib/python3.8/dist-packages (from requests-oauthlib>=0.7.0->google-auth-oauthlib<0.5,>=0.4.1->tensorboard<2.10,>=2.9->tensorflow>=2.3.0->tf-models-official==2.3.0) (3.2.2)\n",
            "Requirement already satisfied: dm-tree~=0.1.1 in /usr/local/lib/python3.8/dist-packages (from tensorflow-model-optimization>=0.2.1->tf-models-official==2.3.0) (0.1.7)\n",
            "Requirement already satisfied: kiwisolver>=1.0.1 in /usr/local/lib/python3.8/dist-packages (from matplotlib->tf-models-official==2.3.0) (1.4.4)\n",
            "Requirement already satisfied: cycler>=0.10 in /usr/local/lib/python3.8/dist-packages (from matplotlib->tf-models-official==2.3.0) (0.11.0)\n",
            "Requirement already satisfied: text-unidecode>=1.3 in /usr/local/lib/python3.8/dist-packages (from python-slugify->kaggle>=1.3.9->tf-models-official==2.3.0) (1.3)\n",
            "Requirement already satisfied: typeguard>=2.7 in /usr/local/lib/python3.8/dist-packages (from tensorflow-addons->tf-models-official==2.3.0) (2.7.1)\n",
            "Requirement already satisfied: importlib-resources in /usr/local/lib/python3.8/dist-packages (from tensorflow-datasets->tf-models-official==2.3.0) (5.10.0)\n",
            "Requirement already satisfied: tensorflow-metadata in /usr/local/lib/python3.8/dist-packages (from tensorflow-datasets->tf-models-official==2.3.0) (1.11.0)\n",
            "Requirement already satisfied: toml in /usr/local/lib/python3.8/dist-packages (from tensorflow-datasets->tf-models-official==2.3.0) (0.10.2)\n",
            "Requirement already satisfied: etils[epath] in /usr/local/lib/python3.8/dist-packages (from tensorflow-datasets->tf-models-official==2.3.0) (0.9.0)\n",
            "Requirement already satisfied: promise in /usr/local/lib/python3.8/dist-packages (from tensorflow-datasets->tf-models-official==2.3.0) (2.3)\n",
            "Requirement already satisfied: dill in /usr/local/lib/python3.8/dist-packages (from tensorflow-datasets->tf-models-official==2.3.0) (0.3.6)\n",
            "Installing collected packages: keras, tf-slim, tensorflow-model-optimization, tensorflow-addons, sentencepiece, py-cpuinfo, dataclasses, tf-models-official\n",
            "  Attempting uninstall: keras\n",
            "    Found existing installation: Keras 2.4.3\n",
            "    Uninstalling Keras-2.4.3:\n",
            "      Successfully uninstalled Keras-2.4.3\n",
            "Successfully installed dataclasses-0.6 keras-2.9.0 py-cpuinfo-9.0.0 sentencepiece-0.1.97 tensorflow-addons-0.19.0 tensorflow-model-optimization-0.7.3 tf-models-official-2.3.0 tf-slim-1.1.0\n",
            "Looking in indexes: https://pypi.org/simple, https://us-python.pkg.dev/colab-wheels/public/simple/\n",
            "Requirement already satisfied: pydot==1.3.0 in /usr/local/lib/python3.8/dist-packages (1.3.0)\n",
            "Requirement already satisfied: pyparsing>=2.1.4 in /usr/local/lib/python3.8/dist-packages (from pydot==1.3.0) (3.0.9)\n",
            "Looking in indexes: https://pypi.org/simple, https://us-python.pkg.dev/colab-wheels/public/simple/\n",
            "Requirement already satisfied: graphviz==0.10.1 in /usr/local/lib/python3.8/dist-packages (0.10.1)\n"
          ]
        }
      ]
    },
    {
      "cell_type": "code",
      "metadata": {
        "id": "kHzoXf8sCxaW",
        "colab": {
          "base_uri": "https://localhost:8080/"
        },
        "outputId": "994ac112-d064-43bf-afc7-84a58274814a"
      },
      "source": [
        "import os\n",
        "\n",
        "import numpy as np\n",
        "import pandas as pd\n",
        "\n",
        "import tensorflow as tf\n",
        "import tensorflow_hub as hub\n",
        "\n",
        "from keras.utils import np_utils\n",
        "\n",
        "import official.nlp.bert.bert_models\n",
        "import official.nlp.bert.configs\n",
        "import official.nlp.bert.run_classifier\n",
        "import official.nlp.bert.tokenization as tokenization\n",
        "\n",
        "from official.modeling import tf_utils\n",
        "from official import nlp\n",
        "from official.nlp import bert\n",
        "\n",
        "from sklearn.model_selection import train_test_split\n",
        "from sklearn.preprocessing import LabelEncoder\n",
        "\n",
        "import matplotlib.pyplot as plt\n",
        "\n",
        "gpus = tf.config.experimental.list_physical_devices('GPU')\n",
        "if gpus:\n",
        "  try:\n",
        "    # Currently, memory growth needs to be the same across GPUs\n",
        "    for gpu in gpus:\n",
        "      tf.config.experimental.set_memory_growth(gpu, True)\n",
        "    logical_gpus = tf.config.experimental.list_logical_devices('GPU')\n",
        "    print(len(gpus), \"Physical GPUs,\", len(logical_gpus), \"Logical GPUs\")\n",
        "  except RuntimeError as e:\n",
        "    # Memory growth must be set before GPUs have been initialized\n",
        "    print(e)\n",
        "\n",
        "print(\"Version: \", tf.__version__)\n",
        "print(\"Eager mode: \", tf.executing_eagerly())\n",
        "print(\"Hub version: \", hub.__version__)\n",
        "print(\"GPU is\", \"available\" if tf.config.list_physical_devices('GPU') else \"NOT AVAILABLE\")"
      ],
      "execution_count": null,
      "outputs": [
        {
          "output_type": "stream",
          "name": "stdout",
          "text": [
            "1 Physical GPUs, 1 Logical GPUs\n",
            "Version:  2.9.2\n",
            "Eager mode:  True\n",
            "Hub version:  0.10.0\n",
            "GPU is available\n"
          ]
        }
      ]
    },
    {
      "cell_type": "markdown",
      "metadata": {
        "id": "wWfuCNEnDJSX"
      },
      "source": [
        "# 2.Данные"
      ]
    },
    {
      "cell_type": "code",
      "source": [
        "from google.colab import drive\n",
        "drive.mount('/content/drive')"
      ],
      "metadata": {
        "id": "fIPW0zfdBz5j",
        "colab": {
          "base_uri": "https://localhost:8080/"
        },
        "outputId": "0f68ee8f-c5d0-4436-95f4-3cca1fad376c"
      },
      "execution_count": null,
      "outputs": [
        {
          "output_type": "stream",
          "name": "stdout",
          "text": [
            "Mounted at /content/drive\n"
          ]
        }
      ]
    },
    {
      "cell_type": "code",
      "source": [
        "train_df = pd.read_csv('/content/drive/MyDrive/Colab Notebooks/NLP/bootcamp/train_clean.csv')\n",
        "train_df.head()"
      ],
      "metadata": {
        "id": "6MAUknK5B1pt",
        "colab": {
          "base_uri": "https://localhost:8080/",
          "height": 337
        },
        "outputId": "056075ed-571e-48ef-8849-92f30b0c1b9a"
      },
      "execution_count": null,
      "outputs": [
        {
          "output_type": "execute_result",
          "data": {
            "text/plain": [
              "            bank                                              feeds  grades  \\\n",
              "0  unicreditbank  Я очень редко пользуюсь банковскими продуктами...     5.0   \n",
              "1    fk_otkritie  Я вместе с женой 15.11.2019 обратился в отделе...     1.0   \n",
              "2       alfabank  Добрый день.Сегодня 27.12.2018 г около 15.40-1...     1.0   \n",
              "3            vtb  \"Где карточку открывали, туда и идите...\" - эт...     2.0   \n",
              "4  promsvyazbank  При покупках в iTunes списываются завышенные с...     NaN   \n",
              "\n",
              "                  date  sym_len  word_len  \\\n",
              "0  2017-12-31 18:20:00      770       119   \n",
              "1  2019-11-22 22:42:00     2749       405   \n",
              "2  2018-12-27 23:20:00      867       128   \n",
              "3  2020-02-05 16:40:00     2860       462   \n",
              "4  2016-02-26 15:48:00     1066       161   \n",
              "\n",
              "                                              lemmas  \n",
              "0  очень редко пользоваться банковский продукт не...  \n",
              "1  вместе жена обратиться отделение банк открытие...  \n",
              "2  добрый день сегодня г около банкомат адрес ряз...  \n",
              "3  карточка открывать туда идти этот фраза давно ...  \n",
              "4  покупка itunes списываться завысить сумма прим...  "
            ],
            "text/html": [
              "\n",
              "  <div id=\"df-50096ce3-0ba1-46b2-b1f9-adb56d4ec797\">\n",
              "    <div class=\"colab-df-container\">\n",
              "      <div>\n",
              "<style scoped>\n",
              "    .dataframe tbody tr th:only-of-type {\n",
              "        vertical-align: middle;\n",
              "    }\n",
              "\n",
              "    .dataframe tbody tr th {\n",
              "        vertical-align: top;\n",
              "    }\n",
              "\n",
              "    .dataframe thead th {\n",
              "        text-align: right;\n",
              "    }\n",
              "</style>\n",
              "<table border=\"1\" class=\"dataframe\">\n",
              "  <thead>\n",
              "    <tr style=\"text-align: right;\">\n",
              "      <th></th>\n",
              "      <th>bank</th>\n",
              "      <th>feeds</th>\n",
              "      <th>grades</th>\n",
              "      <th>date</th>\n",
              "      <th>sym_len</th>\n",
              "      <th>word_len</th>\n",
              "      <th>lemmas</th>\n",
              "    </tr>\n",
              "  </thead>\n",
              "  <tbody>\n",
              "    <tr>\n",
              "      <th>0</th>\n",
              "      <td>unicreditbank</td>\n",
              "      <td>Я очень редко пользуюсь банковскими продуктами...</td>\n",
              "      <td>5.0</td>\n",
              "      <td>2017-12-31 18:20:00</td>\n",
              "      <td>770</td>\n",
              "      <td>119</td>\n",
              "      <td>очень редко пользоваться банковский продукт не...</td>\n",
              "    </tr>\n",
              "    <tr>\n",
              "      <th>1</th>\n",
              "      <td>fk_otkritie</td>\n",
              "      <td>Я вместе с женой 15.11.2019 обратился в отделе...</td>\n",
              "      <td>1.0</td>\n",
              "      <td>2019-11-22 22:42:00</td>\n",
              "      <td>2749</td>\n",
              "      <td>405</td>\n",
              "      <td>вместе жена обратиться отделение банк открытие...</td>\n",
              "    </tr>\n",
              "    <tr>\n",
              "      <th>2</th>\n",
              "      <td>alfabank</td>\n",
              "      <td>Добрый день.Сегодня 27.12.2018 г около 15.40-1...</td>\n",
              "      <td>1.0</td>\n",
              "      <td>2018-12-27 23:20:00</td>\n",
              "      <td>867</td>\n",
              "      <td>128</td>\n",
              "      <td>добрый день сегодня г около банкомат адрес ряз...</td>\n",
              "    </tr>\n",
              "    <tr>\n",
              "      <th>3</th>\n",
              "      <td>vtb</td>\n",
              "      <td>\"Где карточку открывали, туда и идите...\" - эт...</td>\n",
              "      <td>2.0</td>\n",
              "      <td>2020-02-05 16:40:00</td>\n",
              "      <td>2860</td>\n",
              "      <td>462</td>\n",
              "      <td>карточка открывать туда идти этот фраза давно ...</td>\n",
              "    </tr>\n",
              "    <tr>\n",
              "      <th>4</th>\n",
              "      <td>promsvyazbank</td>\n",
              "      <td>При покупках в iTunes списываются завышенные с...</td>\n",
              "      <td>NaN</td>\n",
              "      <td>2016-02-26 15:48:00</td>\n",
              "      <td>1066</td>\n",
              "      <td>161</td>\n",
              "      <td>покупка itunes списываться завысить сумма прим...</td>\n",
              "    </tr>\n",
              "  </tbody>\n",
              "</table>\n",
              "</div>\n",
              "      <button class=\"colab-df-convert\" onclick=\"convertToInteractive('df-50096ce3-0ba1-46b2-b1f9-adb56d4ec797')\"\n",
              "              title=\"Convert this dataframe to an interactive table.\"\n",
              "              style=\"display:none;\">\n",
              "        \n",
              "  <svg xmlns=\"http://www.w3.org/2000/svg\" height=\"24px\"viewBox=\"0 0 24 24\"\n",
              "       width=\"24px\">\n",
              "    <path d=\"M0 0h24v24H0V0z\" fill=\"none\"/>\n",
              "    <path d=\"M18.56 5.44l.94 2.06.94-2.06 2.06-.94-2.06-.94-.94-2.06-.94 2.06-2.06.94zm-11 1L8.5 8.5l.94-2.06 2.06-.94-2.06-.94L8.5 2.5l-.94 2.06-2.06.94zm10 10l.94 2.06.94-2.06 2.06-.94-2.06-.94-.94-2.06-.94 2.06-2.06.94z\"/><path d=\"M17.41 7.96l-1.37-1.37c-.4-.4-.92-.59-1.43-.59-.52 0-1.04.2-1.43.59L10.3 9.45l-7.72 7.72c-.78.78-.78 2.05 0 2.83L4 21.41c.39.39.9.59 1.41.59.51 0 1.02-.2 1.41-.59l7.78-7.78 2.81-2.81c.8-.78.8-2.07 0-2.86zM5.41 20L4 18.59l7.72-7.72 1.47 1.35L5.41 20z\"/>\n",
              "  </svg>\n",
              "      </button>\n",
              "      \n",
              "  <style>\n",
              "    .colab-df-container {\n",
              "      display:flex;\n",
              "      flex-wrap:wrap;\n",
              "      gap: 12px;\n",
              "    }\n",
              "\n",
              "    .colab-df-convert {\n",
              "      background-color: #E8F0FE;\n",
              "      border: none;\n",
              "      border-radius: 50%;\n",
              "      cursor: pointer;\n",
              "      display: none;\n",
              "      fill: #1967D2;\n",
              "      height: 32px;\n",
              "      padding: 0 0 0 0;\n",
              "      width: 32px;\n",
              "    }\n",
              "\n",
              "    .colab-df-convert:hover {\n",
              "      background-color: #E2EBFA;\n",
              "      box-shadow: 0px 1px 2px rgba(60, 64, 67, 0.3), 0px 1px 3px 1px rgba(60, 64, 67, 0.15);\n",
              "      fill: #174EA6;\n",
              "    }\n",
              "\n",
              "    [theme=dark] .colab-df-convert {\n",
              "      background-color: #3B4455;\n",
              "      fill: #D2E3FC;\n",
              "    }\n",
              "\n",
              "    [theme=dark] .colab-df-convert:hover {\n",
              "      background-color: #434B5C;\n",
              "      box-shadow: 0px 1px 3px 1px rgba(0, 0, 0, 0.15);\n",
              "      filter: drop-shadow(0px 1px 2px rgba(0, 0, 0, 0.3));\n",
              "      fill: #FFFFFF;\n",
              "    }\n",
              "  </style>\n",
              "\n",
              "      <script>\n",
              "        const buttonEl =\n",
              "          document.querySelector('#df-50096ce3-0ba1-46b2-b1f9-adb56d4ec797 button.colab-df-convert');\n",
              "        buttonEl.style.display =\n",
              "          google.colab.kernel.accessAllowed ? 'block' : 'none';\n",
              "\n",
              "        async function convertToInteractive(key) {\n",
              "          const element = document.querySelector('#df-50096ce3-0ba1-46b2-b1f9-adb56d4ec797');\n",
              "          const dataTable =\n",
              "            await google.colab.kernel.invokeFunction('convertToInteractive',\n",
              "                                                     [key], {});\n",
              "          if (!dataTable) return;\n",
              "\n",
              "          const docLinkHtml = 'Like what you see? Visit the ' +\n",
              "            '<a target=\"_blank\" href=https://colab.research.google.com/notebooks/data_table.ipynb>data table notebook</a>'\n",
              "            + ' to learn more about interactive tables.';\n",
              "          element.innerHTML = '';\n",
              "          dataTable['output_type'] = 'display_data';\n",
              "          await google.colab.output.renderOutput(dataTable, element);\n",
              "          const docLink = document.createElement('div');\n",
              "          docLink.innerHTML = docLinkHtml;\n",
              "          element.appendChild(docLink);\n",
              "        }\n",
              "      </script>\n",
              "    </div>\n",
              "  </div>\n",
              "  "
            ]
          },
          "metadata": {},
          "execution_count": 4
        }
      ]
    },
    {
      "cell_type": "code",
      "source": [
        "test_df = pd.read_csv('/content/drive/MyDrive/Colab Notebooks/NLP/bootcamp/test_clean.csv')\n",
        "test_df.head()"
      ],
      "metadata": {
        "id": "4SCssK7SB2_C",
        "colab": {
          "base_uri": "https://localhost:8080/",
          "height": 206
        },
        "outputId": "7736f5d4-8a3d-46ab-e8ac-c116662bcf93"
      },
      "execution_count": null,
      "outputs": [
        {
          "output_type": "execute_result",
          "data": {
            "text/plain": [
              "         bank                                              feeds  \\\n",
              "0    sberbank  История такова: 27.01.2015 мне на телефон приш...   \n",
              "1    alfabank  Нельзя решить ни один вопрос оперативно, автоо...   \n",
              "2         tcs  Быстро, удобно, чего ещё нужно то. На сайтике ...   \n",
              "3  pochtabank  Добрый день! Просто в шоке от  ПАО «Почта Банк...   \n",
              "4    sberbank  В течение выходных дней новогоднего периода 20...   \n",
              "\n",
              "               date                                             lemmas  \n",
              "0  05.02.2015 17:33  история таков телефон прийти подряд смс списан...  \n",
              "1   03.03.2021 9:27  решить вопрос оперативно автоответчик отказыва...  \n",
              "2   09.04.2018 7:40  быстро удобно нужно сайтик быстро оформить док...  \n",
              "3   09.04.2020 9:57  добрый день просто шок пао почта банк обратить...  \n",
              "4  12.01.2012 14:00  течение выходной день новогодний период банком...  "
            ],
            "text/html": [
              "\n",
              "  <div id=\"df-5dc7be01-a929-48d9-b90a-080c451cc226\">\n",
              "    <div class=\"colab-df-container\">\n",
              "      <div>\n",
              "<style scoped>\n",
              "    .dataframe tbody tr th:only-of-type {\n",
              "        vertical-align: middle;\n",
              "    }\n",
              "\n",
              "    .dataframe tbody tr th {\n",
              "        vertical-align: top;\n",
              "    }\n",
              "\n",
              "    .dataframe thead th {\n",
              "        text-align: right;\n",
              "    }\n",
              "</style>\n",
              "<table border=\"1\" class=\"dataframe\">\n",
              "  <thead>\n",
              "    <tr style=\"text-align: right;\">\n",
              "      <th></th>\n",
              "      <th>bank</th>\n",
              "      <th>feeds</th>\n",
              "      <th>date</th>\n",
              "      <th>lemmas</th>\n",
              "    </tr>\n",
              "  </thead>\n",
              "  <tbody>\n",
              "    <tr>\n",
              "      <th>0</th>\n",
              "      <td>sberbank</td>\n",
              "      <td>История такова: 27.01.2015 мне на телефон приш...</td>\n",
              "      <td>05.02.2015 17:33</td>\n",
              "      <td>история таков телефон прийти подряд смс списан...</td>\n",
              "    </tr>\n",
              "    <tr>\n",
              "      <th>1</th>\n",
              "      <td>alfabank</td>\n",
              "      <td>Нельзя решить ни один вопрос оперативно, автоо...</td>\n",
              "      <td>03.03.2021 9:27</td>\n",
              "      <td>решить вопрос оперативно автоответчик отказыва...</td>\n",
              "    </tr>\n",
              "    <tr>\n",
              "      <th>2</th>\n",
              "      <td>tcs</td>\n",
              "      <td>Быстро, удобно, чего ещё нужно то. На сайтике ...</td>\n",
              "      <td>09.04.2018 7:40</td>\n",
              "      <td>быстро удобно нужно сайтик быстро оформить док...</td>\n",
              "    </tr>\n",
              "    <tr>\n",
              "      <th>3</th>\n",
              "      <td>pochtabank</td>\n",
              "      <td>Добрый день! Просто в шоке от  ПАО «Почта Банк...</td>\n",
              "      <td>09.04.2020 9:57</td>\n",
              "      <td>добрый день просто шок пао почта банк обратить...</td>\n",
              "    </tr>\n",
              "    <tr>\n",
              "      <th>4</th>\n",
              "      <td>sberbank</td>\n",
              "      <td>В течение выходных дней новогоднего периода 20...</td>\n",
              "      <td>12.01.2012 14:00</td>\n",
              "      <td>течение выходной день новогодний период банком...</td>\n",
              "    </tr>\n",
              "  </tbody>\n",
              "</table>\n",
              "</div>\n",
              "      <button class=\"colab-df-convert\" onclick=\"convertToInteractive('df-5dc7be01-a929-48d9-b90a-080c451cc226')\"\n",
              "              title=\"Convert this dataframe to an interactive table.\"\n",
              "              style=\"display:none;\">\n",
              "        \n",
              "  <svg xmlns=\"http://www.w3.org/2000/svg\" height=\"24px\"viewBox=\"0 0 24 24\"\n",
              "       width=\"24px\">\n",
              "    <path d=\"M0 0h24v24H0V0z\" fill=\"none\"/>\n",
              "    <path d=\"M18.56 5.44l.94 2.06.94-2.06 2.06-.94-2.06-.94-.94-2.06-.94 2.06-2.06.94zm-11 1L8.5 8.5l.94-2.06 2.06-.94-2.06-.94L8.5 2.5l-.94 2.06-2.06.94zm10 10l.94 2.06.94-2.06 2.06-.94-2.06-.94-.94-2.06-.94 2.06-2.06.94z\"/><path d=\"M17.41 7.96l-1.37-1.37c-.4-.4-.92-.59-1.43-.59-.52 0-1.04.2-1.43.59L10.3 9.45l-7.72 7.72c-.78.78-.78 2.05 0 2.83L4 21.41c.39.39.9.59 1.41.59.51 0 1.02-.2 1.41-.59l7.78-7.78 2.81-2.81c.8-.78.8-2.07 0-2.86zM5.41 20L4 18.59l7.72-7.72 1.47 1.35L5.41 20z\"/>\n",
              "  </svg>\n",
              "      </button>\n",
              "      \n",
              "  <style>\n",
              "    .colab-df-container {\n",
              "      display:flex;\n",
              "      flex-wrap:wrap;\n",
              "      gap: 12px;\n",
              "    }\n",
              "\n",
              "    .colab-df-convert {\n",
              "      background-color: #E8F0FE;\n",
              "      border: none;\n",
              "      border-radius: 50%;\n",
              "      cursor: pointer;\n",
              "      display: none;\n",
              "      fill: #1967D2;\n",
              "      height: 32px;\n",
              "      padding: 0 0 0 0;\n",
              "      width: 32px;\n",
              "    }\n",
              "\n",
              "    .colab-df-convert:hover {\n",
              "      background-color: #E2EBFA;\n",
              "      box-shadow: 0px 1px 2px rgba(60, 64, 67, 0.3), 0px 1px 3px 1px rgba(60, 64, 67, 0.15);\n",
              "      fill: #174EA6;\n",
              "    }\n",
              "\n",
              "    [theme=dark] .colab-df-convert {\n",
              "      background-color: #3B4455;\n",
              "      fill: #D2E3FC;\n",
              "    }\n",
              "\n",
              "    [theme=dark] .colab-df-convert:hover {\n",
              "      background-color: #434B5C;\n",
              "      box-shadow: 0px 1px 3px 1px rgba(0, 0, 0, 0.15);\n",
              "      filter: drop-shadow(0px 1px 2px rgba(0, 0, 0, 0.3));\n",
              "      fill: #FFFFFF;\n",
              "    }\n",
              "  </style>\n",
              "\n",
              "      <script>\n",
              "        const buttonEl =\n",
              "          document.querySelector('#df-5dc7be01-a929-48d9-b90a-080c451cc226 button.colab-df-convert');\n",
              "        buttonEl.style.display =\n",
              "          google.colab.kernel.accessAllowed ? 'block' : 'none';\n",
              "\n",
              "        async function convertToInteractive(key) {\n",
              "          const element = document.querySelector('#df-5dc7be01-a929-48d9-b90a-080c451cc226');\n",
              "          const dataTable =\n",
              "            await google.colab.kernel.invokeFunction('convertToInteractive',\n",
              "                                                     [key], {});\n",
              "          if (!dataTable) return;\n",
              "\n",
              "          const docLinkHtml = 'Like what you see? Visit the ' +\n",
              "            '<a target=\"_blank\" href=https://colab.research.google.com/notebooks/data_table.ipynb>data table notebook</a>'\n",
              "            + ' to learn more about interactive tables.';\n",
              "          element.innerHTML = '';\n",
              "          dataTable['output_type'] = 'display_data';\n",
              "          await google.colab.output.renderOutput(dataTable, element);\n",
              "          const docLink = document.createElement('div');\n",
              "          docLink.innerHTML = docLinkHtml;\n",
              "          element.appendChild(docLink);\n",
              "        }\n",
              "      </script>\n",
              "    </div>\n",
              "  </div>\n",
              "  "
            ]
          },
          "metadata": {},
          "execution_count": 5
        }
      ]
    },
    {
      "cell_type": "code",
      "source": [
        "train_df.grades.unique()"
      ],
      "metadata": {
        "id": "CijnbYBQB_Fu",
        "colab": {
          "base_uri": "https://localhost:8080/"
        },
        "outputId": "d4b6acb4-6032-4582-b6b4-25ebb938b2ee"
      },
      "execution_count": null,
      "outputs": [
        {
          "output_type": "execute_result",
          "data": {
            "text/plain": [
              "array([ 5.,  1.,  2., nan,  3.,  4.])"
            ]
          },
          "metadata": {},
          "execution_count": 6
        }
      ]
    },
    {
      "cell_type": "markdown",
      "metadata": {
        "id": "iyohoWzbDj84"
      },
      "source": [
        "Посмотрим распределение классов в трейне"
      ]
    },
    {
      "cell_type": "code",
      "source": [
        "classes = train_df.grades.value_counts().sort_index().plot(kind='bar')\n",
        "plt.show()"
      ],
      "metadata": {
        "id": "n_jHobyoCEpT",
        "colab": {
          "base_uri": "https://localhost:8080/",
          "height": 271
        },
        "outputId": "108734d2-fe9f-48a0-d37b-38571e898bad"
      },
      "execution_count": null,
      "outputs": [
        {
          "output_type": "display_data",
          "data": {
            "text/plain": [
              "<Figure size 432x288 with 1 Axes>"
            ],
            "image/png": "[encoded data removed]"
          },
          "metadata": {
            "needs_background": "light"
          }
        }
      ]
    },
    {
      "cell_type": "markdown",
      "metadata": {
        "id": "HCwKlyvtD2wB"
      },
      "source": [
        "## 2.1.Train/test split"
      ]
    },
    {
      "cell_type": "code",
      "source": [
        "train_df = train_df.dropna()\n",
        "train_df['grades'] = train_df['grades'].astype('int8') - 1"
      ],
      "metadata": {
        "id": "dMX5fGhfHB5e"
      },
      "execution_count": null,
      "outputs": []
    },
    {
      "cell_type": "code",
      "source": [
        "train_df_short = train_df[train_df['word_len'] <= 1000]\n",
        "train_df_short.shape"
      ],
      "metadata": {
        "colab": {
          "base_uri": "https://localhost:8080/"
        },
        "id": "2cuUWHQ1VwYx",
        "outputId": "94e594a6-0e4f-4b7e-a09a-a25f045ff7c7"
      },
      "execution_count": null,
      "outputs": [
        {
          "output_type": "execute_result",
          "data": {
            "text/plain": [
              "(239447, 7)"
            ]
          },
          "metadata": {},
          "execution_count": 7
        }
      ]
    },
    {
      "cell_type": "code",
      "source": [
        "x_train, x_test, y_train, y_test = train_test_split(train_df_short.feeds, train_df_short.grades,\n",
        "                                                    train_size=100000, test_size=5000, \n",
        "                                                    stratify=train_df_short.grades, random_state=42)\n",
        "# df_val, df_test = train_test_split(df_test, test_size=0.5, stratify=df_test.grades, random_state=RANDOM_SEED)"
      ],
      "metadata": {
        "id": "RfsYhcziHEMm"
      },
      "execution_count": null,
      "outputs": []
    },
    {
      "cell_type": "code",
      "source": [
        "x_train.shape"
      ],
      "metadata": {
        "colab": {
          "base_uri": "https://localhost:8080/"
        },
        "id": "53n_fBOgIM7F",
        "outputId": "ef66e771-9546-4e39-eef2-34bdd5031ab5"
      },
      "execution_count": null,
      "outputs": [
        {
          "output_type": "execute_result",
          "data": {
            "text/plain": [
              "(100000,)"
            ]
          },
          "metadata": {},
          "execution_count": 9
        }
      ]
    },
    {
      "cell_type": "code",
      "source": [
        "y_train.value_counts(normalize=True)"
      ],
      "metadata": {
        "colab": {
          "base_uri": "https://localhost:8080/"
        },
        "id": "wjN4P4O5IUrT",
        "outputId": "d5026d9f-7921-4b09-bb64-f014ee7e41ab"
      },
      "execution_count": null,
      "outputs": [
        {
          "output_type": "execute_result",
          "data": {
            "text/plain": [
              "0    0.53989\n",
              "4    0.27711\n",
              "1    0.10723\n",
              "2    0.04626\n",
              "3    0.02951\n",
              "Name: grades, dtype: float64"
            ]
          },
          "metadata": {},
          "execution_count": 10
        }
      ]
    },
    {
      "cell_type": "code",
      "source": [
        "np.random.seed(42)\n",
        "idx_drop = np.random.choice(y_train[(y_train == 0)].index, size=int(y_train[(y_train == 0)].shape[0] * 0.5), replace=False)\n",
        "idx_drop1 = np.random.choice(y_train[(y_train == 4)].index, size=int(y_train[(y_train == 4)].shape[0] * 0.3), replace=False)\n",
        "y_train = y_train.drop(index=np.hstack((idx_drop, idx_drop1)))\n",
        "x_train = x_train.drop(index=np.hstack((idx_drop, idx_drop1)))"
      ],
      "metadata": {
        "id": "7ibnrlXKIMVJ"
      },
      "execution_count": null,
      "outputs": []
    },
    {
      "cell_type": "code",
      "source": [
        "y_train.value_counts(normalize=True)"
      ],
      "metadata": {
        "colab": {
          "base_uri": "https://localhost:8080/"
        },
        "id": "1gN98g4JI5Fv",
        "outputId": "0982a39c-b394-442d-b97b-af5c1db05975"
      },
      "execution_count": null,
      "outputs": [
        {
          "output_type": "execute_result",
          "data": {
            "text/plain": [
              "0    0.417279\n",
              "4    0.299847\n",
              "1    0.165752\n",
              "2    0.071507\n",
              "3    0.045615\n",
              "Name: grades, dtype: float64"
            ]
          },
          "metadata": {},
          "execution_count": 12
        }
      ]
    },
    {
      "cell_type": "markdown",
      "metadata": {
        "id": "R6CgL-y4EI3o"
      },
      "source": [
        "## 2.2.Label Encoding"
      ]
    },
    {
      "cell_type": "markdown",
      "source": [
        "(Использование LE не совсем обязательно в данном кейсе, т.к. у нас уже классы в данных представлены нужным образом (числа от 0 до число классов - 1), но в более общем случае это необходимо)"
      ],
      "metadata": {
        "id": "hCPWRkvXUiLI"
      }
    },
    {
      "cell_type": "code",
      "metadata": {
        "id": "0mmW4jGVDmCH"
      },
      "source": [
        "encoder = LabelEncoder()\n",
        "encoder.fit(train_df.grades)\n",
        "encoded_Y_test = encoder.transform(y_test)\n",
        "encoded_Y_train = encoder.transform(y_train)\n",
        "\n",
        "# convert integers to dummy variables (i.e. one hot encoded)\n",
        "dummy_y_test = np_utils.to_categorical(encoded_Y_test)\n",
        "dummy_y_train = np_utils.to_categorical(encoded_Y_train)"
      ],
      "execution_count": null,
      "outputs": []
    },
    {
      "cell_type": "markdown",
      "source": [
        "Сохраним наш зафиченный LE"
      ],
      "metadata": {
        "id": "rCQdz5S1U7LQ"
      }
    },
    {
      "cell_type": "code",
      "metadata": {
        "id": "cwQNtv17EdUz"
      },
      "source": [
        "encoder_fname = 'review_classes.npy'\n",
        "my_wd = '/content/drive/MyDrive/Colab Notebooks/NLP/bootcamp_tf_attempt/'\n",
        "np.save(os.path.join(my_wd, encoder_fname) , encoder.classes_)"
      ],
      "execution_count": null,
      "outputs": []
    },
    {
      "cell_type": "markdown",
      "metadata": {
        "id": "ct1-P5r1FGQO"
      },
      "source": [
        "Так можно его скачать"
      ]
    },
    {
      "cell_type": "code",
      "metadata": {
        "id": "HEopM33sE_Et"
      },
      "source": [
        "# encoder = LabelEncoder()\n",
        "# encoder.classes_ = np.load(os.path.join(my_wd, encoder_fname), allow_pickle=True)"
      ],
      "execution_count": null,
      "outputs": []
    },
    {
      "cell_type": "markdown",
      "metadata": {
        "id": "Rq5GSy35Gibn"
      },
      "source": [
        "## 2.3.Токенизация"
      ]
    },
    {
      "cell_type": "markdown",
      "metadata": {
        "id": "F5f_ey3VGknK"
      },
      "source": [
        "Для токенизации используются функции из official.nlp.bert и pretrained BERT. \\\\\n",
        "Скачаем саму модельку."
      ]
    },
    {
      "cell_type": "code",
      "metadata": {
        "id": "atMa7VWVFQwV"
      },
      "source": [
        "bert_layer = hub.KerasLayer(\"https://tfhub.dev/tensorflow/bert_multi_cased_L-12_H-768_A-12/2\", # https://tfhub.dev/jeongukjae/distilbert_multi_cased_L-6_H-768_A-12/1\n",
        "                            trainable=True)"
      ],
      "execution_count": null,
      "outputs": []
    },
    {
      "cell_type": "code",
      "metadata": {
        "id": "VoD6yod_FRyN"
      },
      "source": [
        "vocab_file = bert_layer.resolved_object.vocab_file.asset_path.numpy()\n",
        "do_lower_case = bert_layer.resolved_object.do_lower_case.numpy()\n",
        "tokenizer = tokenization.FullTokenizer(vocab_file, do_lower_case)"
      ],
      "execution_count": null,
      "outputs": []
    },
    {
      "cell_type": "code",
      "metadata": {
        "id": "d0JoikgjFTmk",
        "colab": {
          "base_uri": "https://localhost:8080/"
        },
        "outputId": "570b068f-d87b-47e3-c014-b13de6dee61b"
      },
      "source": [
        "do_lower_case"
      ],
      "execution_count": null,
      "outputs": [
        {
          "output_type": "execute_result",
          "data": {
            "text/plain": [
              "False"
            ]
          },
          "metadata": {},
          "execution_count": 19
        }
      ]
    },
    {
      "cell_type": "code",
      "metadata": {
        "id": "q1Y7q4QTKuTD",
        "colab": {
          "base_uri": "https://localhost:8080/"
        },
        "outputId": "917c2df0-674b-44d0-f099-468258a0fb76"
      },
      "source": [
        "tokenizer.convert_tokens_to_ids(['[CLS]', '[SEP]'])"
      ],
      "execution_count": null,
      "outputs": [
        {
          "output_type": "execute_result",
          "data": {
            "text/plain": [
              "[101, 102]"
            ]
          },
          "metadata": {},
          "execution_count": 25
        }
      ]
    },
    {
      "cell_type": "code",
      "source": [
        "def encode_names(n):\n",
        "   tokens = list(tokenizer.tokenize(n))\n",
        "   tokens.append('[SEP]')  # seperation token. Would bemuch more useful if you had a multiple text input.\n",
        "   return tokenizer.convert_tokens_to_ids(tokens)\n",
        "\n",
        "tokenized_reviews = tf.ragged.constant(x_train.apply(encode_names))\n",
        "#[encode_names(n) for n in x_train])"
      ],
      "metadata": {
        "id": "NceVcfi7SdTh"
      },
      "execution_count": null,
      "outputs": []
    },
    {
      "cell_type": "code",
      "source": [
        "print('Tokenized reviews shape', tokenized_reviews.shape.as_list())"
      ],
      "metadata": {
        "colab": {
          "base_uri": "https://localhost:8080/"
        },
        "id": "Gc8866QvMfUn",
        "outputId": "f1a9eda8-edf1-4aee-c0d9-e7a90a56cd25"
      },
      "execution_count": null,
      "outputs": [
        {
          "output_type": "stream",
          "name": "stdout",
          "text": [
            "Tokenized Tweets shape [64692, None]\n"
          ]
        }
      ]
    },
    {
      "cell_type": "code",
      "source": [
        "tokenized_reviews[0]"
      ],
      "metadata": {
        "colab": {
          "base_uri": "https://localhost:8080/"
        },
        "id": "SMROOFxlMadu",
        "outputId": "47272008-2ad5-4590-c488-c57e9ec4f19f"
      },
      "execution_count": null,
      "outputs": [
        {
          "output_type": "execute_result",
          "data": {
            "text/plain": [
              "<tf.Tensor: shape=(385,), dtype=int32, numpy=\n",
              "array([   101,  12834,  12409,    117,  10949,    557,  12686,  33262,\n",
              "        13097,    117,  10297,    553,  17117,  10384,  12709,  11833,\n",
              "        18106,    117,  96569,  10674,  10234,  51642,  11191,  10122,\n",
              "        91258,  21137,    549,  53204,  10696,  18088,    551,  63796,\n",
              "        10367,    543,    511,  20411,  18683,  65727,    117,  83415,\n",
              "          113,  10430,  33276,  43402,    114,  11582,  91258,  27552,\n",
              "          543,  21148,    123,    118,    562,  10375,  70835,    119,\n",
              "        35475,  60515,  11548,  16673,  10521,  13414,  96195,  10990,\n",
              "        85987,    117,  10297,  72013,    558,  23807,  54256,  10508,\n",
              "        15597,  65727,  10433,    119,    523,  92274,  45709,    558,\n",
              "        79050,  10191,    555,  88361,  97099,    117,  10332,  54697,\n",
              "        13248,    555,  88361,  11557,  18731,  11240,    543,  65727,\n",
              "          543,  21148,    124,    118,    562,  58385,  29835,    113,\n",
              "        10949,    549,  11582,    555,  35153,  14781,    558,  97516,\n",
              "        10364,    114,    119,  10778,    125,    118,    550,  16276,\n",
              "          572,  15530,  30860,  10122,    555,  45572,  13393,  20539,\n",
              "        38349, 100142,  10783,    118,  12709,  59356,  10191,    119,\n",
              "          511,  19558,  11815,  16276,  11450,  13248,  44666,  10409,\n",
              "        26724,  58154,    117,    543,  30956,  53468,  91908,  81802,\n",
              "        26899,    558,  44030,  10521,    119,    511,  10625,  12709,\n",
              "        13317,  15986,  11079,    555,  70619,  10241,  18617,  93140,\n",
              "        67094,  10375,  13106,  54875,    119,  11480,  18925,    543,\n",
              "          521,  25363,  47450,  10122,    555,  70619,  10241,  20539,\n",
              "        93140,    117,  62416,  10375,  13106,  54875,    117,  37706,\n",
              "        38227,    543,  65727,    117,    558,  57548, 108397,    558,\n",
              "          521,  25363,  47450,    119,  18596,  13686,    543,  13713,\n",
              "        16276,    119,  24483,    126,  29835,  38227,    543,    521,\n",
              "        25363,  47450,    117,  15530,  10234,  96195,  29678,  14397,\n",
              "        10387,    514,  24993,  18005,  16027,    117,  10332,  12803,\n",
              "        10987,    543,  65727,    549,  10439,  10351, 102052,  38288,\n",
              "        28501,  20658,    131, 108397,  15530,  10122,  72339,    117,\n",
              "          551,  96806,  10191,  10332,  69055,  46466,  23312,  10292,\n",
              "        67251,  18731,  15710,    543,  65727,  10205,    106,    530,\n",
              "        11016,  42714,  11833,  22504,  38300,  17010,  61540,  10332,\n",
              "        20387,  10541,  19710,    117,  10791,  20598,    560,  17961,\n",
              "        40671,  23750,  10851,  78130,  14133,  33190,  27819,  78717,\n",
              "        20563,  18925,    119,  19196,  33276,  11079,  23855,  10949,\n",
              "        19654,  10344,  10517,  10823,    117,  12123,    549,  13686,\n",
              "        54678,    117,  10122,  15496,  11060,  62277,    119,  85904,\n",
              "        56280,  12016,  14317,  18447,  98352,  59492,    117,  11663,\n",
              "          562, 110732,  10625,  10332,  88794,  20489,    556, 104782,\n",
              "        10292,    117,  12123,  10949,  72712,  19954,  10433,  10375,\n",
              "        13248,  37235,  10227,  67342,    119,  22651,  10636,  45572,\n",
              "        14757,  70158, 102276,  16821,  14611,  71325,  65727,  28365,\n",
              "       104312,  13480,    549,  90363,  11851,  92815,    119,  21124,\n",
              "          548,  10409,  10593,  10949,  17164,  46625,  27566,  13714,\n",
              "        14274,  10297,  27110,  65501,  13157,    117,  11279,  10297,\n",
              "          549,  53204,  10696,  49146,    118,  57972,  45709,    119,\n",
              "          102], dtype=int32)>"
            ]
          },
          "metadata": {},
          "execution_count": 29
        }
      ]
    },
    {
      "cell_type": "markdown",
      "metadata": {
        "id": "T5_IdTYjL_bT"
      },
      "source": [
        "Посмотрим процесс токенизации на каком-нибудь примере."
      ]
    },
    {
      "cell_type": "code",
      "metadata": {
        "id": "hqmw3xEKMtDn",
        "colab": {
          "base_uri": "https://localhost:8080/",
          "height": 140
        },
        "outputId": "69491619-6c89-4762-d6bd-f5ae117fe481"
      },
      "source": [
        "x_train.iloc[0]"
      ],
      "execution_count": null,
      "outputs": [
        {
          "output_type": "execute_result",
          "data": {
            "text/plain": [
              "'После того, как риелтор, по моей просьбе, направила заявку на получение ипотечного кредита в ВТБ банк, ответ (одобрение) было получено в течение 2-х недель. Процентная ставка является выгодной, по сравнению с предложениями других банков. Оперативно сработали оценщики, отчет об оценке передан в банк в течение 3-х рабочих дней (как и было оговорено специалистом). На 4-й день я уже получила на ознакомление договор Купли-продажи. В этот же день была обозначена дата, в которую должна состояться сделка. Вся процедура оформления документов заняла не более часа. Потом в МФЦ на оформление документов, тоже не более часа, потом снова в банк, сдать документы с МФЦ. Это все в один день. Через 5 дней снова в МФЦ, уже за выпиской из ЕГРП, оттуда в банк и вот долгожданный момент: документы уже на руках, ключи от квартиры мне передали в банке!Хотелось бы дополнить отзыв тем, что очень удобно пользоваться личным кабинетом. Отображен как сам долг, так и все условия, на которых он появился.Что касается работы специалистов банка, то хочется отметить лишь плюсы, так как минусов не обнаружила.\\xa0Однозначно рекомендую данный банк своим знакомым и коллегам. Не знаю как качественно работают они по другим продуктам, но по ипотечному - оперативно.'"
            ],
            "application/vnd.google.colaboratory.intrinsic+json": {
              "type": "string"
            }
          },
          "metadata": {},
          "execution_count": 30
        }
      ]
    },
    {
      "cell_type": "code",
      "source": [
        "tokenizedreview = tokenizer.tokenize(x_train.iloc[0])\n",
        "for i in tokenizedreview:\n",
        "  print(i, tokenizer.convert_tokens_to_ids([i]))"
      ],
      "metadata": {
        "colab": {
          "base_uri": "https://localhost:8080/"
        },
        "id": "SHx91Zx8MpLZ",
        "outputId": "ec723c61-1135-4bbf-fe55-59120c358bd3"
      },
      "execution_count": null,
      "outputs": [
        {
          "output_type": "stream",
          "name": "stdout",
          "text": [
            "После [12834]\n",
            "того [12409]\n",
            ", [117]\n",
            "как [10949]\n",
            "р [557]\n",
            "##ие [12686]\n",
            "##лт [33262]\n",
            "##ор [13097]\n",
            ", [117]\n",
            "по [10297]\n",
            "м [553]\n",
            "##ое [17117]\n",
            "##й [10384]\n",
            "про [12709]\n",
            "##сь [11833]\n",
            "##бе [18106]\n",
            ", [117]\n",
            "направи [96569]\n",
            "##ла [10674]\n",
            "за [10234]\n",
            "##яв [51642]\n",
            "##ку [11191]\n",
            "на [10122]\n",
            "полу [91258]\n",
            "##чение [21137]\n",
            "и [549]\n",
            "##по [53204]\n",
            "##те [10696]\n",
            "##чного [18088]\n",
            "к [551]\n",
            "##реди [63796]\n",
            "##та [10367]\n",
            "в [543]\n",
            "В [511]\n",
            "##Т [20411]\n",
            "##Б [18683]\n",
            "банк [65727]\n",
            ", [117]\n",
            "ответ [83415]\n",
            "( [113]\n",
            "од [10430]\n",
            "##об [33276]\n",
            "##рение [43402]\n",
            ") [114]\n",
            "было [11582]\n",
            "полу [91258]\n",
            "##чено [27552]\n",
            "в [543]\n",
            "течение [21148]\n",
            "2 [123]\n",
            "- [118]\n",
            "х [562]\n",
            "не [10375]\n",
            "##дель [70835]\n",
            ". [119]\n",
            "Про [35475]\n",
            "##цент [60515]\n",
            "##ная [11548]\n",
            "став [16673]\n",
            "##ка [10521]\n",
            "является [13414]\n",
            "вы [96195]\n",
            "##го [10990]\n",
            "##дной [85987]\n",
            ", [117]\n",
            "по [10297]\n",
            "сравнению [72013]\n",
            "с [558]\n",
            "пред [23807]\n",
            "##ложения [54256]\n",
            "##ми [10508]\n",
            "других [15597]\n",
            "банк [65727]\n",
            "##ов [10433]\n",
            ". [119]\n",
            "О [523]\n",
            "##пера [92274]\n",
            "##тивно [45709]\n",
            "с [558]\n",
            "##работал [79050]\n",
            "##и [10191]\n",
            "о [555]\n",
            "##цен [88361]\n",
            "##щики [97099]\n",
            ", [117]\n",
            "от [10332]\n",
            "##чет [54697]\n",
            "об [13248]\n",
            "о [555]\n",
            "##цен [88361]\n",
            "##ке [11557]\n",
            "перед [18731]\n",
            "##ан [11240]\n",
            "в [543]\n",
            "банк [65727]\n",
            "в [543]\n",
            "течение [21148]\n",
            "3 [124]\n",
            "- [118]\n",
            "х [562]\n",
            "рабочих [58385]\n",
            "дней [29835]\n",
            "( [113]\n",
            "как [10949]\n",
            "и [549]\n",
            "было [11582]\n",
            "о [555]\n",
            "##говор [35153]\n",
            "##ено [14781]\n",
            "с [558]\n",
            "##пециалист [97516]\n",
            "##ом [10364]\n",
            ") [114]\n",
            ". [119]\n",
            "На [10778]\n",
            "4 [125]\n",
            "- [118]\n",
            "й [550]\n",
            "день [16276]\n",
            "я [572]\n",
            "уже [15530]\n",
            "получила [30860]\n",
            "на [10122]\n",
            "о [555]\n",
            "##зна [45572]\n",
            "##ком [13393]\n",
            "##ление [20539]\n",
            "договор [38349]\n",
            "Куп [100142]\n",
            "##ли [10783]\n",
            "- [118]\n",
            "про [12709]\n",
            "##даж [59356]\n",
            "##и [10191]\n",
            ". [119]\n",
            "В [511]\n",
            "этот [19558]\n",
            "же [11815]\n",
            "день [16276]\n",
            "была [11450]\n",
            "об [13248]\n",
            "##оз [44666]\n",
            "##на [10409]\n",
            "##чена [26724]\n",
            "дата [58154]\n",
            ", [117]\n",
            "в [543]\n",
            "которую [30956]\n",
            "должна [53468]\n",
            "сост [91908]\n",
            "##оят [81802]\n",
            "##ься [26899]\n",
            "с [558]\n",
            "##дел [44030]\n",
            "##ка [10521]\n",
            ". [119]\n",
            "В [511]\n",
            "##ся [10625]\n",
            "про [12709]\n",
            "##це [13317]\n",
            "##ду [15986]\n",
            "##ра [11079]\n",
            "о [555]\n",
            "##фор [70619]\n",
            "##м [10241]\n",
            "##ления [18617]\n",
            "документов [93140]\n",
            "заняла [67094]\n",
            "не [10375]\n",
            "более [13106]\n",
            "часа [54875]\n",
            ". [119]\n",
            "По [11480]\n",
            "##том [18925]\n",
            "в [543]\n",
            "М [521]\n",
            "##Ф [25363]\n",
            "##Ц [47450]\n",
            "на [10122]\n",
            "о [555]\n",
            "##фор [70619]\n",
            "##м [10241]\n",
            "##ление [20539]\n",
            "документов [93140]\n",
            ", [117]\n",
            "тоже [62416]\n",
            "не [10375]\n",
            "более [13106]\n",
            "часа [54875]\n",
            ", [117]\n",
            "потом [37706]\n",
            "снова [38227]\n",
            "в [543]\n",
            "банк [65727]\n",
            ", [117]\n",
            "с [558]\n",
            "##дать [57548]\n",
            "документы [108397]\n",
            "с [558]\n",
            "М [521]\n",
            "##Ф [25363]\n",
            "##Ц [47450]\n",
            ". [119]\n",
            "Это [18596]\n",
            "все [13686]\n",
            "в [543]\n",
            "один [13713]\n",
            "день [16276]\n",
            ". [119]\n",
            "Через [24483]\n",
            "5 [126]\n",
            "дней [29835]\n",
            "снова [38227]\n",
            "в [543]\n",
            "М [521]\n",
            "##Ф [25363]\n",
            "##Ц [47450]\n",
            ", [117]\n",
            "уже [15530]\n",
            "за [10234]\n",
            "вы [96195]\n",
            "##пис [29678]\n",
            "##кой [14397]\n",
            "из [10387]\n",
            "Е [514]\n",
            "##Г [24993]\n",
            "##Р [18005]\n",
            "##П [16027]\n",
            ", [117]\n",
            "от [10332]\n",
            "##ту [12803]\n",
            "##да [10987]\n",
            "в [543]\n",
            "банк [65727]\n",
            "и [549]\n",
            "во [10439]\n",
            "##т [10351]\n",
            "долго [102052]\n",
            "##жда [38288]\n",
            "##нный [28501]\n",
            "момент [20658]\n",
            ": [131]\n",
            "документы [108397]\n",
            "уже [15530]\n",
            "на [10122]\n",
            "руках [72339]\n",
            ", [117]\n",
            "к [551]\n",
            "##люч [96806]\n",
            "##и [10191]\n",
            "от [10332]\n",
            "кв [69055]\n",
            "##арт [46466]\n",
            "##ир [23312]\n",
            "##ы [10292]\n",
            "мне [67251]\n",
            "перед [18731]\n",
            "##али [15710]\n",
            "в [543]\n",
            "банк [65727]\n",
            "##е [10205]\n",
            "! [106]\n",
            "Х [530]\n",
            "##от [11016]\n",
            "##ело [42714]\n",
            "##сь [11833]\n",
            "бы [22504]\n",
            "доп [38300]\n",
            "##ол [17010]\n",
            "##нить [61540]\n",
            "от [10332]\n",
            "##зы [20387]\n",
            "##в [10541]\n",
            "тем [19710]\n",
            ", [117]\n",
            "что [10791]\n",
            "очень [20598]\n",
            "у [560]\n",
            "##до [17961]\n",
            "##бно [40671]\n",
            "пол [23750]\n",
            "##ь [10851]\n",
            "##зова [78130]\n",
            "##ться [14133]\n",
            "ли [33190]\n",
            "##чным [27819]\n",
            "каб [78717]\n",
            "##ине [20563]\n",
            "##том [18925]\n",
            ". [119]\n",
            "От [19196]\n",
            "##об [33276]\n",
            "##ра [11079]\n",
            "##жен [23855]\n",
            "как [10949]\n",
            "сам [19654]\n",
            "до [10344]\n",
            "##л [10517]\n",
            "##г [10823]\n",
            ", [117]\n",
            "так [12123]\n",
            "и [549]\n",
            "все [13686]\n",
            "условия [54678]\n",
            ", [117]\n",
            "на [10122]\n",
            "которых [15496]\n",
            "он [11060]\n",
            "появился [62277]\n",
            ". [119]\n",
            "Что [85904]\n",
            "ка [56280]\n",
            "##са [12016]\n",
            "##ется [14317]\n",
            "работы [18447]\n",
            "специалистов [98352]\n",
            "банка [59492]\n",
            ", [117]\n",
            "то [11663]\n",
            "х [562]\n",
            "##очет [110732]\n",
            "##ся [10625]\n",
            "от [10332]\n",
            "##метить [88794]\n",
            "лишь [20489]\n",
            "п [556]\n",
            "##люс [104782]\n",
            "##ы [10292]\n",
            ", [117]\n",
            "так [12123]\n",
            "как [10949]\n",
            "мин [72712]\n",
            "##ус [19954]\n",
            "##ов [10433]\n",
            "не [10375]\n",
            "об [13248]\n",
            "##нар [37235]\n",
            "##у [10227]\n",
            "##жила [67342]\n",
            ". [119]\n",
            "Од [22651]\n",
            "##но [10636]\n",
            "##зна [45572]\n",
            "##чно [14757]\n",
            "рек [70158]\n",
            "##оме [102276]\n",
            "##нд [16821]\n",
            "##ую [14611]\n",
            "данный [71325]\n",
            "банк [65727]\n",
            "своим [28365]\n",
            "знаком [104312]\n",
            "##ым [13480]\n",
            "и [549]\n",
            "кол [90363]\n",
            "##ле [11851]\n",
            "##гам [92815]\n",
            ". [119]\n",
            "Не [21124]\n",
            "з [548]\n",
            "##на [10409]\n",
            "##ю [10593]\n",
            "как [10949]\n",
            "качестве [17164]\n",
            "##нно [46625]\n",
            "работа [27566]\n",
            "##ют [13714]\n",
            "они [14274]\n",
            "по [10297]\n",
            "другим [27110]\n",
            "продукт [65501]\n",
            "##ам [13157]\n",
            ", [117]\n",
            "но [11279]\n",
            "по [10297]\n",
            "и [549]\n",
            "##по [53204]\n",
            "##те [10696]\n",
            "##чному [49146]\n",
            "- [118]\n",
            "опера [57972]\n",
            "##тивно [45709]\n",
            ". [119]\n"
          ]
        }
      ]
    },
    {
      "cell_type": "markdown",
      "metadata": {
        "id": "-M-VCb0INUdm"
      },
      "source": [
        "Необходимо добавить CLS токен."
      ]
    },
    {
      "cell_type": "code",
      "source": [
        "cls = [tokenizer.convert_tokens_to_ids(['[CLS]'])] * tokenized_reviews.shape[0]\n",
        "input_word_ids = tf.concat([cls, tokenized_reviews], axis=-1)"
      ],
      "metadata": {
        "id": "rkGe_oRENEVy"
      },
      "execution_count": null,
      "outputs": []
    },
    {
      "cell_type": "markdown",
      "metadata": {
        "id": "7dKZpLlvQznW"
      },
      "source": [
        "## 2.4.Mask and input type\n",
        "\n",
        "Модель ожидает как инпут:\n",
        "* Токен\n",
        "* input mask\n",
        "* input type  \n",
        "Здесь и выше просто код с попытками посмтроить пайплайн предобработки, который потом соберется в единую функцию предобработки"
      ]
    },
    {
      "cell_type": "code",
      "metadata": {
        "id": "DElTR00ENbYf"
      },
      "source": [
        "# input_word_ids"
      ],
      "execution_count": null,
      "outputs": []
    },
    {
      "cell_type": "code",
      "source": [
        "input_mask = tf.ones_like(tokenized_reviews).to_tensor()"
      ],
      "metadata": {
        "id": "P31koVDWTOs-"
      },
      "execution_count": null,
      "outputs": []
    },
    {
      "cell_type": "code",
      "source": [
        "type_cls = tf.zeros_like(cls)\n",
        "type_tweet = tf.ones_like(tokenized_reviews)\n",
        "input_type_ids = tf.concat([type_cls, type_tweet], axis=-1).to_tensor()"
      ],
      "metadata": {
        "id": "M6IZ7L4tTTd9"
      },
      "execution_count": null,
      "outputs": []
    },
    {
      "cell_type": "markdown",
      "metadata": {
        "id": "eq4nvwwcSYKe"
      },
      "source": [
        "It's hard to see but we added an empty block in front of each tweet for the `[CLS]` token. Check tensor below"
      ]
    },
    {
      "cell_type": "code",
      "metadata": {
        "id": "wPy0lCwtRs1f",
        "colab": {
          "base_uri": "https://localhost:8080/"
        },
        "outputId": "edce821e-f1f8-4f99-fc53-4307f871fbaa"
      },
      "source": [
        "input_type_ids"
      ],
      "execution_count": null,
      "outputs": [
        {
          "output_type": "execute_result",
          "data": {
            "text/plain": [
              "<tf.Tensor: shape=(64692, 7123), dtype=int32, numpy=\n",
              "array([[0, 1, 1, ..., 0, 0, 0],\n",
              "       [0, 1, 1, ..., 0, 0, 0],\n",
              "       [0, 1, 1, ..., 0, 0, 0],\n",
              "       ...,\n",
              "       [0, 1, 1, ..., 0, 0, 0],\n",
              "       [0, 1, 1, ..., 0, 0, 0],\n",
              "       [0, 1, 1, ..., 0, 0, 0]], dtype=int32)>"
            ]
          },
          "metadata": {},
          "execution_count": 37
        }
      ]
    },
    {
      "cell_type": "markdown",
      "metadata": {
        "id": "EkRhOGvoSrTi"
      },
      "source": [
        "## 2.5.Переделаем всю эту процедуру в одну функцию"
      ]
    },
    {
      "cell_type": "markdown",
      "metadata": {
        "id": "8iJXVNBRSwWz"
      },
      "source": [
        "So at this point we have all of our three inputs:\n",
        "\n",
        "1.   Tokens\n",
        "2.   Input mask\n",
        "3.   Input type\n",
        "\n",
        "It will make our work easier both now and in the future if we remake everything into funcitons.\n",
        "\n"
      ]
    },
    {
      "cell_type": "markdown",
      "metadata": {
        "id": "z0eyZii6TAwo"
      },
      "source": [
        "First let's set the max sequence lenght as we did in simple NN example."
      ]
    },
    {
      "cell_type": "code",
      "source": [
        "lens = [len(i) for i in tokenized_reviews]"
      ],
      "metadata": {
        "id": "nmkgMfK2T1iN"
      },
      "execution_count": null,
      "outputs": []
    },
    {
      "cell_type": "code",
      "source": [
        "max_seq_length = max(lens)\n",
        "print('Max length is:', max_seq_length)"
      ],
      "metadata": {
        "colab": {
          "base_uri": "https://localhost:8080/"
        },
        "id": "eShE4MJjUNw3",
        "outputId": "684d001d-83a0-45c4-fe30-ba96dc177ec1"
      },
      "execution_count": null,
      "outputs": [
        {
          "output_type": "stream",
          "name": "stdout",
          "text": [
            "Max length is: 7122\n"
          ]
        }
      ]
    },
    {
      "cell_type": "markdown",
      "metadata": {
        "id": "j9_1dgmeZX5w"
      },
      "source": [
        "Most of the time I suggest adding a bit more to the `max_seq_length` esspecially when ussing just a fraction of data. Let's make it `1.5*max_seq_length`."
      ]
    },
    {
      "cell_type": "code",
      "metadata": {
        "id": "1-MsePX3Zq0E",
        "colab": {
          "base_uri": "https://localhost:8080/",
          "height": 34
        },
        "outputId": "41bc825d-7621-4e38-c87b-1e212e06d36f"
      },
      "source": [
        "# max_seq_length = int(1.5*max_seq_length)\n",
        "# print('Max length is:', max_seq_length)"
      ],
      "execution_count": null,
      "outputs": [
        {
          "output_type": "stream",
          "text": [
            "Max length is: 240\n"
          ],
          "name": "stdout"
        }
      ]
    },
    {
      "cell_type": "code",
      "source": [
        "max_seq_length = 512"
      ],
      "metadata": {
        "id": "Y4WtNsd6XKzT"
      },
      "execution_count": null,
      "outputs": []
    },
    {
      "cell_type": "code",
      "metadata": {
        "id": "YYTddxJZT4cS"
      },
      "source": [
        "def encode_names(n, tokenizer):\n",
        "   tokens = list(tokenizer.tokenize(n))\n",
        "   tokens.append('[SEP]')\n",
        "   return tokenizer.convert_tokens_to_ids(tokens)\n",
        "\n",
        "def bert_encode(string_list, tokenizer, max_seq_length):\n",
        "  num_examples = len(string_list)\n",
        "  \n",
        "  string_tokens = tf.ragged.constant([\n",
        "      encode_names(n, tokenizer) for n in np.array(string_list)])\n",
        "\n",
        "  cls = [tokenizer.convert_tokens_to_ids(['[CLS]'])] * string_tokens.shape[0]\n",
        "  input_word_ids = tf.concat([cls, string_tokens], axis=-1)\n",
        "\n",
        "  input_mask = tf.ones_like(input_word_ids).to_tensor(shape=(None, max_seq_length))\n",
        "\n",
        "  type_cls = tf.zeros_like(cls)\n",
        "  type_tokens = tf.ones_like(string_tokens)\n",
        "  input_type_ids = tf.concat(\n",
        "      [type_cls, type_tokens], axis=-1).to_tensor(shape=(None, max_seq_length))\n",
        "\n",
        "  inputs = {\n",
        "      'input_word_ids': input_word_ids.to_tensor(shape=(None, max_seq_length)),\n",
        "      'input_mask': input_mask,\n",
        "      'input_type_ids': input_type_ids}\n",
        "\n",
        "  return inputs"
      ],
      "execution_count": null,
      "outputs": []
    },
    {
      "cell_type": "markdown",
      "metadata": {
        "id": "8K_R_A3lULSO"
      },
      "source": [
        "Выполним предобработку выделенных ранее обучающей и валидационной выборки"
      ]
    },
    {
      "cell_type": "code",
      "metadata": {
        "id": "3X6EQXxVUi4s"
      },
      "source": [
        "X_train = bert_encode(x_train, tokenizer, max_seq_length)\n",
        "X_test = bert_encode(x_test, tokenizer, max_seq_length)"
      ],
      "execution_count": null,
      "outputs": []
    },
    {
      "cell_type": "code",
      "source": [
        "train_df[train_df.word_len > 512].grades.value_counts().sort_index().plot(kind='bar')\n",
        "plt.show()"
      ],
      "metadata": {
        "colab": {
          "base_uri": "https://localhost:8080/",
          "height": 262
        },
        "id": "3gDxNqFJZfPL",
        "outputId": "152aec4a-7660-43c4-e56b-a329285adb4c"
      },
      "execution_count": null,
      "outputs": [
        {
          "output_type": "display_data",
          "data": {
            "text/plain": [
              "<Figure size 432x288 with 1 Axes>"
            ],
            "image/png": "[encoded data removed]"
          },
          "metadata": {
            "needs_background": "light"
          }
        }
      ]
    },
    {
      "cell_type": "markdown",
      "metadata": {
        "id": "nJ6PVsxmVbRO"
      },
      "source": [
        "# 3.Обучение BERT"
      ]
    },
    {
      "cell_type": "markdown",
      "metadata": {
        "id": "4QVhnrzH9ygq"
      },
      "source": [
        "## 3.1.Initial training"
      ]
    },
    {
      "cell_type": "markdown",
      "metadata": {
        "id": "kXvVljK3VjKt"
      },
      "source": [
        "Задаем архитектуру модели"
      ]
    },
    {
      "cell_type": "code",
      "metadata": {
        "id": "TENzkxMeThTv"
      },
      "source": [
        "num_class = len(encoder.classes_)  # Based on available class selection\n",
        "max_seq_length = max_seq_length  # we calculated this a couple cells ago\n",
        "\n",
        "input_word_ids = tf.keras.layers.Input(shape=(max_seq_length,), dtype=tf.int32,\n",
        "                                       name=\"input_word_ids\")\n",
        "input_mask = tf.keras.layers.Input(shape=(max_seq_length,), dtype=tf.int32,\n",
        "                                   name=\"input_mask\")\n",
        "segment_ids = tf.keras.layers.Input(shape=(max_seq_length,), dtype=tf.int32,\n",
        "                                    name=\"segment_ids\")\n",
        "\n",
        "pooled_output, sequence_output = bert_layer([input_word_ids, input_mask, segment_ids])                                  \n",
        "\n",
        "output = tf.keras.layers.Dropout(rate=0.2)(pooled_output)\n",
        "\n",
        "output = tf.keras.layers.Dense(num_class, activation='softmax', name='output')(output)\n",
        "\n",
        "model = tf.keras.Model(\n",
        "    inputs={\n",
        "        'input_word_ids': input_word_ids,\n",
        "        'input_mask': input_mask,\n",
        "        'input_type_ids': segment_ids\n",
        "        },\n",
        "        outputs=output)"
      ],
      "execution_count": null,
      "outputs": []
    },
    {
      "cell_type": "markdown",
      "metadata": {
        "id": "A4CLYDQYUZMP"
      },
      "source": [
        "Визуализируем модель."
      ]
    },
    {
      "cell_type": "code",
      "source": [
        "tf.keras.utils.plot_model(model, show_shapes=True, dpi=48)"
      ],
      "metadata": {
        "colab": {
          "base_uri": "https://localhost:8080/",
          "height": 220
        },
        "id": "N9YvdbhIaLo2",
        "outputId": "a0316835-2312-46f2-cee4-7d19f7d83318"
      },
      "execution_count": null,
      "outputs": [
        {
          "output_type": "execute_result",
          "data": {
            "image/png": "[encoded data removed]",
            "text/plain": [
              "<IPython.core.display.Image object>"
            ]
          },
          "metadata": {},
          "execution_count": 31
        }
      ]
    },
    {
      "cell_type": "markdown",
      "metadata": {
        "id": "qvap4afcV4cZ"
      },
      "source": [
        "Зададим параметры числа эпох, bs и т.д."
      ]
    },
    {
      "cell_type": "code",
      "metadata": {
        "id": "bNeskVwpUco0"
      },
      "source": [
        "epochs = 3\n",
        "batch_size = 8  # select based on your GPU resources\n",
        "eval_batch_size = batch_size\n",
        "\n",
        "train_data_size = len(dummy_y_train)\n",
        "steps_per_epoch = int(train_data_size / batch_size)\n",
        "num_train_steps = steps_per_epoch * epochs\n",
        "warmup_steps = int(epochs * train_data_size * 0.1 / batch_size)\n",
        "\n",
        "optimizer = nlp.optimization.create_optimizer(\n",
        "    2e-5, num_train_steps=num_train_steps, num_warmup_steps=warmup_steps)"
      ],
      "execution_count": null,
      "outputs": []
    },
    {
      "cell_type": "markdown",
      "metadata": {
        "id": "V2PRw94bV_cy"
      },
      "source": [
        "Compile the model."
      ]
    },
    {
      "cell_type": "code",
      "metadata": {
        "id": "dpXu5QfFWAoD"
      },
      "source": [
        "model.compile(optimizer=optimizer,\n",
        "              loss='categorical_crossentropy',\n",
        "              metrics=['accuracy'])"
      ],
      "execution_count": null,
      "outputs": []
    },
    {
      "cell_type": "code",
      "metadata": {
        "id": "K0-u2YKQWDAV",
        "colab": {
          "base_uri": "https://localhost:8080/",
          "height": 391
        },
        "outputId": "5989c074-e538-40d7-93eb-90ed8e406d4a"
      },
      "source": [
        "model.summary()"
      ],
      "execution_count": null,
      "outputs": [
        {
          "output_type": "stream",
          "text": [
            "Model: \"functional_1\"\n",
            "__________________________________________________________________________________________________\n",
            "Layer (type)                    Output Shape         Param #     Connected to                     \n",
            "==================================================================================================\n",
            "input_word_ids (InputLayer)     [(None, 240)]        0                                            \n",
            "__________________________________________________________________________________________________\n",
            "input_mask (InputLayer)         [(None, 240)]        0                                            \n",
            "__________________________________________________________________________________________________\n",
            "segment_ids (InputLayer)        [(None, 240)]        0                                            \n",
            "__________________________________________________________________________________________________\n",
            "keras_layer (KerasLayer)        [(None, 768), (None, 177853441   input_word_ids[0][0]             \n",
            "                                                                 input_mask[0][0]                 \n",
            "                                                                 segment_ids[0][0]                \n",
            "__________________________________________________________________________________________________\n",
            "dropout (Dropout)               (None, 768)          0           keras_layer[0][0]                \n",
            "__________________________________________________________________________________________________\n",
            "output (Dense)                  (None, 2)            1538        dropout[0][0]                    \n",
            "==================================================================================================\n",
            "Total params: 177,854,979\n",
            "Trainable params: 177,854,978\n",
            "Non-trainable params: 1\n",
            "__________________________________________________________________________________________________\n"
          ],
          "name": "stdout"
        }
      ]
    },
    {
      "cell_type": "markdown",
      "metadata": {
        "id": "h_jIRI2zWbtx"
      },
      "source": [
        "Запускаем процесс обучения"
      ]
    },
    {
      "cell_type": "code",
      "source": [
        "history = model.fit(X_train,\n",
        "                    dummy_y_train,\n",
        "                    epochs=epochs,\n",
        "                    batch_size=batch_size,\n",
        "                    validation_data=(X_test, dummy_y_test),\n",
        "                    verbose=1)"
      ],
      "metadata": {
        "colab": {
          "base_uri": "https://localhost:8080/",
          "height": 449
        },
        "id": "4sSziFuwapW_",
        "outputId": "05c1fe5a-36f9-48f1-f56d-2408cc315636"
      },
      "execution_count": null,
      "outputs": [
        {
          "output_type": "stream",
          "name": "stdout",
          "text": [
            "Epoch 1/3\n",
            "8087/8087 [==============================] - 8724s 1s/step - loss: 0.8972 - accuracy: 0.6674 - val_loss: 0.6426 - val_accuracy: 0.7932\n",
            "Epoch 2/3\n",
            " 521/8087 [>.............................] - ETA: 2:10:52 - loss: 0.7914 - accuracy: 0.6903"
          ]
        },
        {
          "output_type": "error",
          "ename": "KeyboardInterrupt",
          "evalue": "ignored",
          "traceback": [
            "\u001b[0;31m---------------------------------------------------------------------------\u001b[0m",
            "\u001b[0;31mKeyboardInterrupt\u001b[0m                         Traceback (most recent call last)",
            "\u001b[0;32m<ipython-input-38-8f5f650c9a3f>\u001b[0m in \u001b[0;36m<module>\u001b[0;34m\u001b[0m\n\u001b[0;32m----> 1\u001b[0;31m history = model.fit(X_train,\n\u001b[0m\u001b[1;32m      2\u001b[0m                     \u001b[0mdummy_y_train\u001b[0m\u001b[0;34m,\u001b[0m\u001b[0;34m\u001b[0m\u001b[0;34m\u001b[0m\u001b[0m\n\u001b[1;32m      3\u001b[0m                     \u001b[0mepochs\u001b[0m\u001b[0;34m=\u001b[0m\u001b[0mepochs\u001b[0m\u001b[0;34m,\u001b[0m\u001b[0;34m\u001b[0m\u001b[0;34m\u001b[0m\u001b[0m\n\u001b[1;32m      4\u001b[0m                     \u001b[0mbatch_size\u001b[0m\u001b[0;34m=\u001b[0m\u001b[0mbatch_size\u001b[0m\u001b[0;34m,\u001b[0m\u001b[0;34m\u001b[0m\u001b[0;34m\u001b[0m\u001b[0m\n\u001b[1;32m      5\u001b[0m                     \u001b[0mvalidation_data\u001b[0m\u001b[0;34m=\u001b[0m\u001b[0;34m(\u001b[0m\u001b[0mX_test\u001b[0m\u001b[0;34m,\u001b[0m \u001b[0mdummy_y_test\u001b[0m\u001b[0;34m)\u001b[0m\u001b[0;34m,\u001b[0m\u001b[0;34m\u001b[0m\u001b[0;34m\u001b[0m\u001b[0m\n",
            "\u001b[0;32m/usr/local/lib/python3.8/dist-packages/keras/utils/traceback_utils.py\u001b[0m in \u001b[0;36merror_handler\u001b[0;34m(*args, **kwargs)\u001b[0m\n\u001b[1;32m     62\u001b[0m     \u001b[0mfiltered_tb\u001b[0m \u001b[0;34m=\u001b[0m \u001b[0;32mNone\u001b[0m\u001b[0;34m\u001b[0m\u001b[0;34m\u001b[0m\u001b[0m\n\u001b[1;32m     63\u001b[0m     \u001b[0;32mtry\u001b[0m\u001b[0;34m:\u001b[0m\u001b[0;34m\u001b[0m\u001b[0;34m\u001b[0m\u001b[0m\n\u001b[0;32m---> 64\u001b[0;31m       \u001b[0;32mreturn\u001b[0m \u001b[0mfn\u001b[0m\u001b[0;34m(\u001b[0m\u001b[0;34m*\u001b[0m\u001b[0margs\u001b[0m\u001b[0;34m,\u001b[0m \u001b[0;34m**\u001b[0m\u001b[0mkwargs\u001b[0m\u001b[0;34m)\u001b[0m\u001b[0;34m\u001b[0m\u001b[0;34m\u001b[0m\u001b[0m\n\u001b[0m\u001b[1;32m     65\u001b[0m     \u001b[0;32mexcept\u001b[0m \u001b[0mException\u001b[0m \u001b[0;32mas\u001b[0m \u001b[0me\u001b[0m\u001b[0;34m:\u001b[0m  \u001b[0;31m# pylint: disable=broad-except\u001b[0m\u001b[0;34m\u001b[0m\u001b[0;34m\u001b[0m\u001b[0m\n\u001b[1;32m     66\u001b[0m       \u001b[0mfiltered_tb\u001b[0m \u001b[0;34m=\u001b[0m \u001b[0m_process_traceback_frames\u001b[0m\u001b[0;34m(\u001b[0m\u001b[0me\u001b[0m\u001b[0;34m.\u001b[0m\u001b[0m__traceback__\u001b[0m\u001b[0;34m)\u001b[0m\u001b[0;34m\u001b[0m\u001b[0;34m\u001b[0m\u001b[0m\n",
            "\u001b[0;32m/usr/local/lib/python3.8/dist-packages/keras/engine/training.py\u001b[0m in \u001b[0;36mfit\u001b[0;34m(self, x, y, batch_size, epochs, verbose, callbacks, validation_split, validation_data, shuffle, class_weight, sample_weight, initial_epoch, steps_per_epoch, validation_steps, validation_batch_size, validation_freq, max_queue_size, workers, use_multiprocessing)\u001b[0m\n\u001b[1;32m   1407\u001b[0m                 _r=1):\n\u001b[1;32m   1408\u001b[0m               \u001b[0mcallbacks\u001b[0m\u001b[0;34m.\u001b[0m\u001b[0mon_train_batch_begin\u001b[0m\u001b[0;34m(\u001b[0m\u001b[0mstep\u001b[0m\u001b[0;34m)\u001b[0m\u001b[0;34m\u001b[0m\u001b[0;34m\u001b[0m\u001b[0m\n\u001b[0;32m-> 1409\u001b[0;31m               \u001b[0mtmp_logs\u001b[0m \u001b[0;34m=\u001b[0m \u001b[0mself\u001b[0m\u001b[0;34m.\u001b[0m\u001b[0mtrain_function\u001b[0m\u001b[0;34m(\u001b[0m\u001b[0miterator\u001b[0m\u001b[0;34m)\u001b[0m\u001b[0;34m\u001b[0m\u001b[0;34m\u001b[0m\u001b[0m\n\u001b[0m\u001b[1;32m   1410\u001b[0m               \u001b[0;32mif\u001b[0m \u001b[0mdata_handler\u001b[0m\u001b[0;34m.\u001b[0m\u001b[0mshould_sync\u001b[0m\u001b[0;34m:\u001b[0m\u001b[0;34m\u001b[0m\u001b[0;34m\u001b[0m\u001b[0m\n\u001b[1;32m   1411\u001b[0m                 \u001b[0mcontext\u001b[0m\u001b[0;34m.\u001b[0m\u001b[0masync_wait\u001b[0m\u001b[0;34m(\u001b[0m\u001b[0;34m)\u001b[0m\u001b[0;34m\u001b[0m\u001b[0;34m\u001b[0m\u001b[0m\n",
            "\u001b[0;32m/usr/local/lib/python3.8/dist-packages/tensorflow/python/util/traceback_utils.py\u001b[0m in \u001b[0;36merror_handler\u001b[0;34m(*args, **kwargs)\u001b[0m\n\u001b[1;32m    148\u001b[0m     \u001b[0mfiltered_tb\u001b[0m \u001b[0;34m=\u001b[0m \u001b[0;32mNone\u001b[0m\u001b[0;34m\u001b[0m\u001b[0;34m\u001b[0m\u001b[0m\n\u001b[1;32m    149\u001b[0m     \u001b[0;32mtry\u001b[0m\u001b[0;34m:\u001b[0m\u001b[0;34m\u001b[0m\u001b[0;34m\u001b[0m\u001b[0m\n\u001b[0;32m--> 150\u001b[0;31m       \u001b[0;32mreturn\u001b[0m \u001b[0mfn\u001b[0m\u001b[0;34m(\u001b[0m\u001b[0;34m*\u001b[0m\u001b[0margs\u001b[0m\u001b[0;34m,\u001b[0m \u001b[0;34m**\u001b[0m\u001b[0mkwargs\u001b[0m\u001b[0;34m)\u001b[0m\u001b[0;34m\u001b[0m\u001b[0;34m\u001b[0m\u001b[0m\n\u001b[0m\u001b[1;32m    151\u001b[0m     \u001b[0;32mexcept\u001b[0m \u001b[0mException\u001b[0m \u001b[0;32mas\u001b[0m \u001b[0me\u001b[0m\u001b[0;34m:\u001b[0m\u001b[0;34m\u001b[0m\u001b[0;34m\u001b[0m\u001b[0m\n\u001b[1;32m    152\u001b[0m       \u001b[0mfiltered_tb\u001b[0m \u001b[0;34m=\u001b[0m \u001b[0m_process_traceback_frames\u001b[0m\u001b[0;34m(\u001b[0m\u001b[0me\u001b[0m\u001b[0;34m.\u001b[0m\u001b[0m__traceback__\u001b[0m\u001b[0;34m)\u001b[0m\u001b[0;34m\u001b[0m\u001b[0;34m\u001b[0m\u001b[0m\n",
            "\u001b[0;32m/usr/local/lib/python3.8/dist-packages/tensorflow/python/eager/def_function.py\u001b[0m in \u001b[0;36m__call__\u001b[0;34m(self, *args, **kwds)\u001b[0m\n\u001b[1;32m    913\u001b[0m \u001b[0;34m\u001b[0m\u001b[0m\n\u001b[1;32m    914\u001b[0m       \u001b[0;32mwith\u001b[0m \u001b[0mOptionalXlaContext\u001b[0m\u001b[0;34m(\u001b[0m\u001b[0mself\u001b[0m\u001b[0;34m.\u001b[0m\u001b[0m_jit_compile\u001b[0m\u001b[0;34m)\u001b[0m\u001b[0;34m:\u001b[0m\u001b[0;34m\u001b[0m\u001b[0;34m\u001b[0m\u001b[0m\n\u001b[0;32m--> 915\u001b[0;31m         \u001b[0mresult\u001b[0m \u001b[0;34m=\u001b[0m \u001b[0mself\u001b[0m\u001b[0;34m.\u001b[0m\u001b[0m_call\u001b[0m\u001b[0;34m(\u001b[0m\u001b[0;34m*\u001b[0m\u001b[0margs\u001b[0m\u001b[0;34m,\u001b[0m \u001b[0;34m**\u001b[0m\u001b[0mkwds\u001b[0m\u001b[0;34m)\u001b[0m\u001b[0;34m\u001b[0m\u001b[0;34m\u001b[0m\u001b[0m\n\u001b[0m\u001b[1;32m    916\u001b[0m \u001b[0;34m\u001b[0m\u001b[0m\n\u001b[1;32m    917\u001b[0m       \u001b[0mnew_tracing_count\u001b[0m \u001b[0;34m=\u001b[0m \u001b[0mself\u001b[0m\u001b[0;34m.\u001b[0m\u001b[0mexperimental_get_tracing_count\u001b[0m\u001b[0;34m(\u001b[0m\u001b[0;34m)\u001b[0m\u001b[0;34m\u001b[0m\u001b[0;34m\u001b[0m\u001b[0m\n",
            "\u001b[0;32m/usr/local/lib/python3.8/dist-packages/tensorflow/python/eager/def_function.py\u001b[0m in \u001b[0;36m_call\u001b[0;34m(self, *args, **kwds)\u001b[0m\n\u001b[1;32m    945\u001b[0m       \u001b[0;31m# In this case we have created variables on the first call, so we run the\u001b[0m\u001b[0;34m\u001b[0m\u001b[0;34m\u001b[0m\u001b[0;34m\u001b[0m\u001b[0m\n\u001b[1;32m    946\u001b[0m       \u001b[0;31m# defunned version which is guaranteed to never create variables.\u001b[0m\u001b[0;34m\u001b[0m\u001b[0;34m\u001b[0m\u001b[0;34m\u001b[0m\u001b[0m\n\u001b[0;32m--> 947\u001b[0;31m       \u001b[0;32mreturn\u001b[0m \u001b[0mself\u001b[0m\u001b[0;34m.\u001b[0m\u001b[0m_stateless_fn\u001b[0m\u001b[0;34m(\u001b[0m\u001b[0;34m*\u001b[0m\u001b[0margs\u001b[0m\u001b[0;34m,\u001b[0m \u001b[0;34m**\u001b[0m\u001b[0mkwds\u001b[0m\u001b[0;34m)\u001b[0m  \u001b[0;31m# pylint: disable=not-callable\u001b[0m\u001b[0;34m\u001b[0m\u001b[0;34m\u001b[0m\u001b[0m\n\u001b[0m\u001b[1;32m    948\u001b[0m     \u001b[0;32melif\u001b[0m \u001b[0mself\u001b[0m\u001b[0;34m.\u001b[0m\u001b[0m_stateful_fn\u001b[0m \u001b[0;32mis\u001b[0m \u001b[0;32mnot\u001b[0m \u001b[0;32mNone\u001b[0m\u001b[0;34m:\u001b[0m\u001b[0;34m\u001b[0m\u001b[0;34m\u001b[0m\u001b[0m\n\u001b[1;32m    949\u001b[0m       \u001b[0;31m# Release the lock early so that multiple threads can perform the call\u001b[0m\u001b[0;34m\u001b[0m\u001b[0;34m\u001b[0m\u001b[0;34m\u001b[0m\u001b[0m\n",
            "\u001b[0;32m/usr/local/lib/python3.8/dist-packages/tensorflow/python/eager/function.py\u001b[0m in \u001b[0;36m__call__\u001b[0;34m(self, *args, **kwargs)\u001b[0m\n\u001b[1;32m   2451\u001b[0m       (graph_function,\n\u001b[1;32m   2452\u001b[0m        filtered_flat_args) = self._maybe_define_function(args, kwargs)\n\u001b[0;32m-> 2453\u001b[0;31m     return graph_function._call_flat(\n\u001b[0m\u001b[1;32m   2454\u001b[0m         filtered_flat_args, captured_inputs=graph_function.captured_inputs)  # pylint: disable=protected-access\n\u001b[1;32m   2455\u001b[0m \u001b[0;34m\u001b[0m\u001b[0m\n",
            "\u001b[0;32m/usr/local/lib/python3.8/dist-packages/tensorflow/python/eager/function.py\u001b[0m in \u001b[0;36m_call_flat\u001b[0;34m(self, args, captured_inputs, cancellation_manager)\u001b[0m\n\u001b[1;32m   1858\u001b[0m         and executing_eagerly):\n\u001b[1;32m   1859\u001b[0m       \u001b[0;31m# No tape is watching; skip to running the function.\u001b[0m\u001b[0;34m\u001b[0m\u001b[0;34m\u001b[0m\u001b[0;34m\u001b[0m\u001b[0m\n\u001b[0;32m-> 1860\u001b[0;31m       return self._build_call_outputs(self._inference_function.call(\n\u001b[0m\u001b[1;32m   1861\u001b[0m           ctx, args, cancellation_manager=cancellation_manager))\n\u001b[1;32m   1862\u001b[0m     forward_backward = self._select_forward_and_backward_functions(\n",
            "\u001b[0;32m/usr/local/lib/python3.8/dist-packages/tensorflow/python/eager/function.py\u001b[0m in \u001b[0;36mcall\u001b[0;34m(self, ctx, args, cancellation_manager)\u001b[0m\n\u001b[1;32m    495\u001b[0m       \u001b[0;32mwith\u001b[0m \u001b[0m_InterpolateFunctionError\u001b[0m\u001b[0;34m(\u001b[0m\u001b[0mself\u001b[0m\u001b[0;34m)\u001b[0m\u001b[0;34m:\u001b[0m\u001b[0;34m\u001b[0m\u001b[0;34m\u001b[0m\u001b[0m\n\u001b[1;32m    496\u001b[0m         \u001b[0;32mif\u001b[0m \u001b[0mcancellation_manager\u001b[0m \u001b[0;32mis\u001b[0m \u001b[0;32mNone\u001b[0m\u001b[0;34m:\u001b[0m\u001b[0;34m\u001b[0m\u001b[0;34m\u001b[0m\u001b[0m\n\u001b[0;32m--> 497\u001b[0;31m           outputs = execute.execute(\n\u001b[0m\u001b[1;32m    498\u001b[0m               \u001b[0mstr\u001b[0m\u001b[0;34m(\u001b[0m\u001b[0mself\u001b[0m\u001b[0;34m.\u001b[0m\u001b[0msignature\u001b[0m\u001b[0;34m.\u001b[0m\u001b[0mname\u001b[0m\u001b[0;34m)\u001b[0m\u001b[0;34m,\u001b[0m\u001b[0;34m\u001b[0m\u001b[0;34m\u001b[0m\u001b[0m\n\u001b[1;32m    499\u001b[0m               \u001b[0mnum_outputs\u001b[0m\u001b[0;34m=\u001b[0m\u001b[0mself\u001b[0m\u001b[0;34m.\u001b[0m\u001b[0m_num_outputs\u001b[0m\u001b[0;34m,\u001b[0m\u001b[0;34m\u001b[0m\u001b[0;34m\u001b[0m\u001b[0m\n",
            "\u001b[0;32m/usr/local/lib/python3.8/dist-packages/tensorflow/python/eager/execute.py\u001b[0m in \u001b[0;36mquick_execute\u001b[0;34m(op_name, num_outputs, inputs, attrs, ctx, name)\u001b[0m\n\u001b[1;32m     52\u001b[0m   \u001b[0;32mtry\u001b[0m\u001b[0;34m:\u001b[0m\u001b[0;34m\u001b[0m\u001b[0;34m\u001b[0m\u001b[0m\n\u001b[1;32m     53\u001b[0m     \u001b[0mctx\u001b[0m\u001b[0;34m.\u001b[0m\u001b[0mensure_initialized\u001b[0m\u001b[0;34m(\u001b[0m\u001b[0;34m)\u001b[0m\u001b[0;34m\u001b[0m\u001b[0;34m\u001b[0m\u001b[0m\n\u001b[0;32m---> 54\u001b[0;31m     tensors = pywrap_tfe.TFE_Py_Execute(ctx._handle, device_name, op_name,\n\u001b[0m\u001b[1;32m     55\u001b[0m                                         inputs, attrs, num_outputs)\n\u001b[1;32m     56\u001b[0m   \u001b[0;32mexcept\u001b[0m \u001b[0mcore\u001b[0m\u001b[0;34m.\u001b[0m\u001b[0m_NotOkStatusException\u001b[0m \u001b[0;32mas\u001b[0m \u001b[0me\u001b[0m\u001b[0;34m:\u001b[0m\u001b[0;34m\u001b[0m\u001b[0;34m\u001b[0m\u001b[0m\n",
            "\u001b[0;31mKeyboardInterrupt\u001b[0m: "
          ]
        }
      ]
    },
    {
      "cell_type": "markdown",
      "metadata": {
        "id": "yVMCMpQJXXdM"
      },
      "source": [
        "Evaluation (очень долгий для берта, лучше не запускать)"
      ]
    },
    {
      "cell_type": "code",
      "source": [
        "loss, accuracy = model.evaluate(X_train, dummy_y_train, verbose=False)\n",
        "print(\"Training Accuracy: {:.4f}\".format(accuracy))\n",
        "loss, accuracy = model.evaluate(X_test, dummy_y_test, verbose=False)\n",
        "print(\"Testing Accuracy:  {:.4f}\".format(accuracy))"
      ],
      "metadata": {
        "id": "cSlyD3yR-nkG"
      },
      "execution_count": null,
      "outputs": []
    },
    {
      "cell_type": "markdown",
      "metadata": {
        "id": "QeIFeUsyXVwQ"
      },
      "source": [
        "Визуализация качества по эпохам (у меня была всего одна, поэтому визуализировать две точки имеет не очень много смысла)"
      ]
    },
    {
      "cell_type": "code",
      "metadata": {
        "id": "n1jJDOPzXcEH"
      },
      "source": [
        "plt.style.use('ggplot')\n",
        "\n",
        "def plot_history(history):\n",
        "    acc = history.history['accuracy']\n",
        "    val_acc = history.history['val_accuracy']\n",
        "    loss = history.history['loss']\n",
        "    val_loss = history.history['val_loss']\n",
        "    x = range(1, len(acc) + 1)\n",
        "\n",
        "    plt.figure(figsize=(12, 5))\n",
        "    plt.subplot(1, 2, 1)\n",
        "    plt.plot(x, acc, 'b', label='Training acc')\n",
        "    plt.plot(x, val_acc, 'r', label='Validation acc')\n",
        "    plt.title('Training and validation accuracy')\n",
        "    plt.legend()\n",
        "    plt.subplot(1, 2, 2)\n",
        "    plt.plot(x, loss, 'b', label='Training loss')\n",
        "    plt.plot(x, val_loss, 'r', label='Validation loss')\n",
        "    plt.title('Training and validation loss')\n",
        "    plt.legend()"
      ],
      "execution_count": null,
      "outputs": []
    },
    {
      "cell_type": "code",
      "source": [
        "plot_history(history)"
      ],
      "metadata": {
        "id": "aNqd9QhxZd58"
      },
      "execution_count": null,
      "outputs": []
    },
    {
      "cell_type": "markdown",
      "metadata": {
        "id": "r-eqXo5f3SJc"
      },
      "source": [
        "## 3.2.Сохранение обученной модели"
      ]
    },
    {
      "cell_type": "markdown",
      "metadata": {
        "id": "ART6DOetXit1"
      },
      "source": [
        "Сохраним модель для переиспользования."
      ]
    },
    {
      "cell_type": "code",
      "metadata": {
        "id": "nInJE2SrXfS3"
      },
      "source": [
        "model.compile(optimizer='adam',\n",
        "              loss='categorical_crossentropy',\n",
        "              metrics=['accuracy'])"
      ],
      "execution_count": null,
      "outputs": []
    },
    {
      "cell_type": "code",
      "metadata": {
        "id": "eGLOM58PX4Rg",
        "colab": {
          "base_uri": "https://localhost:8080/"
        },
        "outputId": "f28d1170-4be0-4d97-e742-0ebfa95ae54b"
      },
      "source": [
        "model_fname = 'reviews_BERT'\n",
        "my_wd = '/content/drive/MyDrive/Colab Notebooks/NLP/bootcamp_tf_attempt/'\n",
        "\n",
        "model.save(os.path.join(my_wd, model_fname))"
      ],
      "execution_count": null,
      "outputs": [
        {
          "output_type": "stream",
          "name": "stderr",
          "text": [
            "WARNING:absl:Found untraced functions such as restored_function_body, restored_function_body, restored_function_body, restored_function_body, restored_function_body while saving (showing 5 of 378). These functions will not be directly callable after loading.\n"
          ]
        }
      ]
    },
    {
      "cell_type": "markdown",
      "metadata": {
        "id": "jl6wQ47qah-I"
      },
      "source": [
        "### Валидация сохраненной модели"
      ]
    },
    {
      "cell_type": "markdown",
      "metadata": {
        "id": "MCH6r6NnakdW"
      },
      "source": [
        "Проверим, что все сохранилось корректно"
      ]
    },
    {
      "cell_type": "code",
      "metadata": {
        "id": "RUc7jKm6acec"
      },
      "source": [
        "model_fname = 'reviews_BERT'\n",
        "my_wd = '/content/drive/MyDrive/Colab Notebooks/NLP/bootcamp_tf_attempt/'\n",
        "\n",
        "new_model = tf.keras.models.load_model(os.path.join(my_wd, model_fname))"
      ],
      "execution_count": null,
      "outputs": []
    },
    {
      "cell_type": "code",
      "source": [
        "loss, accuracy = new_model.evaluate(X_test, dummy_y_test, verbose=False)\n",
        "print(\"Testing Accuracy:  {:.4f}\".format(accuracy))"
      ],
      "metadata": {
        "colab": {
          "base_uri": "https://localhost:8080/"
        },
        "id": "tuiT03I2_cFN",
        "outputId": "5e6f63a1-6809-438f-cfef-398eba2ebf39"
      },
      "execution_count": null,
      "outputs": [
        {
          "output_type": "stream",
          "name": "stdout",
          "text": [
            "Testing Accuracy:  0.7862\n"
          ]
        }
      ]
    },
    {
      "cell_type": "code",
      "metadata": {
        "id": "b41aPYSnayV_",
        "colab": {
          "base_uri": "https://localhost:8080/",
          "height": 394
        },
        "outputId": "9c9a878b-7fb8-4d2b-8ccc-c224431b1283"
      },
      "source": [
        "new_model.summary()"
      ],
      "execution_count": null,
      "outputs": [
        {
          "output_type": "stream",
          "text": [
            "Model: \"functional_1\"\n",
            "__________________________________________________________________________________________________\n",
            "Layer (type)                    Output Shape         Param #     Connected to                     \n",
            "==================================================================================================\n",
            "input_word_ids (InputLayer)     [(None, 240)]        0                                            \n",
            "__________________________________________________________________________________________________\n",
            "input_mask (InputLayer)         [(None, 240)]        0                                            \n",
            "__________________________________________________________________________________________________\n",
            "segment_ids (InputLayer)        [(None, 240)]        0                                            \n",
            "__________________________________________________________________________________________________\n",
            "keras_layer (KerasLayer)        [(None, 768), (None, 177853441   input_word_ids[0][0]             \n",
            "                                                                 input_mask[0][0]                 \n",
            "                                                                 segment_ids[0][0]                \n",
            "__________________________________________________________________________________________________\n",
            "dropout (Dropout)               (None, 768)          0           keras_layer[0][0]                \n",
            "__________________________________________________________________________________________________\n",
            "output (Dense)                  (None, 2)            1538        dropout[0][0]                    \n",
            "==================================================================================================\n",
            "Total params: 177,854,979\n",
            "Trainable params: 177,854,978\n",
            "Non-trainable params: 1\n",
            "__________________________________________________________________________________________________\n"
          ],
          "name": "stdout"
        }
      ]
    },
    {
      "cell_type": "markdown",
      "metadata": {
        "id": "UResPCMRa2-Q"
      },
      "source": [
        "Лучше так же перепроверить tokenizer."
      ]
    },
    {
      "cell_type": "code",
      "metadata": {
        "id": "9BOIJwPAazvD"
      },
      "source": [
        "tokenizerSaved = bert.tokenization.FullTokenizer(\n",
        "    vocab_file=os.path.join(my_wd, model_fname, 'assets/vocab.txt'),\n",
        "    do_lower_case=False)"
      ],
      "execution_count": null,
      "outputs": []
    },
    {
      "cell_type": "markdown",
      "metadata": {
        "id": "u8_Z4Mxwbk10"
      },
      "source": [
        "Вроде, все в порядке"
      ]
    },
    {
      "cell_type": "code",
      "metadata": {
        "id": "iE3HggMgbkVO"
      },
      "source": [
        "tokenizedREV = tokenizerSaved.tokenize(x_train[0])\n",
        "for i in tokenizedREV:\n",
        "  print(i, tokenizerSaved.convert_tokens_to_ids([i]))"
      ],
      "execution_count": null,
      "outputs": []
    },
    {
      "cell_type": "markdown",
      "metadata": {
        "id": "WMhBzgkd5zAM"
      },
      "source": [
        "## 3.3. Вторая итерация обучения"
      ]
    },
    {
      "cell_type": "markdown",
      "metadata": {
        "id": "UotwRyBE6NP0"
      },
      "source": [
        "### Данные"
      ]
    },
    {
      "cell_type": "markdown",
      "metadata": {
        "id": "8TkMh3rG59LK"
      },
      "source": [
        "Возьмем трейн и валидационную выборки с другим сидом, чтобы постараться повысить качество"
      ]
    },
    {
      "cell_type": "code",
      "source": [
        "x_train2, x_test2, y_train2, y_test2 = train_test_split(train_df_short.feeds, train_df_short.grades,\n",
        "                                                        train_size=60000, test_size=5000, \n",
        "                                                        stratify=train_df_short.grades, random_state=15)\n",
        "# df_val, df_test = train_test_split(df_test, test_size=0.5, stratify=df_test.grades, random_state=RANDOM_SEED)"
      ],
      "metadata": {
        "id": "Q0_bcl4ILmVR"
      },
      "execution_count": null,
      "outputs": []
    },
    {
      "cell_type": "code",
      "source": [
        "x_train2.shape"
      ],
      "metadata": {
        "colab": {
          "base_uri": "https://localhost:8080/"
        },
        "outputId": "cfff1ab0-2c13-437d-a77a-589fea9bad4f",
        "id": "bcnbV9YQLmVS"
      },
      "execution_count": null,
      "outputs": [
        {
          "output_type": "execute_result",
          "data": {
            "text/plain": [
              "(60000,)"
            ]
          },
          "metadata": {},
          "execution_count": 29
        }
      ]
    },
    {
      "cell_type": "code",
      "source": [
        "y_train2.value_counts(normalize=True)"
      ],
      "metadata": {
        "colab": {
          "base_uri": "https://localhost:8080/"
        },
        "outputId": "c4e9ad3a-7e6c-4821-8724-5d394539887e",
        "id": "3rWhEdHjLmVU"
      },
      "execution_count": null,
      "outputs": [
        {
          "output_type": "execute_result",
          "data": {
            "text/plain": [
              "0    0.539900\n",
              "4    0.277117\n",
              "1    0.107233\n",
              "2    0.046250\n",
              "3    0.029500\n",
              "Name: grades, dtype: float64"
            ]
          },
          "metadata": {},
          "execution_count": 30
        }
      ]
    },
    {
      "cell_type": "code",
      "source": [
        "np.random.seed(42)\n",
        "idx_drop = np.random.choice(y_train2[(y_train2 == 0)].index, size=int(y_train2[(y_train2 == 0)].shape[0] * 0.5), replace=False)\n",
        "idx_drop1 = np.random.choice(y_train2[(y_train2 == 4)].index, size=int(y_train2[(y_train2 == 4)].shape[0] * 0.3), replace=False)\n",
        "y_train2 = y_train2.drop(index=np.hstack((idx_drop, idx_drop1)))\n",
        "x_train2 = x_train2.drop(index=np.hstack((idx_drop, idx_drop1)))"
      ],
      "metadata": {
        "id": "qQP8-EBvLmVU"
      },
      "execution_count": null,
      "outputs": []
    },
    {
      "cell_type": "code",
      "source": [
        "y_train2.value_counts(normalize=True)"
      ],
      "metadata": {
        "colab": {
          "base_uri": "https://localhost:8080/"
        },
        "outputId": "eb1347f1-461a-4093-8088-6c37258a6f93",
        "id": "5Qk0OLrSLmVV"
      },
      "execution_count": null,
      "outputs": [
        {
          "output_type": "execute_result",
          "data": {
            "text/plain": [
              "0    0.417287\n",
              "4    0.299858\n",
              "1    0.165761\n",
              "2    0.071493\n",
              "3    0.045601\n",
              "Name: grades, dtype: float64"
            ]
          },
          "metadata": {},
          "execution_count": 32
        }
      ]
    },
    {
      "cell_type": "code",
      "source": [
        "x_train2.shape"
      ],
      "metadata": {
        "colab": {
          "base_uri": "https://localhost:8080/"
        },
        "outputId": "ca73e097-00cb-4c2e-ac54-0054a70e7f59",
        "id": "uTd49tAnLmVW"
      },
      "execution_count": null,
      "outputs": [
        {
          "output_type": "execute_result",
          "data": {
            "text/plain": [
              "(38815,)"
            ]
          },
          "metadata": {},
          "execution_count": 33
        }
      ]
    },
    {
      "cell_type": "markdown",
      "metadata": {
        "id": "vAKNqpPh7c2M"
      },
      "source": [
        "#### Label Encoding"
      ]
    },
    {
      "cell_type": "code",
      "metadata": {
        "id": "teAtzXqt7ki-"
      },
      "source": [
        "encoder_fname = 'review_classes.npy'\n",
        "my_wd = '/content/drive/MyDrive/Colab Notebooks/NLP/bootcamp_tf_attempt/'\n",
        "\n",
        "encoder = LabelEncoder()\n",
        "encoder.classes_ = np.load(os.path.join(my_wd, encoder_fname), allow_pickle=True)\n",
        "\n",
        "encoded_Y_test2 = encoder.transform(y_test2)\n",
        "encoded_Y_train2 = encoder.transform(y_train2)\n",
        "\n",
        "# convert integers to dummy variables (i.e. one hot encoded)\n",
        "dummy_y_test2 = np_utils.to_categorical(encoded_Y_test2)\n",
        "dummy_y_train2 = np_utils.to_categorical(encoded_Y_train2)"
      ],
      "execution_count": null,
      "outputs": []
    },
    {
      "cell_type": "markdown",
      "metadata": {
        "id": "5c_9kIrI8cDz"
      },
      "source": [
        "#### Input preprocessing\n",
        "Выполним ту же предобработку, что и раньше"
      ]
    },
    {
      "cell_type": "code",
      "metadata": {
        "id": "lRDJu1jJ8mlF"
      },
      "source": [
        "model_fname = 'reviews_BERT'\n",
        "my_wd = '/content/drive/MyDrive/Colab Notebooks/NLP/bootcamp_tf_attempt/'\n",
        "\n",
        "tokenizerSaved = bert.tokenization.FullTokenizer(\n",
        "    vocab_file=os.path.join(my_wd, model_fname, 'assets/vocab.txt'),\n",
        "    do_lower_case=False)"
      ],
      "execution_count": null,
      "outputs": []
    },
    {
      "cell_type": "code",
      "metadata": {
        "id": "uiE8pkuqB6k_"
      },
      "source": [
        "X_train2 = bert_encode(x_train2, tokenizerSaved, max_seq_length)\n",
        "X_test2 = bert_encode(x_test2, tokenizerSaved, max_seq_length)"
      ],
      "execution_count": null,
      "outputs": []
    },
    {
      "cell_type": "markdown",
      "metadata": {
        "id": "dXHn00cwDWac"
      },
      "source": [
        "### Training"
      ]
    },
    {
      "cell_type": "code",
      "metadata": {
        "id": "oIcOCiswDN9P",
        "colab": {
          "base_uri": "https://localhost:8080/"
        },
        "outputId": "70fb06b9-e001-44d1-b9a7-cbd301d234b0"
      },
      "source": [
        "model_fname = 'reviews_BERT'\n",
        "my_wd = '/content/drive/MyDrive/Colab Notebooks/NLP/bootcamp_tf_attempt/'\n",
        "\n",
        "new_model = tf.keras.models.load_model(os.path.join(my_wd, model_fname))\n",
        "new_model.summary()"
      ],
      "execution_count": null,
      "outputs": [
        {
          "output_type": "stream",
          "name": "stdout",
          "text": [
            "Model: \"model\"\n",
            "__________________________________________________________________________________________________\n",
            " Layer (type)                   Output Shape         Param #     Connected to                     \n",
            "==================================================================================================\n",
            " input_word_ids (InputLayer)    [(None, 512)]        0           []                               \n",
            "                                                                                                  \n",
            " input_mask (InputLayer)        [(None, 512)]        0           []                               \n",
            "                                                                                                  \n",
            " segment_ids (InputLayer)       [(None, 512)]        0           []                               \n",
            "                                                                                                  \n",
            " keras_layer (KerasLayer)       [(None, 768),        177853441   ['input_word_ids[0][0]',         \n",
            "                                 (None, 512, 768)]                'input_mask[0][0]',             \n",
            "                                                                  'segment_ids[0][0]']            \n",
            "                                                                                                  \n",
            " dropout (Dropout)              (None, 768)          0           ['keras_layer[0][0]']            \n",
            "                                                                                                  \n",
            " output (Dense)                 (None, 5)            3845        ['dropout[0][0]']                \n",
            "                                                                                                  \n",
            "==================================================================================================\n",
            "Total params: 177,857,286\n",
            "Trainable params: 177,857,285\n",
            "Non-trainable params: 1\n",
            "__________________________________________________________________________________________________\n"
          ]
        }
      ]
    },
    {
      "cell_type": "code",
      "metadata": {
        "id": "yapkpJpXIFpw",
        "colab": {
          "base_uri": "https://localhost:8080/",
          "height": 220
        },
        "outputId": "bb17ca99-b780-4321-bf20-7db4f6794e3c"
      },
      "source": [
        "tf.keras.utils.plot_model(new_model, show_shapes=True, dpi=48)"
      ],
      "execution_count": null,
      "outputs": [
        {
          "output_type": "execute_result",
          "data": {
            "image/png": "[encoded data removed]",
            "text/plain": [
              "<IPython.core.display.Image object>"
            ]
          },
          "metadata": {
            "tags": []
          },
          "execution_count": 67
        }
      ]
    },
    {
      "cell_type": "code",
      "metadata": {
        "id": "1n4i6qwPDtlM",
        "colab": {
          "base_uri": "https://localhost:8080/",
          "height": 51
        },
        "outputId": "6f5d9906-fe7c-4168-ab40-7889e422b074"
      },
      "source": [
        "loss, accuracy = new_model.evaluate(X_test, dummy_y_test, verbose=False)  # OLD\n",
        "print(\"Old testing Accuracy:  {:.4f}\".format(accuracy))\n",
        "\n",
        "loss, accuracy = new_model.evaluate(X_test2, dummy_y_test2, verbose=False)  # NEW\n",
        "print(\"New testing Accuracy:  {:.4f}\".format(accuracy))"
      ],
      "execution_count": null,
      "outputs": [
        {
          "output_type": "stream",
          "text": [
            "Old testing Accuracy:  0.8291\n",
            "New testing Accuracy:  0.8367\n"
          ],
          "name": "stdout"
        }
      ]
    },
    {
      "cell_type": "code",
      "metadata": {
        "id": "TfgAOC5KERoI"
      },
      "source": [
        "epochs = 3\n",
        "batch_size = 4  # select based on your GPU resources\n",
        "eval_batch_size = batch_size\n",
        "\n",
        "train_data_size = len(dummy_y_train2)\n",
        "steps_per_epoch = int(train_data_size / batch_size)\n",
        "num_train_steps = steps_per_epoch * epochs\n",
        "warmup_steps = int(epochs * train_data_size * 0.1 / batch_size)"
      ],
      "execution_count": null,
      "outputs": []
    },
    {
      "cell_type": "code",
      "metadata": {
        "id": "mIKL2_TXHKNP"
      },
      "source": [
        "optimizer = nlp.optimization.create_optimizer(\n",
        "    1e-7, num_train_steps=num_train_steps, num_warmup_steps=warmup_steps)"
      ],
      "execution_count": null,
      "outputs": []
    },
    {
      "cell_type": "markdown",
      "metadata": {
        "id": "eylQBZg5HpC3"
      },
      "source": [
        "Let's compile our model."
      ]
    },
    {
      "cell_type": "code",
      "metadata": {
        "id": "up0osQrxHntP"
      },
      "source": [
        "new_model.compile(optimizer=optimizer,\n",
        "              loss='categorical_crossentropy',\n",
        "              metrics=['accuracy'])"
      ],
      "execution_count": null,
      "outputs": []
    },
    {
      "cell_type": "markdown",
      "metadata": {
        "id": "2YxVDhFMH86s"
      },
      "source": [
        "And now finally we can train again and see if that helps us achieve a better accuracy."
      ]
    },
    {
      "cell_type": "code",
      "source": [
        "history2 = new_model.fit(X_train2,  # using new training set\n",
        "                         dummy_y_train2,  # using new training set\n",
        "                         epochs=epochs,\n",
        "                         batch_size=batch_size,\n",
        "                         validation_data=(X_test, dummy_y_test),  # using old test dataset\n",
        "                         verbose=1)"
      ],
      "metadata": {
        "colab": {
          "base_uri": "https://localhost:8080/",
          "height": 415
        },
        "id": "FSwenwHAf83l",
        "outputId": "e0f93ac8-a003-4523-e8a6-a71100319b4b"
      },
      "execution_count": null,
      "outputs": [
        {
          "output_type": "stream",
          "name": "stdout",
          "text": [
            "Epoch 1/3\n",
            "4670/9704 [=============>................] - ETA: 48:18 - loss: 0.7796 - accuracy: 0.7011"
          ]
        },
        {
          "output_type": "error",
          "ename": "KeyboardInterrupt",
          "evalue": "ignored",
          "traceback": [
            "\u001b[0;31m---------------------------------------------------------------------------\u001b[0m",
            "\u001b[0;31mKeyboardInterrupt\u001b[0m                         Traceback (most recent call last)",
            "\u001b[0;32m<ipython-input-54-6dbaab43a06d>\u001b[0m in \u001b[0;36m<module>\u001b[0;34m\u001b[0m\n\u001b[0;32m----> 1\u001b[0;31m history2 = new_model.fit(X_train2,  # using new training set\n\u001b[0m\u001b[1;32m      2\u001b[0m                          \u001b[0mdummy_y_train2\u001b[0m\u001b[0;34m,\u001b[0m  \u001b[0;31m# using new training set\u001b[0m\u001b[0;34m\u001b[0m\u001b[0;34m\u001b[0m\u001b[0m\n\u001b[1;32m      3\u001b[0m                          \u001b[0mepochs\u001b[0m\u001b[0;34m=\u001b[0m\u001b[0mepochs\u001b[0m\u001b[0;34m,\u001b[0m\u001b[0;34m\u001b[0m\u001b[0;34m\u001b[0m\u001b[0m\n\u001b[1;32m      4\u001b[0m                          \u001b[0mbatch_size\u001b[0m\u001b[0;34m=\u001b[0m\u001b[0mbatch_size\u001b[0m\u001b[0;34m,\u001b[0m\u001b[0;34m\u001b[0m\u001b[0;34m\u001b[0m\u001b[0m\n\u001b[1;32m      5\u001b[0m                          \u001b[0mvalidation_data\u001b[0m\u001b[0;34m=\u001b[0m\u001b[0;34m(\u001b[0m\u001b[0mX_test\u001b[0m\u001b[0;34m,\u001b[0m \u001b[0mdummy_y_test\u001b[0m\u001b[0;34m)\u001b[0m\u001b[0;34m,\u001b[0m  \u001b[0;31m# using old test dataset\u001b[0m\u001b[0;34m\u001b[0m\u001b[0;34m\u001b[0m\u001b[0m\n",
            "\u001b[0;32m/usr/local/lib/python3.8/dist-packages/keras/utils/traceback_utils.py\u001b[0m in \u001b[0;36merror_handler\u001b[0;34m(*args, **kwargs)\u001b[0m\n\u001b[1;32m     62\u001b[0m     \u001b[0mfiltered_tb\u001b[0m \u001b[0;34m=\u001b[0m \u001b[0;32mNone\u001b[0m\u001b[0;34m\u001b[0m\u001b[0;34m\u001b[0m\u001b[0m\n\u001b[1;32m     63\u001b[0m     \u001b[0;32mtry\u001b[0m\u001b[0;34m:\u001b[0m\u001b[0;34m\u001b[0m\u001b[0;34m\u001b[0m\u001b[0m\n\u001b[0;32m---> 64\u001b[0;31m       \u001b[0;32mreturn\u001b[0m \u001b[0mfn\u001b[0m\u001b[0;34m(\u001b[0m\u001b[0;34m*\u001b[0m\u001b[0margs\u001b[0m\u001b[0;34m,\u001b[0m \u001b[0;34m**\u001b[0m\u001b[0mkwargs\u001b[0m\u001b[0;34m)\u001b[0m\u001b[0;34m\u001b[0m\u001b[0;34m\u001b[0m\u001b[0m\n\u001b[0m\u001b[1;32m     65\u001b[0m     \u001b[0;32mexcept\u001b[0m \u001b[0mException\u001b[0m \u001b[0;32mas\u001b[0m \u001b[0me\u001b[0m\u001b[0;34m:\u001b[0m  \u001b[0;31m# pylint: disable=broad-except\u001b[0m\u001b[0;34m\u001b[0m\u001b[0;34m\u001b[0m\u001b[0m\n\u001b[1;32m     66\u001b[0m       \u001b[0mfiltered_tb\u001b[0m \u001b[0;34m=\u001b[0m \u001b[0m_process_traceback_frames\u001b[0m\u001b[0;34m(\u001b[0m\u001b[0me\u001b[0m\u001b[0;34m.\u001b[0m\u001b[0m__traceback__\u001b[0m\u001b[0;34m)\u001b[0m\u001b[0;34m\u001b[0m\u001b[0;34m\u001b[0m\u001b[0m\n",
            "\u001b[0;32m/usr/local/lib/python3.8/dist-packages/keras/engine/training.py\u001b[0m in \u001b[0;36mfit\u001b[0;34m(self, x, y, batch_size, epochs, verbose, callbacks, validation_split, validation_data, shuffle, class_weight, sample_weight, initial_epoch, steps_per_epoch, validation_steps, validation_batch_size, validation_freq, max_queue_size, workers, use_multiprocessing)\u001b[0m\n\u001b[1;32m   1407\u001b[0m                 _r=1):\n\u001b[1;32m   1408\u001b[0m               \u001b[0mcallbacks\u001b[0m\u001b[0;34m.\u001b[0m\u001b[0mon_train_batch_begin\u001b[0m\u001b[0;34m(\u001b[0m\u001b[0mstep\u001b[0m\u001b[0;34m)\u001b[0m\u001b[0;34m\u001b[0m\u001b[0;34m\u001b[0m\u001b[0m\n\u001b[0;32m-> 1409\u001b[0;31m               \u001b[0mtmp_logs\u001b[0m \u001b[0;34m=\u001b[0m \u001b[0mself\u001b[0m\u001b[0;34m.\u001b[0m\u001b[0mtrain_function\u001b[0m\u001b[0;34m(\u001b[0m\u001b[0miterator\u001b[0m\u001b[0;34m)\u001b[0m\u001b[0;34m\u001b[0m\u001b[0;34m\u001b[0m\u001b[0m\n\u001b[0m\u001b[1;32m   1410\u001b[0m               \u001b[0;32mif\u001b[0m \u001b[0mdata_handler\u001b[0m\u001b[0;34m.\u001b[0m\u001b[0mshould_sync\u001b[0m\u001b[0;34m:\u001b[0m\u001b[0;34m\u001b[0m\u001b[0;34m\u001b[0m\u001b[0m\n\u001b[1;32m   1411\u001b[0m                 \u001b[0mcontext\u001b[0m\u001b[0;34m.\u001b[0m\u001b[0masync_wait\u001b[0m\u001b[0;34m(\u001b[0m\u001b[0;34m)\u001b[0m\u001b[0;34m\u001b[0m\u001b[0;34m\u001b[0m\u001b[0m\n",
            "\u001b[0;32m/usr/local/lib/python3.8/dist-packages/tensorflow/python/util/traceback_utils.py\u001b[0m in \u001b[0;36merror_handler\u001b[0;34m(*args, **kwargs)\u001b[0m\n\u001b[1;32m    148\u001b[0m     \u001b[0mfiltered_tb\u001b[0m \u001b[0;34m=\u001b[0m \u001b[0;32mNone\u001b[0m\u001b[0;34m\u001b[0m\u001b[0;34m\u001b[0m\u001b[0m\n\u001b[1;32m    149\u001b[0m     \u001b[0;32mtry\u001b[0m\u001b[0;34m:\u001b[0m\u001b[0;34m\u001b[0m\u001b[0;34m\u001b[0m\u001b[0m\n\u001b[0;32m--> 150\u001b[0;31m       \u001b[0;32mreturn\u001b[0m \u001b[0mfn\u001b[0m\u001b[0;34m(\u001b[0m\u001b[0;34m*\u001b[0m\u001b[0margs\u001b[0m\u001b[0;34m,\u001b[0m \u001b[0;34m**\u001b[0m\u001b[0mkwargs\u001b[0m\u001b[0;34m)\u001b[0m\u001b[0;34m\u001b[0m\u001b[0;34m\u001b[0m\u001b[0m\n\u001b[0m\u001b[1;32m    151\u001b[0m     \u001b[0;32mexcept\u001b[0m \u001b[0mException\u001b[0m \u001b[0;32mas\u001b[0m \u001b[0me\u001b[0m\u001b[0;34m:\u001b[0m\u001b[0;34m\u001b[0m\u001b[0;34m\u001b[0m\u001b[0m\n\u001b[1;32m    152\u001b[0m       \u001b[0mfiltered_tb\u001b[0m \u001b[0;34m=\u001b[0m \u001b[0m_process_traceback_frames\u001b[0m\u001b[0;34m(\u001b[0m\u001b[0me\u001b[0m\u001b[0;34m.\u001b[0m\u001b[0m__traceback__\u001b[0m\u001b[0;34m)\u001b[0m\u001b[0;34m\u001b[0m\u001b[0;34m\u001b[0m\u001b[0m\n",
            "\u001b[0;32m/usr/local/lib/python3.8/dist-packages/tensorflow/python/eager/def_function.py\u001b[0m in \u001b[0;36m__call__\u001b[0;34m(self, *args, **kwds)\u001b[0m\n\u001b[1;32m    913\u001b[0m \u001b[0;34m\u001b[0m\u001b[0m\n\u001b[1;32m    914\u001b[0m       \u001b[0;32mwith\u001b[0m \u001b[0mOptionalXlaContext\u001b[0m\u001b[0;34m(\u001b[0m\u001b[0mself\u001b[0m\u001b[0;34m.\u001b[0m\u001b[0m_jit_compile\u001b[0m\u001b[0;34m)\u001b[0m\u001b[0;34m:\u001b[0m\u001b[0;34m\u001b[0m\u001b[0;34m\u001b[0m\u001b[0m\n\u001b[0;32m--> 915\u001b[0;31m         \u001b[0mresult\u001b[0m \u001b[0;34m=\u001b[0m \u001b[0mself\u001b[0m\u001b[0;34m.\u001b[0m\u001b[0m_call\u001b[0m\u001b[0;34m(\u001b[0m\u001b[0;34m*\u001b[0m\u001b[0margs\u001b[0m\u001b[0;34m,\u001b[0m \u001b[0;34m**\u001b[0m\u001b[0mkwds\u001b[0m\u001b[0;34m)\u001b[0m\u001b[0;34m\u001b[0m\u001b[0;34m\u001b[0m\u001b[0m\n\u001b[0m\u001b[1;32m    916\u001b[0m \u001b[0;34m\u001b[0m\u001b[0m\n\u001b[1;32m    917\u001b[0m       \u001b[0mnew_tracing_count\u001b[0m \u001b[0;34m=\u001b[0m \u001b[0mself\u001b[0m\u001b[0;34m.\u001b[0m\u001b[0mexperimental_get_tracing_count\u001b[0m\u001b[0;34m(\u001b[0m\u001b[0;34m)\u001b[0m\u001b[0;34m\u001b[0m\u001b[0;34m\u001b[0m\u001b[0m\n",
            "\u001b[0;32m/usr/local/lib/python3.8/dist-packages/tensorflow/python/eager/def_function.py\u001b[0m in \u001b[0;36m_call\u001b[0;34m(self, *args, **kwds)\u001b[0m\n\u001b[1;32m    945\u001b[0m       \u001b[0;31m# In this case we have created variables on the first call, so we run the\u001b[0m\u001b[0;34m\u001b[0m\u001b[0;34m\u001b[0m\u001b[0;34m\u001b[0m\u001b[0m\n\u001b[1;32m    946\u001b[0m       \u001b[0;31m# defunned version which is guaranteed to never create variables.\u001b[0m\u001b[0;34m\u001b[0m\u001b[0;34m\u001b[0m\u001b[0;34m\u001b[0m\u001b[0m\n\u001b[0;32m--> 947\u001b[0;31m       \u001b[0;32mreturn\u001b[0m \u001b[0mself\u001b[0m\u001b[0;34m.\u001b[0m\u001b[0m_stateless_fn\u001b[0m\u001b[0;34m(\u001b[0m\u001b[0;34m*\u001b[0m\u001b[0margs\u001b[0m\u001b[0;34m,\u001b[0m \u001b[0;34m**\u001b[0m\u001b[0mkwds\u001b[0m\u001b[0;34m)\u001b[0m  \u001b[0;31m# pylint: disable=not-callable\u001b[0m\u001b[0;34m\u001b[0m\u001b[0;34m\u001b[0m\u001b[0m\n\u001b[0m\u001b[1;32m    948\u001b[0m     \u001b[0;32melif\u001b[0m \u001b[0mself\u001b[0m\u001b[0;34m.\u001b[0m\u001b[0m_stateful_fn\u001b[0m \u001b[0;32mis\u001b[0m \u001b[0;32mnot\u001b[0m \u001b[0;32mNone\u001b[0m\u001b[0;34m:\u001b[0m\u001b[0;34m\u001b[0m\u001b[0;34m\u001b[0m\u001b[0m\n\u001b[1;32m    949\u001b[0m       \u001b[0;31m# Release the lock early so that multiple threads can perform the call\u001b[0m\u001b[0;34m\u001b[0m\u001b[0;34m\u001b[0m\u001b[0;34m\u001b[0m\u001b[0m\n",
            "\u001b[0;32m/usr/local/lib/python3.8/dist-packages/tensorflow/python/eager/function.py\u001b[0m in \u001b[0;36m__call__\u001b[0;34m(self, *args, **kwargs)\u001b[0m\n\u001b[1;32m   2451\u001b[0m       (graph_function,\n\u001b[1;32m   2452\u001b[0m        filtered_flat_args) = self._maybe_define_function(args, kwargs)\n\u001b[0;32m-> 2453\u001b[0;31m     return graph_function._call_flat(\n\u001b[0m\u001b[1;32m   2454\u001b[0m         filtered_flat_args, captured_inputs=graph_function.captured_inputs)  # pylint: disable=protected-access\n\u001b[1;32m   2455\u001b[0m \u001b[0;34m\u001b[0m\u001b[0m\n",
            "\u001b[0;32m/usr/local/lib/python3.8/dist-packages/tensorflow/python/eager/function.py\u001b[0m in \u001b[0;36m_call_flat\u001b[0;34m(self, args, captured_inputs, cancellation_manager)\u001b[0m\n\u001b[1;32m   1858\u001b[0m         and executing_eagerly):\n\u001b[1;32m   1859\u001b[0m       \u001b[0;31m# No tape is watching; skip to running the function.\u001b[0m\u001b[0;34m\u001b[0m\u001b[0;34m\u001b[0m\u001b[0;34m\u001b[0m\u001b[0m\n\u001b[0;32m-> 1860\u001b[0;31m       return self._build_call_outputs(self._inference_function.call(\n\u001b[0m\u001b[1;32m   1861\u001b[0m           ctx, args, cancellation_manager=cancellation_manager))\n\u001b[1;32m   1862\u001b[0m     forward_backward = self._select_forward_and_backward_functions(\n",
            "\u001b[0;32m/usr/local/lib/python3.8/dist-packages/tensorflow/python/eager/function.py\u001b[0m in \u001b[0;36mcall\u001b[0;34m(self, ctx, args, cancellation_manager)\u001b[0m\n\u001b[1;32m    495\u001b[0m       \u001b[0;32mwith\u001b[0m \u001b[0m_InterpolateFunctionError\u001b[0m\u001b[0;34m(\u001b[0m\u001b[0mself\u001b[0m\u001b[0;34m)\u001b[0m\u001b[0;34m:\u001b[0m\u001b[0;34m\u001b[0m\u001b[0;34m\u001b[0m\u001b[0m\n\u001b[1;32m    496\u001b[0m         \u001b[0;32mif\u001b[0m \u001b[0mcancellation_manager\u001b[0m \u001b[0;32mis\u001b[0m \u001b[0;32mNone\u001b[0m\u001b[0;34m:\u001b[0m\u001b[0;34m\u001b[0m\u001b[0;34m\u001b[0m\u001b[0m\n\u001b[0;32m--> 497\u001b[0;31m           outputs = execute.execute(\n\u001b[0m\u001b[1;32m    498\u001b[0m               \u001b[0mstr\u001b[0m\u001b[0;34m(\u001b[0m\u001b[0mself\u001b[0m\u001b[0;34m.\u001b[0m\u001b[0msignature\u001b[0m\u001b[0;34m.\u001b[0m\u001b[0mname\u001b[0m\u001b[0;34m)\u001b[0m\u001b[0;34m,\u001b[0m\u001b[0;34m\u001b[0m\u001b[0;34m\u001b[0m\u001b[0m\n\u001b[1;32m    499\u001b[0m               \u001b[0mnum_outputs\u001b[0m\u001b[0;34m=\u001b[0m\u001b[0mself\u001b[0m\u001b[0;34m.\u001b[0m\u001b[0m_num_outputs\u001b[0m\u001b[0;34m,\u001b[0m\u001b[0;34m\u001b[0m\u001b[0;34m\u001b[0m\u001b[0m\n",
            "\u001b[0;32m/usr/local/lib/python3.8/dist-packages/tensorflow/python/eager/execute.py\u001b[0m in \u001b[0;36mquick_execute\u001b[0;34m(op_name, num_outputs, inputs, attrs, ctx, name)\u001b[0m\n\u001b[1;32m     52\u001b[0m   \u001b[0;32mtry\u001b[0m\u001b[0;34m:\u001b[0m\u001b[0;34m\u001b[0m\u001b[0;34m\u001b[0m\u001b[0m\n\u001b[1;32m     53\u001b[0m     \u001b[0mctx\u001b[0m\u001b[0;34m.\u001b[0m\u001b[0mensure_initialized\u001b[0m\u001b[0;34m(\u001b[0m\u001b[0;34m)\u001b[0m\u001b[0;34m\u001b[0m\u001b[0;34m\u001b[0m\u001b[0m\n\u001b[0;32m---> 54\u001b[0;31m     tensors = pywrap_tfe.TFE_Py_Execute(ctx._handle, device_name, op_name,\n\u001b[0m\u001b[1;32m     55\u001b[0m                                         inputs, attrs, num_outputs)\n\u001b[1;32m     56\u001b[0m   \u001b[0;32mexcept\u001b[0m \u001b[0mcore\u001b[0m\u001b[0;34m.\u001b[0m\u001b[0m_NotOkStatusException\u001b[0m \u001b[0;32mas\u001b[0m \u001b[0me\u001b[0m\u001b[0;34m:\u001b[0m\u001b[0;34m\u001b[0m\u001b[0;34m\u001b[0m\u001b[0m\n",
            "\u001b[0;31mKeyboardInterrupt\u001b[0m: "
          ]
        }
      ]
    },
    {
      "cell_type": "markdown",
      "metadata": {
        "id": "e6J-2ru2rKLo"
      },
      "source": [
        "Let's plot everything out."
      ]
    },
    {
      "cell_type": "code",
      "metadata": {
        "id": "cHkRaP7Cpf_V"
      },
      "source": [
        "for i in history2.history:\n",
        "  for ele in history2.history[i]:\n",
        "    history.history[i].append(ele)"
      ],
      "execution_count": null,
      "outputs": []
    },
    {
      "cell_type": "code",
      "metadata": {
        "id": "Ug8_LyTbqxcS"
      },
      "source": [
        "plot_history(history)"
      ],
      "execution_count": null,
      "outputs": []
    },
    {
      "cell_type": "markdown",
      "metadata": {
        "id": "aQIJMSxWRNOX"
      },
      "source": [
        "# Test"
      ]
    },
    {
      "cell_type": "markdown",
      "source": [
        "Предобработаем тестовый датасет и сделаем предикт"
      ],
      "metadata": {
        "id": "2L9wq3ctcOv8"
      }
    },
    {
      "cell_type": "code",
      "source": [
        "tokenizerSaved = bert.tokenization.FullTokenizer(\n",
        "    vocab_file=os.path.join(my_wd, model_fname, 'assets/vocab.txt'),\n",
        "    do_lower_case=False)"
      ],
      "metadata": {
        "id": "v3l8aFadC3eI"
      },
      "execution_count": null,
      "outputs": []
    },
    {
      "cell_type": "code",
      "source": [
        "test_bert_encoded = bert_encode(test_df.feeds, tokenizerSaved, max_seq_length) "
      ],
      "metadata": {
        "id": "OpOnDy8XCVvW"
      },
      "execution_count": null,
      "outputs": []
    },
    {
      "cell_type": "code",
      "source": [
        "prediction1 = new_model.predict(test_bert_encoded)"
      ],
      "metadata": {
        "colab": {
          "base_uri": "https://localhost:8080/"
        },
        "id": "Xy5DMd2WybIc",
        "outputId": "b1930a44-e60e-4c66-fbd0-9f51bcf0c8d2"
      },
      "execution_count": null,
      "outputs": [
        {
          "output_type": "stream",
          "name": "stdout",
          "text": [
            "1067/1067 [==============================] - 1489s 1s/step\n"
          ]
        }
      ]
    },
    {
      "cell_type": "code",
      "source": [
        "test_df.shape"
      ],
      "metadata": {
        "colab": {
          "base_uri": "https://localhost:8080/"
        },
        "id": "BCi_hgYiKZOG",
        "outputId": "7a956ff9-4cd2-4e39-d729-a778d7d46099"
      },
      "execution_count": null,
      "outputs": [
        {
          "output_type": "execute_result",
          "data": {
            "text/plain": [
              "(34114, 4)"
            ]
          },
          "metadata": {},
          "execution_count": 24
        }
      ]
    },
    {
      "cell_type": "code",
      "source": [
        "preds = np.argmax(prediction1, axis=1) + 1 # best"
      ],
      "metadata": {
        "id": "X_gkdk283-mo"
      },
      "execution_count": null,
      "outputs": []
    },
    {
      "cell_type": "code",
      "source": [
        "sol = pd.DataFrame({'inds': test_df.index,\n",
        "                    'grades': preds})\n",
        "sol\n",
        "sol.to_csv('bert_tf_heavy_tuned.csv', index=False) # best"
      ],
      "metadata": {
        "id": "FlidcA9j361x"
      },
      "execution_count": null,
      "outputs": []
    },
    {
      "cell_type": "markdown",
      "source": [
        "Сохранение дотюненной (после 2-й итерации) модели"
      ],
      "metadata": {
        "id": "m85MXCWmcpVK"
      }
    },
    {
      "cell_type": "code",
      "metadata": {
        "id": "8LkVh3pL5LOf"
      },
      "source": [
        "new_model.compile(optimizer='adam',\n",
        "              loss='categorical_crossentropy',\n",
        "              metrics=['accuracy'])"
      ],
      "execution_count": null,
      "outputs": []
    },
    {
      "cell_type": "code",
      "metadata": {
        "colab": {
          "base_uri": "https://localhost:8080/"
        },
        "outputId": "8a385cbf-23e1-4722-fe2c-8d0693c78594",
        "id": "NeXTxUQy5LOh"
      },
      "source": [
        "model_fname = 'reviews_BERT_tuned'\n",
        "my_wd = '/content/drive/MyDrive/Colab Notebooks/NLP/bootcamp_tf_attempt/'\n",
        "\n",
        "new_model.save(os.path.join(my_wd, model_fname))"
      ],
      "execution_count": null,
      "outputs": [
        {
          "output_type": "stream",
          "name": "stderr",
          "text": [
            "WARNING:absl:Found untraced functions such as restored_function_body, restored_function_body, restored_function_body, restored_function_body, restored_function_body while saving (showing 5 of 378). These functions will not be directly callable after loading.\n"
          ]
        }
      ]
    },
    {
      "cell_type": "markdown",
      "source": [
        "Снова проверка, что модель сохранилась нормально"
      ],
      "metadata": {
        "id": "CH4LLsK3duSF"
      }
    },
    {
      "cell_type": "code",
      "metadata": {
        "id": "OLGlcpq058GH"
      },
      "source": [
        "model_fname = 'reviews_BERT_tuned'\n",
        "my_wd = '/content/drive/MyDrive/Colab Notebooks/NLP/bootcamp_tf_attempt/'\n",
        "\n",
        "model = tf.keras.models.load_model(os.path.join(my_wd, model_fname))"
      ],
      "execution_count": null,
      "outputs": []
    },
    {
      "cell_type": "code",
      "source": [
        "loss, accuracy = model.evaluate(X_test2, dummy_y_test2, verbose=False)\n",
        "print(\"Testing Accuracy:  {:.4f}\".format(accuracy))"
      ],
      "metadata": {
        "colab": {
          "base_uri": "https://localhost:8080/"
        },
        "outputId": "7095afbc-b1c0-47c7-edea-14cff415aab2",
        "id": "WXpjcPYo58GI"
      },
      "execution_count": null,
      "outputs": [
        {
          "output_type": "stream",
          "name": "stdout",
          "text": [
            "Testing Accuracy:  0.8014\n"
          ]
        }
      ]
    },
    {
      "cell_type": "code",
      "source": [
        "tokenizerSaved1 = bert.tokenization.FullTokenizer(\n",
        "    vocab_file=os.path.join(my_wd, model_fname, 'assets/vocab.txt'),\n",
        "    do_lower_case=False)"
      ],
      "metadata": {
        "id": "q-fo0EnG6NTi"
      },
      "execution_count": null,
      "outputs": []
    },
    {
      "cell_type": "code",
      "source": [
        "tokenized_rev_check = tokenizerSaved1.tokenize(x_train[0])\n",
        "for i in tokenized_rev_check:\n",
        "  print(i, tokenizerSaved1.convert_tokens_to_ids([i]))"
      ],
      "metadata": {
        "colab": {
          "base_uri": "https://localhost:8080/"
        },
        "id": "Hy23h7gl-ni2",
        "outputId": "3b3829e8-8c8e-4186-fd6a-c6ee1a4e37d6"
      },
      "execution_count": null,
      "outputs": [
        {
          "output_type": "stream",
          "name": "stdout",
          "text": [
            "Я [540]\n",
            "очень [20598]\n",
            "редко [99004]\n",
            "пользу [79463]\n",
            "##ю [10593]\n",
            "##сь [11833]\n",
            "банк [65727]\n",
            "##овски [91945]\n",
            "##ми [10508]\n",
            "продукт [65501]\n",
            "##ами [12040]\n",
            ". [119]\n",
            "Но [19732]\n",
            "необходимо [58330]\n",
            "##сть [12737]\n",
            "к [551]\n",
            "##реди [63796]\n",
            "##та [10367]\n",
            "во [10439]\n",
            "##зни [68070]\n",
            "##кла [58224]\n",
            ". [119]\n",
            "Так [20275]\n",
            "как [10949]\n",
            "в [543]\n",
            "Ю [539]\n",
            "##ник [11718]\n",
            "##реди [63796]\n",
            "##т [10351]\n",
            "Ба [101086]\n",
            "##нке [48635]\n",
            "об [13248]\n",
            "##слу [87098]\n",
            "##живают [80629]\n",
            "##ся [10625]\n",
            "почти [21797]\n",
            "все [13686]\n",
            "близ [76606]\n",
            "##кие [27441]\n",
            "род [17517]\n",
            "##ствен [73036]\n",
            "##ники [17785]\n",
            ", [117]\n",
            "проблем [35607]\n",
            "с [558]\n",
            "вы [96195]\n",
            "##бор [20545]\n",
            "##ом [10364]\n",
            "о [555]\n",
            "##фи [26245]\n",
            "##са [12016]\n",
            "не [10375]\n",
            "было [11582]\n",
            ". [119]\n",
            "Я [540]\n",
            "при [10913]\n",
            "##шла [30520]\n",
            "по [10297]\n",
            "рек [70158]\n",
            "##оме [102276]\n",
            "##нда [12903]\n",
            "##ции [12559]\n",
            "к [551]\n",
            "Константин [33827]\n",
            "##у [10227]\n",
            "То [31217]\n",
            "##л [10517]\n",
            "##ма [10993]\n",
            "##чев [32702]\n",
            "##у [10227]\n",
            ". [119]\n",
            "Мы [64820]\n",
            "очень [20598]\n",
            "быстро [48823]\n",
            "за [10234]\n",
            "##по [53204]\n",
            "##лни [22523]\n",
            "##ли [10783]\n",
            "за [10234]\n",
            "##яв [51642]\n",
            "##ку [11191]\n",
            ". [119]\n",
            "Мн [18464]\n",
            "##е [10205]\n",
            "нужно [71004]\n",
            "было [11582]\n",
            "в [543]\n",
            "этот [19558]\n",
            "день [16276]\n",
            "лет [12773]\n",
            "##еть [43737]\n",
            "в [543]\n",
            "Питер [71816]\n",
            "и [549]\n",
            "мы [35818]\n",
            "со [10956]\n",
            "##шли [25830]\n",
            "##сь [11833]\n",
            "на [10122]\n",
            "том [12433]\n",
            ", [117]\n",
            "что [10791]\n",
            "если [23263]\n",
            "од [10430]\n",
            "##об [33276]\n",
            "##ря [39025]\n",
            "##т [10351]\n",
            ", [117]\n",
            "то [11663]\n",
            "деньги [73305]\n",
            "полу [91258]\n",
            "##чу [16501]\n",
            "там [18805]\n",
            ". [119]\n",
            "Константин [33827]\n",
            "также [11448]\n",
            "вы [96195]\n",
            "##пустил [70869]\n",
            "б [542]\n",
            "##ес [17488]\n",
            "##п [11078]\n",
            "##лат [30828]\n",
            "##ную [12719]\n",
            "карт [95582]\n",
            "##у [10227]\n",
            ", [117]\n",
            "которую [30956]\n",
            "я [572]\n",
            "должна [53468]\n",
            "была [11450]\n",
            "получить [59582]\n",
            "в [543]\n",
            "Петербурге [51605]\n",
            ". [119]\n",
            "К [519]\n",
            "со [10956]\n",
            "##жал [29483]\n",
            "##ению [35306]\n",
            ", [117]\n",
            "при [10913]\n",
            "##шёл [48896]\n",
            "от [10332]\n",
            "##каз [41710]\n",
            "и [549]\n",
            "карт [95582]\n",
            "##у [10227]\n",
            "я [572]\n",
            "не [10375]\n",
            "у [560]\n",
            "##с [10513]\n",
            "##пела [91447]\n",
            "за [10234]\n",
            "##брать [82045]\n",
            ", [117]\n",
            "поэтому [33910]\n",
            "Константин [33827]\n",
            "пер [61381]\n",
            "##ес [17488]\n",
            "##лал [107260]\n",
            "её [12691]\n",
            "в [543]\n",
            "У [528]\n",
            "##фу [58899]\n",
            ". [119]\n",
            "К [519]\n",
            "##арт [46466]\n",
            "##у [10227]\n",
            "позднее [42473]\n",
            "я [572]\n",
            "за [10234]\n",
            "##крыл [89038]\n",
            "##а [10179]\n",
            ". [119]\n",
            "Но [19732]\n",
            "если [23263]\n",
            "в [543]\n",
            "##дру [83038]\n",
            "##г [10823]\n",
            "мне [67251]\n",
            "понад [32332]\n",
            "##оби [48390]\n",
            "##тся [22692]\n",
            "какой [78351]\n",
            "либо [23624]\n",
            "банк [65727]\n",
            "##овский [35776]\n",
            "продукт [65501]\n",
            ", [117]\n",
            "я [572]\n",
            "з [548]\n",
            "##на [10409]\n",
            "##ю [10593]\n",
            "к [551]\n",
            "ко [59781]\n",
            "##му [11805]\n",
            "я [572]\n",
            "об [13248]\n",
            "##ра [11079]\n",
            "##щу [50642]\n",
            "##сь [11833]\n",
            ". [119]\n",
            "По [11480]\n",
            "##том [18925]\n",
            "##у [10227]\n",
            "что [10791]\n",
            "рек [70158]\n",
            "##оме [102276]\n",
            "##нда [12903]\n",
            "##ции [12559]\n",
            "это [12999]\n",
            "одно [41543]\n",
            ", [117]\n",
            "а [541]\n",
            "ли [33190]\n",
            "##чный [25711]\n",
            "опыт [90281]\n",
            "качестве [17164]\n",
            "##нного [31793]\n",
            "об [13248]\n",
            "##слу [87098]\n",
            "##живания [80202]\n",
            "это [12999]\n",
            "ли [33190]\n",
            "##чный [25711]\n",
            "опыт [90281]\n",
            ". [119]\n"
          ]
        }
      ]
    },
    {
      "cell_type": "code",
      "metadata": {
        "id": "PmCu_hwGLpRr"
      },
      "source": [],
      "execution_count": null,
      "outputs": []
    }
  ]
}